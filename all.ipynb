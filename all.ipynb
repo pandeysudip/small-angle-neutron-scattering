{
 "cells": [
  {
   "cell_type": "code",
   "execution_count": null,
   "metadata": {},
   "outputs": [],
   "source": [
    "import pandas as pd\n",
    "import matplotlib.pyplot as plt\n",
    "import seaborn as sns\n",
    "import numpy as np\n",
    "from matplotlib import rcParams\n",
    "import lmfit\n",
    "import matplotlib.image as mpimg\n",
    "from PIL import Image\n",
    "from pathlib import Path\n",
    "from collections import OrderedDict\n",
    "from lmfit.models import LorentzianModel\n",
    "from scipy.optimize import curve_fit, OptimizeWarning"
   ]
  },
  {
   "cell_type": "code",
   "execution_count": null,
   "metadata": {},
   "outputs": [],
   "source": [
    "# bokeh packages\n",
    "from bokeh.io import output_file,show,output_notebook,push_notebook, curdoc\n",
    "from bokeh.plotting import figure\n",
    "from bokeh.models import ColumnDataSource,HoverTool,CategoricalColorMapper, Select, Slider\n",
    "from bokeh.palettes import Category10\n",
    "from bokeh.layouts import row,column,gridplot,widgetbox\n",
    "from bokeh.models.widgets import Tabs,Panel\n",
    "output_notebook()"
   ]
  },
  {
   "cell_type": "code",
   "execution_count": null,
   "metadata": {},
   "outputs": [],
   "source": [
    "plt.style.use('classic')\n",
    "rcParams['font.family'] = 'sans-serif'\n",
    "rcParams['font.sans-serif'] = ['Arial']\n",
    "rcParams.update({'font.size': 22})\n",
    "rcParams['xtick.direction'] = 'in'\n",
    "rcParams['ytick.direction'] = 'in'\n",
    "rcParams['xtick.top'] = True\n",
    "rcParams['ytick.right'] = True\n",
    "rcParams['xtick.major.size'] = 10\n",
    "rcParams['ytick.major.size'] = 10\n",
    "rcParams['xtick.minor.size'] = 5\n",
    "rcParams['ytick.minor.size'] = 5\n",
    "rcParams['xtick.minor.visible'] = True\n",
    "rcParams['ytick.minor.visible'] = True"
   ]
  },
  {
   "cell_type": "code",
   "execution_count": null,
   "metadata": {},
   "outputs": [],
   "source": [
    "#genfromtxt(fname, dtype, comments, delimiter, skip_header, skip_footer, \n",
    "    #          converters, missing_values, filling_values, usecols, names, excludelist, deletechars, \n",
    "    #          replace_space, autostrip, case_sensitive, defaultfmt, unpack, usemask, loose, \n",
    "    #          invalid_raise, max_rows, encoding)  \n",
    "    \n",
    "#loading data using numpy\n",
    "def load_data(filename):\n",
    "    return np.genfromtxt(filename, delimiter='', skip_header=5)\n",
    "\n",
    "#selecting the range \n",
    "def extract_peak(data,xrange):\n",
    "    idx = np.logical_and(xrange[0] < data[:,0],data[:,0] < xrange[1])\n",
    "    return data[idx,:]"
   ]
  },
  {
   "cell_type": "code",
   "execution_count": null,
   "metadata": {},
   "outputs": [],
   "source": [
    "#making dictionary for selected folder\n",
    "def load_folder(folder,name):\n",
    "    temp = {}\n",
    "    for file in folder.glob(name):\n",
    "        d = load_data(file)\n",
    "        k = file.name[1:12]\n",
    "        temp[k] = d\n",
    "    return OrderedDict(sorted(temp.items()))\n",
    "\n",
    "#for sector cut files which has header with 14 rows\n",
    "def load_folder1(folder,name):\n",
    "    temp = {}\n",
    "    for file in folder.glob(name):\n",
    "        d = np.genfromtxt(file, delimiter='', skip_header=14)\n",
    "        k = file.name[0:12]\n",
    "        temp[k] = d\n",
    "    return OrderedDict(sorted(temp.items()))"
   ]
  },
  {
   "cell_type": "code",
   "execution_count": null,
   "metadata": {},
   "outputs": [],
   "source": [
    "#plotting using Bokeh\n",
    "def bokeh_plot(data,x_range=[0.001, 0.07], y_range=[0.0001, 3000] ):\n",
    "    f = figure(x_range=x_range, y_range=y_range,x_axis_type=\"log\",y_axis_type=\"log\",\n",
    "               x_axis_label='Q', y_axis_label=\"Intensity\") \n",
    "    for k,color in zip(data,Category10[10]):\n",
    "        d = extract_peak(data[k],x_range)\n",
    "        f.circle(d[:,0],d[:,1],color=color, legend_label=k,size=6,alpha=1,\n",
    "                     hover_color='purple', hover_alpha=0.6)\n",
    "        hover = HoverTool(tooltips=[ ('Q', '@x'), ('I', '@y')], mode='mouse')\n",
    "        f.add_tools(hover)\n",
    "    show(f)"
   ]
  },
  {
   "cell_type": "code",
   "execution_count": null,
   "metadata": {},
   "outputs": [],
   "source": [
    "def tabs_plot(data, x_range=[0.001, 0.07], y_range=[0.001, 3000]):\n",
    "    tabs=[]\n",
    "    for k in data:\n",
    "        d = data[k]\n",
    "        f=figure(x_range=x_range, y_range=y_range,x_axis_type=\"log\", y_axis_type=\"log\",\n",
    "                 x_axis_label='Q', y_axis_label=\"Intensity\")\n",
    "        x=d[:,0]\n",
    "        y=d[:,1]\n",
    "        f.circle(x, y, size=10,fill_color='red',alpha=1,\n",
    "                     hover_color='purple', hover_alpha=0.6)\n",
    "        hover = HoverTool(tooltips=[ ('Q', '@x'), ('I', '@y')], mode='mouse')\n",
    "        f.add_tools(hover)\n",
    "        tab = Panel(child=f, title=k[:3])\n",
    "        tabs.append(tab)\n",
    "    layout = Tabs(tabs=tabs)\n",
    "    show(layout)"
   ]
  },
  {
   "cell_type": "code",
   "execution_count": null,
   "metadata": {},
   "outputs": [],
   "source": []
  },
  {
   "cell_type": "code",
   "execution_count": null,
   "metadata": {},
   "outputs": [],
   "source": [
    "#plottting all fields of same temp in one tab\n",
    "def all_tab_plot(data, folder, x_range=[0.001, 0.07], y_range=[0.001, 3000]): \n",
    "    data1=[load_folder(folder, d) for d in data]\n",
    "    temper=['18K','20K','22K','24K','25K','26K','30K','75K','200K']\n",
    "    tabs=[]\n",
    "    for temp, i in zip(data1, range(9)):\n",
    "        f=figure(x_range=x_range, y_range=y_range, x_axis_type=\"log\", y_axis_type=\"log\", \n",
    "                 y_axis_label=' Intensity', x_axis_label='Q')\n",
    "        for k, color in zip(temp, Category10[10]):\n",
    "            d = temp[k]\n",
    "            x=d[:,0]\n",
    "            y=d[:,1]\n",
    "            f.circle(x,y, color=color,legend_label=k, alpha=1,size=10,\n",
    "                     hover_color='purple', hover_alpha=0.6)\n",
    "        hover = HoverTool(tooltips=[ ('Q', '@x'), ('I', '@y')], mode='mouse')\n",
    "        f.add_tools(hover)\n",
    "        tab = Panel(child=f, title=temper[i])\n",
    "        tabs.append(tab)\n",
    "    layout = Tabs(tabs=tabs)\n",
    "    show(layout)"
   ]
  },
  {
   "cell_type": "code",
   "execution_count": null,
   "metadata": {},
   "outputs": [],
   "source": [
    "all_tab_plot(vert_comb_low, vfolder)"
   ]
  },
  {
   "cell_type": "code",
   "execution_count": null,
   "metadata": {},
   "outputs": [],
   "source": [
    "#plottting all sector cut of same temp in one tab\n",
    "def all_tab_secplot(data, folder, x_range=[0.001, 0.01], y_range=[0.1, 3000]): \n",
    "    data1=[load_folder1(folder, d) for d in data]\n",
    "    temper=['18K','20K','24K','26K','30K']\n",
    "    tabs=[]\n",
    "    for temp, i in zip(data1, range(5)):\n",
    "        f=figure(x_range=x_range, y_range=y_range,x_axis_type=\"log\", y_axis_type=\"log\", \n",
    "                 y_axis_label=' Intensity', x_axis_label='Q')\n",
    "        for k, color in zip(temp, Category10[10]):\n",
    "            d = temp[k]\n",
    "            x=d[:,0]\n",
    "            y=d[:,1]\n",
    "            f.circle(x,y, color=color,legend_label=k, alpha=1,size=10,\n",
    "                     hover_color='purple', hover_alpha=0.6)\n",
    "        hover = HoverTool(tooltips=[ ('Q', '@x'), ('I', '@y')], mode='mouse')\n",
    "        f.add_tools(hover)\n",
    "        tab = Panel(child=f, title=temper[i])\n",
    "        tabs.append(tab)\n",
    "    layout = Tabs(tabs=tabs)\n",
    "    show(layout)"
   ]
  },
  {
   "cell_type": "code",
   "execution_count": null,
   "metadata": {},
   "outputs": [],
   "source": [
    "all"
   ]
  },
  {
   "cell_type": "code",
   "execution_count": null,
   "metadata": {},
   "outputs": [],
   "source": [
    "vfolder=Path.cwd()/'vertical'   #folder for vertical cut\n",
    "hfolder=Path.cwd()/'horizantal'  #folder for horizontal cut\n",
    "sec_folder=Path.cwd()/'Sunil_Sinha_Nov2019' # folder for sector cut(0,30,60,90,120,150 degree)"
   ]
  },
  {
   "cell_type": "code",
   "execution_count": null,
   "metadata": {},
   "outputs": [],
   "source": [
    "vert_comb_low=load_folder(vfolder,'')  #vertical cut for all temp at 700 Oe\n",
    "vert_comb_1=load_folder(vfolder,'*1*.ABS')   #vertical cut for all temp at 1 kOe\n",
    "vert_comb_2=load_folder(vfolder,'*.ABS')  #vertical cut for all temp at 2 kOe\n",
    "vert_comb=[vert_comb_low, vert_comb_1,vert_comb_2]\n"
   ]
  },
  {
   "cell_type": "code",
   "execution_count": null,
   "metadata": {},
   "outputs": [],
   "source": [
    "horz_comb_low=load_folder(hfolder,'H*comb*low*.ABS') #horizontal cut for all temp at 700 Oe\n",
    "horz_comb_1=load_folder(hfolder,'')   #horizontal cut for all temp at 1 kOe\n",
    "horz_comb_2=load_folder(hfolder,'') #horizontal cut for all temp at 2 kOe\n"
   ]
  },
  {
   "cell_type": "code",
   "execution_count": null,
   "metadata": {},
   "outputs": [],
   "source": []
  },
  {
   "cell_type": "markdown",
   "metadata": {},
   "source": [
    "# Fitting using lm"
   ]
  },
  {
   "cell_type": "code",
   "execution_count": null,
   "metadata": {},
   "outputs": [],
   "source": [
    "#defining fit function using lmfit\n",
    "def fit_qi_lm(data, model='Lort_Lort2', **kwargs):\n",
    "    A    = kwargs.pop('A',  1.0)\n",
    "    A2   = kwargs.pop('A2',  1.0)\n",
    "    L1   = kwargs.pop('L1',  1.0)\n",
    "    L2   = kwargs.pop('L2',  1.0)\n",
    "    B    = kwargs.pop('B',  1.0)\n",
    "    t0   = kwargs.pop('t0', 1.0)\n",
    "    i    =kwargs.pop('i', 1.0)\n",
    "    m    =kwargs.pop('m', 1.0)\n",
    "    init_par = kwargs.pop('init_par', None)\n",
    "    \n",
    "    function_library = {\n",
    "        'Lort'      : lambda x, L1, A, B: A/(x**2+(1/L1**2))+B,\n",
    "        'Lort2'     : lambda x, L1, A, B: (A/(x**2+(1/L1**2))**2)+B,\n",
    "        'Lort_Lort2': lambda x, L1, L2, A, A2, B: (A/(x**2+(1/L1**2)))+(A2/(x**2+(1/L2**2))**2)+B,\n",
    "        'Guiner'    : lambda x, i, m, A, B: (np.log(i) - m*x) +B,\n",
    "        'Exp'       : lambda t, t0, A:      A*np.exp(-(t/t0)),         # simple exponential function\n",
    "        'Power'     : lambda x, b,  A:      A*x**b,                        # power law\n",
    "        'Linear'    : lambda x, x0, A:      A*(x-x0),                      # linear function\n",
    "        'Constant'  : lambda x, A:          A*np.ones_like(x),             # constant\n",
    "        \n",
    "    }\n",
    "    q  = data[:,0]\n",
    "    I  = data[:,1]\n",
    "    Ierr =data[:,2]\n",
    "    \n",
    "    func = function_library.get(model, None)\n",
    "    if func is None: raise RuntimeError(f\"model {model} is invalid\")\n",
    "    fit_model = lmfit.Model(func,independent_vars='x',nan_policy='omit')\n",
    "  \n",
    "    if model.startswith('Lort_Lort2'):\n",
    "        fit_pars = fit_model.make_params(A=8e-6, A2=5e-9, L1=1e7, L2=2000,B=1000)\n",
    "        fit_pars['B'].set(min=0)  #only positive values\n",
    "        fit_pars['A'].set(vary=True,min=0)\n",
    "        fit_pars['A2'].vary=False\n",
    "        fit_pars['L1'].min=0\n",
    "        fit_pars['L2'].set(min=0)\n",
    "        \n",
    "    elif model.startswith('Lort2'):\n",
    "        fit_pars = fit_model.make_params(A=1e-8,L1=1000,B=1)\n",
    "        fit_pars['B'].set(min=0)\n",
    "        fit_pars['A'].set(vary=True,max=0.0000001)\n",
    "        fit_pars['L1'].set(min=0)\n",
    "        \n",
    "    elif model.startswith('Lort'):\n",
    "        fit_pars = fit_model.make_params(A=1e-7,L1=100,B=1)\n",
    "        fit_pars['B'].set(min=0)\n",
    "        fit_pars['A'].set(vary=True,max=0.0000001)\n",
    "        fit_pars['L1'].set(min=0)\n",
    "    \n",
    "    elif model.startswith('Guiner'):\n",
    "        fit_pars=fit_model.make_params(i=0.003,B=0)\n",
    "        fit_pars['m'].value = 0.003\n",
    "        fit_pars['i'].set(min=0.01)\n",
    "        fit_pars['B'].set(min=0,max=100)\n",
    "        \n",
    "    else:\n",
    "        fit_pars = fit_model.make_params(t0=1, beta=1, A=1, B=1)\n",
    "        fit_pars['B'].set(min=0)  #only positive values\n",
    "        fit_pars['t0'].set(vary=True,min=0)\n",
    "        fit_pars['beta'].min=0\n",
    "        fit_pars['A'].set(min=0)\n",
    "        \n",
    "    result = fit_model.fit(I,fit_pars,x=q,method='least_squares')\n",
    "    return result\n",
    "    "
   ]
  },
  {
   "cell_type": "code",
   "execution_count": null,
   "metadata": {},
   "outputs": [],
   "source": [
    "#defining function for plotting and data\n",
    "def lm_fit(data, **kwargs):\n",
    "    position=kwargs.pop('position',[0.9,0.05])\n",
    "    model = kwargs.pop('model', 'Lort_Lort2') # fit model (see fit_qi)\n",
    "    name=kwargs.pop('name','name')\n",
    "    mpars = kwargs.pop('model_pars', {} )   # model parameters\n",
    "    plot_summary = kwargs.pop('plot_summary', True)\n",
    "    plot    = kwargs.pop('plot', True)\n",
    "\n",
    "    r = []; ks = []\n",
    "    if plot:\n",
    "        plt.figure(figsize=(15,15))\n",
    "\n",
    "    samples=data\n",
    "    for sample in samples:\n",
    "        label  = sample[:4]  \n",
    "        d = extract_peak(samples[sample],position)\n",
    "        q=d[:,0]\n",
    "        I=d[:,1]\n",
    "        Ierr=d[:,2]  \n",
    "                \n",
    "        if plot:\n",
    "            #p = plt.scatter(q, I, label=label,s=8)\n",
    "            p = plt.errorbar(q, I, yerr=Ierr,fmt='s', label=label)\n",
    "            acolor = p[0].get_color()   \n",
    "\n",
    "        result=fit_qi_lm(d, model=model)\n",
    "       \n",
    "        fit_plot = result.best_fit\n",
    "\n",
    "        if plot:\n",
    "            plt.plot(q, fit_plot, '--',linewidth=3, color=acolor)\n",
    "        ks.append(sample)\n",
    "        r.append(result.best_values)\n",
    "\n",
    "    if plot:\n",
    "            plt.xscale('log')\n",
    "            plt.yscale('log')\n",
    "            #plt.yscale('log')\n",
    "            plt.xlabel(r'q $\\AA^{-1}$')\n",
    "            plt.ylabel('Intensity')\n",
    "            plt.grid(which='both')\n",
    "            plt.legend(loc=0)\n",
    "    plt.show()\n",
    "    df=pd.DataFrame(r,index=ks)\n",
    "    \n",
    "    return df\n",
    "\n",
    "    \n",
    "                  "
   ]
  },
  {
   "cell_type": "code",
   "execution_count": null,
   "metadata": {},
   "outputs": [],
   "source": [
    "lm_fit(vert_comb_low, model='Lort_Lort2', position=[0.001,0.07])"
   ]
  },
  {
   "cell_type": "code",
   "execution_count": null,
   "metadata": {},
   "outputs": [],
   "source": []
  },
  {
   "cell_type": "markdown",
   "metadata": {},
   "source": [
    "# Fitting with normal method"
   ]
  },
  {
   "cell_type": "code",
   "execution_count": null,
   "metadata": {},
   "outputs": [],
   "source": [
    "#defining fit function \n",
    "def fits_qi(data, model='Lort_Lort2', **kwargs):\n",
    "    A    = kwargs.pop('A',  1.0)\n",
    "    A2   = kwargs.pop('A2',  1.0)\n",
    "    L1   = kwargs.pop('L1',  1.0)\n",
    "    L2   = kwargs.pop('L2',  1.0)\n",
    "    B    = kwargs.pop('B',  1.0)\n",
    "    t0   = kwargs.pop('t0', 1.0)\n",
    "    i    =kwargs.pop('i', 1.0)\n",
    "    m    =kwargs.pop('m', 1.0)\n",
    "    init_par = kwargs.pop('init_par', None)\n",
    "    \n",
    "    function_library = {\n",
    "        'Lort'      : lambda x, L1, A, B: A/(x**2+(1/L1**2))+B,\n",
    "        'Lort2'     : lambda x, L1, A, B: (A/(x**2+(1/L1**2))**2)+B,\n",
    "        'Lort_Lort2': lambda x, L1, L2, A, A2, B: (A/(x**2+(1/L1**2)))+(A2/(x**2+(1/L2**2))**2)+B,\n",
    "        'Guiner'    : lambda x, I, m, A: (np.log(i) - m*x) +B,\n",
    "        'Exp'       : lambda t, t0, A:      A*np.exp(-(t/t0)),         # simple exponential function\n",
    "        'Power'     : lambda x, b,  A:      A*x**b,                        # power law\n",
    "        'Linear'    : lambda x, x0, A:      A*(x-x0),                      # linear function\n",
    "        'Constant'  : lambda x, A:          A*np.ones_like(x),             # constant\n",
    "        \n",
    "    }\n",
    "    q  = data[:,0]\n",
    "    I  = data[:,1]\n",
    "    Ierr =data[:,2]\n",
    "\n",
    "    func = function_library.get(model, None)\n",
    "    if func is None: raise RuntimeError(f\"model {model} is invalid\")\n",
    "\n",
    "    best_values, covar = curve_fit(func, q, I, \n",
    "                           sigma=Ierr, p0=init_par,\n",
    "                             maxfev=10000, ftol=1e-5)\n",
    "    #popt gives all the best value parameters in order of function\n",
    "    perr = np.sqrt(np.diag(covar))\n",
    "    fit_func = lambda x : func(x, *best_values)\n",
    "    chisq = np.sum(((fit_func(q) - I)/Ierr)**2)\n",
    "    chisq = chisq/(len(I) - len(best_values))\n",
    "    return (fit_func, chisq, best_values,perr)"
   ]
  },
  {
   "cell_type": "code",
   "execution_count": null,
   "metadata": {},
   "outputs": [],
   "source": [
    "#defining function for plotting and data\n",
    "def normal_fit(data, **kwargs):\n",
    "    position=kwargs.pop('position',[0.001,0.01])\n",
    "    model = kwargs.pop('model', 'Lort_Lort2') # fit model (see fit_qi)\n",
    "    mpars = kwargs.pop('model_pars', {} )   # model parameters\n",
    "    plot_summary = kwargs.pop('plot_summary', True)\n",
    "    plot    = kwargs.pop('plot', True)\n",
    "\n",
    "    r = []; ks = []\n",
    "    if plot:\n",
    "        plt.figure(figsize=(10,10))\n",
    " \n",
    "    samples=data\n",
    "    for sample in samples:\n",
    "        label  = sample[:4]  \n",
    "        d = extract_peak(samples[sample],position)\n",
    "        q=d[:,0]\n",
    "        I=d[:,1]\n",
    "        Ierr=d[:,2]  \n",
    "                \n",
    "        if plot:\n",
    "            p = plt.scatter(q, I, label=label, s=2)\n",
    "            \n",
    "            \n",
    "        fit_func, chiq, best_values,perr = fits_qi(d, model=model)\n",
    "        if plot:\n",
    "            ftau = np.logspace(np.log10(min(q)), np.log10(max(q)))\n",
    "            fsqt = fit_func(ftau)\n",
    "            plt.plot(ftau, fsqt, '--',linewidth=3) \n",
    "        ks.append(sample)\n",
    "        r.append(best_values)\n",
    "\n",
    "\n",
    "    if plot:\n",
    "            #plt.xscale('log')\n",
    "            #plt.yscale('log')\n",
    "            plt.xlabel(r'q $\\AA^{-1}$')\n",
    "            plt.ylabel('Intensity')\n",
    "            plt.title(f\"{label[:2]}, {model}\")\n",
    "            plt.grid(which='both')\n",
    "            plt.legend(loc=0)\n",
    "    plt.show()\n",
    "    df=pd.DataFrame(r,index=ks)\n",
    "    return df\n",
    "\n",
    "                  "
   ]
  },
  {
   "cell_type": "code",
   "execution_count": null,
   "metadata": {},
   "outputs": [],
   "source": [
    "normal_fit(vert_comb_1)"
   ]
  },
  {
   "cell_type": "code",
   "execution_count": null,
   "metadata": {},
   "outputs": [],
   "source": []
  },
  {
   "cell_type": "code",
   "execution_count": null,
   "metadata": {},
   "outputs": [],
   "source": [
    "#plotting high temp, subs with high temp and without subsatation \n",
    "v30=load_data(Path.cwd()/'vertical/V30K_comb_lowfield.ABS')\n",
    "v30_ws=load_data(Path.cwd()/'vertical/V30_COMBO_70Oe(without Ba.ABS')\n",
    "v75=load_data(Path.cwd()/'vertical/V75K_comb_lowfield.ABS')\n",
    "fig, ax= plt.subplots(figsize=(15,10))\n",
    "ax.plot(v30[:,0], v30[:,1],'or',label='30K-75K')\n",
    "ax.plot(v30_ws[:,0], v30_ws[:,1],'ob', label='30K')\n",
    "ax.plot(v75[:,0], v75[:,1],'og', label='75K')\n",
    "ax.set_yscale('log')\n",
    "ax.set_xscale('log')\n",
    "ax.set_xlim(0.001, 0.1)\n",
    "ax.legend()"
   ]
  },
  {
   "cell_type": "code",
   "execution_count": null,
   "metadata": {},
   "outputs": [],
   "source": []
  },
  {
   "cell_type": "code",
   "execution_count": null,
   "metadata": {},
   "outputs": [],
   "source": [
    "v_26k=load_folder(vfolder,'V26K_15m*.ABS')\n",
    "bokeh_plot(v_26k)"
   ]
  },
  {
   "cell_type": "code",
   "execution_count": null,
   "metadata": {},
   "outputs": [],
   "source": [
    "vert_comb=['V18K*comb*.ABS','V20K*comb*.ABS','V22K*comb*.ABS','V24K*comb*.ABS','V25K*comb*.ABS',\n",
    "           'V26K*comb*.ABS','V30K*comb*.ABS','V75K*comb*.ABS', 'V200K*comb*.ABS']\n",
    "horz_comb=['H18K*comb*.ABS','H20K*comb*.ABS','H22K*comb*.ABS','H24K*comb*.ABS','H25K*comb*.ABS',\n",
    "           'H26K*comb*.ABS','H30K*comb*.ABS','H75K*comb*.ABS','H200K*comb*.ABS']\n",
    "\n",
    "all_tab_plot(data=vert_comb, folder=vfolder)\n",
    "#all_tab_plot(horz_comb,folder=hfolder)"
   ]
  },
  {
   "cell_type": "code",
   "execution_count": null,
   "metadata": {},
   "outputs": [],
   "source": [
    "all_tab_plot(data=horz_comb, folder=hfolder)"
   ]
  },
  {
   "cell_type": "code",
   "execution_count": null,
   "metadata": {},
   "outputs": [],
   "source": [
    "#for sector plot\n",
    "sec_15m=['15m_18K*deg*.ASC','15m_20K*deg*.ASC','15m_24K*deg*.ASC','15m_26K*deg*.ASC','15m_30K*deg*.ASC']\n",
    "\n",
    "all_tab_secplot(data=sec_15m, folder=sec_folder)"
   ]
  },
  {
   "cell_type": "code",
   "execution_count": null,
   "metadata": {},
   "outputs": [],
   "source": [
    "#to import multiple figures\n",
    "# single figures without averaging\n",
    "igor_2dfig=Path.cwd()/'2d_figures'\n",
    "\n",
    "        \n",
    "def twod_figure(filename: str=None) -> None:\n",
    "    \"\"\"\n",
    "    View multiple images stored in files, stacking vertically\n",
    "\n",
    "    Arguments:\n",
    "        filename: str - path to filename containing image\n",
    "    \"\"\"\n",
    "    image = Image.open(filename)    #from PIL import Image\n",
    "    #image = mpimg.imread(filename)\n",
    "    #plt.figure()\n",
    "    #plt.imshow(image1)\n",
    "    display(image)"
   ]
  },
  {
   "cell_type": "code",
   "execution_count": null,
   "metadata": {},
   "outputs": [],
   "source": [
    "for file in igor_2dfig.glob('*.png'):\n",
    "    twod_figure(file)"
   ]
  },
  {
   "cell_type": "code",
   "execution_count": null,
   "metadata": {},
   "outputs": [],
   "source": [
    "for file in igor_2dfig.glob('s*.png'):\n",
    "    twod_figure(file)"
   ]
  },
  {
   "cell_type": "raw",
   "metadata": {},
   "source": [
    "#defining model for fitting"
   ]
  },
  {
   "cell_type": "code",
   "execution_count": null,
   "metadata": {},
   "outputs": [],
   "source": []
  },
  {
   "cell_type": "code",
   "execution_count": null,
   "metadata": {},
   "outputs": [],
   "source": [
    "#Lorentzian square\n",
    "def lort(x,amp,L1,background=0):\n",
    "    lo=amp/(x**2+(1/L1**2))\n",
    "    return lo + background \n",
    "\n",
    "def lort2(x,amp,L1,background=0):\n",
    "    lo2=amp/(x**2+(1/L1**2))**2\n",
    "    return lo2 + background\n",
    "\n",
    "#Lorentzian and lorentzian square\n",
    "def lort_lort2(x,amp1,amp2,L1,L2,background=0):\n",
    "    lo=amp1/(x**2+(1/L1**2))\n",
    "    lo2=amp2/(x**2+(1/L2**2))**2\n",
    "    return lo+ lo2 + background\n",
    "\n",
    "#Guinier Approximation\n",
    "#ln(q)=lnI0-Rg**2/3*q**2\n",
    "def guin(x, slope, intensity, background=0):   \n",
    "    return (np.log(intensity) - slope*x) +background"
   ]
  },
  {
   "cell_type": "code",
   "execution_count": null,
   "metadata": {},
   "outputs": [],
   "source": []
  },
  {
   "cell_type": "code",
   "execution_count": null,
   "metadata": {},
   "outputs": [],
   "source": [
    "\n"
   ]
  },
  {
   "cell_type": "code",
   "execution_count": null,
   "metadata": {},
   "outputs": [],
   "source": [
    "#using lmfit- assigning model for lorentzian and lorentziansquare  \n",
    "lomodel = lmfit.Model(lort,independent_vars='x',nan_policy='omit')\n",
    "lo2model = lmfit.Model(lort2,independent_vars='x',nan_policy='omit')\n",
    "lolo2model = lmfit.Model(lort_lort2,independent_vars='x',nan_policy='omit')\n",
    "guinmodel = lmfit.Model(guin,independent_vars='x',nan_policy='omit')"
   ]
  },
  {
   "cell_type": "code",
   "execution_count": null,
   "metadata": {},
   "outputs": [],
   "source": [
    "#For lorentzian  changing parameters like initial, max, and min value\n",
    "lopars = lomodel.make_params(amp=1e-7,L1=100,background=1)\n",
    "lopars['background'].set(min=0)\n",
    "lopars['amp'].set(vary=True,max=0.0000001)\n",
    "lopars['L1'].set(min=0)\n",
    "\n",
    "#For lorentzian square- changing parameters like initial, max, and min value\n",
    "lo2pars = lo2model.make_params(amp=5e-8,L1=1000,background=1)\n",
    "lo2pars['background'].set(min=0)\n",
    "lo2pars['amp'].set(vary=True)\n",
    "lo2pars['L1'].set(min=0)\n",
    "\n",
    "#for lorentzian_lorentzian2-changing parameters initial, max, and min value\n",
    "lolo2pars = lolo2model.make_params(amp1=8e-6, amp2=5e-9, L1=1e7, L2=2000,background=1000)\n",
    "lolo2pars['background'].set(min=0)  #only positive values\n",
    "lolo2pars['amp1'].set(vary=True,min=0)\n",
    "lolo2pars['amp2'].vary=False\n",
    "lolo2pars['L1'].min=0\n",
    "lolo2pars['L2'].set(min=0)\n",
    "\n",
    "#changing parameters initial, max, and min value\n",
    "guinpars=guinmodel.make_params(intensity=0.003,background=0)\n",
    "guinpars['slope'].value = 0.003\n",
    "guinpars['intensity'].set(min=0.01)\n",
    "guinpars['background'].set(min=0,max=100)\n"
   ]
  },
  {
   "cell_type": "code",
   "execution_count": null,
   "metadata": {},
   "outputs": [],
   "source": []
  },
  {
   "cell_type": "code",
   "execution_count": null,
   "metadata": {},
   "outputs": [],
   "source": [
    "lmodel=[guinmodel,lomodel, lo2model,lolo2model]\n",
    "lpars=[guinpars, lopars, lo2pars, lolo2pars]\n",
    "#function for fitting\n",
    "def all_fit(data,position=[0.0001,0.07],lort=False, lort2=False, lort_lort2=False):\n",
    "    r = []; ks = []\n",
    "    for k in data:\n",
    "        sample = data[k]\n",
    "        d = extract_peak(sample,position)\n",
    "        #height = d[:,1].max()/100\n",
    "        if lort:\n",
    "            fit = lmodel[1].fit(d[:,1],lpars[1],x=d[:,0],method='least_squares')\n",
    "            fit.plot()\n",
    "            plt.title(f'{k}')\n",
    "            plt.xlabel('q')\n",
    "            plt.ylabel('I')\n",
    "            plt.xscale(\"log\")\n",
    "            plt.yscale(\"log\")  \n",
    "        elif lort2:\n",
    "            fit = lmodel[2].fit(d[:,1],lpars[2],x=d[:,0],method='least_squares')\n",
    "            fit.plot()\n",
    "            plt.title(f'{k}')\n",
    "            plt.xlabel('q')\n",
    "            plt.ylabel('I')\n",
    "            plt.xscale(\"log\")\n",
    "            plt.yscale(\"log\")\n",
    "        elif lort_lort2 :\n",
    "            fit = lmodel[3].fit(d[:,1],lpars[3],x=d[:,0],method='least_squares')\n",
    "            fit.plot()\n",
    "            plt.title(f'{k}')\n",
    "            plt.xlabel('q')\n",
    "            plt.ylabel('I')\n",
    "            plt.xscale(\"log\")\n",
    "            plt.yscale(\"log\")\n",
    "        else:\n",
    "            fit =lmodel[0].fit((np.log(d[:,1])),lpars[0],x=(d[:,0]*d[:,0]),method='powell')\n",
    "            fit.plot()\n",
    "            plt.title(f'{k}')\n",
    "            plt.xlabel('q2')\n",
    "            plt.ylabel('ln(I)')\n",
    "        ks.append(k)\n",
    "        r.append(fit.best_values)\n",
    "        df=pd.DataFrame(r,index=ks)\n",
    "        \n",
    "        if not (lort or lort2 or lort_lort2): #for guiner only\n",
    "            df['size_nm']=(np.sqrt(3*df['slope']))/10\n",
    "    return df"
   ]
  },
  {
   "cell_type": "code",
   "execution_count": null,
   "metadata": {},
   "outputs": [],
   "source": []
  }
 ],
 "metadata": {
  "kernelspec": {
   "display_name": "Python 3 (ipykernel)",
   "language": "python",
   "name": "python3"
  },
  "language_info": {
   "codemirror_mode": {
    "name": "ipython",
    "version": 3
   },
   "file_extension": ".py",
   "mimetype": "text/x-python",
   "name": "python",
   "nbconvert_exporter": "python",
   "pygments_lexer": "ipython3",
   "version": "3.8.10"
  }
 },
 "nbformat": 4,
 "nbformat_minor": 4
}
