{
 "cells": [
  {
   "cell_type": "markdown",
   "id": "f943dc6a",
   "metadata": {},
   "source": [
    "## 5 questions per day\n",
    "8-12 pm ( 3.5 hours)"
   ]
  },
  {
   "cell_type": "markdown",
   "id": "96e173d4",
   "metadata": {
    "jp-MarkdownHeadingCollapsed": true,
    "tags": []
   },
   "source": [
    "### July 2"
   ]
  },
  {
   "cell_type": "markdown",
   "id": "81fef53c",
   "metadata": {},
   "source": [
    "## 1. Codeland Username Validation\n",
    "\n",
    "Have the function CodelandUsernameValidation(str) take the str parameter being passed and determine if the string is a valid username according to the following rules: \n",
    "\n",
    "1. The username is between 4 and 25 characters.\n",
    "2. It must start with a letter. \n",
    "3. It can only contain letters, numbers, and the underscore character. \n",
    "4. It cannot end with an underscore character. \n",
    "\n",
    "If the username is valid then your program should return the string true, otherwise return the string false.\n",
    "Examples\n",
    "\n",
    "Input: \"aa_\" \n",
    "Output: false\n",
    "Input: \"u__hello_world123\" \n",
    "Output: true"
   ]
  },
  {
   "cell_type": "code",
   "execution_count": null,
   "id": "91041afc",
   "metadata": {},
   "outputs": [],
   "source": [
    "def CodelandUsernameValidation(strParam):\n",
    "    n=len(strParam)\n",
    "    if 4> n<25:\n",
    "        return \"false\"\n",
    "    if strParam[-1]!= \"_\" and strParam[0].isalpha() and \"_\" in strParam[1:n-1]:\n",
    "        return \"true\"\n",
    "    else:\n",
    "        return 'false'"
   ]
  },
  {
   "cell_type": "code",
   "execution_count": null,
   "id": "c5d59556",
   "metadata": {},
   "outputs": [],
   "source": [
    "def CodelandUsernameValidation(s):\n",
    "    if len(s)>4 and len(s)<25 and s[0].isalpha() and [i for i in s if i.isalnum() or i==\"_\"]!=[] and s[-1]!=\"_\":\n",
    "        return True\n",
    "    else:\n",
    "        return False"
   ]
  },
  {
   "cell_type": "code",
   "execution_count": null,
   "id": "24b6ffe3",
   "metadata": {},
   "outputs": [],
   "source": [
    "\n",
    "def CodelandUsernameValidation(string):\n",
    "    if string[-1] == '_' or not string[0].isalpha():\n",
    "        return 'false'\n",
    "    length = len(string)\n",
    "    string = string.replace('_', '')\n",
    "    return 'true' if 4 <= length <= 25 and string.isalnum() else 'false'"
   ]
  },
  {
   "cell_type": "markdown",
   "id": "387a71eb",
   "metadata": {},
   "source": [
    "## 2.Find Intersection\n",
    "\n",
    "Have the function FindIntersection(strArr) read the array of strings stored in strArr which will contain 2 elements: the first element will represent a list of comma-separated numbers sorted in ascending order, the second element will represent a second list of comma-separated numbers (also sorted). Your goal is to return a comma-separated string containing the numbers that occur in elements of strArr in sorted order. If there is no intersection, return the string false. \n",
    "Examples\n",
    "\n",
    "Input: [\"1, 3, 4, 7, 13\", \"1, 2, 4, 13, 15\"] \n",
    "Output: 1,4,13\n",
    "Input: [\"1, 3, 9, 10, 17, 18\", \"1, 4, 9, 10\"] \n",
    "Output: 1,9,10"
   ]
  },
  {
   "cell_type": "code",
   "execution_count": null,
   "id": "0703b42c",
   "metadata": {},
   "outputs": [],
   "source": [
    "def FindIntersection(strArr):\n",
    "    a=[]\n",
    "    f=strArr[0].split(', ')\n",
    "    l=strArr[1].split(', ')\n",
    "    for i in f:\n",
    "        if i in l:\n",
    "            a.append(i)\n",
    "\n",
    "    if len(a) > 0:\n",
    "        return \",\".join(a)\n",
    "    else:\n",
    "        return \"false\"\n"
   ]
  },
  {
   "cell_type": "code",
   "execution_count": null,
   "id": "1ca43a17",
   "metadata": {},
   "outputs": [],
   "source": [
    "\n",
    "def FindIntersection(strArr):\n",
    "\n",
    "# code goes here\n",
    "l1 = strArr[0].split(\", \")\n",
    "l2 = strArr[1].split(\", \")\n",
    "res = [val for val in l1 if val in l2]\n",
    "return \",\".join(res) if len(res) > 0 else False"
   ]
  },
  {
   "cell_type": "code",
   "execution_count": 7,
   "id": "24a54c44",
   "metadata": {},
   "outputs": [
    {
     "name": "stdout",
     "output_type": "stream",
     "text": [
      "1,4,13,"
     ]
    }
   ],
   "source": [
    "a=[\"1, 3, 4, 7, 13\", \"1, 2, 4, 13, 15\"]\n",
    "b=[]\n",
    "for i in a[0].split(\",\"):\n",
    "    for j in a[1].split(\",\"):\n",
    "        if i==j:\n",
    "            print(int(i), end=\",\")\n"
   ]
  },
  {
   "cell_type": "markdown",
   "id": "0b27585e",
   "metadata": {},
   "source": [
    "## 3.Questions Marks\n",
    "\n",
    "Have the function QuestionsMarks(str) take the str string parameter, which will contain single digit numbers, letters, and question marks, and check if there are exactly 3 question marks between every pair of two numbers that add up to 10. If so, then your program should return the string true, otherwise it should return the string false. If there aren't any two numbers that add up to 10 in the string, then your program should return false as well. \n",
    "\n",
    "For example: if str is \"arrb6???4xxbl5???eee5\" then your program should return true because there are exactly 3 question marks between 6 and 4, and 3 question marks between 5 and 5 at the end of the string.\n",
    "Examples\n",
    "\n",
    "Input: \"aa6?9\" \n",
    "Output: false\n",
    "Input: \"acc?7??sss?3rr1??????5\" \n",
    "Output: true\n"
   ]
  },
  {
   "cell_type": "code",
   "execution_count": 10,
   "id": "dd4c69c8",
   "metadata": {},
   "outputs": [
    {
     "name": "stdout",
     "output_type": "stream",
     "text": [
      "aa\n",
      "ac\n",
      "ac\n",
      "a?\n",
      "a7\n",
      "7\n",
      "a?\n",
      "a?\n",
      "as\n",
      "as\n",
      "as\n",
      "a?\n",
      "a3\n",
      "3\n",
      "ar\n",
      "ar\n",
      "a1\n",
      "1\n",
      "a?\n",
      "a?\n",
      "a?\n",
      "a?\n",
      "a?\n",
      "a?\n",
      "a5\n",
      "5\n"
     ]
    },
    {
     "data": {
      "text/plain": [
       "'true'"
      ]
     },
     "execution_count": 10,
     "metadata": {},
     "output_type": "execute_result"
    }
   ],
   "source": [
    "\n",
    "def QuestionsMarks(str):\n",
    "    a=11\n",
    "    b='false'\n",
    "    c=0\n",
    "    for i in str:\n",
    "        print(f'a{i}')\n",
    "        if i.isdigit():\n",
    "            print(i)\n",
    "            if int(i)+a==10:\n",
    "                if c!=3:\n",
    "                    return 'false'\n",
    "                b='true'\n",
    "            c=0\n",
    "            a=int(i)\n",
    "        elif i=='?':\n",
    "            c+=1\n",
    "    return b\n",
    "\n",
    "\n",
    "str=\"acc?7??sss?3rr1??????5\" \n",
    "QuestionsMarks(str)"
   ]
  },
  {
   "cell_type": "markdown",
   "id": "e53e1fbe",
   "metadata": {},
   "source": [
    "## 4.Longest Word\n",
    "\n",
    "Have the function LongestWord(sen) take the sen parameter being passed and return the longest word in the string. If there are two or more words that are the same length, return the first word from the string with that length. Ignore punctuation and assume sen will not be empty. Words July also contain numbers, for example \"Hello world123 567\"\n",
    "Examples\n",
    "\n",
    "Input: \"fun&!! time\" \n",
    "Output: time\n",
    "Input: \"I love dogs\" \n",
    "Output: love"
   ]
  },
  {
   "cell_type": "code",
   "execution_count": null,
   "id": "2e3a6478",
   "metadata": {},
   "outputs": [],
   "source": [
    "def LongestWord(sen): \n",
    "    max = 0\n",
    "    for word in sen.split():\n",
    "        if (len(word) > max  and word.isalpha()):\n",
    "            max = len(word)\n",
    "            largest = word \n",
    "      # code goes here \n",
    "    return largest"
   ]
  },
  {
   "cell_type": "code",
   "execution_count": null,
   "id": "3bad9f40",
   "metadata": {},
   "outputs": [],
   "source": [
    "def LongestWord(sen):\n",
    "    clean=sen.split(\" \")\n",
    "    a=[]\n",
    "    for word in clean:\n",
    "        w=\"\"\n",
    "        for i in word:\n",
    "            if i.isalpha():\n",
    "                w=w+i\n",
    "        a.append(w)\n",
    "    return max(a, key=len)"
   ]
  },
  {
   "cell_type": "markdown",
   "id": "4c4fb1a0",
   "metadata": {},
   "source": [
    "## 5.First Factorial\n",
    "\n",
    "Have the function FirstFactorial(num) take the num parameter being passed and return the factorial of it. For example: if num = 4, then your program should return (4 * 3 * 2 * 1) = 24. For the test cases, the range will be between 1 and 18 and the input will always be an integer.\n",
    "Examples\n",
    "\n",
    "Input: 4 \n",
    "Output: 24\n",
    "Input: 8 \n",
    "Output: 40320"
   ]
  },
  {
   "cell_type": "code",
   "execution_count": null,
   "id": "ac336099",
   "metadata": {},
   "outputs": [],
   "source": [
    "def FirstFactorial(num):\n",
    "    if num==1:\n",
    "        return 1\n",
    "    return num* FirstFactorial(num-1)"
   ]
  },
  {
   "cell_type": "code",
   "execution_count": null,
   "id": "1aab9e78",
   "metadata": {},
   "outputs": [],
   "source": [
    "def FirstFactorial(num):\n",
    "    out=1\n",
    "    for i in range(1,num+1):\n",
    "        out*=i\n",
    "    return out"
   ]
  },
  {
   "cell_type": "markdown",
   "id": "b98e2d16",
   "metadata": {
    "tags": []
   },
   "source": [
    "### July 3"
   ]
  },
  {
   "cell_type": "markdown",
   "id": "7d76ad3a",
   "metadata": {},
   "source": [
    "## 1. First Reverse\n",
    "\n",
    "Have the function FirstReverse(str) take the str parameter being passed and return the string in reversed order. For example: if the input string is \"Hello World and Coders\" then your program should return the string sredoC dna dlroW olleH.\n",
    "Examples\n",
    "\n",
    "Input: \"coderbyte\" \n",
    "Output: etybredoc\n",
    "Input: \"I Love Code\" \n",
    "Output: edoC evoL I"
   ]
  },
  {
   "cell_type": "code",
   "execution_count": null,
   "id": "4c583136",
   "metadata": {},
   "outputs": [],
   "source": [
    "def FirstReverse(strParam):\n",
    "    new_string=''\n",
    "    l=len(strParam)\n",
    "    while l:\n",
    "        l=l-1\n",
    "        new_string=new_string+strParam[l]\n",
    "    return new_string "
   ]
  },
  {
   "cell_type": "code",
   "execution_count": null,
   "id": "366cac4f",
   "metadata": {},
   "outputs": [],
   "source": [
    "def FirstReverse(s): \n",
    "    str = \"\"\n",
    "    for i in s:\n",
    "        str = i + str\n",
    "    return str"
   ]
  },
  {
   "cell_type": "code",
   "execution_count": null,
   "id": "42497f6f",
   "metadata": {},
   "outputs": [],
   "source": [
    "\n",
    "def FirstReverse(s): \n",
    "    if len(s) <= 1:\n",
    "        return s\n",
    "    else:\n",
    "        return s[-1] + FirstReverse(s[:-1])"
   ]
  },
  {
   "cell_type": "markdown",
   "id": "5fd5020c",
   "metadata": {},
   "source": [
    "## 2.Letter Changes\n",
    "\n",
    "Have the function LetterChanges(str) take the str parameter being passed and modify it using the following algorithm. Replace every letter in the string with the letter following it in the alphabet (ie. c becomes d, z becomes a). Then capitalize every vowel in this new string (a, e, i, o, u) and finally return this modified string.\n",
    "Examples\n",
    "\n",
    "Input: \"hello*3\" \n",
    "Output: Ifmmp*3\n",
    "Input: \"fun times!\" \n",
    "Output: gvO Ujnft!"
   ]
  },
  {
   "cell_type": "code",
   "execution_count": 13,
   "id": "7d44190d",
   "metadata": {},
   "outputs": [
    {
     "data": {
      "text/plain": [
       "'hello*3'"
      ]
     },
     "execution_count": 13,
     "metadata": {},
     "output_type": "execute_result"
    }
   ],
   "source": [
    "def LetterChanges(strParam):\n",
    "    letter=\"abcdefghijklmnopqrstuvwxyz\"\n",
    "    vowels=\"aeiou\"\n",
    "    new_str=\"\"\n",
    "    for l in strParam:\n",
    "        if l in letter:\n",
    "            a=letter[letter.index(l)+1]\n",
    "        else:\n",
    "            a=l\n",
    "        if a in vowels:\n",
    "            new_str=new_str+a.upper()\n",
    "        else:\n",
    "            new_str=new_str+a\n",
    "  \n",
    "    return new_str\n",
    "      \n",
    "    # code goes here \n",
    "    return nw"
   ]
  },
  {
   "cell_type": "markdown",
   "id": "4da9e834",
   "metadata": {},
   "source": [
    "## 3.Simple Adding\n",
    "\n",
    "Have the function SimpleAdding(num) add up all the numbers from 1 to num. For example: if the input is 4 then your program should return 10 because 1 + 2 + 3 + 4 = 10. For the test cases, the parameter num will be any number from 1 to 1000.\n",
    "Examples\n",
    "\n",
    "Input: 12 \n",
    "Output: 78\n",
    "Input: 140 \n",
    "Output: 9870"
   ]
  },
  {
   "cell_type": "code",
   "execution_count": null,
   "id": "97c7dc2b",
   "metadata": {},
   "outputs": [],
   "source": [
    "def SimpleAdding(num):\n",
    "    return int(num*(num+1)/2)"
   ]
  },
  {
   "cell_type": "code",
   "execution_count": null,
   "id": "bfea9c08",
   "metadata": {},
   "outputs": [],
   "source": []
  },
  {
   "cell_type": "markdown",
   "id": "9dba9e27",
   "metadata": {},
   "source": [
    "## 4.Letter Capitalize\n",
    "\n",
    "Have the function LetterCapitalize(str) take the str parameter being passed and capitalize the first letter of each word. Words will be separated by only one space.\n",
    "Examples\n",
    "\n",
    "Input: \"hello world\" \n",
    "Output: Hello World\n",
    "Input: \"i ran there\" \n",
    "Output: I Ran There\n"
   ]
  },
  {
   "cell_type": "code",
   "execution_count": null,
   "id": "9b96502b",
   "metadata": {},
   "outputs": [],
   "source": [
    "def LetterCapitalize(strParam):\n",
    "    return strParam.title()"
   ]
  },
  {
   "cell_type": "code",
   "execution_count": null,
   "id": "8f51f1ac",
   "metadata": {},
   "outputs": [],
   "source": [
    "def LetterCapitalize(strParam):\n",
    "    letter=\"abcdefghijklmnopqrstuvwxyz\"\n",
    "    result=\"\"\n",
    "    for char in strParam.split(\" \"):\n",
    "        C=\"\"\n",
    "        for i in char:\n",
    "            c=\"\"\n",
    "            if i in letter:\n",
    "                if char.index(i)==0:\n",
    "                    C=C+i.upper()\n",
    "                else:\n",
    "                    C=C+i\n",
    "        result=result + C +\" \"\n",
    "    return result"
   ]
  },
  {
   "cell_type": "code",
   "execution_count": null,
   "id": "f3d49abc",
   "metadata": {},
   "outputs": [],
   "source": [
    "def capitalize_first(word):\n",
    "    return word[0].upper() + word[1:]\n",
    "\n",
    "def LetterCapitalize(str): \n",
    "\n",
    "    # code goes here\n",
    "    return ' '.join(list(map(capitalize_first, str.split(' '))))"
   ]
  },
  {
   "cell_type": "markdown",
   "id": "8b08134a",
   "metadata": {},
   "source": [
    "## 5.Simple Symbols\n",
    "\n",
    "Have the function SimpleSymbols(str) take the str parameter being passed and determine if it is an acceptable sequence by either returning the string true or false. The str parameter will be composed of + and = symbols with several characters between them (ie. ++d+===+c++==a) and for the string to be true each letter must be surrounded by a + symbol. So the string to the left would be false. The string will not be empty and will have at least one letter.\n",
    "Examples\n",
    "\n",
    "Input: \"+d+=3=+s+\" \n",
    "Output: true\n",
    "Input: \"f++d+\" \n",
    "Output: false"
   ]
  },
  {
   "cell_type": "code",
   "execution_count": null,
   "id": "4bb8c16b",
   "metadata": {},
   "outputs": [],
   "source": []
  },
  {
   "cell_type": "code",
   "execution_count": null,
   "id": "28a39acd",
   "metadata": {},
   "outputs": [],
   "source": []
  },
  {
   "cell_type": "markdown",
   "id": "cafbe55e",
   "metadata": {
    "jp-MarkdownHeadingCollapsed": true,
    "tags": []
   },
   "source": [
    "### July 4"
   ]
  },
  {
   "cell_type": "markdown",
   "id": "1975d714",
   "metadata": {},
   "source": [
    "## 1. Check Nums\n",
    "\n",
    "Have the function CheckNums(num1,num2) take both parameters being passed and return the string true if num2 is greater than num1, otherwise return the string false. If the parameter values are equal to each other then return the string -1.\n",
    "Examples\n",
    "\n",
    "Input: 3 & num2 = 122 \n",
    "Output: true\n",
    "Input: 67 & num2 = 67 \n",
    "Output: -1\n"
   ]
  },
  {
   "cell_type": "code",
   "execution_count": null,
   "id": "059772bc",
   "metadata": {},
   "outputs": [],
   "source": [
    "def CheckNums(num1,num2):\n",
    "    if num2>num1:\n",
    "        return \"true\"\n",
    "    elif num1==num2:\n",
    "        return -1\n",
    "    else:\n",
    "        return 'false'"
   ]
  },
  {
   "cell_type": "markdown",
   "id": "7417e40b",
   "metadata": {},
   "source": [
    "## 2.Time Convert\n",
    "\n",
    "Have the function TimeConvert(num) take the num parameter being passed and return the number of hours and minutes the parameter converts to (ie. if num = 63 then the output should be 1:3). Separate the number of hours and minutes with a colon.\n",
    "Examples\n",
    "\n",
    "Input: 126 \n",
    "Output: 2:6\n",
    "Input: 45 \n",
    "Output: 0:45"
   ]
  },
  {
   "cell_type": "code",
   "execution_count": null,
   "id": "0edf3060",
   "metadata": {},
   "outputs": [],
   "source": [
    "def TimeConvert(num):\n",
    "     return f'{num//60}:{num%60}'"
   ]
  },
  {
   "cell_type": "markdown",
   "id": "b1467e59",
   "metadata": {},
   "source": [
    "## 3.Alphabet Soup\n",
    "\n",
    "Have the function AlphabetSoup(str) take the str string parameter being passed and return the string with the letters in alphabetical order (ie. hello becomes ehllo). Assume numbers and punctuation symbols will not be included in the string.\n",
    "Examples\n",
    "\n",
    "Input: \"coderbyte\" \n",
    "Output: bcdeeorty\n",
    "Input: \"hooplah\" \n",
    "Output: ahhloop\n"
   ]
  },
  {
   "cell_type": "code",
   "execution_count": null,
   "id": "00a63dcc",
   "metadata": {},
   "outputs": [],
   "source": [
    "def AlphabetSoup(strParam):\n",
    "  \n",
    "  return \"\".join(sorted(strParam))"
   ]
  },
  {
   "cell_type": "markdown",
   "id": "dc1142b3",
   "metadata": {},
   "source": [
    "## 4.AB Check\n",
    "\n",
    "Have the function ABCheck(str) take the str parameter being passed and return the string true if the characters a and b are separated by exactly 3 places anywhere in the string at least once (ie. \"lane borrowed\" would result in true because there is exactly three characters between a and b). Otherwise return the string false.\n",
    "Examples\n",
    "\n",
    "Input: \"after badly\" \n",
    "Output: false\n",
    "Input: \"Laura sobs\" \n",
    "Output: true"
   ]
  },
  {
   "cell_type": "code",
   "execution_count": null,
   "id": "b48b6918",
   "metadata": {},
   "outputs": [],
   "source": [
    "def ABCheck(strParam):\n",
    "    for i in range(len(strParam-4):\n",
    "       if strParam[i]==\"a\" and strParam[i+4]=='b':\n",
    "           return 'true'\n",
    "    return 'false'"
   ]
  },
  {
   "cell_type": "code",
   "execution_count": null,
   "id": "ef091ebb",
   "metadata": {},
   "outputs": [],
   "source": [
    "def ABCheck(str):\n",
    "    i = 0 \n",
    "    while i < len(str) - 4:\n",
    "        if str[i] == \"a\" and str[i+4] == \"b\":\n",
    "            return \"true\"\n",
    "        i+=1 \n",
    "    \n",
    "    return \"false\""
   ]
  },
  {
   "cell_type": "markdown",
   "id": "a0dc33b2",
   "metadata": {},
   "source": [
    "## 5.Vowel Count\n",
    "\n",
    "Have the function VowelCount(str) take the str string parameter being passed and return the number of vowels the string contains (ie. \"All cows eat grass and moo\" would return 8). Do not count y as a vowel for this challenge.\n",
    "Examples\n",
    "\n",
    "Input: \"hello\" \n",
    "Output: 2\n",
    "Input: \"coderbyte\" \n",
    "Output: 3"
   ]
  },
  {
   "cell_type": "code",
   "execution_count": null,
   "id": "c22f2493",
   "metadata": {},
   "outputs": [],
   "source": [
    "def VowelCount(strParam):\n",
    "    count=0\n",
    "    for i in strParam:\n",
    "        if i in \"aeiou\":\n",
    "            count+=1\n",
    "    return count"
   ]
  },
  {
   "cell_type": "code",
   "execution_count": null,
   "id": "03f67d1f",
   "metadata": {},
   "outputs": [],
   "source": [
    "def VowelCount(strParam):\n",
    "    return len([i for i in strParam if i in \"aeiou\"])"
   ]
  },
  {
   "cell_type": "markdown",
   "id": "943d86df",
   "metadata": {
    "jp-MarkdownHeadingCollapsed": true,
    "tags": []
   },
   "source": [
    "### July 5"
   ]
  },
  {
   "cell_type": "markdown",
   "id": "f962e98a",
   "metadata": {},
   "source": [
    "## 1. Word Count\n",
    "\n",
    "Have the function WordCount(str) take the str string parameter being passed and return the number of words the string contains (e.g. \"Never eat shredded wheat or cake\" would return 6). Words will be separated by single spaces.\n",
    "Examples\n",
    "\n",
    "Input: \"Hello World\" \n",
    "Output: 2\n",
    "Input: \"one 22 three\" \n",
    "Output: 3"
   ]
  },
  {
   "cell_type": "code",
   "execution_count": null,
   "id": "1682eda4",
   "metadata": {},
   "outputs": [],
   "source": [
    "def WordCount(strParam):\n",
    "    return len(strParam.split(\" \"))"
   ]
  },
  {
   "cell_type": "markdown",
   "id": "4bceb031",
   "metadata": {},
   "source": [
    "## 2.Ex Oh\n",
    "\n",
    "Have the function ExOh(str) take the str parameter being passed and return the string true if there is an equal number of x's and o's, otherwise return the string false. Only these two letters will be entered in the string, no punctuation or numbers. For example: if str is \"xooxxxxooxo\" then the output should return false because there are 6 x's and 5 o's.\n",
    "Examples\n",
    "\n",
    "Input: \"xooxxo\" \n",
    "Output: true\n",
    "Input: \"x\" \n",
    "Output: false\n"
   ]
  },
  {
   "cell_type": "code",
   "execution_count": null,
   "id": "b6fa5ea7",
   "metadata": {},
   "outputs": [],
   "source": [
    "def ExOh(str)\n",
    "  # code goes here\n",
    "    count = 0\n",
    "    for char in str:\n",
    "        if char == 'x':\n",
    "            count -= 1\n",
    "        elif char == 'o':\n",
    "            count += 1\n",
    "    if count == 0:\n",
    "        return 'true'\n",
    "    else:\n",
    "        return 'false'"
   ]
  },
  {
   "cell_type": "code",
   "execution_count": 14,
   "id": "2a6bf34d",
   "metadata": {},
   "outputs": [],
   "source": [
    "def ExOh(str): \n",
    "\n",
    "    str = list(str)\n",
    "    \n",
    "    if str.count(\"o\") == str.count(\"x\"):\n",
    "        return True\n",
    "    else:\n",
    "        return False"
   ]
  },
  {
   "cell_type": "markdown",
   "id": "07224298",
   "metadata": {},
   "source": [
    "## 3.Palindrome\n",
    "\n",
    "Have the function Palindrome(str) take the str parameter being passed and return the string true if the parameter is a palindrome, (the string is the same forward as it is backward) otherwise return the string false. For example: \"racecar\" is also \"racecar\" backwards. Punctuation and numbers will not be part of the string.\n",
    "Examples\n",
    "\n",
    "Input: \"never odd or even\" \n",
    "Output: true\n",
    "Input: \"eye\" \n",
    "Output: true"
   ]
  },
  {
   "cell_type": "code",
   "execution_count": null,
   "id": "96401827",
   "metadata": {},
   "outputs": [],
   "source": [
    "def Palindrome(strParam):\n",
    "    #strParam=[i for i in strParam if i!=\" \"] \n",
    "    strParam=strParam.replace(' ', '')\n",
    "    i=0\n",
    "    j=len(strParam)-1\n",
    "    while i<=j:\n",
    "        if strParam[i]!=strParam[j]:\n",
    "            return 'false'\n",
    "        i=i+1\n",
    "        j=j-1\n",
    "    return 'true'"
   ]
  },
  {
   "cell_type": "code",
   "execution_count": null,
   "id": "5f776188",
   "metadata": {},
   "outputs": [],
   "source": [
    "def Palindrome(str):\n",
    "    str = str.replace(' ', '')\n",
    "    if str[::-1] == str:\n",
    "        return 'true'\n",
    "    else:\n",
    "        return 'false' \n"
   ]
  },
  {
   "cell_type": "markdown",
   "id": "d5b34d07",
   "metadata": {},
   "source": [
    "## 4.Arith Geo\n",
    "\n",
    "Have the function ArithGeo(arr) take the array of numbers stored in arr and return the string \"Arithmetic\" if the sequence follows an arithmetic pattern or return \"Geometric\" if it follows a geometric pattern. If the sequence doesn't follow either pattern return -1. An arithmetic sequence is one where the difference between each of the numbers is consistent, where as in a geometric sequence, each term after the first is multiplied by some constant or common ratio. Arithmetic example: [2, 4, 6, 8] and Geometric example: [2, 6, 18, 54]. Negative numbers July be entered as parameters, 0 will not be entered, and no array will contain all the same elements.\n",
    "Examples\n",
    "\n",
    "Input: [5,10,15] \n",
    "Output: Arithmetic\n",
    "Input: [2,4,16,24] \n",
    "Output: -1"
   ]
  },
  {
   "cell_type": "code",
   "execution_count": null,
   "id": "01950031",
   "metadata": {},
   "outputs": [],
   "source": [
    "def ArithGeo(arr):\n",
    "  # Check if arithmetic\n",
    "    is_arithmetic = True\n",
    "    dif = arr[1] - arr[0]\n",
    "    for i in range(len(arr)-2):\n",
    "        if arr[i+1] - arr[i] != dif:\n",
    "            is_arithmetic = False\n",
    "            break\n",
    "\n",
    "    # Check if geometric\n",
    "    is_geometric = True\n",
    "    dif = arr[1] / arr[0]\n",
    "    for i in range(len(arr)-2):\n",
    "        if arr[i+1] / arr[i] != dif:\n",
    "            is_geometric = False\n",
    "            break\n",
    "\n",
    "    if is_arithmetic:\n",
    "        return 'Arithmetic'\n",
    "    elif is_geometric:\n",
    "        return 'Geometric'\n",
    "    else:\n",
    "        return -1"
   ]
  },
  {
   "cell_type": "markdown",
   "id": "545d7372",
   "metadata": {},
   "source": [
    "## 5.Array Addition I\n",
    "\n",
    "Have the function ArrayAdditionI(arr) take the array of numbers stored in arr and return the string true if any combination of numbers in the array (excluding the largest number) can be added up to equal the largest number in the array, otherwise return the string false. For example: if arr contains [4, 6, 23, 10, 1, 3] the output should return true because 4 + 6 + 10 + 3 = 23. The array will not be empty, will not contain all the same elements, and July contain negative numbers.\n",
    "Examples\n",
    "\n",
    "Input: [5,7,16,1,2] \n",
    "Output: false\n",
    "Input: [3,5,-1,8,12] \n",
    "Output: true"
   ]
  },
  {
   "cell_type": "code",
   "execution_count": null,
   "id": "e20ff4cd",
   "metadata": {},
   "outputs": [],
   "source": [
    "def ArrayAdditionI(arr):\n",
    "  arr.sort()\n",
    "  if sum(arr[:-1])==arr[-1]:\n",
    "    return 'true'\n",
    "  else:\n",
    "    return 'false'"
   ]
  },
  {
   "cell_type": "markdown",
   "id": "2e9aed99",
   "metadata": {
    "jp-MarkdownHeadingCollapsed": true,
    "tags": []
   },
   "source": [
    "### July 6"
   ]
  },
  {
   "cell_type": "markdown",
   "id": "fe65e88d",
   "metadata": {},
   "source": [
    "## 1. Letter Count I\n",
    "\n",
    "Have the function LetterCountI(str) take the str parameter being passed and return the first word with the greatest number of repeated letters. For example: \"Today, is the greatest day ever!\" should return greatest because it has 2 e's (and 2 t's) and it comes before ever which also has 2 e's. If there are no words with repeating letters return -1. Words will be separated by spaces.\n",
    "Examples\n",
    "\n",
    "Input: \"Hello apple pie\" \n",
    "Output: Hello\n",
    "Input: \"No words\" \n",
    "Output: -1"
   ]
  },
  {
   "cell_type": "code",
   "execution_count": null,
   "id": "c2308705",
   "metadata": {},
   "outputs": [],
   "source": []
  },
  {
   "cell_type": "markdown",
   "id": "2616abbd",
   "metadata": {},
   "source": [
    "## 2.Second GreatLow\n",
    "\n",
    "Have the function SecondGreatLow(arr) take the array of numbers stored in arr and return the second lowest and second greatest numbers, respectively, separated by a space. For example: if arr contains [7, 7, 12, 98, 106] the output should be 12 98. The array will not be empty and will contain at least 2 numbers. It can get tricky if there's just two numbers!\n",
    "Examples\n",
    "\n",
    "Input: [1, 42, 42, 180] \n",
    "Output: 42 42\n",
    "Input: [4, 90] \n",
    "Output: 90 4"
   ]
  },
  {
   "cell_type": "code",
   "execution_count": null,
   "id": "fb27405a",
   "metadata": {},
   "outputs": [],
   "source": []
  },
  {
   "cell_type": "markdown",
   "id": "72d6b018",
   "metadata": {},
   "source": [
    "## 3.Division Stringified\n",
    "\n",
    "Have the function DivisionStringified(num1,num2) take both parameters being passed, divide num1 by num2, and return the result as a string with properly formatted commas. If an answer is only 3 digits long, return the number with no commas (ie. 2 / 3 should output \"1\"). For example: if num1 is 123456789 and num2 is 10000 the output should be \"12,346\".\n",
    "Examples\n",
    "\n",
    "Input: 5 & num2 = 2 \n",
    "Output: 3\n",
    "Input: 6874 & num2 = 67 \n",
    "Output: 103"
   ]
  },
  {
   "cell_type": "code",
   "execution_count": null,
   "id": "d49a058b",
   "metadata": {},
   "outputs": [],
   "source": []
  },
  {
   "cell_type": "markdown",
   "id": "20fdf948",
   "metadata": {},
   "source": [
    "## 4.Counting Minutes I\n",
    "\n",
    "Have the function CountingMinutesI(str) take the str parameter being passed which will be two times (each properly formatted with a colon and am or pm) separated by a hyphen and return the total number of minutes between the two times. The time will be in a 12 hour clock format. For example: if str is 9:00am-10:00am then the output should be 60. If str is 1:00pm-11:00am the output should be 1320.\n",
    "Examples\n",
    "\n",
    "Input: \"12:30pm-12:00am\" \n",
    "Output: 690\n",
    "Input: \"1:23am-1:08am\" \n",
    "Output: 1425"
   ]
  },
  {
   "cell_type": "code",
   "execution_count": null,
   "id": "02d959d6",
   "metadata": {},
   "outputs": [],
   "source": []
  },
  {
   "cell_type": "markdown",
   "id": "cc1c4372",
   "metadata": {},
   "source": [
    "## 5.Mean Mode\n",
    "\n",
    "Have the function MeanMode(arr) take the array of numbers stored in arr and return 1 if the mode equals the mean, 0 if they don't equal each other (ie. [5, 3, 3, 3, 1] should return 1 because the mode (3) equals the mean (3)). The array will not be empty, will only contain positive integers, and will not contain more than one mode.\n",
    "Examples\n",
    "\n",
    "Input: [1, 2, 3] \n",
    "Output: 0\n",
    "Input: [4, 4, 4, 6, 2] \n",
    "Output: 1"
   ]
  },
  {
   "cell_type": "code",
   "execution_count": null,
   "id": "519a3433",
   "metadata": {},
   "outputs": [],
   "source": []
  },
  {
   "cell_type": "markdown",
   "id": "71bae3dd",
   "metadata": {
    "jp-MarkdownHeadingCollapsed": true,
    "tags": []
   },
   "source": [
    "### July 7"
   ]
  },
  {
   "cell_type": "markdown",
   "id": "49f2f75e",
   "metadata": {},
   "source": [
    "## 1. Dash Insert\n",
    "\n",
    "Have the function DashInsert(str) insert dashes ('-') between each two odd numbers in str. For example: if str is 454793 the output should be 4547-9-3. Don't count zero as an odd number.\n",
    "Examples\n",
    "\n",
    "Input: 99946 \n",
    "Output: 9-9-946\n",
    "Input: 56730 \n",
    "Output: 567-30"
   ]
  },
  {
   "cell_type": "code",
   "execution_count": null,
   "id": "f2c79c36",
   "metadata": {},
   "outputs": [],
   "source": []
  },
  {
   "cell_type": "markdown",
   "id": "6e286a93",
   "metadata": {},
   "source": [
    "## 2.Number Addition\n",
    "\n",
    "Have the function NumberAddition(str) take the str parameter, search for all the numbers in the string, add them together, then return that final number. For example: if str is \"88Hello 3World!\" the output should be 91. You will have to differentiate between single digit numbers and multiple digit numbers like in the example above. So \"55Hello\" and \"5Hello 5\" should return two different answers. Each string will contain at least one letter or symbol.\n",
    "Examples\n",
    "\n",
    "Input: \"75Number9\" \n",
    "Output: 84\n",
    "Input: \"10 2One Number*1*\" \n",
    "Output: 13"
   ]
  },
  {
   "cell_type": "code",
   "execution_count": null,
   "id": "a5b1d85b",
   "metadata": {},
   "outputs": [],
   "source": []
  },
  {
   "cell_type": "markdown",
   "id": "a5ddd2d2",
   "metadata": {},
   "source": [
    "## 3.Third Greatest\n",
    "\n",
    "Have the function ThirdGreatest(strArr) take the array of strings stored in strArr and return the third largest word within it. So for example: if strArr is [\"hello\", \"world\", \"before\", \"all\"] your output should be world because \"before\" is 6 letters long, and \"hello\" and \"world\" are both 5, but the output should be world because it appeared as the last 5 letter word in the array. If strArr was [\"hello\", \"world\", \"after\", \"all\"] the output should be after because the first three words are all 5 letters long, so return the last one. The array will have at least three strings and each string will only contain letters.\n",
    "Examples\n",
    "\n",
    "Input: [\"coder\",\"byte\",\"code\"] \n",
    "Output: code\n",
    "Input: [\"abc\",\"defg\",\"z\",\"hijk\"] \n",
    "Output: abc"
   ]
  },
  {
   "cell_type": "code",
   "execution_count": null,
   "id": "3e80660b",
   "metadata": {},
   "outputs": [],
   "source": []
  },
  {
   "cell_type": "markdown",
   "id": "c5858e30",
   "metadata": {},
   "source": [
    "## 4.Powers of Two\n",
    "\n",
    "Have the function PowersofTwo(num) take the num parameter being passed which will be an integer and return the string true if it's a power of two. If it's not return the string false. For example if the input is 16 then your program should return the string true but if the input is 22 then the output should be the string false.\n",
    "Examples\n",
    "\n",
    "Input: 4 \n",
    "Output: true\n",
    "Input: 124 \n",
    "Output: false"
   ]
  },
  {
   "cell_type": "code",
   "execution_count": null,
   "id": "988eda48",
   "metadata": {},
   "outputs": [],
   "source": []
  },
  {
   "cell_type": "markdown",
   "id": "6e425b1e",
   "metadata": {},
   "source": [
    "## 5.Additive Persistence\n",
    "\n",
    "Have the function AdditivePersistence(num) take the num parameter being passed which will always be a positive integer and return its additive persistence which is the number of times you must add the digits in num until you reach a single digit. For example: if num is 2718 then your program should return 2 because 2 + 7 + 1 + 8 = 18 and 1 + 8 = 9 and you stop at 9.\n",
    "Examples\n",
    "\n",
    "Input: 4 \n",
    "Output: 0\n",
    "Input: 19 \n",
    "Output: 2"
   ]
  },
  {
   "cell_type": "code",
   "execution_count": null,
   "id": "9a682d7b",
   "metadata": {},
   "outputs": [],
   "source": []
  },
  {
   "cell_type": "markdown",
   "id": "ce70cb2d",
   "metadata": {
    "jp-MarkdownHeadingCollapsed": true,
    "tags": []
   },
   "source": [
    "### July 8"
   ]
  },
  {
   "cell_type": "markdown",
   "id": "751991b9",
   "metadata": {},
   "source": [
    "## 1. Multiplicative Persistence\n",
    "\n",
    "Have the function MultiplicativePersistence(num) take the num parameter being passed which will always be a positive integer and return its multiplicative persistence which is the number of times you must multiply the digits in num until you reach a single digit. For example: if num is 39 then your program should return 3 because 3 * 9 = 27 then 2 * 7 = 14 and finally 1 * 4 = 4 and you stop at 4.\n",
    "Examples\n",
    "\n",
    "Input: 4 \n",
    "Output: 0\n",
    "Input: 25 \n",
    "Output: 2"
   ]
  },
  {
   "cell_type": "code",
   "execution_count": null,
   "id": "467ee54b",
   "metadata": {},
   "outputs": [],
   "source": []
  },
  {
   "cell_type": "markdown",
   "id": "0ce18663",
   "metadata": {},
   "source": [
    "## 2.Off Line Minimum\n",
    "\n",
    "Have the function OffLineMinimum(strArr) take the strArr parameter being passed which will be an array of integers ranging from 1...n and the letter \"E\" and return the correct subset based on the following rules. The input will be in the following format: [\"I\",\"I\",\"E\",\"I\",...,\"E\",...,\"I\"] where the I's stand for integers and the E means take out the smallest integer currently in the whole set. When finished, your program should return that new set with integers separated by commas. For example: if strArr is [\"5\",\"4\",\"6\",\"E\",\"1\",\"7\",\"E\",\"E\",\"3\",\"2\"] then your program should return 4,1,5.\n",
    "Examples\n",
    "\n",
    "Input: [\"1\",\"2\",\"E\",\"E\",\"3\"] \n",
    "Output: 1,2\n",
    "Input: [\"4\",\"E\",\"1\",\"E\",\"2\",\"E\",\"3\",\"E\"] \n",
    "Output: 4,1,2,3"
   ]
  },
  {
   "cell_type": "code",
   "execution_count": null,
   "id": "c44b06a4",
   "metadata": {},
   "outputs": [],
   "source": []
  },
  {
   "cell_type": "markdown",
   "id": "3a5c9a8f",
   "metadata": {},
   "source": [
    "## 3.Changing Sequence\n",
    "\n",
    "Have the function ChangingSequence(arr) take the array of numbers stored in arr and return the index at which the numbers stop increasing and begin decreasing or stop decreasing and begin increasing. For example: if arr is [1, 2, 4, 6, 4, 3, 1] then your program should return 3 because 6 is the last point in the array where the numbers were increasing and the next number begins a decreasing sequence. The array will contain at least 3 numbers and it July contains only a single sequence, increasing or decreasing. If there is only a single sequence in the array, then your program should return -1. Indexing should begin with 0.\n",
    "Examples\n",
    "\n",
    "Input: [-4, -2, 9, 10] \n",
    "Output: -1\n",
    "Input: [5, 4, 3, 2, 10, 11] \n",
    "Output: 3\n"
   ]
  },
  {
   "cell_type": "code",
   "execution_count": null,
   "id": "8f7a6d1b",
   "metadata": {},
   "outputs": [],
   "source": []
  },
  {
   "cell_type": "markdown",
   "id": "c12dc4e1",
   "metadata": {},
   "source": [
    "## 4.Overlapping Ranges\n",
    "\n",
    "Have the function OverlappingRanges(arr) take the array of numbers stored in arr which will contain 5 positive integers, the first two representing a range of numbers (a to b), the next 2 also representing another range of integers (c to d), and a final 5th element (x) which will also be a positive integer, and return the string true if both sets of ranges overlap by at least x numbers. For example: if arr is [4, 10, 2, 6, 3] then your program should return the string true. The first range of numbers are 4, 5, 6, 7, 8, 9, 10 and the second range of numbers are 2, 3, 4, 5, 6. The last element in the array is 3, and there are 3 numbers that overlap between both ranges: 4, 5, and 6. If both ranges do not overlap by at least x numbers, then your program should return the string false.\n",
    "Examples\n",
    "\n",
    "Input: [5,11,1,5,1] \n",
    "Output: true\n",
    "Input: [1,8,2,4,4] \n",
    "Output: false"
   ]
  },
  {
   "cell_type": "code",
   "execution_count": null,
   "id": "9d67f15a",
   "metadata": {},
   "outputs": [],
   "source": []
  },
  {
   "cell_type": "markdown",
   "id": "14a567be",
   "metadata": {},
   "source": [
    "## 5.Superincreasing\n",
    "\n",
    "Have the function Superincreasing(arr) take the array of numbers stored in arr and determine if the array forms a superincreasing sequence where each element in the array is greater than the sum of all previous elements. The array will only consist of positive integers. For example: if arr is [1, 3, 6, 13, 54] then your program should return the string \"true\" because it forms a superincreasing sequence. If a superincreasing sequence isn't formed, then your program should return the string \"false\"\n",
    "Examples\n",
    "\n",
    "Input: [1,2,3,4] \n",
    "Output: false\n",
    "Input: [1,2,5,10] \n",
    "Output: true"
   ]
  },
  {
   "cell_type": "code",
   "execution_count": null,
   "id": "28c586d7",
   "metadata": {},
   "outputs": [],
   "source": []
  },
  {
   "cell_type": "markdown",
   "id": "55a9b32f",
   "metadata": {
    "jp-MarkdownHeadingCollapsed": true,
    "tags": []
   },
   "source": [
    "### July 9"
   ]
  },
  {
   "cell_type": "markdown",
   "id": "80abbbfa",
   "metadata": {},
   "source": [
    "## 1. Hamming Distance\n",
    "\n",
    "Have the function HammingDistance(strArr) take the array of strings stored in strArr, which will only contain two strings of equal length and return the Hamming distance between them. The Hamming distance is the number of positions where the corresponding characters are different. For example: if strArr is [\"coder\", \"codec\"] then your program should return 1. The string will always be of equal length and will only contain lowercase characters from the alphabet and numbers.\n",
    "Examples\n",
    "\n",
    "Input: [\"10011\", \"10100\"] \n",
    "Output: 3\n",
    "Input: [\"helloworld\", \"worldhello\"] \n",
    "Output: 8"
   ]
  },
  {
   "cell_type": "code",
   "execution_count": null,
   "id": "bc3091b9",
   "metadata": {},
   "outputs": [],
   "source": []
  },
  {
   "cell_type": "markdown",
   "id": "51f25338",
   "metadata": {},
   "source": [
    "## 2.Rectangle Area\n",
    "\n",
    "Have the function RectangleArea(strArr) take the array of strings stored in strArr, which will only contain 4 elements and be in the form (x y) where x and y are both integers, and return the area of the rectangle formed by the 4 points on a Cartesian grid. The 4 elements will be in arbitrary order. For example: if strArr is [\"(0 0)\", \"(3 0)\", \"(0 2)\", \"(3 2)\"] then your program should return 6 because the width of the rectangle is 3 and the height is 2 and the area of a rectangle is equal to the width * height.\n",
    "Examples\n",
    "\n",
    "Input: [\"(1 1)\",\"(1 3)\",\"(3 1)\",\"(3 3)\"] \n",
    "Output: 4\n",
    "Input: [\"(0 0)\",\"(1 0)\",\"(1 1)\",\"(0 1)\"] \n",
    "Output: 1"
   ]
  },
  {
   "cell_type": "code",
   "execution_count": null,
   "id": "b24c1ce2",
   "metadata": {},
   "outputs": [],
   "source": []
  },
  {
   "cell_type": "markdown",
   "id": "9ab2b841",
   "metadata": {},
   "source": [
    "## 3.Bitwise One\n",
    "\n",
    "Have the function BitwiseOne(strArr) take the array of strings stored in strArr, which will only contain two strings of equal length that represent binary numbers, and return a final binary string that performed the bitwise OR operation on both strings. A bitwise OR operation places a 0 in the new string where there are zeroes in both binary strings, otherwise it places a 1 in that spot. For example: if strArr is [\"1001\", \"0100\"] then your program should return the string \"1101\"\n",
    "Examples\n",
    "\n",
    "Input: [\"100\", \"000\"] \n",
    "Output: 100\n",
    "Input: [\"00011\", \"01010\"] \n",
    "Output: 01011\n"
   ]
  },
  {
   "cell_type": "code",
   "execution_count": null,
   "id": "6f229da5",
   "metadata": {},
   "outputs": [],
   "source": []
  },
  {
   "cell_type": "markdown",
   "id": "784a4991",
   "metadata": {},
   "source": [
    "## 4.Other Products\n",
    "\n",
    "Have the function OtherProducts(arr) take the array of numbers stored in arr and return a new list of the products of all the other numbers in the array for each element. For example: if arr is [1, 2, 3, 4, 5] then the new array, where each location in the new array is the product of all other elements, is [120, 60, 40, 30, 24]. The following calculations were performed to get this answer: [(2*3*4*5), (1*3*4*5), (1*2*4*5), (1*2*3*5), (1*2*3*4)]. You should generate this new array and then return the numbers as a string joined by a hyphen: 120-60-40-30-24. The array will contain at most 10 elements and at least 1 element of only positive integers.\n",
    "Examples\n",
    "\n",
    "Input: [1,4,3] \n",
    "Output: 12-3-4\n",
    "Input: [3,1,2,6] \n",
    "Output: 12-36-18-6"
   ]
  },
  {
   "cell_type": "code",
   "execution_count": null,
   "id": "cdc2f614",
   "metadata": {},
   "outputs": [],
   "source": []
  },
  {
   "cell_type": "markdown",
   "id": "5aaeb6d3",
   "metadata": {},
   "source": [
    "## 5.Wave Sorting\n",
    "\n",
    "Have the function WaveSorting(arr) take the array of positive integers stored in arr and return the string true if the numbers can be arranged in a wave pattern: a1 > a2 < a3 > a4 < a5 > ..., otherwise return the string false. For example, if arr is: [0, 1, 2, 4, 1, 4], then a possible wave ordering of the numbers is: [2, 0, 4, 1, 4, 1]. So for this input your program should return the string true. The input array will always contain at least 2 elements. More examples are given below as sample test cases.\n",
    "Examples\n",
    "\n",
    "Input: [0, 1, 2, 4, 1, 1, 1] \n",
    "Output: false\n",
    "Input: [0, 4, 22, 4, 14, 4, 2] \n",
    "Output: true"
   ]
  },
  {
   "cell_type": "code",
   "execution_count": null,
   "id": "ff12d5e7",
   "metadata": {},
   "outputs": [],
   "source": []
  },
  {
   "cell_type": "markdown",
   "id": "e73851a2",
   "metadata": {
    "jp-MarkdownHeadingCollapsed": true,
    "tags": []
   },
   "source": [
    "### July 10"
   ]
  },
  {
   "cell_type": "markdown",
   "id": "62256dab",
   "metadata": {},
   "source": [
    "## 1. Array Matching\n",
    "\n",
    "Have the function ArrayMatching(strArr) read the array of strings stored in strArr which will contain only two elements, both of which will represent an array of positive integers. For example: if strArr is [\"[1, 2, 5, 6]\", \"[5, 2, 8, 11]\"], then both elements in the input represent two integer arrays, and your goal for this challenge is to add the elements in corresponding locations from both arrays. For the example input, your program should do the following additions: [(1 + 5), (2 + 2), (5 + 8), (6 + 11)] which then equals [6, 4, 13, 17]. Your program should finally return this resulting array in a string format with each element separated by a hyphen: 6-4-13-17. \n",
    "\n",
    "If the two arrays do not have the same amount of elements, then simply append the remaining elements onto the new array (example shown below). Both arrays will be in the format: [e1, e2, e3, ...] where at least one element will exist in each array.\n",
    "Examples\n",
    "\n",
    "Input: [\"[5, 2, 3]\", \"[2, 2, 3, 10, 6]\"] \n",
    "Output: 7-4-6-10-6\n",
    "Input: [\"[1, 2, 1]\", \"[2, 1, 5, 2]\"] \n",
    "Output: 3-3-6-2"
   ]
  },
  {
   "cell_type": "code",
   "execution_count": null,
   "id": "da98e4d8",
   "metadata": {},
   "outputs": [],
   "source": []
  },
  {
   "cell_type": "markdown",
   "id": "065c5ce1",
   "metadata": {},
   "source": [
    "## 2.Binary Reversal\n",
    "\n",
    "Have the function BinaryReversal(str) take the str parameter being passed, which will be a positive integer, take its binary representation (padded to the nearest N * 8 bits), reverse that string of bits, and then finally return the new reversed string in decimal form. For example: if str is \"47\" then the binary version of this integer is 101111 but we pad it to be 00101111. Your program should reverse this binary string which then becomes: 11110100 and then finally return the decimal version of this string, which is 244.\n",
    "Examples\n",
    "\n",
    "Input: \"213\" \n",
    "Output: 171\n",
    "Input: \"4567\" \n",
    "Output: 60296"
   ]
  },
  {
   "cell_type": "code",
   "execution_count": null,
   "id": "ec4ad073",
   "metadata": {},
   "outputs": [],
   "source": []
  },
  {
   "cell_type": "markdown",
   "id": "acb7fae8",
   "metadata": {},
   "source": [
    "## 3.Next Palindrome\n",
    "\n",
    "Have the function NextPalindrome(num) take the num parameter being passed and return the next largest palindromic number. The input can be any positive integer. For example: if num is 24, then your program should return 33 because that is the next largest number that is a palindrome.\n",
    "Examples\n",
    "\n",
    "Input: 2 \n",
    "Output: 3\n",
    "Input: 180 \n",
    "Output: 181\n"
   ]
  },
  {
   "cell_type": "code",
   "execution_count": null,
   "id": "180cecdf",
   "metadata": {},
   "outputs": [],
   "source": []
  },
  {
   "cell_type": "markdown",
   "id": "36a5baf4",
   "metadata": {},
   "source": [
    "## 4."
   ]
  },
  {
   "cell_type": "code",
   "execution_count": null,
   "id": "b763d46a",
   "metadata": {},
   "outputs": [],
   "source": []
  },
  {
   "cell_type": "markdown",
   "id": "0c51a64e",
   "metadata": {},
   "source": [
    "## 5."
   ]
  },
  {
   "cell_type": "code",
   "execution_count": null,
   "id": "ac5d4143",
   "metadata": {},
   "outputs": [],
   "source": []
  },
  {
   "cell_type": "markdown",
   "id": "55194ef2",
   "metadata": {
    "jp-MarkdownHeadingCollapsed": true,
    "tags": []
   },
   "source": [
    "### July 11"
   ]
  },
  {
   "cell_type": "markdown",
   "id": "54b1dd0c",
   "metadata": {},
   "source": [
    "## 1. "
   ]
  },
  {
   "cell_type": "markdown",
   "id": "83f5240f",
   "metadata": {},
   "source": [
    "Logit Regression\n",
    "\n",
    "Have the function LogitRegression(arr) read the input array of 4 numbers x, y, a, b, separated by space, and return an output of two numbers for updated a and b (assume the learning rate is 1). Save up to 3 digits after the decimal points for a and b. The output should be a string in the format: a, b\n",
    "\n",
    "Logistic regression is a simple approach to do classification, and the same formula is also commonly used as the output layer in neural networks. We assume both the input and output variables are scalars, and the logistic regression can be written as: "
   ]
  },
  {
   "cell_type": "code",
   "execution_count": 2,
   "id": "a138b8ce",
   "metadata": {},
   "outputs": [
    {
     "name": "stdout",
     "output_type": "stream",
     "text": [
      "(7.3, 6.7)\n"
     ]
    }
   ],
   "source": [
    "import numpy as np\n",
    "def LogitRegression(arr):\n",
    "    x,y,a,b=arr\n",
    "\n",
    "    pred = 1.0 / (1.0 + np.exp(-a*x - b))\n",
    "    da=(y-pred)*x\n",
    "    db=y-pred\n",
    "    learn_rate=1\n",
    "    a=round((a-learn_rate*da),3)\n",
    "    b=round((b-learn_rate*db),3)\n",
    "    return a,b\n",
    "\n",
    "# keep this function call here \n",
    "input=[2.2, 0.0, 5.1, 5.7]\n",
    "print(LogitRegression(input))"
   ]
  },
  {
   "cell_type": "code",
   "execution_count": null,
   "id": "9bed7f3f",
   "metadata": {},
   "outputs": [],
   "source": [
    "import numpy as np\n",
    "def LogitRegression(arr):\n",
    "    x,y,a,b=arr\n",
    "\n",
    "    pred = 1.0 / (1.0 + np.exp(-a*x - b))\n",
    "    error y-pred\n",
    "\n",
    "    learn_rate=1\n",
    "    a=round((a-learn_rate*error*x),3)\n",
    "    b=round((b-learn_rate*error),3)\n",
    "    return a,b\n",
    "\n",
    "# keep this function call here \n",
    "input=[2.2, 0.0, 5.1, 5.7]\n",
    "print(LogitRegression(input))"
   ]
  },
  {
   "cell_type": "markdown",
   "id": "9b029180",
   "metadata": {},
   "source": [
    "## 2."
   ]
  },
  {
   "cell_type": "markdown",
   "id": "a6c439d6",
   "metadata": {},
   "source": [
    "Number Stream\n",
    "\n",
    "Have the function NumberStream(str) take the str parameter being passed which will contain the numbers 2 through 9, and determine if there is a consecutive stream of digits of at least N length where N is the actual digit value. If so, return the string true, otherwise return the string false. For example: if str is \"6539923335\" then your program should return the string true because there is a consecutive stream of 3's of length 3. The input string will always contain at least one digit.\n"
   ]
  },
  {
   "cell_type": "code",
   "execution_count": 4,
   "id": "8ce99c9e",
   "metadata": {},
   "outputs": [
    {
     "name": "stdout",
     "output_type": "stream",
     "text": [
      "True\n"
     ]
    }
   ],
   "source": [
    "def NumberStream(strParam):\n",
    "  # loop through each character\n",
    "    for i in range(2,10):\n",
    "        if str(i) * int(i) in strParam:\n",
    "            return True\n",
    "    return False\n",
    "\n",
    "# keep this function call here \n",
    "a=\"578888888882339999\"\n",
    "print(NumberStream(a))"
   ]
  },
  {
   "cell_type": "markdown",
   "id": "472ddfe4",
   "metadata": {},
   "source": [
    "## 3."
   ]
  },
  {
   "cell_type": "markdown",
   "id": "8a40efdc",
   "metadata": {},
   "source": [
    "Moving Median\n",
    "\n",
    "Have the function MovingMedian(arr) read the array of numbers stored in arr which will contain a sliding window size, N, as the first element in the array and the rest will be a list of numbers. Your program should return the Moving Median for each element based on the element and its N-1 predecessors, where N is the sliding window size. The final output should be a string with the moving median corresponding to each entry in the original array separated by commas. \n",
    "\n",
    "Note that for the first few elements (until the window size is reached), the median is computed on a smaller number of entries. For example: if arr is [3, 1, 3, 5, 10, 6, 4, 3, 1] then your program should output \"1,2,3,5,6,6,4,3\""
   ]
  },
  {
   "cell_type": "code",
   "execution_count": 18,
   "id": "594f0c79",
   "metadata": {},
   "outputs": [
    {
     "name": "stdout",
     "output_type": "stream",
     "text": [
      "['5']\n",
      "['5', '5']\n",
      "['5', '5', '5']\n",
      "['5', '5', '5', '5']\n",
      "['5', '5', '5', '5', '5']\n",
      "['5', '5', '5', '5', '5', '6']\n",
      "['5', '5', '5', '5', '5', '6', '5']\n",
      "5,5,5,5,5,6,5\n"
     ]
    }
   ],
   "source": [
    "import numpy as np\n",
    "def MovingMedian(arr):\n",
    "\n",
    "  WindowSize = arr[0]\n",
    "  \n",
    "  Data = arr[1:]\n",
    "  N = len(Data)\n",
    "  \n",
    "  retArr = []\n",
    "\n",
    "  for i in range(N):\n",
    "    if (i < WindowSize):\n",
    "      \n",
    "      window = Data[0:i+1]\n",
    "      \n",
    "      \n",
    "    else:\n",
    "      window = Data[(i-WindowSize)+1:i+1]\n",
    "\n",
    "    window.sort()\n",
    "    retArr.append(str(round(np.median(window))))\n",
    "    print(retArr)\n",
    "\n",
    "  \n",
    "  # code goes here\n",
    "  return ','.join(retArr)\n",
    "\n",
    "# keep this function call here \n",
    "a= [9, 5, 5, -2, 8, 9, 8, -2] \n",
    "print(MovingMedian(a))"
   ]
  },
  {
   "cell_type": "markdown",
   "id": "890b916d",
   "metadata": {},
   "source": [
    "## 4."
   ]
  },
  {
   "cell_type": "code",
   "execution_count": null,
   "id": "6fdd9261",
   "metadata": {},
   "outputs": [],
   "source": []
  },
  {
   "cell_type": "markdown",
   "id": "b97595f0",
   "metadata": {},
   "source": [
    "## 5."
   ]
  },
  {
   "cell_type": "code",
   "execution_count": null,
   "id": "2286b0db",
   "metadata": {},
   "outputs": [],
   "source": []
  },
  {
   "cell_type": "markdown",
   "id": "7ade167a",
   "metadata": {
    "jp-MarkdownHeadingCollapsed": true,
    "tags": []
   },
   "source": [
    "### July 12"
   ]
  },
  {
   "cell_type": "markdown",
   "id": "d199a007",
   "metadata": {},
   "source": [
    "## 1. "
   ]
  },
  {
   "cell_type": "code",
   "execution_count": null,
   "id": "3c76163c",
   "metadata": {},
   "outputs": [],
   "source": []
  },
  {
   "cell_type": "markdown",
   "id": "91d41c44",
   "metadata": {},
   "source": [
    "## 2."
   ]
  },
  {
   "cell_type": "code",
   "execution_count": null,
   "id": "f70e02d1",
   "metadata": {},
   "outputs": [],
   "source": []
  },
  {
   "cell_type": "markdown",
   "id": "3d500d5e",
   "metadata": {},
   "source": [
    "## 3."
   ]
  },
  {
   "cell_type": "code",
   "execution_count": null,
   "id": "c37eabd6",
   "metadata": {},
   "outputs": [],
   "source": []
  },
  {
   "cell_type": "markdown",
   "id": "db095eb4",
   "metadata": {},
   "source": [
    "## 4."
   ]
  },
  {
   "cell_type": "code",
   "execution_count": null,
   "id": "72aded36",
   "metadata": {},
   "outputs": [],
   "source": []
  },
  {
   "cell_type": "markdown",
   "id": "a6d381a8",
   "metadata": {},
   "source": [
    "## 5."
   ]
  },
  {
   "cell_type": "code",
   "execution_count": null,
   "id": "39a5eb7b",
   "metadata": {},
   "outputs": [],
   "source": []
  },
  {
   "cell_type": "markdown",
   "id": "a11db423",
   "metadata": {
    "jp-MarkdownHeadingCollapsed": true,
    "tags": []
   },
   "source": [
    "### July 13"
   ]
  },
  {
   "cell_type": "markdown",
   "id": "eea84e93",
   "metadata": {},
   "source": [
    "## 1. "
   ]
  },
  {
   "cell_type": "code",
   "execution_count": null,
   "id": "7d740d25",
   "metadata": {},
   "outputs": [],
   "source": []
  },
  {
   "cell_type": "markdown",
   "id": "e581cdd7",
   "metadata": {},
   "source": [
    "## 2."
   ]
  },
  {
   "cell_type": "code",
   "execution_count": null,
   "id": "7626dd4f",
   "metadata": {},
   "outputs": [],
   "source": []
  },
  {
   "cell_type": "markdown",
   "id": "6fcfd638",
   "metadata": {},
   "source": [
    "## 3."
   ]
  },
  {
   "cell_type": "code",
   "execution_count": null,
   "id": "7c9892b9",
   "metadata": {},
   "outputs": [],
   "source": []
  },
  {
   "cell_type": "markdown",
   "id": "bba56d7d",
   "metadata": {},
   "source": [
    "## 4."
   ]
  },
  {
   "cell_type": "code",
   "execution_count": null,
   "id": "d916ecfd",
   "metadata": {},
   "outputs": [],
   "source": []
  },
  {
   "cell_type": "markdown",
   "id": "3465a194",
   "metadata": {},
   "source": [
    "## 5."
   ]
  },
  {
   "cell_type": "code",
   "execution_count": null,
   "id": "b79896df",
   "metadata": {},
   "outputs": [],
   "source": []
  },
  {
   "cell_type": "markdown",
   "id": "ecb7b4e4",
   "metadata": {
    "jp-MarkdownHeadingCollapsed": true,
    "tags": []
   },
   "source": [
    "### July 14"
   ]
  },
  {
   "cell_type": "markdown",
   "id": "adbf8559",
   "metadata": {},
   "source": [
    "## 1. "
   ]
  },
  {
   "cell_type": "code",
   "execution_count": null,
   "id": "3503fc44",
   "metadata": {},
   "outputs": [],
   "source": []
  },
  {
   "cell_type": "markdown",
   "id": "f5bd693a",
   "metadata": {},
   "source": [
    "## 2."
   ]
  },
  {
   "cell_type": "code",
   "execution_count": null,
   "id": "2b4b5054",
   "metadata": {},
   "outputs": [],
   "source": []
  },
  {
   "cell_type": "markdown",
   "id": "40c91f96",
   "metadata": {},
   "source": [
    "## 3."
   ]
  },
  {
   "cell_type": "code",
   "execution_count": null,
   "id": "6333f4e4",
   "metadata": {},
   "outputs": [],
   "source": []
  },
  {
   "cell_type": "markdown",
   "id": "c65e910d",
   "metadata": {},
   "source": [
    "## 4."
   ]
  },
  {
   "cell_type": "code",
   "execution_count": null,
   "id": "694027a3",
   "metadata": {},
   "outputs": [],
   "source": []
  },
  {
   "cell_type": "markdown",
   "id": "da5af88f",
   "metadata": {},
   "source": [
    "## 5."
   ]
  },
  {
   "cell_type": "code",
   "execution_count": null,
   "id": "e07081d3",
   "metadata": {},
   "outputs": [],
   "source": []
  },
  {
   "cell_type": "markdown",
   "id": "421c48bb",
   "metadata": {
    "jp-MarkdownHeadingCollapsed": true,
    "tags": []
   },
   "source": [
    "### July 15"
   ]
  },
  {
   "cell_type": "markdown",
   "id": "eb0c1231",
   "metadata": {},
   "source": [
    "## 1. "
   ]
  },
  {
   "cell_type": "code",
   "execution_count": null,
   "id": "177b3134",
   "metadata": {},
   "outputs": [],
   "source": []
  },
  {
   "cell_type": "markdown",
   "id": "53620c17",
   "metadata": {},
   "source": [
    "## 2."
   ]
  },
  {
   "cell_type": "code",
   "execution_count": null,
   "id": "e6d1c082",
   "metadata": {},
   "outputs": [],
   "source": []
  },
  {
   "cell_type": "markdown",
   "id": "3299e8b0",
   "metadata": {},
   "source": [
    "## 3."
   ]
  },
  {
   "cell_type": "code",
   "execution_count": null,
   "id": "66686b19",
   "metadata": {},
   "outputs": [],
   "source": []
  },
  {
   "cell_type": "markdown",
   "id": "47c9e41d",
   "metadata": {},
   "source": [
    "## 4."
   ]
  },
  {
   "cell_type": "code",
   "execution_count": null,
   "id": "5bb55ad2",
   "metadata": {},
   "outputs": [],
   "source": []
  },
  {
   "cell_type": "markdown",
   "id": "9999592c",
   "metadata": {},
   "source": [
    "## 5."
   ]
  },
  {
   "cell_type": "code",
   "execution_count": null,
   "id": "6c2d665c",
   "metadata": {},
   "outputs": [],
   "source": []
  },
  {
   "cell_type": "markdown",
   "id": "fcb0f069",
   "metadata": {
    "jp-MarkdownHeadingCollapsed": true,
    "tags": []
   },
   "source": [
    "### July 16"
   ]
  },
  {
   "cell_type": "markdown",
   "id": "ef4bc6ed",
   "metadata": {},
   "source": [
    "## 1. "
   ]
  },
  {
   "cell_type": "code",
   "execution_count": null,
   "id": "2ac94dce",
   "metadata": {},
   "outputs": [],
   "source": []
  },
  {
   "cell_type": "markdown",
   "id": "976dc165",
   "metadata": {},
   "source": [
    "## 2."
   ]
  },
  {
   "cell_type": "code",
   "execution_count": null,
   "id": "837fbae5",
   "metadata": {},
   "outputs": [],
   "source": []
  },
  {
   "cell_type": "markdown",
   "id": "24d6287e",
   "metadata": {},
   "source": [
    "## 3."
   ]
  },
  {
   "cell_type": "code",
   "execution_count": null,
   "id": "239d6e8d",
   "metadata": {},
   "outputs": [],
   "source": []
  },
  {
   "cell_type": "markdown",
   "id": "a26c152e",
   "metadata": {},
   "source": [
    "## 4."
   ]
  },
  {
   "cell_type": "code",
   "execution_count": null,
   "id": "368afc9a",
   "metadata": {},
   "outputs": [],
   "source": []
  },
  {
   "cell_type": "markdown",
   "id": "2d44abb3",
   "metadata": {},
   "source": [
    "## 5."
   ]
  },
  {
   "cell_type": "code",
   "execution_count": null,
   "id": "322ac234",
   "metadata": {},
   "outputs": [],
   "source": []
  },
  {
   "cell_type": "markdown",
   "id": "8223f208",
   "metadata": {
    "jp-MarkdownHeadingCollapsed": true,
    "tags": []
   },
   "source": [
    "### July 17"
   ]
  },
  {
   "cell_type": "markdown",
   "id": "e3d3fef7",
   "metadata": {},
   "source": [
    "## 1. "
   ]
  },
  {
   "cell_type": "code",
   "execution_count": null,
   "id": "00ab44c0",
   "metadata": {},
   "outputs": [],
   "source": []
  },
  {
   "cell_type": "markdown",
   "id": "5613e215",
   "metadata": {},
   "source": [
    "## 2."
   ]
  },
  {
   "cell_type": "code",
   "execution_count": null,
   "id": "66e76617",
   "metadata": {},
   "outputs": [],
   "source": []
  },
  {
   "cell_type": "markdown",
   "id": "b495cf20",
   "metadata": {},
   "source": [
    "## 3."
   ]
  },
  {
   "cell_type": "code",
   "execution_count": null,
   "id": "39098486",
   "metadata": {},
   "outputs": [],
   "source": []
  },
  {
   "cell_type": "markdown",
   "id": "c4b89463",
   "metadata": {},
   "source": [
    "## 4."
   ]
  },
  {
   "cell_type": "code",
   "execution_count": null,
   "id": "73c478d0",
   "metadata": {},
   "outputs": [],
   "source": []
  },
  {
   "cell_type": "markdown",
   "id": "9eb7ab82",
   "metadata": {},
   "source": [
    "## 5."
   ]
  },
  {
   "cell_type": "code",
   "execution_count": null,
   "id": "ea6251ca",
   "metadata": {},
   "outputs": [],
   "source": []
  },
  {
   "cell_type": "markdown",
   "id": "2aa5957b",
   "metadata": {
    "jp-MarkdownHeadingCollapsed": true,
    "tags": []
   },
   "source": [
    "### July 18"
   ]
  },
  {
   "cell_type": "markdown",
   "id": "0e2886e0",
   "metadata": {},
   "source": [
    "## 1. "
   ]
  },
  {
   "cell_type": "code",
   "execution_count": null,
   "id": "e1a3b418",
   "metadata": {},
   "outputs": [],
   "source": []
  },
  {
   "cell_type": "markdown",
   "id": "44ddd53f",
   "metadata": {},
   "source": [
    "## 2."
   ]
  },
  {
   "cell_type": "code",
   "execution_count": null,
   "id": "45f2c9c8",
   "metadata": {},
   "outputs": [],
   "source": []
  },
  {
   "cell_type": "markdown",
   "id": "0abe0381",
   "metadata": {},
   "source": [
    "## 3."
   ]
  },
  {
   "cell_type": "code",
   "execution_count": null,
   "id": "01624920",
   "metadata": {},
   "outputs": [],
   "source": []
  },
  {
   "cell_type": "markdown",
   "id": "7602dfff",
   "metadata": {},
   "source": [
    "## 4."
   ]
  },
  {
   "cell_type": "code",
   "execution_count": null,
   "id": "64b48dc9",
   "metadata": {},
   "outputs": [],
   "source": []
  },
  {
   "cell_type": "markdown",
   "id": "8bcf4280",
   "metadata": {},
   "source": [
    "## 5."
   ]
  },
  {
   "cell_type": "code",
   "execution_count": null,
   "id": "bff28ad8",
   "metadata": {},
   "outputs": [],
   "source": []
  },
  {
   "cell_type": "markdown",
   "id": "c9772341",
   "metadata": {
    "jp-MarkdownHeadingCollapsed": true,
    "tags": []
   },
   "source": [
    "### July 19"
   ]
  },
  {
   "cell_type": "markdown",
   "id": "cb267a8e",
   "metadata": {},
   "source": [
    "## 1. "
   ]
  },
  {
   "cell_type": "code",
   "execution_count": null,
   "id": "d7e91dfb",
   "metadata": {},
   "outputs": [],
   "source": []
  },
  {
   "cell_type": "markdown",
   "id": "c68faad1",
   "metadata": {},
   "source": [
    "## 2."
   ]
  },
  {
   "cell_type": "code",
   "execution_count": null,
   "id": "8fb0322b",
   "metadata": {},
   "outputs": [],
   "source": []
  },
  {
   "cell_type": "markdown",
   "id": "f2bff202",
   "metadata": {},
   "source": [
    "## 3."
   ]
  },
  {
   "cell_type": "code",
   "execution_count": null,
   "id": "b85083e3",
   "metadata": {},
   "outputs": [],
   "source": []
  },
  {
   "cell_type": "markdown",
   "id": "1b055b9a",
   "metadata": {},
   "source": [
    "## 4."
   ]
  },
  {
   "cell_type": "code",
   "execution_count": null,
   "id": "3e268dd3",
   "metadata": {},
   "outputs": [],
   "source": []
  },
  {
   "cell_type": "markdown",
   "id": "911cb85c",
   "metadata": {},
   "source": [
    "## 5."
   ]
  },
  {
   "cell_type": "code",
   "execution_count": null,
   "id": "ad1c2b63",
   "metadata": {},
   "outputs": [],
   "source": []
  },
  {
   "cell_type": "markdown",
   "id": "53fa2e75",
   "metadata": {
    "jp-MarkdownHeadingCollapsed": true,
    "tags": []
   },
   "source": [
    "### July 20"
   ]
  },
  {
   "cell_type": "markdown",
   "id": "97be42d2",
   "metadata": {},
   "source": [
    "## 1. "
   ]
  },
  {
   "cell_type": "code",
   "execution_count": null,
   "id": "26b834fc",
   "metadata": {},
   "outputs": [],
   "source": []
  },
  {
   "cell_type": "markdown",
   "id": "f686619b",
   "metadata": {},
   "source": [
    "## 2."
   ]
  },
  {
   "cell_type": "code",
   "execution_count": null,
   "id": "e268f550",
   "metadata": {},
   "outputs": [],
   "source": []
  },
  {
   "cell_type": "markdown",
   "id": "ba673d94",
   "metadata": {},
   "source": [
    "## 3."
   ]
  },
  {
   "cell_type": "code",
   "execution_count": null,
   "id": "fbdce0d4",
   "metadata": {},
   "outputs": [],
   "source": []
  },
  {
   "cell_type": "markdown",
   "id": "2751cdb8",
   "metadata": {},
   "source": [
    "## 4."
   ]
  },
  {
   "cell_type": "code",
   "execution_count": null,
   "id": "5ac3ce6d",
   "metadata": {},
   "outputs": [],
   "source": []
  },
  {
   "cell_type": "markdown",
   "id": "9aadfcff",
   "metadata": {},
   "source": [
    "## 5."
   ]
  },
  {
   "cell_type": "code",
   "execution_count": null,
   "id": "de543d41",
   "metadata": {},
   "outputs": [],
   "source": []
  },
  {
   "cell_type": "markdown",
   "id": "ab57ddd0",
   "metadata": {
    "jp-MarkdownHeadingCollapsed": true,
    "tags": []
   },
   "source": [
    "### July 21"
   ]
  },
  {
   "cell_type": "markdown",
   "id": "2a6499d5",
   "metadata": {},
   "source": [
    "## 1. "
   ]
  },
  {
   "cell_type": "code",
   "execution_count": null,
   "id": "17562c49",
   "metadata": {},
   "outputs": [],
   "source": []
  },
  {
   "cell_type": "markdown",
   "id": "c01c38a8",
   "metadata": {},
   "source": [
    "## 2."
   ]
  },
  {
   "cell_type": "code",
   "execution_count": null,
   "id": "8176ea74",
   "metadata": {},
   "outputs": [],
   "source": []
  },
  {
   "cell_type": "markdown",
   "id": "13f9c773",
   "metadata": {},
   "source": [
    "## 3."
   ]
  },
  {
   "cell_type": "code",
   "execution_count": null,
   "id": "18addcc4",
   "metadata": {},
   "outputs": [],
   "source": []
  },
  {
   "cell_type": "markdown",
   "id": "ed5cb555",
   "metadata": {},
   "source": [
    "## 4."
   ]
  },
  {
   "cell_type": "code",
   "execution_count": null,
   "id": "dc4c07af",
   "metadata": {},
   "outputs": [],
   "source": []
  },
  {
   "cell_type": "markdown",
   "id": "c44d4918",
   "metadata": {},
   "source": [
    "## 5."
   ]
  },
  {
   "cell_type": "code",
   "execution_count": null,
   "id": "cbcdbc63",
   "metadata": {},
   "outputs": [],
   "source": []
  },
  {
   "cell_type": "markdown",
   "id": "9a1abf18",
   "metadata": {
    "jp-MarkdownHeadingCollapsed": true,
    "tags": []
   },
   "source": [
    "### July 22"
   ]
  },
  {
   "cell_type": "markdown",
   "id": "1d2af139",
   "metadata": {},
   "source": [
    "## 1. "
   ]
  },
  {
   "cell_type": "code",
   "execution_count": null,
   "id": "1ecb2827",
   "metadata": {},
   "outputs": [],
   "source": []
  },
  {
   "cell_type": "markdown",
   "id": "cbd72dc9",
   "metadata": {},
   "source": [
    "## 2."
   ]
  },
  {
   "cell_type": "code",
   "execution_count": null,
   "id": "2473f232",
   "metadata": {},
   "outputs": [],
   "source": []
  },
  {
   "cell_type": "markdown",
   "id": "b84cf696",
   "metadata": {},
   "source": [
    "## 3."
   ]
  },
  {
   "cell_type": "code",
   "execution_count": null,
   "id": "3f7a602a",
   "metadata": {},
   "outputs": [],
   "source": []
  },
  {
   "cell_type": "markdown",
   "id": "80dae62f",
   "metadata": {},
   "source": [
    "## 4."
   ]
  },
  {
   "cell_type": "code",
   "execution_count": null,
   "id": "232e7455",
   "metadata": {},
   "outputs": [],
   "source": []
  },
  {
   "cell_type": "markdown",
   "id": "ba66c953",
   "metadata": {},
   "source": [
    "## 5."
   ]
  },
  {
   "cell_type": "code",
   "execution_count": null,
   "id": "5b12d317",
   "metadata": {},
   "outputs": [],
   "source": []
  },
  {
   "cell_type": "markdown",
   "id": "02c84d74",
   "metadata": {
    "jp-MarkdownHeadingCollapsed": true,
    "tags": []
   },
   "source": [
    "### July 23"
   ]
  },
  {
   "cell_type": "markdown",
   "id": "04ffea45",
   "metadata": {},
   "source": [
    "## 1. "
   ]
  },
  {
   "cell_type": "code",
   "execution_count": null,
   "id": "711a5bc5",
   "metadata": {},
   "outputs": [],
   "source": []
  },
  {
   "cell_type": "markdown",
   "id": "89c596c4",
   "metadata": {},
   "source": [
    "## 2."
   ]
  },
  {
   "cell_type": "code",
   "execution_count": null,
   "id": "001d8264",
   "metadata": {},
   "outputs": [],
   "source": []
  },
  {
   "cell_type": "markdown",
   "id": "268f1f10",
   "metadata": {},
   "source": [
    "## 3."
   ]
  },
  {
   "cell_type": "code",
   "execution_count": null,
   "id": "756e6769",
   "metadata": {},
   "outputs": [],
   "source": []
  },
  {
   "cell_type": "markdown",
   "id": "979f664d",
   "metadata": {},
   "source": [
    "## 4."
   ]
  },
  {
   "cell_type": "code",
   "execution_count": 17,
   "id": "bcba57ca",
   "metadata": {},
   "outputs": [],
   "source": [
    "from citipy import citipy"
   ]
  },
  {
   "cell_type": "code",
   "execution_count": 16,
   "id": "8ba6a8db",
   "metadata": {},
   "outputs": [
    {
     "name": "stdout",
     "output_type": "stream",
     "text": [
      "Defaulting to user installation because normal site-packages is not writeable\n",
      "Collecting citipy\n",
      "  Using cached citipy-0.0.5-py3-none-any.whl\n",
      "Collecting kdtree>=0.12\n",
      "  Using cached kdtree-0.16-py2.py3-none-any.whl (7.7 kB)\n",
      "Installing collected packages: kdtree, citipy\n",
      "Successfully installed citipy-0.0.5 kdtree-0.16\n"
     ]
    }
   ],
   "source": [
    "!pip install citipy"
   ]
  },
  {
   "cell_type": "markdown",
   "id": "7399369e",
   "metadata": {},
   "source": [
    "## 5."
   ]
  },
  {
   "cell_type": "code",
   "execution_count": null,
   "id": "81730ffb",
   "metadata": {},
   "outputs": [],
   "source": []
  },
  {
   "cell_type": "markdown",
   "id": "b3f8c327",
   "metadata": {
    "jp-MarkdownHeadingCollapsed": true,
    "tags": []
   },
   "source": [
    "### July 24"
   ]
  },
  {
   "cell_type": "markdown",
   "id": "ba43d63f",
   "metadata": {},
   "source": [
    "## 1. "
   ]
  },
  {
   "cell_type": "code",
   "execution_count": null,
   "id": "45fdee19",
   "metadata": {},
   "outputs": [],
   "source": []
  },
  {
   "cell_type": "markdown",
   "id": "c823f959",
   "metadata": {},
   "source": [
    "## 2."
   ]
  },
  {
   "cell_type": "code",
   "execution_count": null,
   "id": "e07087d3",
   "metadata": {},
   "outputs": [],
   "source": []
  },
  {
   "cell_type": "markdown",
   "id": "e5d2a0d8",
   "metadata": {},
   "source": [
    "## 3."
   ]
  },
  {
   "cell_type": "code",
   "execution_count": null,
   "id": "4f670bbb",
   "metadata": {},
   "outputs": [],
   "source": []
  },
  {
   "cell_type": "markdown",
   "id": "5c2da284",
   "metadata": {},
   "source": [
    "## 4."
   ]
  },
  {
   "cell_type": "code",
   "execution_count": null,
   "id": "3623f91f",
   "metadata": {},
   "outputs": [],
   "source": []
  },
  {
   "cell_type": "markdown",
   "id": "37cee73a",
   "metadata": {},
   "source": [
    "## 5."
   ]
  },
  {
   "cell_type": "code",
   "execution_count": null,
   "id": "df0d59e2",
   "metadata": {},
   "outputs": [],
   "source": []
  },
  {
   "cell_type": "markdown",
   "id": "efea5744",
   "metadata": {
    "jp-MarkdownHeadingCollapsed": true,
    "tags": []
   },
   "source": [
    "### July 25"
   ]
  },
  {
   "cell_type": "markdown",
   "id": "88818fba",
   "metadata": {},
   "source": [
    "## 1. "
   ]
  },
  {
   "cell_type": "code",
   "execution_count": null,
   "id": "4e15ca5c",
   "metadata": {},
   "outputs": [],
   "source": []
  },
  {
   "cell_type": "markdown",
   "id": "5bd78c3b",
   "metadata": {},
   "source": [
    "## 2."
   ]
  },
  {
   "cell_type": "code",
   "execution_count": null,
   "id": "96fcdb6d",
   "metadata": {},
   "outputs": [],
   "source": []
  },
  {
   "cell_type": "markdown",
   "id": "bc3a1457",
   "metadata": {},
   "source": [
    "## 3."
   ]
  },
  {
   "cell_type": "code",
   "execution_count": null,
   "id": "b54bbe4e",
   "metadata": {},
   "outputs": [],
   "source": []
  },
  {
   "cell_type": "markdown",
   "id": "64912961",
   "metadata": {},
   "source": [
    "## 4."
   ]
  },
  {
   "cell_type": "code",
   "execution_count": null,
   "id": "e1f1aebd",
   "metadata": {},
   "outputs": [],
   "source": []
  },
  {
   "cell_type": "markdown",
   "id": "808804d3",
   "metadata": {},
   "source": [
    "## 5."
   ]
  },
  {
   "cell_type": "code",
   "execution_count": null,
   "id": "7e4c9249",
   "metadata": {},
   "outputs": [],
   "source": []
  },
  {
   "cell_type": "markdown",
   "id": "9e7afcd5",
   "metadata": {
    "jp-MarkdownHeadingCollapsed": true,
    "tags": []
   },
   "source": [
    "### July 26"
   ]
  },
  {
   "cell_type": "markdown",
   "id": "2d62951d",
   "metadata": {},
   "source": [
    "## 1. "
   ]
  },
  {
   "cell_type": "code",
   "execution_count": null,
   "id": "580861cb",
   "metadata": {},
   "outputs": [],
   "source": []
  },
  {
   "cell_type": "markdown",
   "id": "b1555efa",
   "metadata": {},
   "source": [
    "## 2."
   ]
  },
  {
   "cell_type": "code",
   "execution_count": null,
   "id": "e6295902",
   "metadata": {},
   "outputs": [],
   "source": []
  },
  {
   "cell_type": "markdown",
   "id": "41ecca30",
   "metadata": {},
   "source": [
    "## 3."
   ]
  },
  {
   "cell_type": "code",
   "execution_count": null,
   "id": "8dfb7cb3",
   "metadata": {},
   "outputs": [],
   "source": []
  },
  {
   "cell_type": "markdown",
   "id": "483a5bfc",
   "metadata": {},
   "source": [
    "## 4."
   ]
  },
  {
   "cell_type": "code",
   "execution_count": null,
   "id": "caacb35d",
   "metadata": {},
   "outputs": [],
   "source": []
  },
  {
   "cell_type": "markdown",
   "id": "fb55e351",
   "metadata": {},
   "source": [
    "## 5."
   ]
  },
  {
   "cell_type": "code",
   "execution_count": null,
   "id": "1609af18",
   "metadata": {},
   "outputs": [],
   "source": []
  },
  {
   "cell_type": "markdown",
   "id": "f1acd50e",
   "metadata": {
    "jp-MarkdownHeadingCollapsed": true,
    "tags": []
   },
   "source": [
    "### July 27"
   ]
  },
  {
   "cell_type": "markdown",
   "id": "21d4a08b",
   "metadata": {},
   "source": [
    "## 1. "
   ]
  },
  {
   "cell_type": "code",
   "execution_count": null,
   "id": "6bf8cbc4",
   "metadata": {},
   "outputs": [],
   "source": []
  },
  {
   "cell_type": "markdown",
   "id": "625ceb3c",
   "metadata": {},
   "source": [
    "## 2."
   ]
  },
  {
   "cell_type": "code",
   "execution_count": null,
   "id": "d7b1b3f6",
   "metadata": {},
   "outputs": [],
   "source": []
  },
  {
   "cell_type": "markdown",
   "id": "a3df3366",
   "metadata": {},
   "source": [
    "## 3."
   ]
  },
  {
   "cell_type": "code",
   "execution_count": null,
   "id": "4501bfc5",
   "metadata": {},
   "outputs": [],
   "source": []
  },
  {
   "cell_type": "markdown",
   "id": "7f0cad37",
   "metadata": {},
   "source": [
    "## 4."
   ]
  },
  {
   "cell_type": "code",
   "execution_count": null,
   "id": "ffca7a8d",
   "metadata": {},
   "outputs": [],
   "source": []
  },
  {
   "cell_type": "markdown",
   "id": "aaa08b9d",
   "metadata": {},
   "source": [
    "## 5."
   ]
  },
  {
   "cell_type": "code",
   "execution_count": null,
   "id": "71bd8d49",
   "metadata": {},
   "outputs": [],
   "source": []
  },
  {
   "cell_type": "markdown",
   "id": "dbec44ef",
   "metadata": {
    "jp-MarkdownHeadingCollapsed": true,
    "tags": []
   },
   "source": [
    "### July 28"
   ]
  },
  {
   "cell_type": "markdown",
   "id": "ca159bb5",
   "metadata": {},
   "source": [
    "## 1. "
   ]
  },
  {
   "cell_type": "code",
   "execution_count": null,
   "id": "998cdb6a",
   "metadata": {},
   "outputs": [],
   "source": []
  },
  {
   "cell_type": "markdown",
   "id": "aa197740",
   "metadata": {},
   "source": [
    "## 2."
   ]
  },
  {
   "cell_type": "code",
   "execution_count": null,
   "id": "d1d5333f",
   "metadata": {},
   "outputs": [],
   "source": []
  },
  {
   "cell_type": "markdown",
   "id": "24b6f581",
   "metadata": {},
   "source": [
    "## 3."
   ]
  },
  {
   "cell_type": "code",
   "execution_count": null,
   "id": "cc462ef8",
   "metadata": {},
   "outputs": [],
   "source": []
  },
  {
   "cell_type": "markdown",
   "id": "0a217760",
   "metadata": {},
   "source": [
    "## 4."
   ]
  },
  {
   "cell_type": "code",
   "execution_count": null,
   "id": "0a9a387a",
   "metadata": {},
   "outputs": [],
   "source": []
  },
  {
   "cell_type": "markdown",
   "id": "808ae022",
   "metadata": {},
   "source": [
    "## 5."
   ]
  },
  {
   "cell_type": "code",
   "execution_count": null,
   "id": "9d5c496f",
   "metadata": {},
   "outputs": [],
   "source": []
  },
  {
   "cell_type": "markdown",
   "id": "e0455fd7",
   "metadata": {
    "jp-MarkdownHeadingCollapsed": true,
    "tags": []
   },
   "source": [
    "### July 29"
   ]
  },
  {
   "cell_type": "markdown",
   "id": "a73f5851",
   "metadata": {},
   "source": [
    "## 1. "
   ]
  },
  {
   "cell_type": "code",
   "execution_count": null,
   "id": "c800612b",
   "metadata": {},
   "outputs": [],
   "source": []
  },
  {
   "cell_type": "markdown",
   "id": "59fd3a3d",
   "metadata": {},
   "source": [
    "## 2."
   ]
  },
  {
   "cell_type": "code",
   "execution_count": null,
   "id": "6a09fff8",
   "metadata": {},
   "outputs": [],
   "source": []
  },
  {
   "cell_type": "markdown",
   "id": "39580929",
   "metadata": {},
   "source": [
    "## 3."
   ]
  },
  {
   "cell_type": "code",
   "execution_count": null,
   "id": "726fbf3b",
   "metadata": {},
   "outputs": [],
   "source": []
  },
  {
   "cell_type": "markdown",
   "id": "99916d1d",
   "metadata": {},
   "source": [
    "## 4."
   ]
  },
  {
   "cell_type": "code",
   "execution_count": null,
   "id": "a61646dd",
   "metadata": {},
   "outputs": [],
   "source": []
  },
  {
   "cell_type": "markdown",
   "id": "9e4e5587",
   "metadata": {},
   "source": [
    "## 5."
   ]
  },
  {
   "cell_type": "code",
   "execution_count": null,
   "id": "e647ab3b",
   "metadata": {},
   "outputs": [],
   "source": []
  },
  {
   "cell_type": "markdown",
   "id": "7a36749a",
   "metadata": {
    "jp-MarkdownHeadingCollapsed": true,
    "tags": []
   },
   "source": [
    "### July 30"
   ]
  },
  {
   "cell_type": "markdown",
   "id": "473fbd44",
   "metadata": {},
   "source": [
    "## 1. "
   ]
  },
  {
   "cell_type": "code",
   "execution_count": null,
   "id": "318d894d",
   "metadata": {},
   "outputs": [],
   "source": []
  },
  {
   "cell_type": "markdown",
   "id": "3d3cf924",
   "metadata": {},
   "source": [
    "## 2."
   ]
  },
  {
   "cell_type": "code",
   "execution_count": null,
   "id": "f04f8e33",
   "metadata": {},
   "outputs": [],
   "source": []
  },
  {
   "cell_type": "markdown",
   "id": "fbd3d9fd",
   "metadata": {},
   "source": [
    "## 3."
   ]
  },
  {
   "cell_type": "code",
   "execution_count": null,
   "id": "8857e3cc",
   "metadata": {},
   "outputs": [],
   "source": []
  },
  {
   "cell_type": "markdown",
   "id": "e675c525",
   "metadata": {},
   "source": [
    "## 4."
   ]
  },
  {
   "cell_type": "code",
   "execution_count": null,
   "id": "308737ee",
   "metadata": {},
   "outputs": [],
   "source": []
  },
  {
   "cell_type": "markdown",
   "id": "5edea9e3",
   "metadata": {},
   "source": [
    "## 5."
   ]
  },
  {
   "cell_type": "code",
   "execution_count": null,
   "id": "e944b49f",
   "metadata": {},
   "outputs": [],
   "source": []
  },
  {
   "cell_type": "markdown",
   "id": "338bc9e7",
   "metadata": {
    "jp-MarkdownHeadingCollapsed": true,
    "tags": []
   },
   "source": [
    "### July 31"
   ]
  },
  {
   "cell_type": "markdown",
   "id": "8d19749c",
   "metadata": {},
   "source": [
    "## 1. "
   ]
  },
  {
   "cell_type": "code",
   "execution_count": null,
   "id": "882ab133",
   "metadata": {},
   "outputs": [],
   "source": []
  },
  {
   "cell_type": "markdown",
   "id": "feb5f1ca",
   "metadata": {},
   "source": [
    "## 2."
   ]
  },
  {
   "cell_type": "code",
   "execution_count": null,
   "id": "43bd6cff",
   "metadata": {},
   "outputs": [],
   "source": []
  },
  {
   "cell_type": "markdown",
   "id": "8443ded3",
   "metadata": {},
   "source": [
    "## 3."
   ]
  },
  {
   "cell_type": "code",
   "execution_count": null,
   "id": "e38024e0",
   "metadata": {},
   "outputs": [],
   "source": []
  },
  {
   "cell_type": "markdown",
   "id": "a6c590ac",
   "metadata": {},
   "source": [
    "## 4."
   ]
  },
  {
   "cell_type": "code",
   "execution_count": null,
   "id": "eb366341",
   "metadata": {},
   "outputs": [],
   "source": []
  },
  {
   "cell_type": "markdown",
   "id": "f3175775",
   "metadata": {},
   "source": [
    "## 5."
   ]
  },
  {
   "cell_type": "code",
   "execution_count": null,
   "id": "064044d0",
   "metadata": {},
   "outputs": [],
   "source": []
  }
 ],
 "metadata": {
  "kernelspec": {
   "display_name": "Python 3 (ipykernel)",
   "language": "python",
   "name": "python3"
  },
  "language_info": {
   "codemirror_mode": {
    "name": "ipython",
    "version": 3
   },
   "file_extension": ".py",
   "mimetype": "text/x-python",
   "name": "python",
   "nbconvert_exporter": "python",
   "pygments_lexer": "ipython3",
   "version": "3.8.12"
  }
 },
 "nbformat": 4,
 "nbformat_minor": 5
}
