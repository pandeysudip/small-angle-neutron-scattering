{
 "cells": [
  {
   "cell_type": "code",
   "execution_count": 17,
   "id": "c4cbc7aa-7234-4913-9743-ec8b88d4136e",
   "metadata": {},
   "outputs": [
    {
     "name": "stdout",
     "output_type": "stream",
     "text": [
      "   Id        Login   Password\n",
      "0   1      JohnDoe  987340123\n",
      "1   2  AnnFranklin  187031122\n"
     ]
    }
   ],
   "source": [
    "import pandas as pd\n",
    "import numpy as np\n",
    "\n",
    "def login_table(id_name_verified, id_password):\n",
    "    \"\"\"\n",
    "    :param id_name_verified: (DataFrame) DataFrame with columns: Id, Login, Verified.   \n",
    "    :param id_password: (numpy.array) Two-dimensional NumPy array where each element\n",
    "                        is an array that contains: Id and Password\n",
    "    :returns: (None) The function should modify id_name_verified DataFrame in-place. \n",
    "              It should not return anything.\n",
    "    \"\"\"   \n",
    "    id_name_verified.drop(columns=[\"Verified\"], inplace=True)\n",
    "    id_pass=pd.DataFrame(id_password, columns=[\"Id\", \"Password\"])\n",
    "    id_name_verified.insert(2, \"Password\", id_pass.Password)\n",
    "    \n",
    "\n",
    "id_name_verified = pd.DataFrame([[1, \"JohnDoe\", True], [2, \"AnnFranklin\", False]], columns=[\"Id\", \"Login\", \"Verified\"])\n",
    "id_password = np.array([[1, 987340123], [2, 187031122]], np.int32)\n",
    "\n",
    "login_table(id_name_verified, id_password)\n",
    "print(id_name_verified)"
   ]
  },
  {
   "cell_type": "code",
   "execution_count": 2,
   "id": "c5671d7c-a62d-4389-a81a-0e65a1a482c1",
   "metadata": {},
   "outputs": [],
   "source": [
    "id_name_verified = pd.DataFrame([[1, \"JohnDoe\", True], [2, \"AnnFranklin\", False]], columns=[\"Id\", \"Login\", \"Verified\"])"
   ]
  },
  {
   "cell_type": "code",
   "execution_count": 5,
   "id": "e47a8d89-f9d6-4885-866a-b406612fefdf",
   "metadata": {},
   "outputs": [
    {
     "data": {
      "text/html": [
       "<div>\n",
       "<style scoped>\n",
       "    .dataframe tbody tr th:only-of-type {\n",
       "        vertical-align: middle;\n",
       "    }\n",
       "\n",
       "    .dataframe tbody tr th {\n",
       "        vertical-align: top;\n",
       "    }\n",
       "\n",
       "    .dataframe thead th {\n",
       "        text-align: right;\n",
       "    }\n",
       "</style>\n",
       "<table border=\"1\" class=\"dataframe\">\n",
       "  <thead>\n",
       "    <tr style=\"text-align: right;\">\n",
       "      <th></th>\n",
       "      <th>Id</th>\n",
       "      <th>Login</th>\n",
       "    </tr>\n",
       "  </thead>\n",
       "  <tbody>\n",
       "    <tr>\n",
       "      <th>0</th>\n",
       "      <td>1</td>\n",
       "      <td>JohnDoe</td>\n",
       "    </tr>\n",
       "    <tr>\n",
       "      <th>1</th>\n",
       "      <td>2</td>\n",
       "      <td>AnnFranklin</td>\n",
       "    </tr>\n",
       "  </tbody>\n",
       "</table>\n",
       "</div>"
      ],
      "text/plain": [
       "   Id        Login\n",
       "0   1      JohnDoe\n",
       "1   2  AnnFranklin"
      ]
     },
     "execution_count": 5,
     "metadata": {},
     "output_type": "execute_result"
    }
   ],
   "source": [
    "id_name_verified"
   ]
  },
  {
   "cell_type": "code",
   "execution_count": 4,
   "id": "633833de-a181-4724-845f-20b3ecfda625",
   "metadata": {},
   "outputs": [],
   "source": [
    "id_name_verified.drop(columns=[\"Verified\"], inplace=True)"
   ]
  },
  {
   "cell_type": "code",
   "execution_count": 7,
   "id": "8c09305e-6254-4ebc-9a76-a6576664cc97",
   "metadata": {},
   "outputs": [
    {
     "data": {
      "text/html": [
       "<div>\n",
       "<style scoped>\n",
       "    .dataframe tbody tr th:only-of-type {\n",
       "        vertical-align: middle;\n",
       "    }\n",
       "\n",
       "    .dataframe tbody tr th {\n",
       "        vertical-align: top;\n",
       "    }\n",
       "\n",
       "    .dataframe thead th {\n",
       "        text-align: right;\n",
       "    }\n",
       "</style>\n",
       "<table border=\"1\" class=\"dataframe\">\n",
       "  <thead>\n",
       "    <tr style=\"text-align: right;\">\n",
       "      <th></th>\n",
       "      <th>Id</th>\n",
       "      <th>Password</th>\n",
       "    </tr>\n",
       "  </thead>\n",
       "  <tbody>\n",
       "    <tr>\n",
       "      <th>0</th>\n",
       "      <td>1</td>\n",
       "      <td>987340123</td>\n",
       "    </tr>\n",
       "    <tr>\n",
       "      <th>1</th>\n",
       "      <td>2</td>\n",
       "      <td>187031122</td>\n",
       "    </tr>\n",
       "  </tbody>\n",
       "</table>\n",
       "</div>"
      ],
      "text/plain": [
       "   Id   Password\n",
       "0   1  987340123\n",
       "1   2  187031122"
      ]
     },
     "execution_count": 7,
     "metadata": {},
     "output_type": "execute_result"
    }
   ],
   "source": [
    "id_password = np.array([[1, 987340123], [2, 187031122]], np.int32)\n",
    "\n",
    "id_pass=pd.DataFrame(id_password, columns=[\"Id\", \"Password\"])\n",
    "id_pass"
   ]
  },
  {
   "cell_type": "code",
   "execution_count": 8,
   "id": "ade3be2c-ea07-4308-ab35-8ef4c33e4182",
   "metadata": {},
   "outputs": [
    {
     "data": {
      "text/html": [
       "<div>\n",
       "<style scoped>\n",
       "    .dataframe tbody tr th:only-of-type {\n",
       "        vertical-align: middle;\n",
       "    }\n",
       "\n",
       "    .dataframe tbody tr th {\n",
       "        vertical-align: top;\n",
       "    }\n",
       "\n",
       "    .dataframe thead th {\n",
       "        text-align: right;\n",
       "    }\n",
       "</style>\n",
       "<table border=\"1\" class=\"dataframe\">\n",
       "  <thead>\n",
       "    <tr style=\"text-align: right;\">\n",
       "      <th></th>\n",
       "      <th>Id</th>\n",
       "      <th>Login</th>\n",
       "      <th>Password</th>\n",
       "    </tr>\n",
       "  </thead>\n",
       "  <tbody>\n",
       "    <tr>\n",
       "      <th>0</th>\n",
       "      <td>1</td>\n",
       "      <td>JohnDoe</td>\n",
       "      <td>987340123</td>\n",
       "    </tr>\n",
       "    <tr>\n",
       "      <th>1</th>\n",
       "      <td>2</td>\n",
       "      <td>AnnFranklin</td>\n",
       "      <td>187031122</td>\n",
       "    </tr>\n",
       "  </tbody>\n",
       "</table>\n",
       "</div>"
      ],
      "text/plain": [
       "   Id        Login   Password\n",
       "0   1      JohnDoe  987340123\n",
       "1   2  AnnFranklin  187031122"
      ]
     },
     "execution_count": 8,
     "metadata": {},
     "output_type": "execute_result"
    }
   ],
   "source": [
    "pd.merge(id_name_verified, id_pass, how=\"inner\", on=\"Id\")"
   ]
  },
  {
   "cell_type": "code",
   "execution_count": 18,
   "id": "49cb71db-c32d-4ae2-8c0a-ed8eab4c6c52",
   "metadata": {},
   "outputs": [],
   "source": [
    "students = [(\"Allen Anderson\", \"Computer Science\"),\n",
    "            (\"Edgar Einstein\", \"Engineering\"),\n",
    "            (\"Farrah Finn\", \"Fine Arts\")]\n",
    "     \n",
    "def add_new_student(students, name, major):\n",
    "    students.append((name, major))\n",
    "\n",
    "def update_student(students, index, name, major):\n",
    "    students[index] = (name, major)\n",
    "\n",
    "def find_students_by_name(students, name):\n",
    "    return [student for student in students if name in student[0]]\n",
    "\n",
    "def get_all_majors(students):\n",
    "    return [student[1] for student in students]"
   ]
  },
  {
   "cell_type": "code",
   "execution_count": 20,
   "id": "91edb0bf-4c9d-49a0-b007-c40737afaef4",
   "metadata": {},
   "outputs": [
    {
     "data": {
      "text/plain": [
       "[('Allen Anderson', 'Computer Science')]"
      ]
     },
     "execution_count": 20,
     "metadata": {},
     "output_type": "execute_result"
    }
   ],
   "source": [
    "find_students_by_name(students, \"Allen Anderson\")"
   ]
  },
  {
   "cell_type": "code",
   "execution_count": 21,
   "id": "e3775175-6ef9-4018-be38-1aeb6c292382",
   "metadata": {},
   "outputs": [
    {
     "name": "stdout",
     "output_type": "stream",
     "text": [
      "(-4.0, -16.0)\n"
     ]
    }
   ],
   "source": [
    "def find_roots(a, b, c):\n",
    "    x=b**2-4*a*c\n",
    "    return (-b+(x**(1/2)))/2*a, (-b-(x**(1/2)))/2*a\n",
    "\n",
    "\n",
    "print(find_roots(2, 10, 8));"
   ]
  },
  {
   "cell_type": "code",
   "execution_count": 25,
   "id": "8bb17eb8-798c-400d-b3a6-fb4a9ef605b5",
   "metadata": {},
   "outputs": [
    {
     "name": "stdout",
     "output_type": "stream",
     "text": [
      "(-4.0, -4.0)\n"
     ]
    }
   ],
   "source": [
    "import math\n",
    "def find_roots(a, b, c):\n",
    "    x=(b**2) - (4 * a*c)\n",
    "    return (-b+math.sqrt(x))/2*a, (-b-math.sqrt(x))/(2*a)\n",
    "\n",
    "\n",
    "print(find_roots(2, 10, 8));"
   ]
  },
  {
   "cell_type": "code",
   "execution_count": 23,
   "id": "da4934ee-ebd2-48d7-8900-1a418ace87b2",
   "metadata": {},
   "outputs": [
    {
     "name": "stdout",
     "output_type": "stream",
     "text": [
      "The roots are\n",
      "(-4+0j)\n",
      "(-1+0j)\n"
     ]
    }
   ],
   "source": [
    "import cmath\n",
    "  \n",
    "a = 2\n",
    "b = 10\n",
    "c = 8\n",
    "  \n",
    "# calculating  the discriminant\n",
    "dis = (b**2) - (4 * a*c)\n",
    "  \n",
    "# find two results\n",
    "ans1 = (-b-cmath.sqrt(dis))/(2 * a)\n",
    "ans2 = (-b + cmath.sqrt(dis))/(2 * a)\n",
    "  \n",
    "# printing the results\n",
    "print('The roots are')\n",
    "print(ans1)\n",
    "print(ans2)"
   ]
  },
  {
   "cell_type": "code",
   "execution_count": null,
   "id": "b78952a0-2678-4e10-82b4-52131e206821",
   "metadata": {},
   "outputs": [],
   "source": []
  }
 ],
 "metadata": {
  "kernelspec": {
   "display_name": "Python 3 (ipykernel)",
   "language": "python",
   "name": "python3"
  },
  "language_info": {
   "codemirror_mode": {
    "name": "ipython",
    "version": 3
   },
   "file_extension": ".py",
   "mimetype": "text/x-python",
   "name": "python",
   "nbconvert_exporter": "python",
   "pygments_lexer": "ipython3",
   "version": "3.8.12"
  }
 },
 "nbformat": 4,
 "nbformat_minor": 5
}
