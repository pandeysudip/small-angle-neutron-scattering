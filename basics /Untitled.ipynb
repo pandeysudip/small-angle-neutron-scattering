{
 "cells": [
  {
   "cell_type": "code",
   "execution_count": null,
   "id": "dcc980b9",
   "metadata": {},
   "outputs": [],
   "source": [
    "def sorte(arr):\n",
    "    new_arr=[]\n",
    "    while arr:\n",
    "        minumum=arr[0]\n",
    "        for i in arr:\n",
    "            if i< arr[0]:\n",
    "                minumum=i\n",
    "        new_arr.append(minumun)\n",
    "        arr.remove(minimum)\n",
    "            \n",
    "            "
   ]
  },
  {
   "cell_type": "code",
   "execution_count": 3,
   "id": "1a7cad10",
   "metadata": {},
   "outputs": [
    {
     "name": "stdout",
     "output_type": "stream",
     "text": [
      "['Math', 'Physics', 'history']\n",
      "[65, 75, 82]\n"
     ]
    }
   ],
   "source": [
    "sampleDict = {\n",
    "  'Physics': 82,\n",
    "  'Math': 65,\n",
    "  'history': 75\n",
    "}\n",
    "\n",
    "print (sorted(sampleDict))\n",
    "sort=(sorted(sampleDict.values()))\n",
    "print(sort)\n",
    "\n"
   ]
  },
  {
   "cell_type": "code",
   "execution_count": null,
   "id": "b95110b7",
   "metadata": {},
   "outputs": [],
   "source": [
    "{k:num_list.count(k) for k in num_list}"
   ]
  },
  {
   "cell_type": "code",
   "execution_count": null,
   "id": "92bed77b",
   "metadata": {},
   "outputs": [],
   "source": [
    "numb=numb//10"
   ]
  }
 ],
 "metadata": {
  "kernelspec": {
   "display_name": "Python 3 (ipykernel)",
   "language": "python",
   "name": "python3"
  },
  "language_info": {
   "codemirror_mode": {
    "name": "ipython",
    "version": 3
   },
   "file_extension": ".py",
   "mimetype": "text/x-python",
   "name": "python",
   "nbconvert_exporter": "python",
   "pygments_lexer": "ipython3",
   "version": "3.8.10"
  }
 },
 "nbformat": 4,
 "nbformat_minor": 5
}
