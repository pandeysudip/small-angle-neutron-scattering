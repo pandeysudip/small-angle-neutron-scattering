{
 "cells": [
  {
   "cell_type": "markdown",
   "id": "a57d9c9f",
   "metadata": {},
   "source": [
    "## Programming puzzels\n",
    "2 questions per day"
   ]
  },
  {
   "cell_type": "markdown",
   "id": "298ba9a6",
   "metadata": {},
   "source": [
    "1. Write a Python program find a list of integers with exactly two occurrences of nineteen and at least three occurrences of five. Go to the editor\n",
    "Input:\n",
    "[19, 19, 15, 5, 3, 5, 5, 2]\n",
    "Output:\n",
    "True\n",
    "Input:\n",
    "[19, 15, 15, 5, 3, 3, 5, 2]\n",
    "Output:\n",
    "False\n",
    "Input:\n",
    "[19, 19, 5, 5, 5, 5, 5]\n",
    "Output:\n",
    "True\n"
   ]
  },
  {
   "cell_type": "code",
   "execution_count": 14,
   "id": "0777a3b4",
   "metadata": {},
   "outputs": [],
   "source": [
    "def count1(listofnumber):\n",
    "    return listofnumber.count(19)==2 and  listofnumber.count(5)==3\n",
    "    "
   ]
  },
  {
   "cell_type": "code",
   "execution_count": 15,
   "id": "fea449ed",
   "metadata": {},
   "outputs": [
    {
     "data": {
      "text/plain": [
       "True"
      ]
     },
     "execution_count": 15,
     "metadata": {},
     "output_type": "execute_result"
    }
   ],
   "source": [
    "listofnumber=[19,19, 15, 5, 3, 5, 5, 2]\n",
    "count1(listofnumber)"
   ]
  },
  {
   "cell_type": "markdown",
   "id": "11489585",
   "metadata": {},
   "source": [
    "2. Write a Python program that accept a list of integers and check the length and the fifth element. Return true if the length of the list is 8 and fifth element occurs thrice in the said list. Go to the editor\n",
    "Input:\n",
    "[19, 19, 15, 5, 5, 5, 1, 2]\n",
    "Output:\n",
    "True\n",
    "Input:\n",
    "[19, 15, 5, 7, 5, 5, 2]\n",
    "Output:\n",
    "False\n",
    "Input:\n",
    "[11, 12, 14, 13, 14, 13, 15, 14]\n",
    "Output:\n",
    "True\n",
    "Input:\n",
    "[19, 15, 11, 7, 5, 6, 2]\n",
    "Output:\n",
    "False\n"
   ]
  },
  {
   "cell_type": "code",
   "execution_count": 16,
   "id": "c07036f4",
   "metadata": {},
   "outputs": [],
   "source": [
    "def count1(listofnumber):\n",
    "    return len(listofnumber)==8 and  listofnumber.count(listofnumber[4])==3"
   ]
  },
  {
   "cell_type": "markdown",
   "id": "efef4a18",
   "metadata": {},
   "source": [
    "3. Write a Python program that accept an integer test whether an integer greater than 4^4 and which is 4 mod 34.\n",
    "Input:\n",
    "922\n",
    "Output:\n",
    "True\n",
    "Input:\n",
    "914\n",
    "Output:\n",
    "False\n",
    "Input:\n",
    "854\n",
    "Output:\n",
    "True\n",
    "Input:\n",
    "854\n",
    "Output:\n",
    "True"
   ]
  },
  {
   "cell_type": "code",
   "execution_count": null,
   "id": "20c6c69a",
   "metadata": {},
   "outputs": [],
   "source": [
    "def test(n):\n",
    "    return n > 4**4 and n%34 ==4"
   ]
  },
  {
   "cell_type": "markdown",
   "id": "43544b39",
   "metadata": {},
   "source": [
    "4. We are making n stone piles! The first pile has n stones. If n is even, then all piles have an even number of stones. If n is odd, all piles have an odd number of stones. Each pile must more stones than the previous pile but as few as possible. Write a Python program to find the number of stones in each pile. Go to the editor\n",
    "Input: 2\n",
    "Output:\n",
    "[2, 4]\n",
    "Input: 10\n",
    "Output:\n",
    "[10, 12, 14, 16, 18, 20, 22, 24, 26, 28]\n",
    "Input: 3\n",
    "Output:\n",
    "[3, 5, 7]\n",
    "Input: 17\n",
    "Output:\n",
    "[17, 19, 21, 23, 25, 27, 29, 31, 33, 35, 37, 39, 41, 43, 45, 47, 49]"
   ]
  },
  {
   "cell_type": "code",
   "execution_count": 7,
   "id": "9307c46c",
   "metadata": {},
   "outputs": [],
   "source": [
    "def piles(n):\n",
    "    return [n+2*i for i in range(n)]"
   ]
  },
  {
   "cell_type": "code",
   "execution_count": 9,
   "id": "c8d4280e",
   "metadata": {},
   "outputs": [
    {
     "data": {
      "text/plain": [
       "[4, 6, 8, 10]"
      ]
     },
     "execution_count": 9,
     "metadata": {},
     "output_type": "execute_result"
    }
   ],
   "source": [
    "piles(4)"
   ]
  },
  {
   "cell_type": "markdown",
   "id": "1c9af47f",
   "metadata": {},
   "source": [
    "5. Write a Python program to check the nth-1 string is a proper substring of nth string in a given list of strings. Go to the editor\n",
    "Input:\n",
    "['a', 'abb', 'sfs', 'oo', 'de', 'sfde']\n",
    "Output:\n",
    "True\n",
    "Input:\n",
    "['a', 'abb', 'sfs', 'oo', 'ee', 'sfde']\n",
    "Output:\n",
    "False\n",
    "Input:\n",
    "['a', 'abb', 'sad', 'ooaaesdfe', 'sfsdfde', 'sfsd', 'sfsdf', 'qwrew']\n",
    "Output:\n",
    "False\n",
    "Input:\n",
    "['a', 'abb', 'sad', 'ooaaesdfe', 'sfsdfde', 'sfsd', 'sfsdf', 'qwsfsdfrew']\n",
    "Output:\n",
    "True"
   ]
  },
  {
   "cell_type": "code",
   "execution_count": 21,
   "id": "e4fb06df",
   "metadata": {},
   "outputs": [],
   "source": [
    "def check(string):\n",
    "    return string[-2] in string[-1]"
   ]
  },
  {
   "cell_type": "code",
   "execution_count": 22,
   "id": "834c5f83",
   "metadata": {},
   "outputs": [
    {
     "data": {
      "text/plain": [
       "True"
      ]
     },
     "execution_count": 22,
     "metadata": {},
     "output_type": "execute_result"
    }
   ],
   "source": [
    "string=['a', 'abb', 'sfs', 'oo', 'de', 'sfde']\n",
    "check(string)"
   ]
  },
  {
   "cell_type": "markdown",
   "id": "d7d34075",
   "metadata": {},
   "source": [
    "6. Write a Python program to test a list of one hundred integers between 0 and 999, which all differ by ten from one another. Return true or false. Go to the editor\n",
    "Input:\n",
    "[0, 10, 20, 30, 40, 50, 60, 70, 80, 90, 100, 110, 120, 130, 140, 150, 160, 170, 180, 190, 200, 210, 220, 230, 240, 250, 260, 270, 280, 290, 300, 310, 320, 330, 340, 350, 360, 370, 380, 390, 400, 410, 420, 430, 440, 450, 460, 470, 480, 490, 500, 510, 520, 530, 540, 550, 560, 570, 580, 590, 600, 610, 620, 630, 640, 650, 660, 670, 680, 690, 700, 710, 720, 730, 740, 750, 760, 770, 780, 790, 800, 810, 820, 830, 840, 850, 860, 870, 880, 890, 900, 910, 920, 930, 940, 950, 960, 970, 980, 990]\n",
    "Output:\n",
    "True\n",
    "Input:\n",
    "[0, 20, 40, 60, 80, 100, 120, 140, 160, 180, 200, 220, 240, 260, 280, 300, 320, 340, 360, 380, 400, 420, 440, 460, 480, 500, 520, 540, 560, 580, 600, 620, 640, 660, 680, 700, 720, 740, 760, 780, 800, 820, 840, 860, 880, 900, 920, 940, 960, 980]\n",
    "Output:\n",
    "False"
   ]
  },
  {
   "cell_type": "code",
   "execution_count": 25,
   "id": "2b5e55e3",
   "metadata": {},
   "outputs": [],
   "source": [
    "def test(num):\n",
    "    if len(num)<1000:\n",
    "        for i in range(len(num)):\n",
    "            return num[i+1]-num[i]==10"
   ]
  },
  {
   "cell_type": "code",
   "execution_count": 27,
   "id": "db109730",
   "metadata": {},
   "outputs": [
    {
     "data": {
      "text/plain": [
       "True"
      ]
     },
     "execution_count": 27,
     "metadata": {},
     "output_type": "execute_result"
    }
   ],
   "source": [
    "num=[0, 10, 20, 30, 40, 50, 60, 70, 80, 90, 100, 110, 120, 130, 140, 150, 160, 170, 180, 190, 200, 210, 220, 230, 240, 250, 260, 270, 280, 290, 300, 310, 320, 330, 340, 350, 360, 370, 380, 390, 400, 410, 420, 430, 440, 450, 460, 470, 480, 490, 500, 510, 520, 530, 540, 550, 560, 570, 580, 590, 600, 610, 620, 630, 640, 650, 660, 670, 680, 690, 700, 710, 720, 730, 740, 750, 760, 770, 780, 790, 800, 810, 820, 830, 840, 850, 860, 870, 880, 890, 900, 910, 920, 930, 940, 950, 960, 970, 980, 990]\n",
    "test(num)"
   ]
  },
  {
   "cell_type": "markdown",
   "id": "c53f8a40",
   "metadata": {},
   "source": [
    "7. Write a Python program to check a given list of integers where the sum of the first i integers is i. Go to the editor\n",
    "Input:\n",
    "[0, 1, 2, 3, 4, 5]\n",
    "Output:\n",
    "False\n",
    "Input:\n",
    "[1, 1, 1, 1, 1, 1]\n",
    "Output:\n",
    "True\n",
    "Input:\n",
    "[2, 2, 2, 2, 2]\n",
    "Output:\n",
    "False"
   ]
  },
  {
   "cell_type": "code",
   "execution_count": 1,
   "id": "84312fe1",
   "metadata": {},
   "outputs": [],
   "source": [
    "def sumint(num):\n",
    "    return all([sum(nums[:i]) == i for i in range(len(nums))])\n"
   ]
  },
  {
   "cell_type": "markdown",
   "id": "3ef87bd0",
   "metadata": {},
   "source": [
    "8. Write a Python program to split a string of words separated by commas and spaces into two lists, words and separators. Go to the editor\n",
    "Input: W3resource Python, Exercises.\n",
    "Output:\n",
    "[['W3resource', 'Python', 'Exercises.'], [' ', ', ']]\n",
    "Input: The dance, held in the school gym, ended at midnight.\n",
    "Output:\n",
    "[['The', 'dance', 'held', 'in', 'the', 'school', 'gym', 'ended', 'at', 'midnight.'], [' ', ', ', ' ', ' ', ' ', ' ', ', ', ' ', ' ']]\n",
    "Input: The colors in my studyroom are blue, green, and yellow.\n",
    "Output:\n",
    "[['The', 'colors', 'in', 'my', 'studyroom', 'are', 'blue', 'green', 'and', 'yellow.'], [' ', ' ', ' ', ' ', ' ', ' ', ', ', ', ', ' ']]"
   ]
  },
  {
   "cell_type": "code",
   "execution_count": null,
   "id": "911e9dd3",
   "metadata": {},
   "outputs": [],
   "source": [
    "def split(string):\n",
    "    import re\n",
    "    merged = re.split(r\"([ ,]+)\", string)\n",
    "    return [merged[::2], merged[1::2]]"
   ]
  },
  {
   "cell_type": "markdown",
   "id": "e379f8f6",
   "metadata": {},
   "source": [
    "9. Write a Python program to find list integers containing exactly four distinct values, such that no integer repeats twice consecutively among the first twenty entries. Go to the editor\n",
    "Input:\n",
    "[1, 2, 3, 4, 1, 2, 3, 4, 1, 2, 3, 4, 1, 2, 3, 4]\n",
    "Output:\n",
    "True\n",
    "Input:\n",
    "[1, 2, 3, 3, 1, 2, 3, 3, 1, 2, 3, 3, 1, 2, 3, 3]\n",
    "Output:\n",
    "False\n",
    "Input:\n",
    "[1, 2, 3, 1, 2, 3, 1, 2, 3, 1, 2, 3, 1, 2, 3]\n",
    "Output:\n",
    "False"
   ]
  },
  {
   "cell_type": "code",
   "execution_count": 16,
   "id": "fbc30651",
   "metadata": {},
   "outputs": [
    {
     "data": {
      "text/plain": [
       "['The',\n",
       " 'colors',\n",
       " 'in',\n",
       " 'my',\n",
       " 'studyroom',\n",
       " 'are',\n",
       " 'blue',\n",
       " 'green',\n",
       " 'and',\n",
       " 'yellow.']"
      ]
     },
     "execution_count": 16,
     "metadata": {},
     "output_type": "execute_result"
    }
   ],
   "source": [
    "import re\n",
    "string=\"The colors in my studyroom are blue, green, and yellow.\"\n",
    "merged = re.split(r\"([ ,]+)\", string)\n",
    "merged[::2]"
   ]
  },
  {
   "cell_type": "markdown",
   "id": "29171ec3",
   "metadata": {},
   "source": [
    "10. Given a string consisting of whitespace and groups of matched parentheses, write a Python program to split it into groups of perfectly matched parentheses without any whitespace. Go to the editor\n",
    "Input: \n",
    "( ()) ((()()())) (()) ()\n",
    "Output:\n",
    "['(())', '((()()()))', '(())', '()']\n",
    "Input: \n",
    "() (( ( )() ( )) ) ( ())\n",
    "Output:\n",
    "['()', '((()()()))', '(())']"
   ]
  },
  {
   "cell_type": "code",
   "execution_count": null,
   "id": "4b898111",
   "metadata": {},
   "outputs": [],
   "source": [
    "def test(combined):\n",
    "    s2=\"\"\n",
    "    for s in combined.replace(\" \", \"\"):\n",
    "        s2+=s\n",
    "    if s2.count('(')==s2.count(')'):\n",
    "        return True\n",
    "    return False\n"
   ]
  },
  {
   "cell_type": "code",
   "execution_count": 9,
   "id": "ffbaf8b5",
   "metadata": {},
   "outputs": [
    {
     "name": "stdout",
     "output_type": "stream",
     "text": [
      "(\n",
      "((\n",
      "(()\n",
      "(())\n",
      "(\n",
      "((\n",
      "(((\n",
      "((()\n",
      "((()(\n",
      "((()()\n",
      "((()()(\n",
      "((()()()\n",
      "((()()())\n",
      "((()()()))\n",
      "(\n",
      "((\n",
      "(()\n",
      "(())\n",
      "(\n",
      "()\n"
     ]
    },
    {
     "data": {
      "text/plain": [
       "['(())', '((()()()))', '(())', '()']"
      ]
     },
     "execution_count": 9,
     "metadata": {},
     "output_type": "execute_result"
    }
   ],
   "source": [
    "def test(combined):\n",
    "    ls = []\n",
    "    s2 = \"\"\n",
    "    for s in combined.replace(' ', ''):\n",
    "        s2 += s\n",
    "        print (s2)\n",
    "        if s2.count(\"(\") == s2.count(\")\"):\n",
    "            ls.append(s2)\n",
    "            s2 = \"\"\n",
    "    return ls\n",
    "combined=\"( ()) ((()()())) (()) ()\"\n",
    "test(combined)"
   ]
  },
  {
   "cell_type": "markdown",
   "id": "2f87f96e",
   "metadata": {},
   "source": [
    "11. Write a Python program to find the indexes of numbers of a given list below a given threshold. Go to the editor\n",
    "Input:\n",
    "[(100,(0, 12, 45, 3, 4923, 322, 105, 29, 15, 39, 55))]\n",
    "Output:\n",
    "[0, 1, 2, 3, 7, 8, 9, 10]\n",
    "Input:\n",
    "[(10,(0, 12, 4, 3, 49, 9, 1, 5, 3))]\n",
    "Output:\n",
    "[0, 2, 3, 5, 6, 7, 8]"
   ]
  },
  {
   "cell_type": "code",
   "execution_count": 20,
   "id": "8156981a",
   "metadata": {},
   "outputs": [
    {
     "data": {
      "text/plain": [
       "[0, 1, 2, 3, 7, 8, 9, 10]"
      ]
     },
     "execution_count": 20,
     "metadata": {},
     "output_type": "execute_result"
    }
   ],
   "source": [
    "def indixes(thres, num):\n",
    "    return [i for i, n in enumerate(nums) if n<=thres]\n",
    "    \n",
    "nums=[0, 12, 45, 3, 4923, 322, 105, 29, 15, 39, 55]\n",
    "indixes(100, nums)\n",
    "    "
   ]
  },
  {
   "cell_type": "code",
   "execution_count": null,
   "id": "6c3131ac",
   "metadata": {},
   "outputs": [],
   "source": []
  },
  {
   "cell_type": "markdown",
   "id": "7308f640",
   "metadata": {},
   "source": [
    "12. Write a Python program to check whether the given strings are palindromes or not. Return True, False. Go to the editor\n",
    "Input:\n",
    "['palindrome', 'madamimadam', '', 'foo', 'eyes']\n",
    "Output:\n",
    "[False, True, True, False, False]"
   ]
  },
  {
   "cell_type": "code",
   "execution_count": 1,
   "id": "9c85dfa3",
   "metadata": {},
   "outputs": [],
   "source": [
    "def palindrome(nums):\n",
    "    return [x==x[::-1] for x in nums ]"
   ]
  },
  {
   "cell_type": "code",
   "execution_count": 2,
   "id": "78010fa6",
   "metadata": {},
   "outputs": [
    {
     "data": {
      "text/plain": [
       "[False, True, True, False, False]"
      ]
     },
     "execution_count": 2,
     "metadata": {},
     "output_type": "execute_result"
    }
   ],
   "source": [
    "nums=['palindrome', 'madamimadam', '', 'foo', 'eyes']\n",
    "palindrome(nums)"
   ]
  },
  {
   "cell_type": "markdown",
   "id": "7147f72c",
   "metadata": {},
   "source": [
    "13. Write a Python program to find the strings in a given list, starting with a given prefix. Go to the editor\n",
    "Input:\n",
    "[( ca,('cat', 'car', 'fear', 'center'))]\n",
    "Output:\n",
    "['cat', 'car']\n",
    "Input:\n",
    "[(do,('cat', 'dog', 'shatter', 'donut', 'at', 'todo'))]\n",
    "Output:\n",
    "['dog', 'donut']"
   ]
  },
  {
   "cell_type": "code",
   "execution_count": 8,
   "id": "db633db3",
   "metadata": {},
   "outputs": [],
   "source": [
    "def string(x, nums):\n",
    "    return [i for i in nums if i.startswith(x) ]"
   ]
  },
  {
   "cell_type": "code",
   "execution_count": 9,
   "id": "9f23f61e",
   "metadata": {},
   "outputs": [
    {
     "data": {
      "text/plain": [
       "['cat', 'car']"
      ]
     },
     "execution_count": 9,
     "metadata": {},
     "output_type": "execute_result"
    }
   ],
   "source": [
    "nums=['cat', 'car', 'fear', 'center']\n",
    "string('ca', nums)"
   ]
  },
  {
   "cell_type": "markdown",
   "id": "b023e6fc",
   "metadata": {},
   "source": [
    "14. Write a Python program to find the lengths of a given list of non-empty strings. Go to the editor\n",
    "Input:\n",
    "['cat', 'car', 'fear', 'center']\n",
    "Output:\n",
    "[3, 3, 4, 6]\n",
    "Input:\n",
    "['cat', 'dog', 'shatter', 'donut', 'at', 'todo', '']\n",
    "Output:\n",
    "[3, 3, 7, 5, 2, 4, 0]"
   ]
  },
  {
   "cell_type": "code",
   "execution_count": 10,
   "id": "ccc1c1e0",
   "metadata": {},
   "outputs": [],
   "source": [
    "def length(nums):\n",
    "    return [len(x) for x in nums]"
   ]
  },
  {
   "cell_type": "code",
   "execution_count": 11,
   "id": "2c32a1e2",
   "metadata": {},
   "outputs": [
    {
     "data": {
      "text/plain": [
       "[3, 3, 4, 6]"
      ]
     },
     "execution_count": 11,
     "metadata": {},
     "output_type": "execute_result"
    }
   ],
   "source": [
    "nums=['cat', 'car', 'fear', 'center']\n",
    "length(nums)"
   ]
  },
  {
   "cell_type": "markdown",
   "id": "5bc9edaf",
   "metadata": {},
   "source": [
    "15. Write a Python program find the longest string of a given list of strings. Go to the editor\n",
    "Input:\n",
    "['cat', 'car', 'fear', 'center']\n",
    "Output:\n",
    "center\n",
    "Input:\n",
    "['cat', 'dog', 'shatter', 'donut', 'at', 'todo', '']\n",
    "Output:"
   ]
  },
  {
   "cell_type": "code",
   "execution_count": null,
   "id": "f2f532fd",
   "metadata": {},
   "outputs": [],
   "source": [
    "def longest(nums):\n",
    "    return max(nums, key=len)\n",
    "        "
   ]
  },
  {
   "cell_type": "markdown",
   "id": "db5595f3",
   "metadata": {},
   "source": [
    "16. Write a Python program find the strings in a given list containing a given substring. Go to the editor\n",
    "Input:\n",
    "[(ca,('cat', 'car', 'fear', 'center'))]\n",
    "Output:\n",
    "['cat', 'car']\n",
    "Input:\n",
    "[(o,('cat', 'dog', 'shatter', 'donut', 'at', 'todo', ''))]\n",
    "Output:\n",
    "['dog', 'donut', 'todo']\n",
    "Input:\n",
    "[(oe,('cat', 'dog', 'shatter', 'donut', 'at', 'todo', ''))]\n",
    "Output:\n",
    "[]"
   ]
  },
  {
   "cell_type": "code",
   "execution_count": null,
   "id": "47ddb51a",
   "metadata": {},
   "outputs": [],
   "source": [
    "def string(words, nums):\n",
    "    return [i for i in nums if words in nums ] "
   ]
  },
  {
   "cell_type": "markdown",
   "id": "8207df4c",
   "metadata": {},
   "source": [
    "17. Write a Python program to create string consisting of the non-negative integers up to n inclusive. Go to the editor\n",
    "Input:\n",
    "4\n",
    "Output:\n",
    "0 1 2 3 4\n",
    "Input:\n",
    "15\n",
    "Output:\n",
    "0 1 2 3 4 5 6 7 8 9 10 11 12 13 14 15"
   ]
  },
  {
   "cell_type": "code",
   "execution_count": 2,
   "id": "40ae4a62",
   "metadata": {},
   "outputs": [
    {
     "data": {
      "text/plain": [
       "[0, 1, 2, 3, 4, 5, 6, 7, 8, 9, 10, 11, 12, 13, 14, 15]"
      ]
     },
     "execution_count": 2,
     "metadata": {},
     "output_type": "execute_result"
    }
   ],
   "source": [
    "def inte(n):\n",
    "    return [i for i in range(n+1)]\n",
    "inte(15)"
   ]
  },
  {
   "cell_type": "code",
   "execution_count": 3,
   "id": "05672ec2",
   "metadata": {},
   "outputs": [],
   "source": [
    "def test(n):\n",
    "    return ' '.join(map(str,range(n+1)))"
   ]
  },
  {
   "cell_type": "markdown",
   "id": "118f7626",
   "metadata": {},
   "source": [
    "18. An irregular/uneven matrix, or ragged matrix, is a matrix that has a different number of elements in each row. Ragged matrices are not used in linear algebra, since standard matrix transformations cannot be performed on them, but they are useful as arrays in computing.\n",
    "Write a Python program to find the indices of all occurrences of target in the uneven matrix. Go to the editor\n",
    "Input:\n",
    "[([1, 3, 2, 32, 19], [19, 2, 48, 19], [], [9, 35, 4], [3, 19]),19]\n",
    "Output:\n",
    "[[0, 4], [1, 0], [1, 3], [4, 1]]\n",
    "Input:\n",
    "[([1, 2, 3, 2], [], [7, 9, 2, 1, 4]),2]\n",
    "Output:\n",
    "[[0, 1], [0, 3], [2, 2]]"
   ]
  },
  {
   "cell_type": "code",
   "execution_count": null,
   "id": "921baf1d",
   "metadata": {},
   "outputs": [],
   "source": []
  },
  {
   "cell_type": "markdown",
   "id": "6ca05725",
   "metadata": {},
   "source": [
    "19. Write a Python program to split a given string (s) into strings if there is a space in the string, otherwise split on commas if there is a comma, otherwise return the list of lowercase letters with odd order (order of a = 0, b = 1, etc.) Go to the editor\n",
    "Input:\n",
    "a b c d\n",
    "Split the said string into strings if there is a space in the string, \n",
    "otherwise split on commas if there is a comma, \n",
    "Output:\n",
    "['a', 'b', 'c', 'd']\n",
    "Input:\n",
    "a,b,c,d\n",
    "Split the said string into strings if there is a space in the string, \n",
    "otherwise split on commas if there is a comma, \n",
    "Output:\n",
    "['a', 'b', 'c', 'd']\n",
    "Input:\n",
    "abcd\n",
    "Split the said string into strings if there is a space in the string, \n",
    "otherwise split on commas if there is a comma,\n",
    "Output:\n",
    "['b', 'd']"
   ]
  },
  {
   "cell_type": "markdown",
   "id": "a8846b23",
   "metadata": {},
   "source": [
    "20. Write a Python program to determine the direction ('increasing' or 'decreasing') of monotonic sequence numbers. Go to the editor\n",
    "Input:\n",
    "[1, 2, 3, 4, 5, 6]\n",
    "Output:\n",
    "Increasing.\n",
    "Input:\n",
    "[6, 5, 4, 3, 2, 1]\n",
    "Output:\n",
    "Decreasing.\n",
    "Input:\n",
    "[19, 19, 5, 5, 5, 5, 5]\n",
    "Output:\n",
    "Not a monotonic sequence!"
   ]
  },
  {
   "cell_type": "code",
   "execution_count": 7,
   "id": "6305d5dd",
   "metadata": {},
   "outputs": [],
   "source": [
    "def monotonic(nums):\n",
    "    return \"Increasing.\" if all(nums[i] < nums[i + 1] for i in range(len(nums) - 1)) else \\\n",
    "        \"Decreasing.\" if all(nums[i + 1] < nums[i] for i in range(len(nums) - 1)) else \\\n",
    "        \"Not a monotonic sequence!\"\n",
    "            "
   ]
  },
  {
   "cell_type": "code",
   "execution_count": 8,
   "id": "10fc269c",
   "metadata": {},
   "outputs": [
    {
     "data": {
      "text/plain": [
       "'Increasing.'"
      ]
     },
     "execution_count": 8,
     "metadata": {},
     "output_type": "execute_result"
    }
   ],
   "source": [
    "nums=[1, 2, 3, 4, 5, 6]\n",
    "monotonic(nums)"
   ]
  },
  {
   "cell_type": "markdown",
   "id": "73b67462",
   "metadata": {},
   "source": [
    "21. Write a Python program to check, for each string in a given list, whether the last character is an isolated letter or not. Return True or False. Go to the editor\n",
    "Input:\n",
    "['cat', 'car', 'fear', 'center']\n",
    "Output:\n",
    "[False, False, False, False]\n",
    "Input:\n",
    "['ca t', 'car', 'fea r', 'cente r']\n",
    "Output:\n",
    "[True, False, True, True]"
   ]
  },
  {
   "cell_type": "code",
   "execution_count": 23,
   "id": "2550d3ee",
   "metadata": {},
   "outputs": [],
   "source": [
    "def isolated(nums):\n",
    "    return [nums[i][-2]==\" \" for i in range(len(nums))]"
   ]
  },
  {
   "cell_type": "code",
   "execution_count": 24,
   "id": "f6af8790",
   "metadata": {},
   "outputs": [
    {
     "data": {
      "text/plain": [
       "[True, False, True, True]"
      ]
     },
     "execution_count": 24,
     "metadata": {},
     "output_type": "execute_result"
    }
   ],
   "source": [
    "nums=['ca t', 'car', 'fea r', 'cente r']\n",
    "isolated(nums)"
   ]
  },
  {
   "cell_type": "markdown",
   "id": "5c35de20",
   "metadata": {},
   "source": [
    "22. Write a Python program to compute the sum of the ASCII values of the upper-case characters in a given string. Go to the editor\n",
    "Input:\n",
    "PytHon ExerciSEs\n",
    "Output:\n",
    "373\n",
    "Input:\n",
    "JavaScript\n",
    "Output:\n",
    "157"
   ]
  },
  {
   "cell_type": "code",
   "execution_count": null,
   "id": "7c7f94ed",
   "metadata": {},
   "outputs": [],
   "source": [
    "def test(strs):\n",
    "    return sum(map(ord,filter(str.isupper,strs)))"
   ]
  },
  {
   "cell_type": "markdown",
   "id": "65a227fc",
   "metadata": {},
   "source": [
    "23. Write a Python program to find the indices for which the numbers in the list drops. Go to the editor\n",
    "NOTE: You can detect multiple drops just by checking if nums[i] < nums[i-1]\n",
    "Input:\n",
    "[0, -1, 3, 8, 5, 9, 8, 14, 2, 4, 3, -10, 10, 17, 41, 22, -4, -4, -15, 0]\n",
    "Output:\n",
    "[1, 4, 6, 8, 10, 11, 15, 16, 18]\n",
    "Input:\n",
    "[6, 5, 4, 3, 2, 1]\n",
    "Output:\n",
    "[1, 2, 3, 4, 5]\n",
    "Input:\n",
    "[1, 19, 5, 15, 5, 25, 5]\n",
    "Output:\n",
    "[0, 2, 4, 6]"
   ]
  },
  {
   "cell_type": "code",
   "execution_count": 27,
   "id": "9e5b743e",
   "metadata": {},
   "outputs": [
    {
     "data": {
      "text/plain": [
       "[1, 4, 6, 8, 10, 11, 15, 16, 18]"
      ]
     },
     "execution_count": 27,
     "metadata": {},
     "output_type": "execute_result"
    }
   ],
   "source": [
    "def test(nums):\n",
    "    return [i for i in range(1, len(nums)) if nums[i]<nums[i-1]]\n",
    "\n",
    "nums = [0, -1, 3, 8, 5, 9, 8, 14, 2, 4, 3, -10, 10, 17, 41, 22, -4, -4, -15, 0]\n",
    "test(nums)"
   ]
  },
  {
   "cell_type": "markdown",
   "id": "bb95a239",
   "metadata": {},
   "source": [
    "24. Write a Python program to create a list whose ith element is the maximum of the first i elements from a input list. Go to the editor\n",
    "Input:\n",
    "[0, -1, 3, 8, 5, 9, 8, 14, 2, 4, 3, -10, 10, 17, 41, 22, -4, -4, -15, 0]\n",
    "Output:\n",
    "[0, 0, 3, 8, 8, 9, 9, 14, 14, 14, 14, 14, 14, 17, 41, 41, 41, 41, 41, 41]\n",
    "Input:\n",
    "[6, 5, 4, 3, 2, 1]\n",
    "Output:\n",
    "[6, 6, 6, 6, 6, 6]\n",
    "Input:\n",
    "[1, 19, 5, 15, 5, 25, 5]\n",
    "Output:\n",
    "[1, 19, 19, 19, 19, 25, 25]"
   ]
  },
  {
   "cell_type": "code",
   "execution_count": 41,
   "id": "bc56f9ea",
   "metadata": {},
   "outputs": [
    {
     "data": {
      "text/plain": [
       "[1, 16, 49]"
      ]
     },
     "execution_count": 41,
     "metadata": {},
     "output_type": "execute_result"
    }
   ],
   "source": [
    "L=[x**2 for x in range(36)]\n",
    "L[1:10:3]"
   ]
  },
  {
   "cell_type": "code",
   "execution_count": null,
   "id": "82305fff",
   "metadata": {},
   "outputs": [],
   "source": [
    "def maximum(nums):\n",
    "    return [max(nums[:i]) for i in range(1, len(nums+1)]\n",
    "        "
   ]
  },
  {
   "cell_type": "markdown",
   "id": "39825c9d",
   "metadata": {},
   "source": [
    "25. Write a Python program to find the XOR of two given strings interpreted as binary numbers. Go to the editor\n",
    "Input:\n",
    "['0001', '1011']\n",
    "Output:\n",
    "0b1010\n",
    "Input:\n",
    "['100011101100001', '100101100101110']\n",
    "Output:\n",
    "0b110001001111"
   ]
  },
  {
   "cell_type": "markdown",
   "id": "a0dac2e2",
   "metadata": {},
   "source": [
    "26. Write a Python program to find the largest number where commas or periods are decimal points. Go to the editor\n",
    "Input:\n",
    "['100', '102,1', '101.1']\n",
    "Output:\n",
    "102.1"
   ]
  },
  {
   "cell_type": "code",
   "execution_count": 24,
   "id": "21fda371",
   "metadata": {},
   "outputs": [
    {
     "data": {
      "text/plain": [
       "102.1"
      ]
     },
     "execution_count": 24,
     "metadata": {},
     "output_type": "execute_result"
    }
   ],
   "source": [
    "def test(nums):\n",
    "    nu=[]\n",
    "    for n in nums:\n",
    "        n=n.replace(\",\", \".\")\n",
    "        nu.append(float(n))\n",
    "    return max(nu)\n",
    "nums=['100', '102,1', '101.1']\n",
    "test(nums)"
   ]
  },
  {
   "cell_type": "code",
   "execution_count": 26,
   "id": "966b5771",
   "metadata": {},
   "outputs": [
    {
     "data": {
      "text/plain": [
       "102.1"
      ]
     },
     "execution_count": 26,
     "metadata": {},
     "output_type": "execute_result"
    }
   ],
   "source": [
    "def test(nums):\n",
    "    return max([float(n.replace(\",\", \".\") ) for n in nums])\n",
    "\n",
    "    \n",
    "test(nums)"
   ]
  },
  {
   "cell_type": "markdown",
   "id": "8fb57cf5",
   "metadata": {},
   "source": [
    "27. Write a Python program to find x that minimizes mean squared deviation from a given a list of numbers. Go to the editor\n",
    "Input:\n",
    "[4, -5, 17, -9, 14, 108, -9]\n",
    "Output:\n",
    "17.142857142857142\n",
    "Input:\n",
    "[12, -2, 14, 3, -15, 10, -45, 3, 30]\n",
    "Output:\n",
    "1.1111111111111112"
   ]
  },
  {
   "cell_type": "code",
   "execution_count": 27,
   "id": "f6c89ec9",
   "metadata": {},
   "outputs": [
    {
     "data": {
      "text/plain": [
       "17.142857142857142"
      ]
     },
     "execution_count": 27,
     "metadata": {},
     "output_type": "execute_result"
    }
   ],
   "source": [
    "def test(nums):\n",
    "    return sum(nums) / len(nums) \n",
    "nums=[4, -5, 17, -9, 14, 108, -9]\n",
    "test(nums)"
   ]
  },
  {
   "cell_type": "markdown",
   "id": "8fcc50a8",
   "metadata": {},
   "source": [
    "28. Write a Python program to select a string from a given list of strings with the most unique characters. Go to the editor\n",
    "Input:\n",
    "['cat', 'catatatatctsa', 'abcdefhijklmnop', '124259239185125', '', 'foo', 'unique']\n",
    "Output:\n",
    "abcdefhijklmnop\n",
    "Input:\n",
    "['Green', 'Red', 'Orange', 'Yellow', '', 'White']\n",
    "Output:\n",
    "Orange"
   ]
  },
  {
   "cell_type": "code",
   "execution_count": null,
   "id": "a10f73ac",
   "metadata": {},
   "outputs": [],
   "source": [
    "def test(strs):\n",
    "    return max(strs, key=lambda x: len(set(x)))"
   ]
  },
  {
   "cell_type": "code",
   "execution_count": null,
   "id": "a513c36d",
   "metadata": {},
   "outputs": [],
   "source": []
  },
  {
   "cell_type": "markdown",
   "id": "66e92272",
   "metadata": {},
   "source": [
    "29. Write a Python program to find the indices of two numbers that sum to 0 in a given list of numbers. Go to the editor\n",
    "Input:\n",
    "[1, -4, 6, 7, 4]\n",
    "Output:\n",
    "[4, 1]\n",
    "Input:\n",
    "[1232, -20352, 12547, 12440, 741, 341, 525, 20352, 91, 20]\n",
    "Output:\n",
    "[1, 7]"
   ]
  },
  {
   "cell_type": "code",
   "execution_count": 10,
   "id": "154a2449",
   "metadata": {},
   "outputs": [],
   "source": [
    "def test(nums):\n",
    "    s=set(nums)\n",
    "    for i in s:\n",
    "        if -i in s:\n",
    "            return [nums.index(i), nums.index(-i)]"
   ]
  },
  {
   "cell_type": "markdown",
   "id": "fac021ba",
   "metadata": {},
   "source": [
    "30. Write a Python program to find the list of strings that has fewer total characters (including repetitions). Go to the editor\n",
    "Input:\n",
    "[['this', 'list', 'is', 'narrow'], ['I', 'am', 'shorter but wider']]\n",
    "Output:\n",
    "['this', 'list', 'is', 'narrow']\n",
    "Input:\n",
    "[['Red', 'Black', 'Pink'], ['Green', 'Red', 'White']]\n",
    "Output:\n",
    "['Red', 'Black', 'Pink']"
   ]
  },
  {
   "cell_type": "code",
   "execution_count": 6,
   "id": "864db5ed",
   "metadata": {},
   "outputs": [
    {
     "data": {
      "text/plain": [
       "['this', 'list', 'is', 'narrow']"
      ]
     },
     "execution_count": 6,
     "metadata": {},
     "output_type": "execute_result"
    }
   ],
   "source": [
    "def fewchar(data):\n",
    "    totals=[]\n",
    "    for d in data:\n",
    "        total=0\n",
    "        for char in d:\n",
    "            for i in char:\n",
    "                total=total+1\n",
    "        totals.append(total)\n",
    "    for i, x in enumerate(totals):\n",
    "        if x==min(totals):\n",
    "            return data[i]\n",
    "    \n",
    "data=[['this', 'list', 'is', 'narrow'], ['I', 'am', 'shorter but wider']]\n",
    "data1=[['Red', 'Black', 'Pink'], ['Green', 'Red', 'White']]\n",
    "fewchar(data)           "
   ]
  },
  {
   "cell_type": "code",
   "execution_count": 14,
   "id": "2f55ada7",
   "metadata": {},
   "outputs": [
    {
     "data": {
      "text/plain": [
       "['this', 'list', 'is', 'narrow']"
      ]
     },
     "execution_count": 14,
     "metadata": {},
     "output_type": "execute_result"
    }
   ],
   "source": [
    "def fewchar(data):\n",
    "    \n",
    "    totals=[sum([len(word) for word in list1]) for list1 in data]\n",
    "    for i, x in enumerate(totals):\n",
    "        if x==min(totals):\n",
    "            return data[i]\n",
    "fewchar(data) "
   ]
  },
  {
   "cell_type": "code",
   "execution_count": null,
   "id": "717a268a",
   "metadata": {},
   "outputs": [],
   "source": [
    "def test(strs):\n",
    "    return min(strs, key=lambda x: sum(len(i) for i in x)) "
   ]
  },
  {
   "cell_type": "markdown",
   "id": "f7a71a95",
   "metadata": {},
   "source": [
    "31. Write a Python program to find the coordinates of a triangle with the given side lengths. Go to the editor\n",
    "Input: \n",
    "[3, 4, 5]\n",
    "Output:\n",
    "[[0.0, 0.0], [3, 0.0], [3.0, 4.0]]\n",
    "Input: \n",
    "[5, 6, 7]\n",
    "Output:\n",
    "[[0.0, 0.0], [5, 0.0], [3.8, 5.878775382679628]]"
   ]
  },
  {
   "cell_type": "code",
   "execution_count": null,
   "id": "89c7b555",
   "metadata": {},
   "outputs": [],
   "source": []
  },
  {
   "cell_type": "code",
   "execution_count": null,
   "id": "852a6dfa",
   "metadata": {},
   "outputs": [],
   "source": []
  },
  {
   "cell_type": "markdown",
   "id": "76555148",
   "metadata": {},
   "source": [
    "32. Write a Python program to rescale and shift numbers of a given list, so that they cover the range [0, 1]. Go to the editor\n",
    "Input:\n",
    "[18.5, 17.0, 18.0, 19.0, 18.0]\n",
    "Output:\n",
    "[0.75, 0.0, 0.5, 1.0, 0.5]\n",
    "Input:\n",
    "[13.0, 17.0, 17.0, 15.5, 2.94]\n",
    "Output:\n",
    "[0.7155049786628734, 1.0, 1.0, 0.8933143669985776, 0.0]"
   ]
  },
  {
   "cell_type": "code",
   "execution_count": null,
   "id": "75dc89a7",
   "metadata": {},
   "outputs": [],
   "source": []
  },
  {
   "cell_type": "code",
   "execution_count": null,
   "id": "64619562",
   "metadata": {},
   "outputs": [],
   "source": []
  },
  {
   "cell_type": "markdown",
   "id": "fa3c1f1e",
   "metadata": {},
   "source": [
    "33. Write a Python program to find the positions of all uppercase vowels (not counting Y) in even indices of a given string. Go to the editor\n",
    "Input: w3rEsOUrcE \n",
    "Output:\n",
    "[6]\n",
    "Input: AEIOUYW \n",
    "Output:\n",
    "[0, 2, 4]"
   ]
  },
  {
   "cell_type": "code",
   "execution_count": 37,
   "id": "0d62880b",
   "metadata": {},
   "outputs": [
    {
     "data": {
      "text/plain": [
       "[6]"
      ]
     },
     "execution_count": 37,
     "metadata": {},
     "output_type": "execute_result"
    }
   ],
   "source": [
    "def upper(data):\n",
    "    all_=[]\n",
    "    for i, x in enumerate(data):\n",
    "        if x.isupper() and i%2==0 and x in \"AEIOU\":\n",
    "            all_.append(i)\n",
    "    return all_\n",
    "data= \"w3rEsOUrcE\"\n",
    "upper(data)"
   ]
  },
  {
   "cell_type": "code",
   "execution_count": 34,
   "id": "6e0a5acc",
   "metadata": {},
   "outputs": [
    {
     "data": {
      "text/plain": [
       "[6]"
      ]
     },
     "execution_count": 34,
     "metadata": {},
     "output_type": "execute_result"
    }
   ],
   "source": [
    "def upper(data):\n",
    "    return [i for i, x in enumerate(data) if x.isupper() and i%2==0 and x in \"AEIOU\" ]\n",
    "data= \"w3rEsOUrcE\"\n",
    "upper(data)"
   ]
  },
  {
   "cell_type": "markdown",
   "id": "060b5b27",
   "metadata": {},
   "source": [
    "34. Write a Python program to find the sum of the numbers of a given list among the first k with more than 2 digits. Go to the editor\n",
    "Input: [4, 5, 17, 9, 14, 108, -9, 12, 76]\n",
    "Value of K: 4\n",
    "Output:\n",
    "0\n",
    "Input: [4, 5, 17, 9, 14, 108, -9, 12, 76]\n",
    "Value of K: 6\n",
    "Output:\n",
    "108\n",
    "Input: [114, 215, -117, 119, 14, 108, -9, 12, 76]\n",
    "Value of K: 5\n",
    "Output:\n",
    "331\n",
    "Input: [114, 215, -117, 119, 14, 108, -9, 12, 76]\n",
    "Value of K: 1\n",
    "Output:\n",
    "114"
   ]
  },
  {
   "cell_type": "code",
   "execution_count": 104,
   "id": "463a3edd",
   "metadata": {},
   "outputs": [
    {
     "data": {
      "text/plain": [
       "331"
      ]
     },
     "execution_count": 104,
     "metadata": {},
     "output_type": "execute_result"
    }
   ],
   "source": [
    "def sumnum(data, k):\n",
    "    return sum(x for i,x in enumerate(data) if i<(k) and len(str(abs(x)))>=3)\n",
    "data= [114, 215, -117, 119, -14, 108, -9, 12, 76] \n",
    "sumnum(data, 5)"
   ]
  },
  {
   "cell_type": "markdown",
   "id": "2e5be203",
   "metadata": {},
   "source": [
    "35. Write a Python program to compute the product of the odd digits in a given number, or 0 if there aren't any. Go to the editor\n",
    "Input: 123456789\n",
    "Output:\n",
    "945\n",
    "Input: 2468\n",
    "Output:\n",
    "0\n",
    "Input: 13579\n",
    "Output:\n",
    "945"
   ]
  },
  {
   "cell_type": "code",
   "execution_count": 62,
   "id": "2bfe26cb",
   "metadata": {},
   "outputs": [
    {
     "data": {
      "text/plain": [
       "0"
      ]
     },
     "execution_count": 62,
     "metadata": {},
     "output_type": "execute_result"
    }
   ],
   "source": [
    "def oddsum(data):\n",
    "    \n",
    "    data=str(data)\n",
    "    sum1=1\n",
    "    for i in data:\n",
    "        if int(i)%2!=0:\n",
    "            sum1=sum1*int(i)\n",
    "    if all(int(i)%2==0 for i in data):\n",
    "        return 0\n",
    "        \n",
    "    return sum1\n",
    "\n",
    "\n",
    "\n",
    "data=2\n",
    "oddsum(data)"
   ]
  },
  {
   "cell_type": "code",
   "execution_count": null,
   "id": "2f3e856e",
   "metadata": {},
   "outputs": [],
   "source": [
    "import numpy as np\n",
    "def oddsum(data):\n",
    "    return np.prod([int(i)  for i in str(data) if int(i)%2!=0])\n",
    "  \n",
    "\n",
    "data=4444\n",
    "oddsum(data)"
   ]
  },
  {
   "cell_type": "code",
   "execution_count": null,
   "id": "2d27e9ce",
   "metadata": {},
   "outputs": [],
   "source": []
  },
  {
   "cell_type": "markdown",
   "id": "bdd883a8",
   "metadata": {},
   "source": [
    "36. Write a Python program to find the largest k numbers from a given list of numbers. Go to the editor\n",
    "Input: [1, 2, 3, 4, 5, 5, 3, 6, 2]\n",
    "Output:\n",
    "[6]\n",
    "Input: [1, 2, 3, 4, 5, 5, 3, 6, 2]\n",
    "Output:\n",
    "[6, 5]\n",
    "Input: [1, 2, 3, 4, 5, 5, 3, 6, 2]\n",
    "Output:\n",
    "[6, 5, 5]\n",
    "Input: [1, 2, 3, 4, 5, 5, 3, 6, 2]\n",
    "Output:\n",
    "[6, 5, 5, 4]\n",
    "Input: [1, 2, 3, 4, 5, 5, 3, 6, 2]\n",
    "Output:\n",
    "[6, 5, 5, 4, 3]"
   ]
  },
  {
   "cell_type": "code",
   "execution_count": 109,
   "id": "ec997a59",
   "metadata": {},
   "outputs": [
    {
     "data": {
      "text/plain": [
       "[6, 5, 5]"
      ]
     },
     "execution_count": 109,
     "metadata": {},
     "output_type": "execute_result"
    }
   ],
   "source": [
    "def largnum(data, k):\n",
    "    #return max(i for i in data if i<k)\n",
    "    largest_num=[]\n",
    "    for i in range(k):\n",
    "        lar=max(data)\n",
    "        largest_num.append(lar)\n",
    "        data.remove(lar)\n",
    "    return largest_num\n",
    "data=[1, 2, 3, 4, 5, 5, 3, 6, 2]\n",
    "largnum(data,3 )"
   ]
  },
  {
   "cell_type": "code",
   "execution_count": 115,
   "id": "a6629088",
   "metadata": {},
   "outputs": [
    {
     "data": {
      "text/plain": [
       "[6, 5, 5]"
      ]
     },
     "execution_count": 115,
     "metadata": {},
     "output_type": "execute_result"
    }
   ],
   "source": [
    "def largnum(data, k):\n",
    "    return sorted(data, reverse=True)[:k]\n",
    "\n",
    "data=[1, 2, 3, 4, 5, 5, 3, 6, 2]\n",
    "largnum(data,3 )"
   ]
  },
  {
   "cell_type": "markdown",
   "id": "78a2af01",
   "metadata": {},
   "source": [
    "37. Write a Python program to find the largest integer divisor of a number n that is less than n. Go to the editor\n",
    "Input: 18\n",
    "Output:\n",
    "9\n",
    "Input: 100\n",
    "Output:\n",
    "50\n",
    "Input: 102\n",
    "Output:\n",
    "51\n",
    "Input: 500\n",
    "Output:\n",
    "250\n",
    "Input: 1000\n",
    "Output:\n",
    "500\n",
    "Input: 6500\n",
    "Output:\n",
    "3250"
   ]
  },
  {
   "cell_type": "code",
   "execution_count": 49,
   "id": "d4e7690e",
   "metadata": {},
   "outputs": [
    {
     "data": {
      "text/plain": [
       "50"
      ]
     },
     "execution_count": 49,
     "metadata": {},
     "output_type": "execute_result"
    }
   ],
   "source": [
    "def divisior(n):\n",
    "    return max([d for d in range(1,n) if n % d == 0])\n",
    "\n",
    "divisior(100)"
   ]
  },
  {
   "cell_type": "code",
   "execution_count": 121,
   "id": "ab6fb9ff",
   "metadata": {},
   "outputs": [
    {
     "data": {
      "text/plain": [
       "50"
      ]
     },
     "execution_count": 121,
     "metadata": {},
     "output_type": "execute_result"
    }
   ],
   "source": [
    "def divisior(n):\n",
    "    return next(d for d in range(n - 1, 0, -1) if n % d == 0)\n",
    "\n",
    "divisior(100)"
   ]
  },
  {
   "cell_type": "markdown",
   "id": "c8555652",
   "metadata": {},
   "source": [
    "38. Write a Python program to sort the numbers of a given list by the sum of their digits. Go to the editor\n",
    "Input: [10, 11, 12, 13, 14, 15, 16, 17, 18, 19, 20] \n",
    "Output:\n",
    "[10, 11, 20, 12, 13, 14, 15, 16, 17, 18, 19]\n",
    "Input: [23, 2, 9, 34, 8, 9, 10, 74] \n",
    "Output:\n",
    "[10, 2, 23, 34, 8, 9, 9, 74]"
   ]
  },
  {
   "cell_type": "code",
   "execution_count": 141,
   "id": "342be6a3",
   "metadata": {},
   "outputs": [
    {
     "data": {
      "text/plain": [
       "[10, 11, 20, 12, 13, 14, 15, 16, 17, 18, 19]"
      ]
     },
     "execution_count": 141,
     "metadata": {},
     "output_type": "execute_result"
    }
   ],
   "source": [
    "def numsort(data):\n",
    "    sortdata={}\n",
    "    for i, x in enumerate(data):\n",
    "        sortdata[i]=sum(int(i) for i in str(x))\n",
    "    sorte=dict(sorted(sortdata.items(), key=lambda x:x[1]))\n",
    "    sor=list(sorte.keys())\n",
    "    final=[]\n",
    "    for i in sor:\n",
    "        final.append(data[i])\n",
    "    return final \n",
    "    \n",
    "data=[10, 11, 12, 13, 14, 15, 16, 17, 18, 19, 20] \n",
    "numsort(data)"
   ]
  },
  {
   "cell_type": "code",
   "execution_count": 140,
   "id": "bb47e3f6",
   "metadata": {},
   "outputs": [
    {
     "data": {
      "text/plain": [
       "[10, 11, 20, 12, 13, 14, 15, 16, 17, 18, 19]"
      ]
     },
     "execution_count": 140,
     "metadata": {},
     "output_type": "execute_result"
    }
   ],
   "source": [
    "def numsort(data):\n",
    "    return sorted(data, key=lambda x: sum(int(i)for i in str(x)))\n"
   ]
  },
  {
   "cell_type": "markdown",
   "id": "5c7a6eba",
   "metadata": {},
   "source": [
    "39. Write a Python program to determine which triples sum to zero from a given list of lists. Go to the editor\n",
    "Input: [[1343532, -2920635, 332], [-27, 18, 9], [4, 0, -4], [2, 2, 2], [-20, 16, 4]] \n",
    "Output:\n",
    "[False, True, True, False, True]\n",
    "Input: [[1, 2, -3], [-4, 0, 4], [0, 1, -5], [1, 1, 1], [-2, 4, -1]]\n",
    "Output:\n",
    "[True, True, False, False, False]"
   ]
  },
  {
   "cell_type": "code",
   "execution_count": 146,
   "id": "642b405f",
   "metadata": {},
   "outputs": [
    {
     "data": {
      "text/plain": [
       "[False, True, True, False, True]"
      ]
     },
     "execution_count": 146,
     "metadata": {},
     "output_type": "execute_result"
    }
   ],
   "source": [
    "def triplesum(data):\n",
    "    return [sum(data1)==0 for data1 in data ]\n",
    "data= [[1343532, -2920635, 332], [-27, 18, 9], [4, 0, -4], [2, 2, 2], [-20, 16, 4]] \n",
    "triplesum(data)"
   ]
  },
  {
   "cell_type": "code",
   "execution_count": null,
   "id": "b1c7d144",
   "metadata": {},
   "outputs": [],
   "source": []
  },
  {
   "cell_type": "markdown",
   "id": "d4eb9ab6",
   "metadata": {},
   "source": [
    "40. Write a Python program to find string s that, when case is flipped gives target where vowels are replaced by chars two later. Go to the editor\n",
    "Input: Python\n",
    "Output:\n",
    "pYTHQN\n",
    "Input: aeiou\n",
    "Output:\n",
    "CGKQW\n",
    "Input: Hello, world!\n",
    "Output:\n",
    "hGLLQ, WQRLD!\n",
    "Input: AEIOU \n",
    "Output:\n",
    "cgkqw"
   ]
  },
  {
   "cell_type": "code",
   "execution_count": null,
   "id": "321b2ba6",
   "metadata": {},
   "outputs": [],
   "source": []
  },
  {
   "cell_type": "code",
   "execution_count": null,
   "id": "07390412",
   "metadata": {},
   "outputs": [],
   "source": []
  },
  {
   "cell_type": "markdown",
   "id": "46d7af67",
   "metadata": {},
   "source": [
    "41. Write a Python program to sort numbers based on strings. Go to the editor\n",
    "Input: six one four one two three\n",
    "Output:\n",
    "one two three four six\n",
    "Input: six one four three two nine eight\n",
    "Output:\n",
    "one two three four six eight nine\n",
    "Input: nine eight seven six five four three two one\n",
    "Output:\n",
    "one two three four five six seven eight nine"
   ]
  },
  {
   "cell_type": "code",
   "execution_count": null,
   "id": "55989638",
   "metadata": {},
   "outputs": [],
   "source": []
  },
  {
   "cell_type": "code",
   "execution_count": null,
   "id": "ee31a33d",
   "metadata": {},
   "outputs": [],
   "source": []
  },
  {
   "cell_type": "markdown",
   "id": "4d313a19",
   "metadata": {},
   "source": [
    "42. Write a Python program to find the set of distinct characters in a given string, ignoring case. Go to the editor\n",
    "Input: HELLO\n",
    "Output:\n",
    "['h', 'o', 'l', 'e']\n",
    "Input: HelLo\n",
    "Output:\n",
    "['h', 'o', 'l', 'e']\n",
    "Input: Ignoring case\n",
    "Output:\n",
    "['s', 'n', 'c', 'o', 'e', 'i', 'r', 'g', 'a', ' ']"
   ]
  },
  {
   "cell_type": "code",
   "execution_count": null,
   "id": "90b9d986",
   "metadata": {},
   "outputs": [],
   "source": []
  },
  {
   "cell_type": "code",
   "execution_count": null,
   "id": "206b180f",
   "metadata": {},
   "outputs": [],
   "source": []
  },
  {
   "cell_type": "markdown",
   "id": "2dcdf93d",
   "metadata": {},
   "source": [
    "43. Write a Python program to find all words in a given string with n consonants. Go to the editor\n",
    "Input: this is our time\n",
    "Output:\n",
    "Number of consonants: 3\n",
    "Words in the said string with 3 consonants:\n",
    "['this']\n",
    "Number of consonants: 2\n",
    "Words in the said string with 2 consonants:\n",
    "['time']\n",
    "Number of consonants: 1\n",
    "Words in the said string with 1 consonants:\n",
    "['is', 'our']"
   ]
  },
  {
   "cell_type": "code",
   "execution_count": null,
   "id": "d1f57176",
   "metadata": {},
   "outputs": [],
   "source": []
  },
  {
   "cell_type": "code",
   "execution_count": null,
   "id": "d20e8334",
   "metadata": {},
   "outputs": [],
   "source": []
  },
  {
   "cell_type": "markdown",
   "id": "0045e53c",
   "metadata": {},
   "source": [
    "44. Write a Python program to find which characters of a hexadecimal number correspond to prime numbers. Go to the editor\n",
    "Input: 123ABCD\n",
    "Output:\n",
    "[False, True, True, False, True, False, True]\n",
    "Input: 123456\n",
    "Output:\n",
    "[False, True, True, False, True, False]\n",
    "Input: FACE\n",
    "Output:\n",
    "[False, False, False, False]"
   ]
  },
  {
   "cell_type": "code",
   "execution_count": null,
   "id": "4d9165c5",
   "metadata": {},
   "outputs": [],
   "source": []
  },
  {
   "cell_type": "code",
   "execution_count": null,
   "id": "1ec5e91f",
   "metadata": {},
   "outputs": [],
   "source": []
  },
  {
   "cell_type": "markdown",
   "id": "3cbbbfea",
   "metadata": {},
   "source": [
    "45. Write a Python program to find all even palindromes up to n. Go to the editor\n",
    "Output:\n",
    "Even palindromes up to 50 -\n",
    "[0, 2, 4, 6, 8, 22, 44]\n",
    "Even palindromes up to 100 -\n",
    "[0, 2, 4, 6, 8, 22, 44, 66, 88]\n",
    "Even palindromes up to 500 -\n",
    "[0, 2, 4, 6, 8, 22, 44, 66, 88, 202, 212, 222, 232, 242, 252, 262, 272, 282, 292, 404, 414, 424, 434, 444, 454, 464, 474, 484, 494]\n",
    "Even palindromes up to 2000 -\n",
    "[0, 2, 4, 6, 8, 22, 44, 66, 88, 202, 212, 222, 232, 242, 252, 262, 272, 282, 292, 404, 414, 424, 434, 444, 454, 464, 474, 484, 494, 606, 616, 626, 636, 646, 656, 666, 676, 686, 696, 808, 818, 828, 838, 848, 858, 868, 878, 888, 898]"
   ]
  },
  {
   "cell_type": "code",
   "execution_count": null,
   "id": "d1e9e99a",
   "metadata": {},
   "outputs": [],
   "source": [
    "# loop through range of number\n",
    "# check whether the number is even or not\n",
    "# check whether the number is palindromes or not\n",
    "   #check first and last character and so on\n",
    "# return the palindromes numbers"
   ]
  },
  {
   "cell_type": "code",
   "execution_count": 234,
   "id": "0c73e60e",
   "metadata": {},
   "outputs": [
    {
     "data": {
      "text/plain": [
       "[0,\n",
       " 2,\n",
       " 4,\n",
       " 6,\n",
       " 8,\n",
       " 22,\n",
       " 44,\n",
       " 66,\n",
       " 88,\n",
       " 202,\n",
       " 212,\n",
       " 222,\n",
       " 232,\n",
       " 242,\n",
       " 252,\n",
       " 262,\n",
       " 272,\n",
       " 282,\n",
       " 292]"
      ]
     },
     "execution_count": 234,
     "metadata": {},
     "output_type": "execute_result"
    }
   ],
   "source": [
    "def test(n):\n",
    "    return [i for i in range(0,n,2) if str(i) == str(i)[::-1]] \n",
    "test(400)"
   ]
  },
  {
   "cell_type": "code",
   "execution_count": 1,
   "id": "45bdbce8",
   "metadata": {},
   "outputs": [
    {
     "data": {
      "text/plain": [
       "['0',\n",
       " '2',\n",
       " '4',\n",
       " '6',\n",
       " '8',\n",
       " '22',\n",
       " '44',\n",
       " '66',\n",
       " '88',\n",
       " '202',\n",
       " '212',\n",
       " '222',\n",
       " '232',\n",
       " '242',\n",
       " '252',\n",
       " '262',\n",
       " '272',\n",
       " '282',\n",
       " '292',\n",
       " '404',\n",
       " '414',\n",
       " '424',\n",
       " '434',\n",
       " '444',\n",
       " '454',\n",
       " '464',\n",
       " '474',\n",
       " '484',\n",
       " '494']"
      ]
     },
     "execution_count": 1,
     "metadata": {},
     "output_type": "execute_result"
    }
   ],
   "source": [
    "def palindromes(n):\n",
    "    l=[]\n",
    "    for i in range(n):\n",
    "        if i%2==0:\n",
    "            i=str(i)\n",
    "            b=0\n",
    "            e=len(i)-1\n",
    "        \n",
    "            while b<=e:\n",
    "                if i[b]!=i[e]:\n",
    "                    break\n",
    "                b=b+1 \n",
    "                e=e-1 \n",
    "            else:\n",
    "                l.append(i)\n",
    "           \n",
    "                \n",
    "    return l\n",
    "                    \n",
    "palindromes(500)           "
   ]
  },
  {
   "cell_type": "markdown",
   "id": "20ed3825",
   "metadata": {},
   "source": [
    "46. Given an array of numbers representing a branch on a binary tree, write a Python program to find the minimum even value and its index. In the case of a tie, return the smallest index. If there are no even numbers, the answer is []. Go to the editor\n",
    "Input:\n",
    "[1, 9, 4, 6, 10, 11, 14, 8]\n",
    "Output:\n",
    "Minimum even value and its index of the said array of numbers:\n",
    "[4, 2]\n",
    "Input:\n",
    "[1, 7, 4, 4, 9, 2]\n",
    "Output:\n",
    "Minimum even value and its index of the said array of numbers:\n",
    "[2, 5]\n",
    "Input:\n",
    "[1, 7, 7, 5, 9]\n",
    "Output:\n",
    "Minimum even value and its index of the said array of numbers:\n",
    "[]"
   ]
  },
  {
   "cell_type": "code",
   "execution_count": null,
   "id": "abb5cb92",
   "metadata": {},
   "outputs": [],
   "source": []
  },
  {
   "cell_type": "code",
   "execution_count": null,
   "id": "cfb831cc",
   "metadata": {},
   "outputs": [],
   "source": []
  },
  {
   "cell_type": "markdown",
   "id": "53cdc2cf",
   "metadata": {},
   "source": [
    "47. Write a Python program to Filter for the numbers in numbers in a given list whose sum of digits is > 0, where the first digit can be negative. Go to the editor\n",
    "Input:\n",
    "[11, -6, -103, -200]\n",
    "Output:\n",
    "[11, -103]\n",
    "Input:\n",
    "[1, 7, -4, 4, -9, 2]\n",
    "Output:\n",
    "[1, 7, 4, 2]\n",
    "Input:\n",
    "[10, -11, -71, -13, 14, -32]\n",
    "Output:\n",
    "[10, -13, 14]"
   ]
  },
  {
   "cell_type": "code",
   "execution_count": 245,
   "id": "b83b0b01",
   "metadata": {},
   "outputs": [
    {
     "data": {
      "text/plain": [
       "[10, -11, -71, -13, 14, -32]"
      ]
     },
     "execution_count": 245,
     "metadata": {},
     "output_type": "execute_result"
    }
   ],
   "source": [
    "def panda(num):\n",
    "    f=[]\n",
    "    for i in num:\n",
    "        s=0\n",
    "        for j,x in enumerate(str(i)):\n",
    "            if x==\"-\":\n",
    "                s=s-int(str(i)[j+1])\n",
    "            else:\n",
    "                s=s+int(x)\n",
    "        if s>0:\n",
    "            f.append(i)\n",
    "    return f\n",
    "            \n",
    "panda([10, -11, -71, -13, 14, -32] )       "
   ]
  },
  {
   "cell_type": "code",
   "execution_count": 259,
   "id": "7702ddee",
   "metadata": {},
   "outputs": [],
   "source": [
    "def test(nums):\n",
    "    return [n for n in nums if int(str(n)[:2]) + sum(map(int, str(n)[2:])) > 0]\n",
    "\n"
   ]
  },
  {
   "cell_type": "markdown",
   "id": "8cdcdc27",
   "metadata": {},
   "source": [
    "48. Write a Python program to find the indices of two entries that show that the list is not in increasing order. If there are no violations (they are increasing), return an empty list. Go to the editor\n",
    "Input:\n",
    "[1, 2, 3, 0, 4, 5, 6]\n",
    "Output:\n",
    "[2, 3]\n",
    "Input:\n",
    "[1, 2, 3, 4, 5, 6]\n",
    "Output:\n",
    "[]\n",
    "Input:\n",
    "[1, 2, 3, 4, 6, 5, 7]\n",
    "Output:\n",
    "[4, 5]\n",
    "Input:\n",
    "[-3, -2, -3, 0, 2, 3, 4]\n",
    "Output:\n",
    "[1, 2]"
   ]
  },
  {
   "cell_type": "code",
   "execution_count": 50,
   "id": "8ace9dd9",
   "metadata": {},
   "outputs": [
    {
     "data": {
      "text/plain": [
       "[]"
      ]
     },
     "execution_count": 50,
     "metadata": {},
     "output_type": "execute_result"
    }
   ],
   "source": [
    "def violation(data):\n",
    "    final=[]\n",
    "    for i, x in enumerate(data):\n",
    "        if i!=len(data)-1:\n",
    "            if data[i]>data[i+1]:\n",
    "                final.append(i)\n",
    "                final.append(i+1)\n",
    "    return final\n",
    "\n",
    "data=[1, 2, 3, 4, 5, 6]\n",
    "violation(data)"
   ]
  },
  {
   "cell_type": "code",
   "execution_count": 54,
   "id": "1a0c279d",
   "metadata": {},
   "outputs": [
    {
     "data": {
      "text/plain": [
       "(2, 3)"
      ]
     },
     "execution_count": 54,
     "metadata": {},
     "output_type": "execute_result"
    }
   ],
   "source": [
    "def violation(data):\n",
    "    return next((i, i+1) for i in range(len(data)+2) if data[i]>data[i+1])\n",
    "\n",
    "data=[1, 2, 3, 0, 4, 5, 6]\n",
    "violation(data)"
   ]
  },
  {
   "cell_type": "code",
   "execution_count": null,
   "id": "06beaac7",
   "metadata": {},
   "outputs": [],
   "source": []
  },
  {
   "cell_type": "markdown",
   "id": "9fce6bf3",
   "metadata": {},
   "source": [
    "49. Write a Python program to find the h-index, the largest positive number h such that h occurs in the sequence at least h times. If there is no such positive number return h = -1. Go to the editor\n",
    "Input:\n",
    "[1, 2, 2, 3, 3, 4, 4, 4, 4]\n",
    "Output:\n",
    "4\n",
    "Input:\n",
    "[1, 2, 2, 3, 4, 5, 6]\n",
    "Output:\n",
    "2\n",
    "Input:\n",
    "[3, 1, 4, 17, 5, 17, 2, 1, 41, 32, 2, 5, 5, 5, 5]\n",
    "Output:\n",
    "5"
   ]
  },
  {
   "cell_type": "code",
   "execution_count": 25,
   "id": "060bee5a",
   "metadata": {},
   "outputs": [],
   "source": [
    "def largestp(num):\n",
    "    for i in num:\n",
    "        x=num.count(i)\n",
    "        if i==x: \n",
    "            return i\n",
    "    return -1"
   ]
  },
  {
   "cell_type": "code",
   "execution_count": null,
   "id": "68157dd4",
   "metadata": {},
   "outputs": [],
   "source": [
    "def largestp(num):\n",
    "    return max([-1] + [i for i in num if i > 0 and num.count(i) >= i])"
   ]
  },
  {
   "cell_type": "code",
   "execution_count": 26,
   "id": "1f7baee5",
   "metadata": {},
   "outputs": [
    {
     "data": {
      "text/plain": [
       "5"
      ]
     },
     "execution_count": 26,
     "metadata": {},
     "output_type": "execute_result"
    }
   ],
   "source": [
    "num=[3, 1, 4, 17, 5, 17, 2, 1, 41, 32, 2, 5, 5, 5, 5]\n",
    "largestp(num)"
   ]
  },
  {
   "cell_type": "markdown",
   "id": "ad0b7bb5",
   "metadata": {},
   "source": [
    "50. Write a Python program to find the even-length words from a given list of words and sort them by length. Go to the editor\n",
    "Input:\n",
    "['Red', 'Black', 'White', 'Green', 'Pink', 'Orange']\n",
    "Output:\n",
    "['Pink', 'Orange']\n",
    "Input:\n",
    "['The', 'worm', 'ate', 'a', 'bird', 'imagine', 'that', '!', 'Absurd', '!!']\n",
    "Output:\n",
    "['!!', 'bird', 'that', 'worm', 'Absurd']"
   ]
  },
  {
   "cell_type": "code",
   "execution_count": 36,
   "id": "dd061578",
   "metadata": {},
   "outputs": [
    {
     "data": {
      "text/plain": [
       "['!!', 'bird', 'that', 'worm', 'Absurd']"
      ]
     },
     "execution_count": 36,
     "metadata": {},
     "output_type": "execute_result"
    }
   ],
   "source": [
    "def sortlength(data):\n",
    "    return sorted([x for x in data if len(x)%2==0], key=lambda x: (len(x),x))\n",
    "data=['The', 'worm', 'ate', 'a', 'bird', 'imagine', 'that', '!', 'Absurd', '!!'] \n",
    "sortlength(data)"
   ]
  },
  {
   "cell_type": "code",
   "execution_count": null,
   "id": "f4228040",
   "metadata": {},
   "outputs": [],
   "source": []
  },
  {
   "cell_type": "markdown",
   "id": "4e323ecb",
   "metadata": {},
   "source": [
    "51. Write a Python program to find the first n Fibonacci numbers. Go to the editor\n",
    "Input: 10\n",
    "Output:\n",
    "[1, 1, 2, 3, 5, 8, 13, 21, 34, 55]\n",
    "Input: 15\n",
    "Output:\n",
    "[1, 1, 2, 3, 5, 8, 13, 21, 34, 55, 89, 144, 233, 377, 610]\n",
    "Input: 50\n",
    "Output:\n",
    "[1, 1, 2, 3, 5, 8, 13, 21, 34, 55, 89, 144, 233, 377, 610, 987, 1597, 2584, 4181, 6765, 10946, 17711, 28657, 46368, 75025, 121393, 196418, 317811, 514229, 832040, 1346269, 2178309, 3524578, 5702887, 9227465, 14930352, 24157817, 39088169, 63245986, 102334155, 165580141, 267914296, 433494437, 701408733, 1134903170, 1836311903, 2971215073, 4807526976, 7778742049, 12586269025]"
   ]
  },
  {
   "cell_type": "code",
   "execution_count": 269,
   "id": "2ea769ec",
   "metadata": {},
   "outputs": [
    {
     "data": {
      "text/plain": [
       "[1, 1, 2, 3, 5, 8, 13, 21, 34, 55]"
      ]
     },
     "execution_count": 269,
     "metadata": {},
     "output_type": "execute_result"
    }
   ],
   "source": [
    "def fibo(n):\n",
    "    l=[]\n",
    "    a,b=1,1\n",
    "    l.append(a)\n",
    "    for i in range(n-1):\n",
    "        l.append(b)\n",
    "        a,b=b,a+b\n",
    "        \n",
    "    return l\n",
    "fibo(10)     "
   ]
  },
  {
   "cell_type": "code",
   "execution_count": null,
   "id": "76420a6e",
   "metadata": {},
   "outputs": [],
   "source": []
  },
  {
   "cell_type": "markdown",
   "id": "40fc5772",
   "metadata": {},
   "source": [
    "52. Write a Python program to reverse the case of all strings. For those strings, which contain no letters, reverse the strings. Go to the editor\n",
    "Input:\n",
    "['cat', 'catatatatctsa', 'abcdefhijklmnop', '124259239185125', '', 'foo', 'unique']\n",
    "Output:\n",
    "['CAT', 'CATATATATCTSA', 'ABCDEFHIJKLMNOP', '521581932952421', '', 'FOO', 'UNIQUE']\n",
    "Input:\n",
    "['Green', 'Red', 'Orange', 'Yellow', '', 'White']\n",
    "Output:\n",
    "['gREEN', 'rED', 'oRANGE', 'yELLOW', '', 'wHITE']\n",
    "Input:\n",
    "['Hello', '!@#', '!@#$', '123#@!']\n",
    "Output:\n",
    "['hELLO', '!@#', '!@#$', '123#@!']"
   ]
  },
  {
   "cell_type": "code",
   "execution_count": 41,
   "id": "7c3368e6",
   "metadata": {},
   "outputs": [
    {
     "data": {
      "text/plain": [
       "['CAT',\n",
       " 'CATATATATCTSA',\n",
       " 'ABCDEFHIJKLMNOP',\n",
       " '521581932952421',\n",
       " '',\n",
       " 'FOO',\n",
       " 'UNIQUE']"
      ]
     },
     "execution_count": 41,
     "metadata": {},
     "output_type": "execute_result"
    }
   ],
   "source": [
    "def swap(data):\n",
    "    return [x[::-1] if x.isdigit() else x.swapcase() for x in data]\n",
    "\n",
    "data=['cat', 'catatatatctsa', 'abcdefhijklmnop', '124259239185125', '', 'foo', 'unique']\n",
    "swap(data)"
   ]
  },
  {
   "cell_type": "code",
   "execution_count": null,
   "id": "bbba6074",
   "metadata": {},
   "outputs": [],
   "source": []
  },
  {
   "cell_type": "markdown",
   "id": "c137324c",
   "metadata": {},
   "source": [
    "53. Write a Python program to find the product of the units digits in the numbers of a given list. Go to the editor\n",
    "Input:\n",
    "[12, 23]\n",
    "Output:\n",
    "6\n",
    "Input:\n",
    "[12, 23, 43]\n",
    "Output:\n",
    "18\n",
    "Input:\n",
    "[113, 234]\n",
    "Output:\n",
    "12\n",
    "Input:\n",
    "[1002, 2005]\n",
    "Output:\n",
    "10"
   ]
  },
  {
   "cell_type": "code",
   "execution_count": 217,
   "id": "3643717a",
   "metadata": {},
   "outputs": [],
   "source": [
    "import numpy as np\n",
    "def product_unit(num):\n",
    "    return np.prod([int(str(i)[-1]) for i in num])\n"
   ]
  },
  {
   "cell_type": "code",
   "execution_count": null,
   "id": "2acda677",
   "metadata": {},
   "outputs": [],
   "source": [
    "import numpy as np\n",
    "def product_unit(num):\n",
    "    l=[]\n",
    "    for i in num:\n",
    "        a=str(i)[-1]\n",
    "        l.append(int(a))\n",
    "    return np.product(l)"
   ]
  },
  {
   "cell_type": "code",
   "execution_count": 218,
   "id": "e09bf2b2",
   "metadata": {},
   "outputs": [
    {
     "data": {
      "text/plain": [
       "6"
      ]
     },
     "execution_count": 218,
     "metadata": {},
     "output_type": "execute_result"
    }
   ],
   "source": [
    "product_unit([12,23])"
   ]
  },
  {
   "cell_type": "markdown",
   "id": "ae31c8a3",
   "metadata": {},
   "source": [
    "54. Write a Python program to remove duplicates from a list of integers, preserving order. Go to the editor\n",
    "Input:\n",
    "[1, 3, 4, 10, 4, 1, 43]\n",
    "Output:\n",
    "[1, 3, 4, 10, 43]\n",
    "Input:\n",
    "[10, 11, 13, 23, 11, 25, 23, 76, 99]\n",
    "Output:\n",
    "[10, 11, 13, 23, 25, 76, 99]"
   ]
  },
  {
   "cell_type": "code",
   "execution_count": null,
   "id": "1ec8156b",
   "metadata": {},
   "outputs": [],
   "source": []
  },
  {
   "cell_type": "code",
   "execution_count": 224,
   "id": "c9702b66",
   "metadata": {},
   "outputs": [],
   "source": [
    "def dup(num):\n",
    "    l=[]\n",
    "    for i in num:\n",
    "        if i not in l:\n",
    "            l.append(i)\n",
    "    return l"
   ]
  },
  {
   "cell_type": "code",
   "execution_count": 225,
   "id": "cc0affe9",
   "metadata": {},
   "outputs": [
    {
     "data": {
      "text/plain": [
       "[1, 2, 4, 10, 43]"
      ]
     },
     "execution_count": 225,
     "metadata": {},
     "output_type": "execute_result"
    }
   ],
   "source": [
    "dup([1,2,4,10,4,1,43])"
   ]
  },
  {
   "cell_type": "markdown",
   "id": "9523d023",
   "metadata": {},
   "source": [
    "55. Write a Python program to find the numbers that are greater than 10 and have odd first and last digits. Go to the editor\n",
    "Input:\n",
    "[1, 3, 79, 10, 4, 1, 39, 62]\n",
    "Output:\n",
    "[79, 39]\n",
    "Input:\n",
    "[11, 31, 77, 93, 48, 1, 57]\n",
    "Output:\n",
    "[11, 31, 77, 93, 57]"
   ]
  },
  {
   "cell_type": "code",
   "execution_count": null,
   "id": "7e0ccfa6",
   "metadata": {},
   "outputs": [],
   "source": [
    "def od(num):\n",
    "    n=[]\n",
    "    for i in num:\n",
    "        if i>10 and int(str(i)[0])%2!=0 and int(str(i)[-1])%2!=0:\n",
    "            n.append(i)\n",
    "    return n"
   ]
  },
  {
   "cell_type": "code",
   "execution_count": 227,
   "id": "d4ab5d4d",
   "metadata": {},
   "outputs": [
    {
     "data": {
      "text/plain": [
       "[79, 39]"
      ]
     },
     "execution_count": 227,
     "metadata": {},
     "output_type": "execute_result"
    }
   ],
   "source": [
    "def od(num):\n",
    "    return [i for i in num if i>10 and int(str(i)[0])%2!=0 and int(str(i)[-1])%2!=0]\n",
    "num= [1, 3, 79, 10, 4, 1, 39, 62]\n",
    "od(num)"
   ]
  },
  {
   "cell_type": "markdown",
   "id": "75c7644c",
   "metadata": {},
   "source": [
    "56. Write a Python program to find an integer exponent x such that a^x = n. Go to the editor\n",
    "Input:\n",
    "a = 2 : n = 1024\n",
    "Output:\n",
    "10\n",
    "Input:\n",
    "a = 3 : n = 81\n",
    "Output:\n",
    "4\n",
    "Input:\n",
    "a = 3 : n = 1290070078170102666248196035845070394933441741644993085810116441344597492642263849\n",
    "Output:\n",
    "170"
   ]
  },
  {
   "cell_type": "code",
   "execution_count": null,
   "id": "69c7e9c5",
   "metadata": {},
   "outputs": [],
   "source": []
  },
  {
   "cell_type": "code",
   "execution_count": null,
   "id": "910a9040",
   "metadata": {},
   "outputs": [],
   "source": []
  },
  {
   "cell_type": "markdown",
   "id": "c3ac31ea",
   "metadata": {},
   "source": [
    "57. Write a Python program to find the sum of the magnitudes of the elements in the array with a sign that is equal to the product of the signs of the entries. Go to the editor\n",
    "Input:\n",
    "[1, 3, -2]\n",
    "Output:\n",
    "-6\n",
    "Input:\n",
    "[1, -3, 3]\n",
    "Output:\n",
    "-7\n",
    "Input:\n",
    "[10, 32, 3]\n",
    "Output:\n",
    "45\n",
    "Input:\n",
    "[-25, -12, -23]\n",
    "Output:\n",
    "-60"
   ]
  },
  {
   "cell_type": "code",
   "execution_count": null,
   "id": "7c5a1d48",
   "metadata": {},
   "outputs": [],
   "source": [
    "def magsum(num):\n",
    "    return sum(abs(i) for i in num)"
   ]
  },
  {
   "cell_type": "code",
   "execution_count": null,
   "id": "632aca27",
   "metadata": {},
   "outputs": [],
   "source": [
    "def magsum(num):\n",
    "    l=[]\n",
    "    for i in num:\n",
    "        if i<0:\n",
    "            l.append(abs(i))\n",
    "            "
   ]
  },
  {
   "cell_type": "markdown",
   "id": "6de27cf5",
   "metadata": {},
   "source": [
    "58. Write a Python program to find the biggest even number between two numbers inclusive. Go to the editor\n",
    "Input:\n",
    "m = 12\n",
    "n = 51\n",
    "Output:\n",
    "50\n",
    "Input:\n",
    "m = 1\n",
    "n = 79\n",
    "Output:\n",
    "78\n",
    "Input:\n",
    "m = 47\n",
    "n = 53\n",
    "Output:\n",
    "52\n",
    "Input:\n",
    "m = 100\n",
    "n = 200\n",
    "Output:\n",
    "200"
   ]
  },
  {
   "cell_type": "code",
   "execution_count": null,
   "id": "dfa9f2eb",
   "metadata": {},
   "outputs": [],
   "source": [
    "def biggest(m, n):\n",
    "    for i in range(m, n):\n",
    "        if i%2==0:\n",
    "            "
   ]
  },
  {
   "cell_type": "code",
   "execution_count": 228,
   "id": "fff0438d",
   "metadata": {},
   "outputs": [
    {
     "data": {
      "text/plain": [
       "50"
      ]
     },
     "execution_count": 228,
     "metadata": {},
     "output_type": "execute_result"
    }
   ],
   "source": [
    "def biggest(m,n):\n",
    "    return max(i for i in range(m,n) if i%2==0)\n",
    "\n",
    "biggest(12,51)"
   ]
  },
  {
   "cell_type": "code",
   "execution_count": 229,
   "id": "f1cc19ac",
   "metadata": {},
   "outputs": [
    {
     "data": {
      "text/plain": [
       "50"
      ]
     },
     "execution_count": 229,
     "metadata": {},
     "output_type": "execute_result"
    }
   ],
   "source": [
    "def biggest(m,n):\n",
    "    return n if n % 2 == 0 else n - 1\n",
    "biggest(12,51)"
   ]
  },
  {
   "cell_type": "markdown",
   "id": "44d12997",
   "metadata": {},
   "source": [
    "59. A valid filename should end in .txt, .exe, .jpg, .png, or .dll, and should have at most three digits, no additional periods. Write a Python program to create a list of True/False that determine whether candidate filename is valid or not. Go to the editor\n",
    "Input:\n",
    "['abc.txt', 'windows.dll', 'tiger.png', 'rose.jpg', 'test.py', 'win32.exe']\n",
    "Output:\n",
    "['Yes', 'Yes', 'Yes', 'Yes', 'No', 'Yes']\n",
    "Input:\n",
    "['.txt', 'windows.exe', 'tiger.jpeg', 'rose.c', 'test.java']\n",
    "Output:\n",
    "['No', 'Yes', 'No', 'No', 'No']"
   ]
  },
  {
   "cell_type": "code",
   "execution_count": null,
   "id": "57f11be8",
   "metadata": {},
   "outputs": [],
   "source": []
  },
  {
   "cell_type": "code",
   "execution_count": null,
   "id": "10e5ebc9",
   "metadata": {},
   "outputs": [],
   "source": []
  },
  {
   "cell_type": "markdown",
   "id": "439a5ddd",
   "metadata": {},
   "source": [
    "60. Write a Python program to find a list of all numbers that are adjacent to a prime number in the list, sorted without duplicates. Go to the editor\n",
    "Input:\n",
    "[2, 17, 16, 0, 6, 4, 5]\n",
    "Output:\n",
    "[2, 4, 16, 17]\n",
    "Input:\n",
    "[1, 2, 19, 16, 6, 4, 10]\n",
    "Output:\n",
    "[1, 2, 16, 19]\n",
    "Input:\n",
    "[1, 2, 3, 5, 1, 16, 7, 11, 4]\n",
    "Output:\n",
    "[1, 2, 3, 4, 5, 7, 11, 16]"
   ]
  },
  {
   "cell_type": "code",
   "execution_count": null,
   "id": "70602f61",
   "metadata": {},
   "outputs": [],
   "source": []
  },
  {
   "cell_type": "code",
   "execution_count": null,
   "id": "580c743e",
   "metadata": {},
   "outputs": [],
   "source": []
  },
  {
   "cell_type": "markdown",
   "id": "81363b8b",
   "metadata": {},
   "source": [
    "61. Write a Python program to find the number which when appended to the list makes the total 0. Go to the editor\n",
    "Input:\n",
    "[1, 2, 3, 4, 5]\n",
    "Output:\n",
    "-15\n",
    "Input:\n",
    "[-1, -2, -3, -4, 5]\n",
    "Output:\n",
    "5\n",
    "Input:\n",
    "[10, 42, 17, 9, 1315182, 184, 102, 29, 15, 39, 755]\n",
    "Output:\n",
    "-1316384"
   ]
  },
  {
   "cell_type": "code",
   "execution_count": 278,
   "id": "ecffe61c",
   "metadata": {},
   "outputs": [],
   "source": [
    "def s(num):\n",
    "    l=0\n",
    "    for i in num:\n",
    "        l=l+i\n",
    "    return -l"
   ]
  },
  {
   "cell_type": "code",
   "execution_count": 281,
   "id": "c00f2de6",
   "metadata": {},
   "outputs": [
    {
     "data": {
      "text/plain": [
       "5"
      ]
     },
     "execution_count": 281,
     "metadata": {},
     "output_type": "execute_result"
    }
   ],
   "source": [
    "s( [-1, -2, -3, -4, 5] )"
   ]
  },
  {
   "cell_type": "code",
   "execution_count": 283,
   "id": "8bafed0e",
   "metadata": {},
   "outputs": [
    {
     "data": {
      "text/plain": [
       "5"
      ]
     },
     "execution_count": 283,
     "metadata": {},
     "output_type": "execute_result"
    }
   ],
   "source": [
    "def s(num):\n",
    "    return -sum([i for i in num])\n",
    "s( [-1, -2, -3, -4, 5] )"
   ]
  },
  {
   "cell_type": "markdown",
   "id": "0341be92",
   "metadata": {},
   "source": [
    "62. Write a Python program to find the dictionary key whose case is different than all other keys. Go to the editor\n",
    "Input:\n",
    "{'red': '', 'GREEN': '', 'blue': 'orange'}\n",
    "Output:\n",
    "GREEN\n",
    "Input:\n",
    "{'RED': '', 'GREEN': '', 'orange': '#125GD'}\n",
    "Output:\n",
    "orange"
   ]
  },
  {
   "cell_type": "code",
   "execution_count": 289,
   "id": "04cc2b27",
   "metadata": {},
   "outputs": [
    {
     "data": {
      "text/plain": [
       "'orange'"
      ]
     },
     "execution_count": 289,
     "metadata": {},
     "output_type": "execute_result"
    }
   ],
   "source": [
    "def differ(s):\n",
    "    u=[]\n",
    "    l=[]\n",
    "    for k in s.keys():\n",
    "        if k.isupper():\n",
    "            u.append(k)\n",
    "        else:\n",
    "            l.append(k)\n",
    "    if len(u)==1:\n",
    "        return u[0]\n",
    "    else:\n",
    "        return l[0]\n",
    "s={'red': '', 'GREEN': '', 'blue': 'orange'} \n",
    "s={'RED': '', 'GREEN': '', 'orange': '#125GD'}\n",
    "differ(s)"
   ]
  },
  {
   "cell_type": "code",
   "execution_count": 290,
   "id": "ac6d94b1",
   "metadata": {},
   "outputs": [
    {
     "data": {
      "text/plain": [
       "'orange'"
      ]
     },
     "execution_count": 290,
     "metadata": {},
     "output_type": "execute_result"
    }
   ],
   "source": [
    "def differ(s):\n",
    "    u=[i for i in s if i.isupper()]\n",
    "    l=[i for i in s if i.islower()]\n",
    "    if len(u)>len(l):\n",
    "        return l[0]\n",
    "    else:\n",
    "        return l[1]\n",
    "s={'RED': '', 'GREEN': '', 'orange': '#125GD'}\n",
    "differ(s)"
   ]
  },
  {
   "cell_type": "markdown",
   "id": "50b7b2ed",
   "metadata": {},
   "source": [
    "63. Write a Python program to find the sum of the even elements that are at odd indices. Go to the editor\n",
    "Input:\n",
    "[1, 2, 3, 4, 5, 6, 7]\n",
    "Output:\n",
    "12\n",
    "Input:\n",
    "[1, 2, 8, 3, 9, 4]\n",
    "Output:\n",
    "6"
   ]
  },
  {
   "cell_type": "code",
   "execution_count": 293,
   "id": "d0f28441",
   "metadata": {},
   "outputs": [
    {
     "data": {
      "text/plain": [
       "6"
      ]
     },
     "execution_count": 293,
     "metadata": {},
     "output_type": "execute_result"
    }
   ],
   "source": [
    "def oddin(num):\n",
    "    return sum(x for i,x in enumerate(num) if i%2!=0 and x%2==0)\n",
    "num=[1, 2, 8, 3, 9, 4]\n",
    "oddin(num)"
   ]
  },
  {
   "cell_type": "code",
   "execution_count": null,
   "id": "1f5c77f3",
   "metadata": {},
   "outputs": [],
   "source": []
  },
  {
   "cell_type": "markdown",
   "id": "d9ecc8d4",
   "metadata": {},
   "source": [
    "64. Write a Python program to find the string consisting of all the words whose lengths are prime numbers. Go to the editor\n",
    "Input:\n",
    "The quick brown fox jumps over the lazy dog.\n",
    "Output:\n",
    "The quick brown fox jumps the\n",
    "Input:\n",
    "Omicron Effect: Foreign Flights Won't Resume On Dec 15, Decision Later.\n",
    "Output:\n",
    "Omicron Effect: Foreign Flights Won't On Dec 15,"
   ]
  },
  {
   "cell_type": "code",
   "execution_count": 296,
   "id": "5e9874ab",
   "metadata": {},
   "outputs": [
    {
     "data": {
      "text/plain": [
       "['The', 'quick', 'brown', 'fox', 'jumps', 'the', 'dog']"
      ]
     },
     "execution_count": 296,
     "metadata": {},
     "output_type": "execute_result"
    }
   ],
   "source": [
    "def prime(num):\n",
    "    s=num.split(\" \")\n",
    "    return [i for i in s if len(i)%2!=0]\n",
    "num=\"The quick brown fox jumps over the lazy dog\"\n",
    "prime(num)"
   ]
  },
  {
   "cell_type": "code",
   "execution_count": 302,
   "id": "25fde0a6",
   "metadata": {},
   "outputs": [
    {
     "data": {
      "text/plain": [
       "['Omicron',\n",
       " 'Effect:',\n",
       " 'Foreign',\n",
       " 'Flights',\n",
       " \"Won't\",\n",
       " 'On',\n",
       " 'Dec',\n",
       " '15,',\n",
       " 'Later']"
      ]
     },
     "execution_count": 302,
     "metadata": {},
     "output_type": "execute_result"
    }
   ],
   "source": [
    "def prime(num):\n",
    "    s=num.split(\" \")\n",
    "    a=[]\n",
    "    for i in s:\n",
    "        if len(i)>1:\n",
    "            for j in range(2, len(i)):\n",
    "                if len(i)%j==0:\n",
    "                    break\n",
    "            else:\n",
    "                a.append(i)\n",
    "    return a\n",
    "                    \n",
    "num=\"Omicron Effect: Foreign Flights Won't Resume On Dec 15, Decision Later\"\n",
    "prime(num)    "
   ]
  },
  {
   "cell_type": "markdown",
   "id": "21aac1c6",
   "metadata": {},
   "source": [
    "65. Write a Python program to shift the decimal digits n places to the left, wrapping the extra digits around. If shift > the number of digits of n, reverse the string. Go to the editor\n",
    "Input:\n",
    "n = 12345 and shift = 1\n",
    "Output:\n",
    "Result = 23451\n",
    "Input:\n",
    "n = 12345 and shift = 2\n",
    "Output:\n",
    "Result = 34512\n",
    "Input:\n",
    "n = 12345 and shift = 3\n",
    "Output:\n",
    "Result = 45123\n",
    "Input:\n",
    "n = 12345 and shift = 5\n",
    "Output:\n",
    "Result = 12345\n",
    "Input:\n",
    "n = 12345 and shift = 6\n",
    "Output:\n",
    "Result = 54321"
   ]
  },
  {
   "cell_type": "code",
   "execution_count": 46,
   "id": "68c235e5",
   "metadata": {},
   "outputs": [],
   "source": [
    "def is_prime(n):\n",
    "    return n > 1 and all(n % j for j in range(2, n ))"
   ]
  },
  {
   "cell_type": "code",
   "execution_count": 47,
   "id": "bb6958a6",
   "metadata": {},
   "outputs": [
    {
     "data": {
      "text/plain": [
       "False"
      ]
     },
     "execution_count": 47,
     "metadata": {},
     "output_type": "execute_result"
    }
   ],
   "source": [
    "is_prime(4)"
   ]
  },
  {
   "cell_type": "markdown",
   "id": "7a2b879f",
   "metadata": {},
   "source": [
    "66. Write a Python program to find the indices of the closest pair from a list of numbers. Go to the editor\n",
    "Input: [1, 7, 9, 2, 10]\n",
    "Output:\n",
    "[0, 3]\n",
    "Input: [1.1, 4.25, 0.79, 1.0, 4.23]\n",
    "Output:\n",
    "[4, 1]\n",
    "Input: [0.21, 11.3, 2.01, 8.0, 10.0, 3.0, 15.2]\n",
    "Output:\n",
    "[2, 5]"
   ]
  },
  {
   "cell_type": "code",
   "execution_count": 320,
   "id": "f8ab76ff",
   "metadata": {},
   "outputs": [
    {
     "data": {
      "text/plain": [
       "[0, 3]"
      ]
     },
     "execution_count": 320,
     "metadata": {},
     "output_type": "execute_result"
    }
   ],
   "source": [
    "def closest(num):\n",
    "    num1=num.copy()\n",
    "    l=[]\n",
    "    for i, x in enumerate(num1):\n",
    "        if x==min(num1):\n",
    "            l.append(x)\n",
    "            del num1[i]\n",
    "        if len(l)>2:\n",
    "            break\n",
    "    return [num.index(l[0]), num.index(l[1])]\n",
    "num=[1, 7, 9, 2, 10]\n",
    "closest(num)"
   ]
  },
  {
   "cell_type": "code",
   "execution_count": null,
   "id": "dff98d0c",
   "metadata": {},
   "outputs": [],
   "source": []
  },
  {
   "cell_type": "markdown",
   "id": "ac8cdd52",
   "metadata": {},
   "source": [
    "67. Write a Python program to find a string which, when each character is shifted (ASCII incremented) by shift, gives the result. Go to the editor\n",
    "Input:\n",
    "Ascii character table\n",
    "Shift = 1\n",
    "Output:\n",
    "@rbhh\u001fbg`q`bsdq\u001fs`akd\n",
    "Input:\n",
    "Ascii character table\n",
    "Shift = -1\n",
    "Output:\n",
    "Btdjj!dibsbdufs!ubcmf"
   ]
  },
  {
   "cell_type": "code",
   "execution_count": null,
   "id": "99263e92",
   "metadata": {},
   "outputs": [],
   "source": []
  },
  {
   "cell_type": "code",
   "execution_count": null,
   "id": "c69efe12",
   "metadata": {},
   "outputs": [],
   "source": []
  },
  {
   "cell_type": "markdown",
   "id": "78925775",
   "metadata": {},
   "source": [
    "68. Write a Python program to find all 5's in integers less than n that are divisible by 9 or 15. Go to the editor\n",
    "Input:\n",
    "Value of n = 50\n",
    "Output:\n",
    "[[15, 1], [45, 1]]\n",
    "Input:\n",
    "Value of n = 65\n",
    "Output:\n",
    "[[15, 1], [45, 1], [54, 0]]\n",
    "Input:\n",
    "Value of n = 75\n",
    "Output:\n",
    "[[15, 1], [45, 1], [54, 0]]\n",
    "Input:\n",
    "Value of n = 85\n",
    "Output:\n",
    "[[15, 1], [45, 1], [54, 0], [75, 1]]\n",
    "Input:\n",
    "Value of n = 150\n",
    "Output:\n",
    "[[15, 1], [45, 1], [54, 0], [75, 1], [105, 2], [135, 2]]"
   ]
  },
  {
   "cell_type": "code",
   "execution_count": 22,
   "id": "34eec9f5",
   "metadata": {},
   "outputs": [
    {
     "data": {
      "text/plain": [
       "[[15, 1], [45, 1]]"
      ]
     },
     "execution_count": 22,
     "metadata": {},
     "output_type": "execute_result"
    }
   ],
   "source": [
    "def devide5(n):\n",
    "    return [[i,j] for i in range(n) for j in range(len(str(i))) if str(i)[j] == '5' and (i%15==0 or i%9==0)]\n",
    "devide5(50)"
   ]
  },
  {
   "cell_type": "markdown",
   "id": "ff7d4355",
   "metadata": {},
   "source": [
    "69. Write a Python program to create a new string by taking a string, and word by word rearranging its characters in ASCII order. Go to the editor\n",
    "Input: Ascii character table\n",
    "Output:\n",
    "Aciis aaccehrrt abelt\n",
    "Input: maltos won\n",
    "Output:\n",
    "almost now"
   ]
  },
  {
   "cell_type": "code",
   "execution_count": null,
   "id": "c22fc04c",
   "metadata": {},
   "outputs": [],
   "source": []
  },
  {
   "cell_type": "code",
   "execution_count": null,
   "id": "554e5914",
   "metadata": {},
   "outputs": [],
   "source": []
  },
  {
   "cell_type": "markdown",
   "id": "39e0eb70",
   "metadata": {},
   "source": [
    "70. Write a Python program to find the first negative balance from a given a list of numbers which represent bank deposits and withdrawals. Go to the editor\n",
    "Input:\n",
    "[[12, -7, 3, -89, 14, 88, -78], [-1, 2, 7]]\n",
    "Output:\n",
    "[-81, -1]\n",
    "Input:\n",
    "[[1200, 100, -900], [100, 100, -2400]]\n",
    "Output:\n",
    "[None, -2200]"
   ]
  },
  {
   "cell_type": "code",
   "execution_count": 33,
   "id": "9349b227",
   "metadata": {},
   "outputs": [
    {
     "data": {
      "text/plain": [
       "[-81, -1]"
      ]
     },
     "execution_count": 33,
     "metadata": {},
     "output_type": "execute_result"
    }
   ],
   "source": [
    "def sumn(num):\n",
    "    ss=[]\n",
    "    for i in num:\n",
    "        s=0\n",
    "        for j in i:\n",
    "            s=s+j\n",
    "            if s<0:\n",
    "                ss.append(s)\n",
    "                break\n",
    "    return ss\n",
    "num=[[12, -7, 3, -89, 14, 88, -78], [-1, 2, 7]]\n",
    "sumn(num)"
   ]
  },
  {
   "cell_type": "code",
   "execution_count": null,
   "id": "350d3f11",
   "metadata": {},
   "outputs": [],
   "source": []
  },
  {
   "cell_type": "markdown",
   "id": "a93f52e5",
   "metadata": {},
   "source": [
    "71. Given a list of numbers and a number to inject, write a Python program to create a list containing that number in between each pair of adjacent numbers. Go to the editor\n",
    "Input: [12, -7, 3, -89, 14, 88, -78, -1, 2, 7]\n",
    "Separator: 6\n",
    "Output:\n",
    "[12, 6, -7, 6, 3, 6, -89, 6, 14, 6, 88, 6, -78, 6, -1, 6, 2, 6, 7]\n",
    "Input: [1, 2, 3, 4, 5, 6]\n",
    "Separator: 9\n",
    "Output:\n",
    "[1, 9, 2, 9, 3, 9, 4, 9, 5, 9, 6]"
   ]
  },
  {
   "cell_type": "code",
   "execution_count": null,
   "id": "815ec164",
   "metadata": {},
   "outputs": [],
   "source": []
  },
  {
   "cell_type": "code",
   "execution_count": null,
   "id": "e0c9e2bb",
   "metadata": {},
   "outputs": [],
   "source": []
  },
  {
   "cell_type": "markdown",
   "id": "433a41eb",
   "metadata": {},
   "source": [
    "72. Write a Python program to find the indices of three numbers that sum to 0 in a given list of numbers. Go to the editor\n",
    "Input: [12, -7, 3, -89, 14, 4, -78, -1, 2, 7]\n",
    "Output:\n",
    "[1, 2, 5]\n",
    "Input: [1, 2, 3, 4, 5, 6, -7]\n",
    "Output:\n",
    "[2, 3, 6]"
   ]
  },
  {
   "cell_type": "code",
   "execution_count": 38,
   "id": "4095c287",
   "metadata": {},
   "outputs": [
    {
     "data": {
      "text/plain": [
       "[1, 2, 5]"
      ]
     },
     "execution_count": 38,
     "metadata": {},
     "output_type": "execute_result"
    }
   ],
   "source": [
    "def three(num):\n",
    "    n=len(num)-1\n",
    "    l=[]\n",
    "    for i in range(n-2):\n",
    "        for j in range(i+1, n-1):\n",
    "            for k in range(j+1, n):\n",
    "                if num[i]+num[j]+num[k]==0:\n",
    "                    l.extend([i,j,k])\n",
    "    return l\n",
    "num=[12, -7, 3, -89, 14, 4, -78, -1, 2, 7]\n",
    "three(num)"
   ]
  },
  {
   "cell_type": "code",
   "execution_count": null,
   "id": "bdbfbae3",
   "metadata": {},
   "outputs": [],
   "source": []
  },
  {
   "cell_type": "markdown",
   "id": "08dbf6a1",
   "metadata": {},
   "source": [
    "73. Write a Python program to find a substring in a given string contains a vowel between two consonants. Go to the editor\n",
    "Input: Hello\n",
    "Output:\n",
    "Hel\n",
    "Input: Sandwhich\n",
    "Output:\n",
    "San\n",
    "Input: Python\n",
    "Output:\n",
    "hon"
   ]
  },
  {
   "cell_type": "code",
   "execution_count": 42,
   "id": "5c3ba062",
   "metadata": {},
   "outputs": [
    {
     "data": {
      "text/plain": [
       "'hon'"
      ]
     },
     "execution_count": 42,
     "metadata": {},
     "output_type": "execute_result"
    }
   ],
   "source": [
    "def substring(s):\n",
    "    l=len(s)-1\n",
    "    v=\"aeiou\"\n",
    "    for i in range(1,l):\n",
    "        if s[i-1] not in v and s[i+1] not in v and s[i] in v: \n",
    "            return \"\".join([s[i-1], s[i], s[i+1]])\n",
    "substring(\"Python\")"
   ]
  },
  {
   "cell_type": "code",
   "execution_count": null,
   "id": "8aaf60d8",
   "metadata": {},
   "outputs": [],
   "source": []
  },
  {
   "cell_type": "markdown",
   "id": "b36b7426",
   "metadata": {},
   "source": [
    "74. Write a Python program to find a string consisting of space-separated characters with given counts. Go to the editor\n",
    "Input: {'f': 1, 'o': 2}\n",
    "Output:\n",
    "f o o\n",
    "Input: {'a': 1, 'b': 1, 'c': 1}\n",
    "Output:\n",
    "a b c"
   ]
  },
  {
   "cell_type": "code",
   "execution_count": null,
   "id": "138191b0",
   "metadata": {},
   "outputs": [],
   "source": []
  },
  {
   "cell_type": "code",
   "execution_count": null,
   "id": "b1f8e12f",
   "metadata": {},
   "outputs": [],
   "source": []
  },
  {
   "cell_type": "markdown",
   "id": "8938a1cf",
   "metadata": {},
   "source": [
    "75. Write a Python program to reorder numbers from a give array in increasing/decreasing order based on whether the first plus last element is odd/even. Go to the editor\n",
    "Reorder numbers of a give array in increasing/decreasing order based on whether the first plus last element is odd/even.:\n",
    "Input:\n",
    "[3, 7, 4]\n",
    "Output:\n",
    "[3, 4, 7]\n",
    "Input: \n",
    "[2, 7, 4]\n",
    "Output:\n",
    "[7, 4, 2]\n",
    "Input: \n",
    "[1, 5, 6, 7, 4, 2, 8] \n",
    "Output:\n",
    "[1, 2, 4, 5, 6, 7, 8]\n",
    "Input: \n",
    "[1, 5, 6, 7, 4, 2, 9]\n",
    "Output:\n",
    "[9, 7, 6, 5, 4, 2, 1]"
   ]
  },
  {
   "cell_type": "code",
   "execution_count": null,
   "id": "96f36788",
   "metadata": {},
   "outputs": [],
   "source": []
  },
  {
   "cell_type": "code",
   "execution_count": null,
   "id": "d0ca6ce3",
   "metadata": {},
   "outputs": [],
   "source": []
  },
  {
   "cell_type": "markdown",
   "id": "20c911dc",
   "metadata": {},
   "source": [
    "76. Write a Python program to find the index of the largest prime in the list and the sum of its digits. Go to the editor\n",
    "Input: [3, 7, 4] \n",
    "Output:\n",
    "[1, 7]\n",
    "Input: [3, 11, 7, 17, 19, 4] \n",
    "Output:\n",
    "[4, 10]\n",
    "Input: [23, 17, 201, 14, 10473, 43225, 421, 423, 11, 10, 2022, 342157]\n",
    "Output:\n",
    "[6, 7]"
   ]
  },
  {
   "cell_type": "code",
   "execution_count": null,
   "id": "2f2ea280",
   "metadata": {},
   "outputs": [],
   "source": []
  },
  {
   "cell_type": "code",
   "execution_count": null,
   "id": "ec449d4d",
   "metadata": {},
   "outputs": [],
   "source": []
  },
  {
   "cell_type": "markdown",
   "id": "ffb8f0be",
   "metadata": {},
   "source": [
    "77. Write a Python program to convert GPAs to letter grades according to the following table: Go to the editor\n",
    "\n",
    "GPAs\tGrades\n",
    "4.0:\tA+\n",
    "3.7:\tA\n",
    "3.4:\tA-\n",
    "3.0:\tB+\n",
    "2.7:\tB\n",
    "2.4:\tB-\n",
    "2.0:\tC+\n",
    "1.7:\tC\n",
    "1.4:\tC-\n",
    "below:\tF\n",
    "Input: \n",
    "[4.0, 3.5, 3.8]\n",
    "Output:\n",
    "['A+', 'A-', 'A']\n",
    "Input: \n",
    "[5.0, 4.7, 3.4, 3.0, 2.7, 2.4, 2.0, 1.7, 1.4, 0.0]\n",
    "Output:\n",
    "['A+', 'A+', 'A-', 'B+', 'B', 'B-', 'C+', 'C', 'C-', 'F']"
   ]
  },
  {
   "cell_type": "code",
   "execution_count": null,
   "id": "62837b86",
   "metadata": {},
   "outputs": [],
   "source": []
  },
  {
   "cell_type": "code",
   "execution_count": null,
   "id": "1288f494",
   "metadata": {},
   "outputs": [],
   "source": []
  },
  {
   "cell_type": "markdown",
   "id": "09f8bd41",
   "metadata": {},
   "source": [
    "78. Write a Python program to find the two closest distinct numbers in a given a list of numbers. Go to the editor\n",
    "Input: \n",
    "[1.3, 5.24, 0.89, 21.0, 5.27, 1.3]\n",
    "Output:\n",
    "[5.24, 5.27]\n",
    "Input: \n",
    "[12.02, 20.3, 15.0, 19.0, 11.0, 14.99, 17.0, 17.0, 14.4, 16.8]\n",
    "Output:\n",
    "[14.99, 15.0]"
   ]
  },
  {
   "cell_type": "code",
   "execution_count": null,
   "id": "78adefd3",
   "metadata": {},
   "outputs": [],
   "source": []
  },
  {
   "cell_type": "code",
   "execution_count": null,
   "id": "452fbd13",
   "metadata": {},
   "outputs": [],
   "source": []
  },
  {
   "cell_type": "markdown",
   "id": "70f7e7cc",
   "metadata": {},
   "source": [
    "79. Write a Python program to find the largest negative and smallest positive numbers (or 0 if none). Go to the editor\n",
    "Input: \n",
    "[-12, -6, 300, -40, 2, 2, 3, 57, -50, -22, 12, 40, 9, 11, 18]\n",
    "Output:\n",
    "[-6, 2]\n",
    "Input: \n",
    "[-1, -2, -3, -4]\n",
    "Output:\n",
    "[-1, 0]\n",
    "Input: \n",
    "[1, 2, 3, 4]\n",
    "Output:\n",
    "[0, 1]\n",
    "Input:\n",
    "[]\n",
    "Output:\n",
    "[0, 0]"
   ]
  },
  {
   "cell_type": "code",
   "execution_count": 11,
   "id": "50cee836",
   "metadata": {},
   "outputs": [
    {
     "data": {
      "text/plain": [
       "[-6, 2]"
      ]
     },
     "execution_count": 11,
     "metadata": {},
     "output_type": "execute_result"
    }
   ],
   "source": [
    "def maxmin(num):\n",
    "    neg=[i for i in num if i<0]\n",
    "    pos=[i for i in num if i>0]\n",
    "    return [max(neg) if neg else 0, min(pos) if pos else 0]\n",
    "num=[-12, -6, 300, -40, 2, 2, 3, 57, -50, -22, 12, 40, 9, 11, 18]\n",
    "maxmin(num)"
   ]
  },
  {
   "cell_type": "code",
   "execution_count": null,
   "id": "cd1b6701",
   "metadata": {},
   "outputs": [],
   "source": []
  },
  {
   "cell_type": "markdown",
   "id": "f72d09ce",
   "metadata": {},
   "source": [
    "80. Write a Python program to round each float in a given list of number up to the next integer and return the running total of the integer squares. Go to the editor\n",
    "Input: [2.6, 3.5, 6.7, 2.3, 5.6]\n",
    "Output:\n",
    "[9, 25, 74, 83, 119]\n",
    "Input: [301.1, 401.4, -23.1, 13554122.0, 10201.0101, 10000000.0]\n",
    "Output:\n",
    "[91204, 252808, 253337, 183714223444221, 183714327525025, 283714327525025]"
   ]
  },
  {
   "cell_type": "code",
   "execution_count": null,
   "id": "a2faa510",
   "metadata": {},
   "outputs": [],
   "source": []
  },
  {
   "cell_type": "code",
   "execution_count": null,
   "id": "83425521",
   "metadata": {},
   "outputs": [],
   "source": []
  },
  {
   "cell_type": "markdown",
   "id": "0c16cfb9",
   "metadata": {},
   "source": [
    "81. Write a Python program to calculate the average of the numbers a through b ( b not included ) rounded to nearest integer, in binary (or -1 if there are no such numbers). Go to the editor\n",
    "Input: \n",
    "4 , 7\n",
    "Output:\n",
    "0b101\n",
    "Input:\n",
    "11 , 19\n",
    "Output:\n",
    "0b1110"
   ]
  },
  {
   "cell_type": "code",
   "execution_count": null,
   "id": "b218f2e6",
   "metadata": {},
   "outputs": [],
   "source": []
  },
  {
   "cell_type": "code",
   "execution_count": null,
   "id": "702f28a1",
   "metadata": {},
   "outputs": [],
   "source": []
  },
  {
   "cell_type": "markdown",
   "id": "997bd4ca",
   "metadata": {},
   "source": [
    "82. Write a Python program to find the sublist of numbers from a given list of numbers with only odd digits in increasing order. Go to the editor\n",
    "Input:\n",
    "[1, 3, 79, 10, 4, 2, 39]\n",
    "Output:\n",
    "[1, 3, 39, 79]\n",
    "Input:\n",
    "[11, 31, 40, 68, 77, 93, 48, 1, 57]\n",
    "Output:\n",
    "[1, 11, 31, 57, 77, 93]\n",
    "Input:\n",
    "[9, -2, 3, 4, -2, 0, 2, -3, 8, -1]\n",
    "Output:\n",
    "[-3, -1, 3, 9]"
   ]
  },
  {
   "cell_type": "code",
   "execution_count": null,
   "id": "388f0e0b",
   "metadata": {},
   "outputs": [],
   "source": []
  },
  {
   "cell_type": "code",
   "execution_count": null,
   "id": "3163ee1f",
   "metadata": {},
   "outputs": [],
   "source": []
  },
  {
   "cell_type": "markdown",
   "id": "79d8537c",
   "metadata": {},
   "source": [
    "83. A string is happy if every three consecutive characters are distinct. Write a Python program to find two indices making a given string unhappy. Go to the editor\n",
    "Input: \n",
    "Python\n",
    "Output:\n",
    "None\n",
    "Input: \n",
    "Unhappy\n",
    "Output:\n",
    "[4, 5]\n",
    "Input: \n",
    "Find\n",
    "Output:\n",
    "None\n",
    "Input:\n",
    "Street\n",
    "Output:\n",
    "[3, 4]"
   ]
  },
  {
   "cell_type": "code",
   "execution_count": 201,
   "id": "0ebb4f16",
   "metadata": {},
   "outputs": [],
   "source": [
    "def test(s):\n",
    "    for i in range(len(s) - 2):\n",
    "        if s[i] == s[i + 1]:\n",
    "            return [i, i + 1]\n",
    "        if s[i] == s[i + 2]:\n",
    "            return [i, i + 2]   "
   ]
  },
  {
   "cell_type": "code",
   "execution_count": null,
   "id": "bc246589",
   "metadata": {},
   "outputs": [],
   "source": []
  },
  {
   "cell_type": "code",
   "execution_count": 202,
   "id": "ccda7a7b",
   "metadata": {},
   "outputs": [
    {
     "name": "stdout",
     "output_type": "stream",
     "text": [
      "p\n",
      "p\n",
      "[1, 1]\n"
     ]
    },
    {
     "data": {
      "text/plain": [
       "'None'"
      ]
     },
     "execution_count": 202,
     "metadata": {},
     "output_type": "execute_result"
    }
   ],
   "source": [
    "s=\"Uphapy\"\n",
    "unhapy(s)"
   ]
  },
  {
   "cell_type": "markdown",
   "id": "669027e0",
   "metadata": {},
   "source": [
    "84. Write a Python program to find the index of the matching parentheses for each character in a given string. Go to the editor\n",
    "Input: ()(())\n",
    "Output:\n",
    "[1, 0, 5, 4, 3, 2]\n",
    "Input: ()()()\n",
    "Output:\n",
    "[1, 0, 3, 2, 5, 4]\n",
    "Input: ((()))\n",
    "Output:\n",
    "[5, 4, 3, 2, 1, 0]"
   ]
  },
  {
   "cell_type": "code",
   "execution_count": null,
   "id": "497c72fa",
   "metadata": {},
   "outputs": [],
   "source": []
  },
  {
   "cell_type": "code",
   "execution_count": null,
   "id": "b75d7b3b",
   "metadata": {},
   "outputs": [],
   "source": []
  },
  {
   "cell_type": "markdown",
   "id": "e0a33426",
   "metadata": {},
   "source": [
    "85. Write a Python program to find an increasing sequence consisting of the elements of the original list. Go to the editor\n",
    "Input: \n",
    "[1, 3, 79, 10, 4, 2, 39]\n",
    "Output:\n",
    "[1, 2, 3, 4, 10, 39, 79]\n",
    "Input: \n",
    "[11, 31, 40, 68, 77, 93, 48, 1, 57]\n",
    "Output:\n",
    "[1, 11, 31, 40, 48, 57, 68, 77, 93]\n",
    "Input: \n",
    "[9, -2, 3, 4, -2, 0, 2, -3, 8, -1]\n",
    "Output:\n",
    "[-3, -2, -1, 0, 2, 3, 4, 8, 9]"
   ]
  },
  {
   "cell_type": "code",
   "execution_count": 4,
   "id": "05f12e1f",
   "metadata": {},
   "outputs": [
    {
     "data": {
      "text/plain": [
       "[1, 2, 3, 4, 10, 39, 79]"
      ]
     },
     "execution_count": 4,
     "metadata": {},
     "output_type": "execute_result"
    }
   ],
   "source": [
    "def sort(num):\n",
    "    l=[]\n",
    "    while num:\n",
    "        minum=num[0]\n",
    "        for i in num:\n",
    "            if i <minum:\n",
    "                minum=i\n",
    "        l.append(minum)\n",
    "        num.remove(minum)\n",
    "    return l\n",
    "num=[1, 3, 79, 10, 4, 2, 39] \n",
    "sort(num)"
   ]
  },
  {
   "cell_type": "code",
   "execution_count": null,
   "id": "88dd145e",
   "metadata": {},
   "outputs": [],
   "source": []
  },
  {
   "cell_type": "markdown",
   "id": "7c6c5b7c",
   "metadata": {},
   "source": [
    "86. Write a Python program to find the vowels from each of the original texts (y counts as a vowel at the end of the word) from a given list of strings. Go to the editor\n",
    "Input: ['w3resource', 'Python', 'Java', 'C++']\n",
    "Output:\n",
    "['eoue', 'o', 'aa', '']\n",
    "Input: ['ably', 'abruptly', 'abecedary', 'apparently', 'acknowledgedly']\n",
    "Output:\n",
    "['ay', 'auy', 'aeeay', 'aaey', 'aoeey']"
   ]
  },
  {
   "cell_type": "code",
   "execution_count": null,
   "id": "647bc338",
   "metadata": {},
   "outputs": [],
   "source": []
  },
  {
   "cell_type": "code",
   "execution_count": null,
   "id": "911d9bbe",
   "metadata": {},
   "outputs": [],
   "source": []
  },
  {
   "cell_type": "markdown",
   "id": "a46c17f4",
   "metadata": {},
   "source": [
    "87. Write a Python program to find a valid substring of a given string that contains matching brackets, at least one of which is nested. Go to the editor\n",
    "Input: \n",
    "]][][[]]] \n",
    "Output:\n",
    "[[]]\n",
    "Input: \n",
    "]]]]]]]]]]]]]]]]][][][][]]]]]]]]]]][[[][[][[[[[][][][]][[[[[[[[[[[[[[[[[[ \n",
    "Output:\n",
    "[[][][][]]"
   ]
  },
  {
   "cell_type": "code",
   "execution_count": null,
   "id": "49d63f95",
   "metadata": {},
   "outputs": [],
   "source": []
  },
  {
   "cell_type": "code",
   "execution_count": null,
   "id": "77b5c92d",
   "metadata": {},
   "outputs": [],
   "source": []
  },
  {
   "cell_type": "markdown",
   "id": "894a0574",
   "metadata": {},
   "source": [
    "88. Write a Python program to find an integer (n >= 0) with the given number of even and odd digits. Go to the editor\n",
    "Input: \n",
    "Number of even digits: 2 ,Number of odd digits: 3\n",
    "Output:\n",
    "22333\n",
    "Input: \n",
    "Number of even digits: 4 ,Number of odd digits: 7\n",
    "Output:\n",
    "22223333333"
   ]
  },
  {
   "cell_type": "code",
   "execution_count": null,
   "id": "dce9d7b8",
   "metadata": {},
   "outputs": [],
   "source": []
  },
  {
   "cell_type": "code",
   "execution_count": null,
   "id": "bf80e533",
   "metadata": {},
   "outputs": [],
   "source": []
  },
  {
   "cell_type": "markdown",
   "id": "36ead71e",
   "metadata": {},
   "source": [
    "89. Write a Python program to find all integers <= 1000 that are the product of exactly three primes. Each integer should represent as the list of its three prime factors. Go to the editor\n",
    "Input: 10\n",
    "Output:\n",
    "[[2, 2, 2]]\n",
    "Input: 50\n",
    "Output:\n",
    "[[2, 2, 2], [2, 2, 3], [2, 2, 5], [2, 2, 7], [2, 2, 11], [2, 3, 2], [2, 3, 3], [2, 3, 5], [2, 3, 7], [2, 5, 2], [2, 5, 3], [2, 5, 5], [2, 7, 2], [2, 7, 3], [2, 11, 2], [3, 2, 2], [3, 2, 3], [3, 2, 5], [3, 2, 7], [3, 3, 2], [3, 3, 3], [3, 3, 5], [3, 5, 2], [3, 5, 3], [3, 7, 2], [5, 2, 2], [5, 2, 3], [5, 2, 5], [5, 3, 2], [5, 3, 3], [5, 5, 2], [7, 2, 2], [7, 2, 3], [7, 3, 2], [11, 2, 2]]"
   ]
  },
  {
   "cell_type": "code",
   "execution_count": null,
   "id": "995a93dd",
   "metadata": {},
   "outputs": [],
   "source": []
  },
  {
   "cell_type": "code",
   "execution_count": null,
   "id": "c22df97b",
   "metadata": {},
   "outputs": [],
   "source": []
  },
  {
   "cell_type": "markdown",
   "id": "3f165efd",
   "metadata": {},
   "source": [
    "90. For each triple of eaten, need, stock write a Python program to get a pair of total appetite and remaining. Go to the editor\n",
    "Input:\n",
    "[[2, 5, 6], [3, 9, 22]]\n",
    "Output:\n",
    "[[7, 1], [12, 13]]\n",
    "Input:\n",
    "[[2, 3, 18], [4, 9, 2], [2, 5, 7], [3, 8, 12], [4, 9, 106]]\n",
    "Output:\n",
    "[[5, 15], [6, 0], [7, 2], [11, 4], [13, 97]]\n",
    "Input:\n",
    "[[1, 2, 3], [4, 5, 6]]\n",
    "Output:\n",
    "[[3, 1], [9, 1]]"
   ]
  },
  {
   "cell_type": "code",
   "execution_count": null,
   "id": "ff367a68",
   "metadata": {},
   "outputs": [],
   "source": []
  },
  {
   "cell_type": "markdown",
   "id": "8ab62ce9",
   "metadata": {},
   "source": []
  },
  {
   "cell_type": "markdown",
   "id": "7dc90062",
   "metadata": {},
   "source": [
    "91. Write a Python program to find all n-digit integers that start or end with 2. Go to the editor\n",
    "Input: 1\n",
    "Output:\n",
    "[2]\n",
    "Input: 2\n",
    "Output:\n",
    "[12, 20, 21, 22, 23, 24, 25, 26, 27, 28, 29, 32, 42, 52, 62, 72, 82, 92]\n",
    "Input: 3\n",
    "Output:\n",
    "[102, 112, 122, 132, 142, 152, 162, 172, 182, 192, 200, 201, 202, 203, 204, 205, 206, 207, 208, 209, 210, 211, 212, 213, 214, 215, 216, 217, 218, 219, 220, 221, 222, 223, 224, 225, 226, 227, 228, 229, 230, 231, 232, 233, 234, 235, 236, 237, 238, 239, 240, 241, 242, 243, 244, 245, 246, 247, 248, 249, 250, 251, 252, 253, 254, 255, 256, 257, 258, 259, 260, 261, 262, 263, 264, 265, 266, 267, 268, 269, 270, 271, 272, 273, 274, 275, 276, 277, 278, 279, 280, 281, 282, 283, 284, 285, 286, 287, 288, 289, 290, 291, 292, 293, 294, 295, 296, 297, 298, 299, 302, 312, 322, 332, 342, 352, 362, 372, 382, 392, 402, 412, 422, 432, 442, 452, 462, 472, 482, 492, 502, 512, 522, 532, 542, 552, 562, 572, 582, 592, 602, 612, 622, 632, 642, 652, 662, 672, 682, 692, 702, 712, 722, 732, 742, 752, 762, 772, 782, 792, 802, 812, 822, 832, 842, 852, 862, 872, 882, 892, 902, 912, 922, 932, 942, 952, 962, 972, 982, 992]\n",
    "\n",
    "92. Write a Python program to start with a list of integers, keep every other element in place and otherwise sort the list. Go to the editor\n",
    "Input: \n",
    "[2, 5, 6, 3, 1, 4, 34]\n",
    "Output:\n",
    "[1, 5, 2, 3, 6, 4, 34]\n",
    "Input: \n",
    "[8, 0, 7, 2, 9, 4, 1, 2, 8, 3]\n",
    "Output:\n",
    "[1, 0, 7, 2, 8, 4, 8, 2, 9, 3]"
   ]
  },
  {
   "cell_type": "markdown",
   "id": "1ee7d5d9",
   "metadata": {},
   "source": []
  },
  {
   "cell_type": "markdown",
   "id": "f4ef5321",
   "metadata": {},
   "source": [
    "93. Write a Python program to find the closest palindrome from a given string. Go to the editor\n",
    "Input: \n",
    "cat\n",
    "Output:\n",
    "cac\n",
    "Input: \n",
    "madan\n",
    "Output:\n",
    "madam\n",
    "Input: \n",
    "radivider\n",
    "Output:\n",
    "radividar\n",
    "Input: \n",
    "madan\n",
    "Output:\n",
    "madam\n",
    "Input:\n",
    "abc\n",
    "Output:\n",
    "aba\n",
    "Input:\n",
    "racecbr\n",
    "Output:\n",
    "racecar\n",
    "\n",
    "94. Given a string consisting of whitespace and groups of matched parentheses, write a Python program to split it into groups of perfectly matched parentheses without any whitespace. Go to the editor\n",
    "Input: \n",
    "( ()) ((()()())) (()) ()\n",
    "Output:\n",
    "['(())', '((()()()))', '(())', '()']\n",
    "Input: \n",
    "() (( ( )() ( )) ) ( ())\n",
    "Output:\n",
    "['()', '((()()()))', '(())']"
   ]
  },
  {
   "cell_type": "markdown",
   "id": "44e7f4bb",
   "metadata": {},
   "source": []
  },
  {
   "cell_type": "markdown",
   "id": "dbfed282",
   "metadata": {},
   "source": []
  },
  {
   "cell_type": "markdown",
   "id": "e2e82eac",
   "metadata": {},
   "source": [
    "95. Write a Python program to find a palindrome of a given length containing a given string. Go to the editor\n",
    "Input: madam , 7\n",
    "Output:\n",
    "madaadam\n",
    "Input: madam , 6\n",
    "Output:\n",
    "maddam\n",
    "Input: madam , 5\n",
    "Output:\n",
    "maaaam\n",
    "Input: madam , 3\n",
    "Output:\n",
    "maam\n",
    "Input: madam , 2\n",
    "Output:\n",
    "mm \n",
    "Input: madam , 1\n",
    "Output:\n",
    "aa\n",
    "\n",
    "96. Write a Python program to get the single digits in numbers sorted backwards and converted to English words. Go to the editor\n",
    "Input: \n",
    "[1, 3, 4, 5, 11]\n",
    "Output:\n",
    "['five', 'four', 'three', 'one']\n",
    "Input: \n",
    "[27, 3, 8, 5, 1, 31]\n",
    "Output:\n",
    "['eight', 'five', 'three', 'one']"
   ]
  },
  {
   "cell_type": "markdown",
   "id": "f2a92f8e",
   "metadata": {},
   "source": []
  },
  {
   "cell_type": "markdown",
   "id": "4b54f9e9",
   "metadata": {},
   "source": [
    "97. Write a Python program to find the following strange sort of list of numbers: the first element is the smallest, the second is the largest of the remaining, the third is the smallest of the remaining, the fourth is the smallest of the remaining, etc. Go to the editor\n",
    "Input:\n",
    "[1, 3, 4, 5, 11]\n",
    "Output:\n",
    "[1, 11, 3, 5, 4]\n",
    "Input:\n",
    "[27, 3, 8, 5, 1, 31]\n",
    "Output:\n",
    "[1, 31, 3, 27, 5, 8]\n",
    "Input:\n",
    "[1, 2, 7, 3, 4, 5, 6]\n",
    "Output:\n",
    "[1, 7, 2, 6, 3, 5, 4]\n",
    "\n",
    "98. Given a string consisting of groups of matched nested parentheses separated by parentheses, write a Python program to compute the depth of each group. Go to the editor\n",
    "Input: (()) (()) () ((()()())) \n",
    "Output:\n",
    "[2, 2, 1, 3]\n",
    "Input: () (()) () () () ()\n",
    "Output:\n",
    "[1, 2, 1, 1, 1, 1]\n",
    "Input: (((((((()))))))) () (()) ((()()()))\n",
    "Output:\n",
    "[8, 1, 2, 3]"
   ]
  },
  {
   "cell_type": "code",
   "execution_count": null,
   "id": "517be07c",
   "metadata": {},
   "outputs": [],
   "source": []
  },
  {
   "cell_type": "code",
   "execution_count": null,
   "id": "084096b4",
   "metadata": {},
   "outputs": [],
   "source": []
  },
  {
   "cell_type": "markdown",
   "id": "527ae739",
   "metadata": {},
   "source": [
    "99. Write a Python program to find a string such that, when three or more spaces are compacted to a '-' and one or two spaces are replaced by underscores, leads to the target. Go to the editor\n",
    "Input: Python-Exercises\n",
    "Output:\n",
    "Python Exercises\n",
    "Input: Python_Exercises\n",
    "Output:\n",
    "Python Exercises\n",
    "Input: -Hello,_world!__This_is-so-easy!-\n",
    "Output:\n",
    "Hello, world! This is so easy! "
   ]
  },
  {
   "cell_type": "code",
   "execution_count": 121,
   "id": "1b63ecb2",
   "metadata": {},
   "outputs": [],
   "source": [
    "def string(s):\n",
    "    return s.replace(\"-\", \" \" * 3).replace(\"_\", \" \")"
   ]
  },
  {
   "cell_type": "code",
   "execution_count": 122,
   "id": "37b366a1",
   "metadata": {},
   "outputs": [
    {
     "data": {
      "text/plain": [
       "'   Hello, world!  This is   so   easy!   '"
      ]
     },
     "execution_count": 122,
     "metadata": {},
     "output_type": "execute_result"
    }
   ],
   "source": [
    "string(\"-Hello,_world!__This_is-so-easy!-\")"
   ]
  },
  {
   "cell_type": "markdown",
   "id": "922a60ca",
   "metadata": {},
   "source": [
    "100. Write a Python program to find four positive even integers whose sum is a given integer. Go to the editor\n",
    "Input:\n",
    "n = 100\n",
    "Output:\n",
    "[94, 2, 2, 2]\n",
    "Input:\n",
    "n = 1000\n",
    "Output:\n",
    "[994, 2, 2, 2]\n",
    "Input:\n",
    "n = 10000\n",
    "Output:\n",
    "[9994, 2, 2, 2]\n",
    "Input:\n",
    "n = 1234567890\n",
    "Output:\n",
    "[1234567884, 2, 2, 2]"
   ]
  },
  {
   "cell_type": "code",
   "execution_count": null,
   "id": "e9d3f439",
   "metadata": {},
   "outputs": [],
   "source": [
    "# look for even number\n",
    "#loop through the range number\n",
    "#substract number 6\n",
    "\n",
    "#\n",
    "#"
   ]
  },
  {
   "cell_type": "code",
   "execution_count": 42,
   "id": "9de3274d",
   "metadata": {},
   "outputs": [],
   "source": [
    "def positive(num):\n",
    "    if num%2==0:\n",
    "        return [num-6, 2, 2, 2]"
   ]
  },
  {
   "cell_type": "code",
   "execution_count": 45,
   "id": "aea78d77",
   "metadata": {},
   "outputs": [
    {
     "data": {
      "text/plain": [
       "[1234567884, 2, 2, 2]"
      ]
     },
     "execution_count": 45,
     "metadata": {},
     "output_type": "execute_result"
    }
   ],
   "source": [
    "positive(1234567890)"
   ]
  },
  {
   "cell_type": "code",
   "execution_count": 55,
   "id": "23fc9947",
   "metadata": {},
   "outputs": [],
   "source": [
    "def test(n):\n",
    "    for a in range(n, 0, -1):\n",
    "        if not a % 2 == 0:\n",
    "            continue\n",
    "            print(a)\n",
    "        for b in range(n - a, 0, -1):\n",
    "            if not b % 2 == 0:\n",
    "                continue\n",
    "            for c in range(n - b - a, 0, -1):\n",
    "                if not c % 2 == 0:\n",
    "                    continue\n",
    "                for d in range(n - b - c - a, 0, -1):\n",
    "                    if not d % 2 == 0:\n",
    "                        continue\n",
    "                    if a + b + c + d == n:\n",
    "                        return [a, b, c, d]"
   ]
  },
  {
   "cell_type": "code",
   "execution_count": 69,
   "id": "68e7dca0",
   "metadata": {},
   "outputs": [
    {
     "name": "stdout",
     "output_type": "stream",
     "text": [
      "9\n",
      "7\n",
      "5\n",
      "3\n",
      "1\n"
     ]
    }
   ],
   "source": [
    "for a in range(10, 0, -1):\n",
    "    if a % 2 != 0:\n",
    "        print(a)\n",
    "        continue\n",
    "        print(f'l{a}')"
   ]
  },
  {
   "cell_type": "code",
   "execution_count": 51,
   "id": "f4f7dd55",
   "metadata": {},
   "outputs": [
    {
     "data": {
      "text/plain": [
       "False"
      ]
     },
     "execution_count": 51,
     "metadata": {},
     "output_type": "execute_result"
    }
   ],
   "source": [
    "100 % 2 != 0"
   ]
  },
  {
   "cell_type": "code",
   "execution_count": null,
   "id": "98e15ce6",
   "metadata": {},
   "outputs": [],
   "source": []
  }
 ],
 "metadata": {
  "kernelspec": {
   "display_name": "Python 3 (ipykernel)",
   "language": "python",
   "name": "python3"
  },
  "language_info": {
   "codemirror_mode": {
    "name": "ipython",
    "version": 3
   },
   "file_extension": ".py",
   "mimetype": "text/x-python",
   "name": "python",
   "nbconvert_exporter": "python",
   "pygments_lexer": "ipython3",
   "version": "3.8.10"
  }
 },
 "nbformat": 4,
 "nbformat_minor": 5
}
