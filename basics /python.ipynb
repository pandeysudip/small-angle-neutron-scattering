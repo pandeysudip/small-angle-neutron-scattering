{
 "cells": [
  {
   "cell_type": "markdown",
   "id": "898caca2",
   "metadata": {},
   "source": [
    "\n",
    " ## 500 basics Python (Exercises) ##"
   ]
  },
  {
   "cell_type": "code",
   "execution_count": null,
   "id": "7aab37bb",
   "metadata": {},
   "outputs": [],
   "source": [
    "# Exercise 1\n",
    "def silly_case(in_string):\n",
    "    \"\"\"Given a string, convert it to a string such that each word starts with\n",
    "        a lower case letter, and the remaining letters are upper case.\n",
    "        Return the silly case string.\"\"\"\n",
    "    return in_string.lower().swapcase()"
   ]
  },
  {
   "cell_type": "markdown",
   "id": "dde06a6a",
   "metadata": {},
   "source": [
    "import pandas as pd\n",
    "df=pd.read_csv(\"Measurements.csv\")\n",
    "df.head(50)"
   ]
  },
  {
   "cell_type": "code",
   "execution_count": 8,
   "id": "c2f9947c",
   "metadata": {},
   "outputs": [],
   "source": [
    "X=df['Sunshine hours (hours per day)'].to_numpy().reshape(-1,1)\n",
    "y=df['Billiard club occupancy (%)'].to_numpy().reshape(-1,1)"
   ]
  },
  {
   "cell_type": "code",
   "execution_count": 9,
   "id": "609d1fdd",
   "metadata": {},
   "outputs": [
    {
     "data": {
      "text/html": [
       "<style>#sk-container-id-1 {color: black;background-color: white;}#sk-container-id-1 pre{padding: 0;}#sk-container-id-1 div.sk-toggleable {background-color: white;}#sk-container-id-1 label.sk-toggleable__label {cursor: pointer;display: block;width: 100%;margin-bottom: 0;padding: 0.3em;box-sizing: border-box;text-align: center;}#sk-container-id-1 label.sk-toggleable__label-arrow:before {content: \"▸\";float: left;margin-right: 0.25em;color: #696969;}#sk-container-id-1 label.sk-toggleable__label-arrow:hover:before {color: black;}#sk-container-id-1 div.sk-estimator:hover label.sk-toggleable__label-arrow:before {color: black;}#sk-container-id-1 div.sk-toggleable__content {max-height: 0;max-width: 0;overflow: hidden;text-align: left;background-color: #f0f8ff;}#sk-container-id-1 div.sk-toggleable__content pre {margin: 0.2em;color: black;border-radius: 0.25em;background-color: #f0f8ff;}#sk-container-id-1 input.sk-toggleable__control:checked~div.sk-toggleable__content {max-height: 200px;max-width: 100%;overflow: auto;}#sk-container-id-1 input.sk-toggleable__control:checked~label.sk-toggleable__label-arrow:before {content: \"▾\";}#sk-container-id-1 div.sk-estimator input.sk-toggleable__control:checked~label.sk-toggleable__label {background-color: #d4ebff;}#sk-container-id-1 div.sk-label input.sk-toggleable__control:checked~label.sk-toggleable__label {background-color: #d4ebff;}#sk-container-id-1 input.sk-hidden--visually {border: 0;clip: rect(1px 1px 1px 1px);clip: rect(1px, 1px, 1px, 1px);height: 1px;margin: -1px;overflow: hidden;padding: 0;position: absolute;width: 1px;}#sk-container-id-1 div.sk-estimator {font-family: monospace;background-color: #f0f8ff;border: 1px dotted black;border-radius: 0.25em;box-sizing: border-box;margin-bottom: 0.5em;}#sk-container-id-1 div.sk-estimator:hover {background-color: #d4ebff;}#sk-container-id-1 div.sk-parallel-item::after {content: \"\";width: 100%;border-bottom: 1px solid gray;flex-grow: 1;}#sk-container-id-1 div.sk-label:hover label.sk-toggleable__label {background-color: #d4ebff;}#sk-container-id-1 div.sk-serial::before {content: \"\";position: absolute;border-left: 1px solid gray;box-sizing: border-box;top: 0;bottom: 0;left: 50%;z-index: 0;}#sk-container-id-1 div.sk-serial {display: flex;flex-direction: column;align-items: center;background-color: white;padding-right: 0.2em;padding-left: 0.2em;position: relative;}#sk-container-id-1 div.sk-item {position: relative;z-index: 1;}#sk-container-id-1 div.sk-parallel {display: flex;align-items: stretch;justify-content: center;background-color: white;position: relative;}#sk-container-id-1 div.sk-item::before, #sk-container-id-1 div.sk-parallel-item::before {content: \"\";position: absolute;border-left: 1px solid gray;box-sizing: border-box;top: 0;bottom: 0;left: 50%;z-index: -1;}#sk-container-id-1 div.sk-parallel-item {display: flex;flex-direction: column;z-index: 1;position: relative;background-color: white;}#sk-container-id-1 div.sk-parallel-item:first-child::after {align-self: flex-end;width: 50%;}#sk-container-id-1 div.sk-parallel-item:last-child::after {align-self: flex-start;width: 50%;}#sk-container-id-1 div.sk-parallel-item:only-child::after {width: 0;}#sk-container-id-1 div.sk-dashed-wrapped {border: 1px dashed gray;margin: 0 0.4em 0.5em 0.4em;box-sizing: border-box;padding-bottom: 0.4em;background-color: white;}#sk-container-id-1 div.sk-label label {font-family: monospace;font-weight: bold;display: inline-block;line-height: 1.2em;}#sk-container-id-1 div.sk-label-container {text-align: center;}#sk-container-id-1 div.sk-container {/* jupyter's `normalize.less` sets `[hidden] { display: none; }` but bootstrap.min.css set `[hidden] { display: none !important; }` so we also need the `!important` here to be able to override the default hidden behavior on the sphinx rendered scikit-learn.org. See: https://github.com/scikit-learn/scikit-learn/issues/21755 */display: inline-block !important;position: relative;}#sk-container-id-1 div.sk-text-repr-fallback {display: none;}</style><div id=\"sk-container-id-1\" class=\"sk-top-container\"><div class=\"sk-text-repr-fallback\"><pre>LinearRegression()</pre><b>In a Jupyter environment, please rerun this cell to show the HTML representation or trust the notebook. <br />On GitHub, the HTML representation is unable to render, please try loading this page with nbviewer.org.</b></div><div class=\"sk-container\" hidden><div class=\"sk-item\"><div class=\"sk-estimator sk-toggleable\"><input class=\"sk-toggleable__control sk-hidden--visually\" id=\"sk-estimator-id-1\" type=\"checkbox\" checked><label for=\"sk-estimator-id-1\" class=\"sk-toggleable__label sk-toggleable__label-arrow\">LinearRegression</label><div class=\"sk-toggleable__content\"><pre>LinearRegression()</pre></div></div></div></div></div>"
      ],
      "text/plain": [
       "LinearRegression()"
      ]
     },
     "execution_count": 9,
     "metadata": {},
     "output_type": "execute_result"
    }
   ],
   "source": [
    "#using linear regression\n",
    "# Make a linear regression instance\n",
    "lr=LinearRegression()\n",
    "# Training the model on the data, storing the information learned from the data\n",
    "# Model is learning the relationship between X and y \n",
    "lr.fit(X, y)"
   ]
  },
  {
   "cell_type": "code",
   "execution_count": 62,
   "id": "7054c0a8",
   "metadata": {},
   "outputs": [],
   "source": [
    "m=lr.coef_"
   ]
  },
  {
   "cell_type": "code",
   "execution_count": 63,
   "id": "656b2c08",
   "metadata": {},
   "outputs": [],
   "source": [
    "c=lr.intercept_"
   ]
  },
  {
   "cell_type": "code",
   "execution_count": 64,
   "id": "290b2be5",
   "metadata": {},
   "outputs": [],
   "source": [
    "y_new=m*X+c"
   ]
  },
  {
   "cell_type": "code",
   "execution_count": 75,
   "id": "4fc9b40f",
   "metadata": {},
   "outputs": [],
   "source": [
    "residuals=abs(y-y_new)"
   ]
  },
  {
   "cell_type": "code",
   "execution_count": 76,
   "id": "c5a58ecc",
   "metadata": {},
   "outputs": [],
   "source": [
    "df[\"residuals\"]=residuals"
   ]
  },
  {
   "cell_type": "markdown",
   "id": "31a86f09",
   "metadata": {},
   "source": [
    "df.sort_values(['residuals','Sunshine hours (hours per day)'] )"
   ]
  },
  {
   "cell_type": "code",
   "execution_count": 67,
   "id": "c14ab286",
   "metadata": {},
   "outputs": [
    {
     "data": {
      "text/plain": [
       "[<matplotlib.lines.Line2D at 0x7ff139189760>]"
      ]
     },
     "execution_count": 67,
     "metadata": {},
     "output_type": "execute_result"
    },
    {
     "data": {
      "image/png": "[encoded data removed]",
      "text/plain": [
       "<Figure size 432x288 with 1 Axes>"
      ]
     },
     "metadata": {
      "needs_background": "light"
     },
     "output_type": "display_data"
    }
   ],
   "source": [
    "plt.scatter(X,y)\n",
    "plt.plot(X, y_new)"
   ]
  },
  {
   "cell_type": "code",
   "execution_count": null,
   "id": "0ddf81c5",
   "metadata": {},
   "outputs": [],
   "source": []
  },
  {
   "cell_type": "code",
   "execution_count": 61,
   "id": "01613ace",
   "metadata": {},
   "outputs": [
    {
     "name": "stdout",
     "output_type": "stream",
     "text": [
      "3\n"
     ]
    }
   ],
   "source": [
    "def minimal_number_of_packages(items, available_large_packages, available_small_packages):\n",
    "    large_packages=5*available_large_packages\n",
    "    small_packages=1*available_small_packages\n",
    "    if items:\n",
    "        if items>=large_packages: \n",
    "            return available_large_packages+(items-large_packages)\n",
    "        elif items<large_packages and items>5:\n",
    "            return items//5+1\n",
    "        elif large_packages>0:\n",
    "            return 1\n",
    "        else:\n",
    "            return 0\n",
    "    return -1\n",
    "print(minimal_number_of_packages(14, 3, 10))"
   ]
  },
  {
   "cell_type": "code",
   "execution_count": null,
   "id": "c8883de8",
   "metadata": {},
   "outputs": [],
   "source": []
  },
  {
   "cell_type": "code",
   "execution_count": 19,
   "id": "6f10b152",
   "metadata": {},
   "outputs": [
    {
     "name": "stdout",
     "output_type": "stream",
     "text": [
      "X\n"
     ]
    }
   ],
   "source": [
    "if 16-10:\n",
    "    print('X')"
   ]
  },
  {
   "cell_type": "code",
   "execution_count": null,
   "id": "58026434",
   "metadata": {},
   "outputs": [],
   "source": [
    "# Exercise 2 Given a list of word strings, return a single string with all the strings together, with ' - ' in between the words.\n",
    "def dash_stringify(word_list):\n",
    "    \"\"\"Given a list of word strings, return a single string with all the\n",
    "        strings together, with ' - ' in between the words.\"\"\"\n",
    "    return \" - \".join(word_list)"
   ]
  },
  {
   "cell_type": "code",
   "execution_count": null,
   "id": "d52dc1ed",
   "metadata": {},
   "outputs": [],
   "source": [
    "# Exercise 3 Given a number, return True if it is a perfect square,\n",
    "        else return False\n",
    "def is_perfect_square(number):\n",
    "    \"\"\"Given a number, return True if it is a perfect square,\n",
    "        else return False\"\"\"\n",
    "    return (number**0.5).is_integer()\n"
   ]
  },
  {
   "cell_type": "code",
   "execution_count": null,
   "id": "da23ba78",
   "metadata": {},
   "outputs": [],
   "source": [
    "# More Pythonic version\n",
    "def is_perfect_square2(number):\n",
    "    \"\"\"Given a number, return True if it is a perfect square,\n",
    "        else return False\"\"\"\n",
    "    number=number**0.5\n",
    "    return number.is_integer()"
   ]
  },
  {
   "cell_type": "code",
   "execution_count": null,
   "id": "a86a8499",
   "metadata": {},
   "outputs": [],
   "source": [
    "#  Exercise 4. \"Given a year, return True if it is a leap year, else return False\n",
    "def is_leap_year2(year):\n",
    "    \"\"\"Given a year, return True if it is a leap year, else return False\"\"\"\n",
    "    return year%4 ==0 and (year%100!=0 or year%400==0)"
   ]
  },
  {
   "cell_type": "code",
   "execution_count": 1,
   "id": "f2130457",
   "metadata": {},
   "outputs": [
    {
     "data": {
      "text/plain": [
       "[1, 2, 3, 3, 5]"
      ]
     },
     "execution_count": 1,
     "metadata": {},
     "output_type": "execute_result"
    }
   ],
   "source": [
    "def solution(arr):\n",
    "    return sorted(arr)\n",
    "arr=[3,2,5,3,1]\n",
    "solution(arr)"
   ]
  },
  {
   "cell_type": "code",
   "execution_count": 3,
   "id": "cd97ea93",
   "metadata": {},
   "outputs": [],
   "source": [
    "def solution(arr):\n",
    "    new_list = []\n",
    "    \n",
    "    while arr:\n",
    "        minimum = arr[0]  # arbitrary number in list\n",
    "        print(f'f{minimum}')\n",
    "        for x in arr: \n",
    "            if x < minimum:\n",
    "                minimum = x\n",
    "                print(minimum)\n",
    "        new_list.append(minimum)\n",
    "        print(new_list)\n",
    "        arr.remove(minimum)    \n",
    "\n",
    "    return new_list"
   ]
  },
  {
   "cell_type": "code",
   "execution_count": 4,
   "id": "28a605e4",
   "metadata": {},
   "outputs": [
    {
     "name": "stdout",
     "output_type": "stream",
     "text": [
      "f3\n",
      "2\n",
      "1\n",
      "[1]\n",
      "f3\n",
      "2\n",
      "[1, 2]\n",
      "f3\n",
      "[1, 2, 3]\n",
      "f5\n",
      "3\n",
      "[1, 2, 3, 3]\n",
      "f5\n",
      "[1, 2, 3, 3, 5]\n"
     ]
    },
    {
     "data": {
      "text/plain": [
       "[1, 2, 3, 3, 5]"
      ]
     },
     "execution_count": 4,
     "metadata": {},
     "output_type": "execute_result"
    }
   ],
   "source": [
    "arr=[3,2,5,3,1]\n",
    "solution(arr)"
   ]
  },
  {
   "cell_type": "code",
   "execution_count": 15,
   "id": "009bb164",
   "metadata": {},
   "outputs": [],
   "source": [
    "def getmax(l):\n",
    "    for x in l:\n",
    "        print(x)\n",
    "        for y in l:\n",
    "            print(f's{y}')\n",
    "            if y>x:\n",
    "                break\n",
    "        else:\n",
    "            return x\n",
    "    return None"
   ]
  },
  {
   "cell_type": "code",
   "execution_count": 16,
   "id": "efef781b",
   "metadata": {},
   "outputs": [
    {
     "name": "stdout",
     "output_type": "stream",
     "text": [
      "0\n",
      "s0\n",
      "s1\n",
      "1\n",
      "s0\n",
      "s1\n",
      "s2\n",
      "2\n",
      "s0\n",
      "s1\n",
      "s2\n",
      "s3\n",
      "3\n",
      "s0\n",
      "s1\n",
      "s2\n",
      "s3\n",
      "s4\n",
      "4\n",
      "s0\n",
      "s1\n",
      "s2\n",
      "s3\n",
      "s4\n",
      "s6\n",
      "6\n",
      "s0\n",
      "s1\n",
      "s2\n",
      "s3\n",
      "s4\n",
      "s6\n",
      "s5\n"
     ]
    },
    {
     "data": {
      "text/plain": [
       "6"
      ]
     },
     "execution_count": 16,
     "metadata": {},
     "output_type": "execute_result"
    }
   ],
   "source": [
    "l=[0,1,2,3,4,6,5]\n",
    "getmax(l)"
   ]
  },
  {
   "cell_type": "code",
   "execution_count": null,
   "id": "7e4b118b",
   "metadata": {},
   "outputs": [],
   "source": [
    "#Exercise 5: Below are the two lists convert it into the dictionary\n",
    "keys = ['Ten', 'Twenty', 'Thirty']\n",
    "values = [10, 20, 30]\n",
    "\n",
    "dict(zip(keys, values))\n",
    "\n",
    "# Alternative ways\n",
    "d={}\n",
    "for k, v in zip(keys, values):\n",
    "    d[k]=v\n",
    "d\n",
    "    "
   ]
  },
  {
   "cell_type": "code",
   "execution_count": null,
   "id": "eede1874",
   "metadata": {},
   "outputs": [],
   "source": [
    "#Exercise 6: Merge following two Python dictionaries into one\n",
    "dict1 = {'Ten': 10, 'Twenty': 20, 'Thirty': 30}\n",
    "dict2 = {'Thirty': 30, 'Fourty': 40, 'Fifty': 50}\n",
    "#dict1.update(dict2)\n",
    "#dict1\n",
    "\n",
    "#Alternative\n",
    "dict3={**dict1, **dict2}\n",
    "dict3"
   ]
  },
  {
   "cell_type": "code",
   "execution_count": null,
   "id": "a23ceb68",
   "metadata": {},
   "outputs": [],
   "source": [
    "#Exercise 7: Access the value of key ‘history’ from the below dict\n",
    "sampleDict = { \n",
    "   \"class\":{ \n",
    "      \"student\":{ \n",
    "         \"name\":\"Mike\",\n",
    "         \"marks\":{ \n",
    "            \"physics\":70,\n",
    "            \"history\":80\n",
    "         }\n",
    "      }\n",
    "   }\n",
    "}\n",
    "\n",
    "sampleDict[\"class\"][\"student\"]['marks']['history']"
   ]
  },
  {
   "cell_type": "code",
   "execution_count": 31,
   "id": "2d112649",
   "metadata": {},
   "outputs": [
    {
     "data": {
      "text/plain": [
       "{'Kelly': {'designation': 'Application Developer', 'salary': 8000},\n",
       " 'Emma': {'designation': 'Application Developer', 'salary': 8000},\n",
       " 'John': {'designation': 'Application Developer', 'salary': 8000}}"
      ]
     },
     "execution_count": 31,
     "metadata": {},
     "output_type": "execute_result"
    }
   ],
   "source": [
    "#Exercise 8: Initialize dictionary with default values\n",
    "employees = ['Kelly', 'Emma', 'John']\n",
    "defaults = {\"designation\": 'Application Developer', \"salary\": 8000}\n",
    "dict.fromkeys(employees, defaults)  #dict.fromkeys(keys, value)"
   ]
  },
  {
   "cell_type": "code",
   "execution_count": 32,
   "id": "c0f6a69b",
   "metadata": {},
   "outputs": [
    {
     "data": {
      "text/plain": [
       "{'name': 'Kelly', 'salary': 8000}"
      ]
     },
     "execution_count": 32,
     "metadata": {},
     "output_type": "execute_result"
    }
   ],
   "source": [
    "#Exercise 9: Create a new dictionary by extracting the following keys from a below dictionary\n",
    "sampleDict = {\n",
    "  \"name\": \"Kelly\",\n",
    "  \"age\":25,\n",
    "  \"salary\": 8000,\n",
    "  \"city\": \"New york\"\n",
    "  \n",
    "}\n",
    "keys=[\"name\", \"salary\"]\n",
    "{k:sampleDict[k] for k in keys}"
   ]
  },
  {
   "cell_type": "code",
   "execution_count": 17,
   "id": "5a18a1cc",
   "metadata": {},
   "outputs": [
    {
     "data": {
      "text/plain": [
       "{'age': 25, 'city': 'New york'}"
      ]
     },
     "execution_count": 17,
     "metadata": {},
     "output_type": "execute_result"
    }
   ],
   "source": [
    "#Exercise 10: Delete set of keys from a dictionary\n",
    "sampleDict = {\n",
    "  \"name\": \"Kelly\",\n",
    "  \"age\":25,\n",
    "  \"salary\": 8000,\n",
    "  \"city\": \"New york\"\n",
    "  \n",
    "}\n",
    "keysToRemove = [\"name\", \"salary\"]\n",
    "\n",
    "{k:sampleDict[k] for k in sampleDict if k not in keysToRemove}"
   ]
  },
  {
   "cell_type": "code",
   "execution_count": null,
   "id": "8853394e",
   "metadata": {},
   "outputs": [],
   "source": [
    "#Exercise 11: Check if a value 200 exists in a dictionary\n",
    "sampleDict = {'a': 100, 'b': 200, 'c': 300}\n",
    "200 in sampleDict.values()"
   ]
  },
  {
   "cell_type": "code",
   "execution_count": 18,
   "id": "73aef2ab",
   "metadata": {},
   "outputs": [
    {
     "data": {
      "text/plain": [
       "{'name': 'Kelly', 'age': 25, 'salary': 8000, 'location': 'New york'}"
      ]
     },
     "execution_count": 18,
     "metadata": {},
     "output_type": "execute_result"
    }
   ],
   "source": [
    "#Exercise 12: Rename key city to location in the following dictionary\n",
    "sampleDict = {\n",
    "  \"name\": \"Kelly\",\n",
    "  \"age\":25,\n",
    "  \"salary\": 8000,\n",
    "  \"city\": \"New york\"\n",
    "}\n",
    "\n",
    "sampleDict['location']=sampleDict.pop('city')\n",
    "sampleDict"
   ]
  },
  {
   "cell_type": "code",
   "execution_count": null,
   "id": "65d7d649",
   "metadata": {},
   "outputs": [],
   "source": [
    "#Exercise 13: Get the key of a minimum value from the following dictionary\n",
    "sampleDict = {\n",
    "  'Physics': 82,\n",
    "  'Math': 65,\n",
    "  'history': 75\n",
    "}\n",
    "min(sampleDict)"
   ]
  },
  {
   "cell_type": "code",
   "execution_count": null,
   "id": "ae86ee39",
   "metadata": {},
   "outputs": [],
   "source": [
    "#Exercise 14: Change Brad’s salary to 8500 from a given Python dictionary\n",
    "sampleDict = {\n",
    "     'emp1': {'name': 'Jhon', 'salary': 7500},\n",
    "     'emp2': {'name': 'Emma', 'salary': 8000},\n",
    "     'emp3': {'name': 'Brad', 'salary': 6500}\n",
    "}\n",
    "sampleDict['emp3']['salary']=7500\n",
    "sampleDict"
   ]
  },
  {
   "cell_type": "code",
   "execution_count": 5,
   "id": "86c24982",
   "metadata": {},
   "outputs": [
    {
     "name": "stdout",
     "output_type": "stream",
     "text": [
      "['Math', 'Physics', 'history']\n",
      "{'Math': 65, 'Physics': 82, 'history': 75}\n",
      "{'Math': 65, 'Physics': 82, 'history': 75}\n"
     ]
    }
   ],
   "source": [
    "#Exercise 15: Sort the dictionary with keys\n",
    "# sort the dictionary with values\n",
    "sampleDict = {\n",
    "  'Physics': 82,\n",
    "  'Math': 65,\n",
    "  'history': 75\n",
    "}\n",
    "\n",
    "print (sorted(sampleDict))\n",
    "sort=dict(sorted(sampleDict.items()))\n",
    "print(sort)\n",
    "\n",
    "#to sort with values\n",
    "sort_value=dict(sorted(sampleDict.items(), key=lambda x:x[0])) #1 for values\n",
    "print(sort_value)"
   ]
  },
  {
   "cell_type": "code",
   "execution_count": 7,
   "id": "58011e9f",
   "metadata": {},
   "outputs": [
    {
     "data": {
      "text/plain": [
       "{7: 1, 5: 2, 9: 2, 1: 3, 3: 3, 2: 6}"
      ]
     },
     "execution_count": 7,
     "metadata": {},
     "output_type": "execute_result"
    }
   ],
   "source": [
    "# Excersise 16, Counting number of occurance\n",
    "nums = [1,1,7,3,5,3,2,9,5,1,3,2,2,2,2,2,9]\n",
    "def count(num_list):\n",
    "    dic={}\n",
    "    for k in num_list:\n",
    "        dic[k]=num_list.count(k)\n",
    "    sort_dic=dict(sorted(dic.items(), key=lambda x:x[1]))\n",
    "    return  sort_dic\n",
    "\n",
    "count(nums)   "
   ]
  },
  {
   "cell_type": "code",
   "execution_count": null,
   "id": "357e32c0",
   "metadata": {},
   "outputs": [],
   "source": [
    "# using dictionary comprehension\n",
    "def count_comp(num_list):\n",
    "    dic={k:num_list.count(k) for k in num_list }\n",
    "    return dict(sorted(dic.items(), key=lambda x:x[1]))\n",
    "\n",
    "count_comp(nums)   "
   ]
  },
  {
   "cell_type": "code",
   "execution_count": 1,
   "id": "1d502751",
   "metadata": {},
   "outputs": [
    {
     "data": {
      "text/plain": [
       "5"
      ]
     },
     "execution_count": 1,
     "metadata": {},
     "output_type": "execute_result"
    }
   ],
   "source": [
    "# Excersise 17, Counting number of occurance if greater than given number\n",
    "nums = [1,1,7,3,5,3,2,9,5,1,3,2,2,2,2,2,9]\n",
    "def count_certain(num_list, x):\n",
    "    dic={}\n",
    "    for k in num_list:\n",
    "        dic[k]=num_list.count(k)\n",
    "    return len({k:v for (k,v) in dic.items() if v>=x})\n",
    "\n",
    "count_certain(nums, x=2)   "
   ]
  },
  {
   "cell_type": "code",
   "execution_count": null,
   "id": "fe57241f",
   "metadata": {},
   "outputs": [],
   "source": [
    "#Exercise 18: Print First 10 natural numbers using while loop\n",
    "i=1\n",
    "while i<11:\n",
    "    print(i)\n",
    "    i=i+1"
   ]
  },
  {
   "cell_type": "code",
   "execution_count": null,
   "id": "5af0c4fd",
   "metadata": {},
   "outputs": [],
   "source": [
    "#Exercise 19: Print the following pattern\n",
    "i=6\n",
    "for row in range(1,6):\n",
    "    for col in range(1, row+1):\n",
    "        print(col, end=\" \")\n",
    "    print(\"\")"
   ]
  },
  {
   "cell_type": "code",
   "execution_count": null,
   "id": "d19d8473",
   "metadata": {},
   "outputs": [],
   "source": [
    "#Exercise 20: Accept number from user and calculate the sum of all number from 1 to a given number\n",
    "def summ(numb):\n",
    "    summ=0\n",
    "    for i in numb:\n",
    "        summ=summ+i\n",
    "    return summ\n",
    "\n",
    "nums = [1,1,7,3,5,3,2,9,5,1,3,2,2,2,2,2,9]\n",
    "summ(nums)"
   ]
  },
  {
   "cell_type": "code",
   "execution_count": 19,
   "id": "146e1d59",
   "metadata": {},
   "outputs": [
    {
     "name": "stdout",
     "output_type": "stream",
     "text": [
      "5\n",
      "10\n",
      "15\n",
      "20\n",
      "25\n",
      "30\n",
      "35\n",
      "40\n",
      "45\n",
      "50\n"
     ]
    }
   ],
   "source": [
    "#Exercise 21: Print multiplication table of a given number\n",
    "x=5\n",
    "for i in range(1,11):\n",
    "    print(i*5)"
   ]
  },
  {
   "cell_type": "code",
   "execution_count": null,
   "id": "a758fb4d",
   "metadata": {},
   "outputs": [],
   "source": [
    "#Exercise 22: Given a list, iterate it, and display numbers divisible by five, \n",
    "#and if you find a number greater than 150, stop the loop iteration.\n",
    "\n",
    "list1 = [12, 15, 32, 42, 55, 75, 122, 132, 150, 180, 200]\n",
    "for i in list1:\n",
    "    if i%5==0 and i<=150:\n",
    "        print(i)"
   ]
  },
  {
   "cell_type": "code",
   "execution_count": null,
   "id": "c1943591",
   "metadata": {},
   "outputs": [],
   "source": [
    "#Exercise 23: Given a number count the total number of digits in a number\n",
    "def len_count(numb):\n",
    "    numb=str(numb)\n",
    "    return len(numb)\n",
    "\n",
    "len_count(55245466)"
   ]
  },
  {
   "cell_type": "code",
   "execution_count": null,
   "id": "d1493db6",
   "metadata": {},
   "outputs": [],
   "source": [
    "#Alternative way\n",
    "def len_count(numb):\n",
    "    count=0\n",
    "    while numb!=0:\n",
    "        numb=numb//10\n",
    "        count+=1\n",
    "    return count\n",
    "len_count(55245466)   "
   ]
  },
  {
   "cell_type": "code",
   "execution_count": 13,
   "id": "3fa9d3de",
   "metadata": {},
   "outputs": [
    {
     "data": {
      "text/plain": [
       "10"
      ]
     },
     "execution_count": 13,
     "metadata": {},
     "output_type": "execute_result"
    }
   ],
   "source": [
    "101//10"
   ]
  },
  {
   "cell_type": "code",
   "execution_count": null,
   "id": "6ce16735",
   "metadata": {},
   "outputs": [],
   "source": [
    "#Exercise 24: Print the following pattern using for loop\n",
    "n=5\n",
    "for row in range(n+1):\n",
    "    for column in range (n-row, 0, -1):\n",
    "        print(column, end=\"\")\n",
    "    print(\"\")"
   ]
  },
  {
   "cell_type": "code",
   "execution_count": 3,
   "id": "2f4de666",
   "metadata": {},
   "outputs": [
    {
     "data": {
      "text/plain": [
       "[50, 40, 30, 20, 10]"
      ]
     },
     "execution_count": 3,
     "metadata": {},
     "output_type": "execute_result"
    }
   ],
   "source": [
    "#Exercise 25:Reverse the following list using for loop\n",
    "list1 = [10, 20, 30, 40, 50]\n",
    "\n",
    "def reves(list1):\n",
    "    reversed_list=[]\n",
    "    for l in reversed(list1):\n",
    "        reversed_list.append(l)\n",
    "    return reversed_list\n",
    "reves(list1)\n",
    "\n",
    "#alternate way\n",
    "list1[::-1]\n",
    "\n",
    "#alternative way\n",
    "list1.reverse()   # .reverse reverse on the same list\n",
    "list1\n",
    "\n"
   ]
  },
  {
   "cell_type": "code",
   "execution_count": 6,
   "id": "b775d469",
   "metadata": {},
   "outputs": [
    {
     "data": {
      "text/plain": [
       "[10, 20, 30, 40, 50]"
      ]
     },
     "execution_count": 6,
     "metadata": {},
     "output_type": "execute_result"
    }
   ],
   "source": [
    "#alternative way with O(n)\n",
    "def rev_list(l):\n",
    "    s=0\n",
    "    e=len(l)-1   \n",
    "    while s<e:\n",
    "        l[s], l[e]=l[e], l[s]\n",
    "        s=s+1\n",
    "        e=e-1\n",
    "    return l\n",
    "\n",
    "rev_list(list1)   \n"
   ]
  },
  {
   "cell_type": "code",
   "execution_count": null,
   "id": "d7de5a49",
   "metadata": {},
   "outputs": [],
   "source": [
    "#Exercise 26: Display numbers from -10 to -1 using for loop\n",
    "for i in range(-10,0,1):\n",
    "    print(i)"
   ]
  },
  {
   "cell_type": "code",
   "execution_count": null,
   "id": "45a86b20",
   "metadata": {},
   "outputs": [],
   "source": []
  },
  {
   "cell_type": "code",
   "execution_count": null,
   "id": "8df2187c",
   "metadata": {},
   "outputs": [],
   "source": [
    "#Exercise 27: Display a message “Done” after successful execution of for loop\n",
    "for i in range(10):\n",
    "    print(i)\n",
    "print(\"done\")"
   ]
  },
  {
   "cell_type": "code",
   "execution_count": null,
   "id": "a04429a7",
   "metadata": {},
   "outputs": [],
   "source": [
    "#Exercise 28: Write a program to display all prime numbers within a range\n",
    "def prime(start, end):\n",
    "    for num in range(start, end+1):\n",
    "        if num>1:\n",
    "            for i in range(2, num):\n",
    "                if num%i==0:\n",
    "                    break\n",
    "            else:\n",
    "                print(num)\n",
    "\n",
    "prime(2,4)"
   ]
  },
  {
   "cell_type": "code",
   "execution_count": null,
   "id": "d3920a67",
   "metadata": {},
   "outputs": [],
   "source": [
    "#Exercise 29: Display Fibonacci series up to 10 terms\n",
    "a, b=1,1\n",
    "for i in range(10):\n",
    "    print(\"Fib(a)\", a, \"b\", b)\n",
    "    a, b=b, a+b"
   ]
  },
  {
   "cell_type": "code",
   "execution_count": null,
   "id": "8dff8134",
   "metadata": {},
   "outputs": [],
   "source": [
    "terms = 10\n",
    "# first two terms\n",
    "num1, num2 = 0, 1\n",
    "count = 0\n",
    "\n",
    "while count < terms:\n",
    "    print(num1, end=\"  \")\n",
    "    temp = num1 + num2\n",
    "    # update values\n",
    "    num1 = num2\n",
    "    num2 = temp\n",
    "    count += 1"
   ]
  },
  {
   "cell_type": "code",
   "execution_count": null,
   "id": "5f014527",
   "metadata": {},
   "outputs": [],
   "source": [
    "#Exercise 30: Write a loop to find the factorial of any number\n",
    "def fact(n):\n",
    "    fact=1\n",
    "    for i in range(1, n+1):\n",
    "        fact=fact*i\n",
    "    return fact\n",
    "\n",
    "fact(5)\n",
    "        "
   ]
  },
  {
   "cell_type": "code",
   "execution_count": 2,
   "id": "a74741fa",
   "metadata": {},
   "outputs": [
    {
     "name": "stdout",
     "output_type": "stream",
     "text": [
      "2345"
     ]
    }
   ],
   "source": [
    "#Exercise 31: Reverse a given integer number\n",
    "def rev_int(num):\n",
    "    while num>0:\n",
    "        digit=num%10\n",
    "        #print(digit)\n",
    "        num//=10\n",
    "        #print(num)\n",
    "        print(digit, end=\"\")\n",
    "\n",
    "rev_int(5432)"
   ]
  },
  {
   "cell_type": "code",
   "execution_count": 9,
   "id": "453e3db3",
   "metadata": {},
   "outputs": [
    {
     "data": {
      "text/plain": [
       "2345"
      ]
     },
     "execution_count": 9,
     "metadata": {},
     "output_type": "execute_result"
    }
   ],
   "source": [
    "def rev_int(num):\n",
    "    num=str(num)\n",
    "    return int(num[::-1])\n",
    "rev_int(5432)"
   ]
  },
  {
   "cell_type": "code",
   "execution_count": null,
   "id": "3c182c2f",
   "metadata": {},
   "outputs": [],
   "source": [
    "#Exercise 32 Use a loop to display elements from a given list that are present at odd index positions\n",
    "my_list = [10, 20, 30, 40, 50, 60, 70, 80, 90, 100]\n",
    "for i in range(len(my_list)):\n",
    "    if i%2!=0:\n",
    "        print(my_list[i], end=\",\")\n",
    "        \n",
    "#alternative     \n",
    "for i, n in enumerate(my_list):\n",
    "    if i%2!=0:\n",
    "        print(n, end=\",\")"
   ]
  },
  {
   "cell_type": "code",
   "execution_count": null,
   "id": "ce5cfd56",
   "metadata": {},
   "outputs": [],
   "source": [
    "#Exercise 33: Display the cube of the number up to a given integer\n",
    "for i in range(6):\n",
    "    print(i**3)"
   ]
  },
  {
   "cell_type": "code",
   "execution_count": null,
   "id": "aae88dc3",
   "metadata": {},
   "outputs": [],
   "source": [
    "#Exercise 34: Find the sum of the series 2 +22 + 222 + 2222 + .. n terms\n",
    "number_of_terms = 5\n",
    "start = 2\n",
    "sum1 = 0\n",
    "for i in range(0, number_of_terms):\n",
    "    print(start, end=\" \")\n",
    "    sum1 += start\n",
    "    start = (start * 10) + 2\n",
    "print(\"\\nSum of above series is:\", sum)"
   ]
  },
  {
   "cell_type": "code",
   "execution_count": null,
   "id": "cdf5b73f",
   "metadata": {},
   "outputs": [],
   "source": [
    "#Exercise 35:Access value 20 from the following tuple\n",
    "aTuple = (\"Orange\", [10, 20, 30], (5, 15, 25))\n",
    "aTuple[1][1]"
   ]
  },
  {
   "cell_type": "code",
   "execution_count": null,
   "id": "7a494e61",
   "metadata": {},
   "outputs": [],
   "source": [
    "#Exercise 36:Create a tuple with single item 50\n",
    "a=50,"
   ]
  },
  {
   "cell_type": "code",
   "execution_count": null,
   "id": "02931632",
   "metadata": {},
   "outputs": [],
   "source": [
    "#Exercise 37:Unpack the following tuple into 4 variables\n",
    "\n",
    "aTuple = (10, 20, 30, 40)\n",
    "\n",
    "a,b,c,d=aTuple"
   ]
  },
  {
   "cell_type": "code",
   "execution_count": null,
   "id": "d7af4d7f",
   "metadata": {},
   "outputs": [],
   "source": [
    "#Exercise 38:#Exercise 43: Swap the following two tuples\n",
    "tuple1 = (11, 22)\n",
    "tuple2 = (99, 88)\n",
    "tuple1=tuple2\n",
    "print(tuple1)"
   ]
  },
  {
   "cell_type": "code",
   "execution_count": null,
   "id": "bca7d608",
   "metadata": {},
   "outputs": [],
   "source": [
    "#Exercise 39:Copy element 44 and 55 from the following tuple into a new tuple\n",
    "tuple1 = (11, 22, 33, 44, 55, 66)\n",
    "tuple2=tuple1[3:5]"
   ]
  },
  {
   "cell_type": "code",
   "execution_count": null,
   "id": "3598fa2b",
   "metadata": {},
   "outputs": [],
   "source": [
    "#Exercise 40:Modify the first item (22) of a list inside a following tuple to 222\n",
    "tuple1 = (11, [22, 33], 44, 55)\n",
    "tuple1[1][0]=25\n",
    "tuple1"
   ]
  },
  {
   "cell_type": "code",
   "execution_count": 20,
   "id": "9d689d4a",
   "metadata": {},
   "outputs": [
    {
     "data": {
      "text/plain": [
       "(('c', 11), ('a', 23), ('d', 29), ('b', 37))"
      ]
     },
     "execution_count": 20,
     "metadata": {},
     "output_type": "execute_result"
    }
   ],
   "source": [
    "#Exercise 41:Sort a tuple of tuples by 2nd item\n",
    "tuple1 = (('a', 23),('b', 37),('c', 11), ('d',29))\n",
    "tuple(sorted(tuple1, key=lambda x:x[1]))"
   ]
  },
  {
   "cell_type": "code",
   "execution_count": null,
   "id": "037e4ca4",
   "metadata": {},
   "outputs": [],
   "source": [
    "#Exercise 42: Counts the number of occurrences of item 50 from a tuple\n",
    "tuple1 = (50, 10, 60, 70, 50)\n",
    "tuple1.count(50)"
   ]
  },
  {
   "cell_type": "code",
   "execution_count": null,
   "id": "d8be6618",
   "metadata": {},
   "outputs": [],
   "source": [
    "#Exercise 43:Check if all items in the following tuple are the same\n",
    "tuple1 = (45, 45, 45, 45)\n",
    "tuple2=set(tuple1)\n",
    "tuple2"
   ]
  },
  {
   "cell_type": "code",
   "execution_count": 1,
   "id": "f4838069",
   "metadata": {},
   "outputs": [
    {
     "data": {
      "text/plain": [
       "{'Black', 'Blue', 'Green', 'Orange', 'Red', 'Yellow'}"
      ]
     },
     "execution_count": 1,
     "metadata": {},
     "output_type": "execute_result"
    }
   ],
   "source": [
    "#Exercise 44:Add a list of elements to a given set\n",
    "sampleSet = {\"Yellow\", \"Orange\", \"Black\"}\n",
    "sampleList = [\"Blue\", \"Green\", \"Red\"]\n",
    "sampleSet.update(sampleList)\n",
    "sampleSet"
   ]
  },
  {
   "cell_type": "code",
   "execution_count": 38,
   "id": "ca06ce18",
   "metadata": {},
   "outputs": [
    {
     "data": {
      "text/plain": [
       "{30, 40, 50}"
      ]
     },
     "execution_count": 38,
     "metadata": {},
     "output_type": "execute_result"
    }
   ],
   "source": [
    "#Exercise 45:Return a new set of identical items from a given two set\n",
    "set1 = {10, 20, 30, 40, 50}\n",
    "set2 = {30, 40, 50, 60, 70}\n",
    "set1.intersection(set2)"
   ]
  },
  {
   "cell_type": "code",
   "execution_count": null,
   "id": "b049fc2d",
   "metadata": {},
   "outputs": [],
   "source": [
    "#Exercise 46:Returns a new set with all items from both sets by removing duplicates\n",
    "set1 = {10, 20, 30, 40, 50}\n",
    "set2 = {30, 40, 50, 60, 70}\n",
    "set1.update(set2)\n",
    "set1"
   ]
  },
  {
   "cell_type": "code",
   "execution_count": null,
   "id": "4c7b4206",
   "metadata": {},
   "outputs": [],
   "source": [
    "#Exercise 47:Remove items 10, 20, 30 from the following set at once\n",
    "set1 = {10, 20, 30, 40, 50}\n",
    "set1.difference_update({10, 20, 30})\n",
    "set1"
   ]
  },
  {
   "cell_type": "code",
   "execution_count": 5,
   "id": "05011459",
   "metadata": {},
   "outputs": [
    {
     "name": "stdout",
     "output_type": "stream",
     "text": [
      "abcdefghijklmnopqrstuvwxyz"
     ]
    }
   ],
   "source": [
    "#Exercise 48: to print lowercase letter \n",
    "import string\n",
    "for letter in string.ascii_lowercase:\n",
    "    print(letter, end=\"\")\n"
   ]
  },
  {
   "cell_type": "code",
   "execution_count": null,
   "id": "e48a2e7d",
   "metadata": {},
   "outputs": [],
   "source": [
    "#Exercise 49:to print uppercase letter \n",
    "import string\n",
    "for letter in string.ascii_uppercase:\n",
    "    print(letter, end=\"\")"
   ]
  },
  {
   "cell_type": "code",
   "execution_count": null,
   "id": "c46c5055",
   "metadata": {},
   "outputs": [],
   "source": [
    "#Exercise 50:To print c as a global variable\n",
    "def foo():\n",
    "    global c\n",
    "    c = 1 \n",
    "    return c \n",
    "foo() \n",
    "print(c)"
   ]
  },
  {
   "cell_type": "code",
   "execution_count": null,
   "id": "27e3e72d",
   "metadata": {},
   "outputs": [],
   "source": [
    "#Exercise 51:reading files and counting word of files\n",
    "def count_words(filepath):\n",
    "    with open(filepath, 'r') as file:\n",
    "        strng = file.read()\n",
    "        strng_list = strng.split(\" \")\n",
    "    return len(strng_list)\n",
    " \n",
    "count_words(words1.txt)\n"
   ]
  },
  {
   "cell_type": "code",
   "execution_count": null,
   "id": "e3868307",
   "metadata": {},
   "outputs": [],
   "source": [
    "#Exercise 52:Create a script that generates a text file with all English letters inside it, one letter per line.\n",
    "import string\n",
    " \n",
    "with open(\"letters.txt\", \"w\") as file:\n",
    "    for letter in string.ascii_lowercase:\n",
    "        file.write(letter + \"\\n\")"
   ]
  },
  {
   "cell_type": "code",
   "execution_count": null,
   "id": "dca092ae",
   "metadata": {},
   "outputs": [],
   "source": [
    "#Exercise 53:Print out in each line the sum of homologous items of the two sequences.\n",
    "a = [1, 2, 3]\n",
    "b = (4, 5, 6)\n",
    "for i, j in zip(a,b):\n",
    "    print(i+j)"
   ]
  },
  {
   "cell_type": "code",
   "execution_count": null,
   "id": "32fc85a4",
   "metadata": {},
   "outputs": [],
   "source": [
    "#Exercise 54:Create a script that generates a file where all letters of the English alphabet are listed two in each line. The inside of the text file would look like:\n",
    "import string\n",
    "\n",
    "with open (\"letter.txt\", 'w') as file:\n",
    "    for letter1, letter2 in zip(string.ascii_lowercase[::2], string.ascii_lowercase[1::2]):\n",
    "        file.write(letter1 +letter2+\"\\n\")\n",
    "    "
   ]
  },
  {
   "cell_type": "code",
   "execution_count": null,
   "id": "c89853ce",
   "metadata": {},
   "outputs": [],
   "source": [
    "#Exercise 55:\n",
    "letters = string.ascii_lowercase[::2]\n",
    "letters"
   ]
  },
  {
   "cell_type": "code",
   "execution_count": null,
   "id": "561b13d8",
   "metadata": {},
   "outputs": [],
   "source": [
    "#Exercise 56:write a script that extracts letters from the 26 text files and put letters in a list\n",
    "import glob\n",
    "letters=[]\n",
    "file_list=glob.glob(\"letter/*.txt\")\n",
    "for filename in file_list:\n",
    "    with open(filename, \"r\") as file:\n",
    "        letters.append(file.read().strip(\"\\n\"))"
   ]
  },
  {
   "cell_type": "code",
   "execution_count": null,
   "id": "8da570fc",
   "metadata": {},
   "outputs": [],
   "source": [
    "#Exercise 57:Store the dictionary in a json file.\n",
    "with open(\"company1.json\", \"w\") as file:\n",
    "    json.dump(dictionary_name, file, indent=4)\n",
    "\n",
    "#reading a json to dictionary\n",
    "with open (\"company.json\", r) as file:\n",
    "    d=json.loads(file.read())\n",
    "print(d)"
   ]
  },
  {
   "cell_type": "code",
   "execution_count": null,
   "id": "d5716edd",
   "metadata": {},
   "outputs": [],
   "source": [
    "#Exercise 58:Add a new employee in the json file\n",
    "import json\n",
    "with open (\"company1.json\", 'r+') as file:\n",
    "    d=json.loads(file.read())\n",
    "    d[\"employess\"].append(dict(firstname=\"Albert\", lastnmae=\"Bert\"))\n",
    "    file.seek(0) # moving the curser at top\n",
    "    json.dump(d, file, intent=4, sort_keys=True)\n",
    "    file.turnacate() #to remove file after making dictionary"
   ]
  },
  {
   "cell_type": "code",
   "execution_count": null,
   "id": "da7b0780",
   "metadata": {},
   "outputs": [],
   "source": [
    "#Exercise 59:Create a program that, once executed the program prints Hello  instantly first, then it prints it after 1 second, then after 2, 3, 4, and so on the interval increases between prints.\n",
    "import time\n",
    "i=0\n",
    "while i<10:\n",
    "    i=i+1\n",
    "    print(\"Hello\")\n",
    "    time.sleep(i)"
   ]
  },
  {
   "cell_type": "code",
   "execution_count": null,
   "id": "04cc849a",
   "metadata": {},
   "outputs": [],
   "source": [
    "#Exercise 60:\n",
    "i=0\n",
    "while True:\n",
    "    print(\"Hello\")\n",
    "    i=i+1\n",
    "    if i>3:\n",
    "        print(\"End of Loop\")\n",
    "        break\n",
    "    time.sleep(i)"
   ]
  },
  {
   "cell_type": "code",
   "execution_count": null,
   "id": "e260b1a8",
   "metadata": {},
   "outputs": [],
   "source": [
    "#Exercise 61:Create an English to Portuguese translation program. The program takes a word from the user as input and translates it using the following dictionary as a vocabulary source.\n",
    "\n",
    "d = dict(weather = \"clima\", earth = \"terra\", rain = \"chuva\") \n",
    "\n",
    "def tranaslate():\n",
    "    \n",
    "    while True:\n",
    "        input_word=input(\"Please enter the word in english\")\n",
    "        if input_word not in d.keys():\n",
    "            print(\"Not in dictionary\")\n",
    "            continue\n",
    "        else:\n",
    "            print(d[input_word])\n",
    "            break\n",
    "            \n",
    "tranaslate()"
   ]
  },
  {
   "cell_type": "code",
   "execution_count": null,
   "id": "dc270cb1",
   "metadata": {},
   "outputs": [],
   "source": [
    "#Exercise 62:Create a script that let the user type in a search term and then the program opens the browser and searches the term on Google.\n",
    "import webbrowser\n",
    " \n",
    "query = input(\"Input your query: \")\n",
    "webbrowser.open(f\"https://google.com/search?q={query}\")"
   ]
  },
  {
   "cell_type": "code",
   "execution_count": 14,
   "id": "14e4158d",
   "metadata": {},
   "outputs": [
    {
     "name": "stdout",
     "output_type": "stream",
     "text": [
      "['c', ')', '?', 't', 'O', 'F']\n",
      "c)?tOF\n"
     ]
    }
   ],
   "source": [
    "#Exercise 63:Create a program that generates a password of 6 random alphanumeric characters.\n",
    "import random\n",
    " \n",
    "characters = \"abcdefghijklmnopqrstuvwxyz01234567890ABCDEFGHIJKLMNOPQRSTUVWXYZ!@#$%^&*()?\"\n",
    "chosen = random.sample(characters, 6)\n",
    "print(chosen)\n",
    "password = \"\".join(chosen)\n",
    "print(password)"
   ]
  },
  {
   "cell_type": "code",
   "execution_count": 10,
   "id": "b2edc354",
   "metadata": {},
   "outputs": [
    {
     "name": "stdin",
     "output_type": "stream",
     "text": [
      "please enter the passport 45444\n",
      "please enter the passport Spandey@1111\n"
     ]
    },
    {
     "name": "stdout",
     "output_type": "stream",
     "text": [
      "password is fine\n"
     ]
    }
   ],
   "source": [
    "#Exercise 64:passport checker\n",
    "def pass_cheker():\n",
    "    while True:\n",
    "        input_pass=input(\"please enter the passport\")\n",
    "        if any(i.isdigit() for i in input_pass) and any(i.isupper() for i in input_pass)and len(input_pass)>=5:\n",
    "            print(\"password is fine\")\n",
    "            break\n",
    "        \n",
    "pass_cheker()"
   ]
  },
  {
   "cell_type": "code",
   "execution_count": null,
   "id": "97a885d0",
   "metadata": {},
   "outputs": [],
   "source": [
    "#Exercise 65:passport checker(advanced version)\n",
    "def pass_cheker():\n",
    "    notes=[]\n",
    "    while True:\n",
    "        notes.clear()  # to clear the list for every while loop\n",
    "        input_pass=input(\"please enter the passport\")\n",
    "        if not any(i.isdigit() for i in input_pass):\n",
    "            notes.append('You need to enter at least one number')\n",
    "            \n",
    "        if not any(i.isupper() for i in input_pass):\n",
    "            notes.append('You nedd at least one upper case')\n",
    "        if len(input_pass)<5:\n",
    "            notes.append('You length need at least 5 ')\n",
    "        if len(notes)==0:\n",
    "            print(\"password is fine\")\n",
    "            break\n",
    "        else:\n",
    "            for note in notes:\n",
    "                print(note)\n",
    "pass_cheker()"
   ]
  },
  {
   "cell_type": "code",
   "execution_count": null,
   "id": "c3b08d4c",
   "metadata": {},
   "outputs": [],
   "source": [
    "#Exercise 66:Write a script that detects and prints out your monitor resolution.\n",
    "from screeninfo import get_monitors\n",
    " \n",
    "width=get_monitors()[0].width\n",
    "height=get_monitors()[0].height\n",
    " \n",
    "print(\"Width: %s,  Height: %s\" % (width, height))"
   ]
  },
  {
   "cell_type": "code",
   "execution_count": null,
   "id": "fbd7d7bc",
   "metadata": {},
   "outputs": [],
   "source": [
    "#Exercise 67:\n",
    "    \"\"\"Take 2 lists as input and return a new list consisting of the elements\n",
    "        of the first list followed by the elements of the second list\"\"\"\n",
    "def new_list(x,y):\n",
    "    return x+y\n",
    "\n",
    "#alternative\n",
    "def new_list(x,y):\n",
    "    new_list = []\n",
    "    new_list.extend(one)\n",
    "    new_list.extend(two)\n",
    "    return new_list\n"
   ]
  },
  {
   "cell_type": "code",
   "execution_count": null,
   "id": "daf1aac2",
   "metadata": {},
   "outputs": [],
   "source": [
    "#Exercise 68:    \n",
    " "
   ]
  },
  {
   "cell_type": "code",
   "execution_count": null,
   "id": "91d740db",
   "metadata": {},
   "outputs": [],
   "source": [
    "#Exercise 69:\n",
    "    \"\"\"Given a sequence and a number n, return the last n elements of the\n",
    "        sequence\"\"\"\n",
    "def reverse_seq(seq, n):\n",
    "    return seq[-n:]"
   ]
  },
  {
   "cell_type": "code",
   "execution_count": null,
   "id": "16342f87",
   "metadata": {},
   "outputs": [],
   "source": [
    "#Exercise 70:\n",
    "   \"\"\"Given a list of numbers, return a new list where each element is the\n",
    "        corresponding element of the list to the power of the list index\"\"\"\n",
    "def pow_list(seq):\n",
    "    new_list=[]\n",
    "    for i, value in enumerate(seq):\n",
    "        new=value**i \n",
    "        new_list.append(new)\n",
    "    \n",
    "#alternative\n",
    "def pow_list(seq):\n",
    "    return [n**i for i, n in enumerate(seq)]"
   ]
  },
  {
   "cell_type": "code",
   "execution_count": null,
   "id": "1e1c43f1",
   "metadata": {},
   "outputs": [],
   "source": [
    "#Exercise 71:\n",
    "    \"\"\"Take a list as input and remove the first item from the list and add it\n",
    "        to the end of the list. Return the item moved\"\"\"\n",
    "def remove_list(seq):\n",
    "    new=sep.pop(0)\n",
    "    return seq.append(new)"
   ]
  },
  {
   "cell_type": "code",
   "execution_count": 4,
   "id": "ba520a8c",
   "metadata": {},
   "outputs": [
    {
     "data": {
      "text/plain": [
       "[0,\n",
       " 1,\n",
       " 2,\n",
       " 3,\n",
       " 4,\n",
       " 5,\n",
       " 5,\n",
       " 6,\n",
       " 7,\n",
       " 8,\n",
       " 9,\n",
       " 10,\n",
       " 10,\n",
       " 11,\n",
       " 12,\n",
       " 13,\n",
       " 14,\n",
       " 15,\n",
       " 15,\n",
       " 16,\n",
       " 17,\n",
       " 18,\n",
       " 19,\n",
       " 20,\n",
       " 20,\n",
       " 21,\n",
       " 22,\n",
       " 23,\n",
       " 24,\n",
       " 25]"
      ]
     },
     "execution_count": 4,
     "metadata": {},
     "output_type": "execute_result"
    }
   ],
   "source": [
    "#Exercise 72:\n",
    "\"\"\"Given number of rows and number of columns, create a matrix (list of\n",
    "        lists) where each element is sequentially numbered\"\"\"\n",
    "\n",
    "def matrix(n_rows, n_cols):\n",
    "    news=[]\n",
    "    for row in range(n_rows):\n",
    "        for col in range(n_cols+1):\n",
    "            new =row*n_cols+col\n",
    "            news.append(new)\n",
    "    return news\n",
    "\n",
    "    \n",
    "#Alternative\n",
    "def matrix1(n_rows, n_cols):\n",
    "     return [\n",
    "        [row * n_cols + col for col in range(1, n_cols + 1)]\n",
    "        for row in range(n_rows)\n",
    "    ]      \n",
    "    \n",
    "matrix(5,5)"
   ]
  },
  {
   "cell_type": "code",
   "execution_count": null,
   "id": "193b757a",
   "metadata": {},
   "outputs": [],
   "source": [
    "#Exercise 73:\n",
    "def get_word_codes(words):\n",
    "    \"\"\"Given a list of words, return a dictionary where the words are keys,\n",
    "        and the value is a list of the character codes of the letters\n",
    "        of the word that is its key\"\"\"\n",
    "    return {\n",
    "        word: [ord(letter) for letter in word]\n",
    "        for word in words\n",
    "    }\n",
    "\n",
    "get_word_codes(['hello','sudip'])"
   ]
  },
  {
   "cell_type": "code",
   "execution_count": 22,
   "id": "1dee86c5",
   "metadata": {},
   "outputs": [
    {
     "data": {
      "text/plain": [
       "{'hello': [104, 101, 108, 108, 111], 'sudip': [115, 117, 100, 105, 112]}"
      ]
     },
     "execution_count": 22,
     "metadata": {},
     "output_type": "execute_result"
    }
   ],
   "source": [
    "def get_word_codes(words):\n",
    "    dic={}\n",
    "    for word in words:\n",
    "        ord_le=[]\n",
    "        for letter in word:\n",
    "            ord_le.append(ord(letter))\n",
    "        dic[word]=ord_le\n",
    "    return dic\n",
    "get_word_codes(['hello','sudip'])"
   ]
  },
  {
   "cell_type": "code",
   "execution_count": 21,
   "id": "68577eb8",
   "metadata": {},
   "outputs": [
    {
     "ename": "ModuleNotFoundError",
     "evalue": "No module named 'cards'",
     "output_type": "error",
     "traceback": [
      "\u001b[0;31m---------------------------------------------------------------------------\u001b[0m",
      "\u001b[0;31mModuleNotFoundError\u001b[0m                       Traceback (most recent call last)",
      "\u001b[0;32m/tmp/ipykernel_68482/2917210322.py\u001b[0m in \u001b[0;36m<module>\u001b[0;34m\u001b[0m\n\u001b[1;32m      1\u001b[0m \u001b[0;31m#Exercise 74:\u001b[0m\u001b[0;34m\u001b[0m\u001b[0;34m\u001b[0m\u001b[0;34m\u001b[0m\u001b[0m\n\u001b[1;32m      2\u001b[0m \u001b[0;32mimport\u001b[0m \u001b[0mrandom\u001b[0m\u001b[0;34m\u001b[0m\u001b[0;34m\u001b[0m\u001b[0m\n\u001b[0;32m----> 3\u001b[0;31m \u001b[0;32mfrom\u001b[0m \u001b[0mcards\u001b[0m \u001b[0;32mimport\u001b[0m \u001b[0mCard\u001b[0m\u001b[0;34m\u001b[0m\u001b[0;34m\u001b[0m\u001b[0m\n\u001b[0m\u001b[1;32m      4\u001b[0m \u001b[0;32mdef\u001b[0m \u001b[0mcreate_deck\u001b[0m\u001b[0;34m(\u001b[0m\u001b[0;34m)\u001b[0m\u001b[0;34m:\u001b[0m\u001b[0;34m\u001b[0m\u001b[0;34m\u001b[0m\u001b[0m\n\u001b[1;32m      5\u001b[0m     \u001b[0;31m# The deck array-list will contain Cards\u001b[0m\u001b[0;34m\u001b[0m\u001b[0;34m\u001b[0m\u001b[0;34m\u001b[0m\u001b[0m\n",
      "\u001b[0;31mModuleNotFoundError\u001b[0m: No module named 'cards'"
     ]
    }
   ],
   "source": [
    "#Exercise 74:\n",
    "import random\n",
    "from cards import Card\n",
    "def create_deck():\n",
    "    # The deck array-list will contain Cards\n",
    "    deck = []\n",
    "\n",
    "    # Build the deck, assuming the Card class was imported correctly\n",
    "    for i in range(1, 4):\n",
    "        for j in range(1, 13):\n",
    "            deck.append(Card(i, j))\n",
    "\n",
    "    return deck\n",
    "\n",
    "create_deck()"
   ]
  },
  {
   "cell_type": "markdown",
   "id": "5a0d4899",
   "metadata": {},
   "source": [
    "## Exercise 75: Conditional Logic \n",
    "\n",
    "1. Declare and assign a variable num to an integer value. \n",
    "2. Write a series of if, elif, else statements that will print the num you assigned. But for multiples of three print \"Fizz\" instead of the number and for the multiples of five print \"Buzz\". For numbers which are multiples of both three and five print \"FizzBuzz\"."
   ]
  },
  {
   "cell_type": "code",
   "execution_count": 12,
   "id": "7a5c3eda",
   "metadata": {},
   "outputs": [
    {
     "name": "stdout",
     "output_type": "stream",
     "text": [
      "1\n",
      "2\n",
      "Fizz\n",
      "4\n",
      "Bizz\n",
      "Fizz\n",
      "7\n",
      "8\n",
      "Fizz\n",
      "Bizz\n",
      "11\n",
      "Fizz\n",
      "13\n",
      "14\n",
      "FizzBizz\n",
      "16\n",
      "17\n",
      "Fizz\n",
      "19\n",
      "Bizz\n",
      "Fizz\n",
      "22\n",
      "23\n",
      "Fizz\n",
      "Bizz\n",
      "26\n",
      "Fizz\n",
      "28\n",
      "29\n",
      "FizzBizz\n"
     ]
    }
   ],
   "source": [
    "def fizbizz(num):\n",
    "    for n in range(1,num+1):\n",
    "        if n%3==0 and n%5==0:\n",
    "            print(\"FizzBizz\")\n",
    "        elif n%3==0:\n",
    "            print(\"Fizz\")\n",
    "        elif n%5==0:\n",
    "            print(\"Bizz\")\n",
    "        else:\n",
    "            print(n)\n",
    "fizbizz(30)"
   ]
  },
  {
   "cell_type": "code",
   "execution_count": 17,
   "id": "d78791dc",
   "metadata": {},
   "outputs": [
    {
     "data": {
      "text/plain": [
       "1"
      ]
     },
     "execution_count": 17,
     "metadata": {},
     "output_type": "execute_result"
    }
   ],
   "source": [
    "def fizbizz(num):\n",
    "    return next(\"FizzBizz\" if n%3==0 and n%5==0 else \"Fizz\" if n%3==0 else \"Bizz\" if n%5==0 else n for n in range(1,num+1) )\n",
    "fizbizz(30)"
   ]
  },
  {
   "cell_type": "markdown",
   "id": "069051ac",
   "metadata": {},
   "source": [
    "## Exercise 76:\n"
   ]
  },
  {
   "cell_type": "code",
   "execution_count": null,
   "id": "f3de7374",
   "metadata": {},
   "outputs": [],
   "source": []
  },
  {
   "cell_type": "markdown",
   "id": "3c11166b",
   "metadata": {},
   "source": [
    "## Exercise 77:\n",
    "Write a program to generate a <b>list</b> of all prime numbers less than 20.\n",
    "Before starting it is important to note what a prime number is.\n",
    "1. A prime number has to be a positive integer\n",
    "2. Divisible by exactly 2 integers (1 and itself)\n",
    "3. 1 is not a prime number"
   ]
  },
  {
   "cell_type": "code",
   "execution_count": null,
   "id": "9217b4de",
   "metadata": {},
   "outputs": [],
   "source": [
    "def prime(start end):\n",
    "    for n in range(start,end):\n",
    "        if num>1:\n",
    "            for i in range(2, n):\n",
    "                if n%i ==0:\n",
    "                    break\n",
    "            else:\n",
    "                print(n)\n",
    "                    \n",
    "prime(20)"
   ]
  },
  {
   "cell_type": "code",
   "execution_count": null,
   "id": "d7dc270f",
   "metadata": {},
   "outputs": [],
   "source": [
    "primes = []\n",
    "for possiblePrime in range(2, 20):\n",
    "    \n",
    "    # Assume number is prime until shown it is not. \n",
    "    isPrime = True\n",
    "    for num in range(2, possiblePrime):\n",
    "        \n",
    "        if possiblePrime % num == 0:\n",
    "            isPrime = False\n",
    "            break\n",
    "      \n",
    "    if isPrime:\n",
    "        primes.append(possiblePrime)\n",
    "primes"
   ]
  },
  {
   "cell_type": "code",
   "execution_count": null,
   "id": "3b0f83e0",
   "metadata": {},
   "outputs": [],
   "source": [
    "def prime(start, end):\n",
    "    for num in range(start, end+1):\n",
    "        if num>1:\n",
    "            for i in range(2, num):\n",
    "                if num%i==0:\n",
    "                    break\n",
    "            else:\n",
    "                print(num)\n",
    "\n",
    "prime(2,20)"
   ]
  },
  {
   "cell_type": "markdown",
   "id": "d5c98722",
   "metadata": {},
   "source": [
    "## Exercise 78:\n",
    "Fibonacci sequence is an integer sequence characterized by the fact that every number after the first two is the sum of the two preceding ones. By definition, the first two numbers in the Fibonacci sequence are either 1 and 1 (<b>which is how I like to code it</b>), or 0 and 1, depending on the chosen starting point of the sequence, and each subsequent number is the sum of the previous two."
   ]
  },
  {
   "cell_type": "code",
   "execution_count": null,
   "id": "49535f06",
   "metadata": {},
   "outputs": [],
   "source": [
    "def feb(a,b):\n",
    "    a,b=1,1\n",
    "    for i in range(10)\n",
    "    a, b=b, a+b\n",
    "    return a, b\n",
    "    "
   ]
  },
  {
   "cell_type": "markdown",
   "id": "10c514fd",
   "metadata": {},
   "source": [
    "## Exercise 79: Word Count\n",
    "\n",
    "For the text in the variable <b>text</b>, count how many times each word occurs"
   ]
  },
  {
   "cell_type": "code",
   "execution_count": null,
   "id": "958f37bc",
   "metadata": {},
   "outputs": [],
   "source": [
    "def word_count(string1):\n",
    "    string2 = string1.lower()\n",
    "    list1 = string2.split()\n",
    "    dict1 = {}\n",
    "    for word in list1:\n",
    "        dict1[word]=dict1.get(word,0)+1  # get 0 if word not already exist, but get value of word like 1, 2 if it already exist there\n",
    "    return(dict1)"
   ]
  },
  {
   "cell_type": "markdown",
   "id": "ab771023",
   "metadata": {},
   "source": [
    "### Exercise 80:Passport score"
   ]
  },
  {
   "cell_type": "code",
   "execution_count": null,
   "id": "e4f40835",
   "metadata": {},
   "outputs": [],
   "source": [
    "password = input('Enter the password:')\n",
    "upper_list = \"A B C D E F G H I J K L M N O P Q R S T U V W X Y Z\"\n",
    "lower_list = \"a b c d e f g h i j k l m n o p q r s t u v w x y z\"\n",
    "number_list = \"1 2 3 4 5 6 7 8 9 0\".split()\n",
    "special_list = \"! @ $ % ^ & * ( ) _ - + = { } [ ] | \\ , . > < / ? ~ ` \\\" ' : ;\".split()\n",
    "len_flag, upper_flag, lower_flag, number_flag, symbol_flag = (0,0,0,0,0)\n",
    "if len(password) < 8:\n",
    "    len_flag = 0\n",
    "else len(password) >= 8:\n",
    "    len_flag = 1\n",
    "    for char in password:\n",
    "        if char in upper_list:\n",
    "            upper_flag = 1\n",
    "        if char in lower_list:\n",
    "            lower_flag = 1\n",
    "        if char in number_list:\n",
    "            number_flag = 1\n",
    "        if char in special_list:\n",
    "            symbol_flag = 1\n",
    "score = len_flag + upper_flag + lower_flag + number_flag + symbol_flag\n",
    "print(f\"Your password score is {score}\")"
   ]
  },
  {
   "cell_type": "code",
   "execution_count": null,
   "id": "f75063d5",
   "metadata": {},
   "outputs": [],
   "source": [
    "## Exercise 81: check whether the word is paladrom or not\n",
    "def pald(word):\n",
    "    for i, char in enumerate(word):\n",
    "        print(i)\n",
    "        print(char)\n",
    "        if char!=word[-i-1]:\n",
    "            return \"not pald\"\n",
    "    return \"pald\"\n",
    "            \n",
    "pald(word =\"batab\")"
   ]
  },
  {
   "cell_type": "markdown",
   "id": "71da9c2a",
   "metadata": {},
   "source": [
    "## Exercise 82:   \n",
    "        Given a sentence, returns list of words that contain the letter.\n",
    "        Letter given is lowercase. Sentence can be mixed case, and the\n",
    "        case should be ignored for searching.\n",
    " "
   ]
  },
  {
   "cell_type": "code",
   "execution_count": null,
   "id": "d8583e30",
   "metadata": {},
   "outputs": [],
   "source": [
    "def word(sent, letter):\n",
    "    words=sent.split()\n",
    "    return [word for word in words if letter in word.lower()]"
   ]
  },
  {
   "cell_type": "code",
   "execution_count": null,
   "id": "215d2e8a",
   "metadata": {},
   "outputs": [],
   "source": [
    "#Exercise 83:Return length of object or -1 if object has no length\n",
    "def lent(sent):\n",
    "    try:\n",
    "        return len(sent)\n",
    "    except TypeError:\n",
    "        return -1\n"
   ]
  },
  {
   "cell_type": "code",
   "execution_count": null,
   "id": "d3477e1b",
   "metadata": {},
   "outputs": [],
   "source": [
    "#Exercise 84:Yield sequence elements in order, skipping duplicate values\n",
    "def yiel(seq):\n",
    "    seen=set()\n",
    "    for item in seq:\n",
    "        if item not in seen:\n",
    "            seen.add(item)\n",
    "            yield item\n",
    "            \n",
    "#Alternative\n",
    "def unique4(sequence):\n",
    "    yield from dict.fromkeys(sequence)"
   ]
  },
  {
   "cell_type": "code",
   "execution_count": 51,
   "id": "c012b00c",
   "metadata": {},
   "outputs": [
    {
     "name": "stdout",
     "output_type": "stream",
     "text": [
      "2\n",
      "4\n",
      "3\n",
      "9\n",
      "2\n"
     ]
    }
   ],
   "source": [
    "#Exercise 85:\n",
    "def floorSqrt(x):\n",
    " \n",
    "    # Base cases\n",
    "    if (x == 0 or x == 1):\n",
    "        return x\n",
    " \n",
    "    # Starting from 1, try all numbers until\n",
    "    # i*i is greater than or equal to x.\n",
    "    i = 1; result = 1\n",
    "    while (result <= x):\n",
    "     \n",
    "        i += 1\n",
    "        print(i)\n",
    "        result = i * i\n",
    "        print(result)\n",
    "     \n",
    "    return i - 1\n",
    " \n",
    "# Driver Code\n",
    "x = 4\n",
    "print(floorSqrt(x))"
   ]
  },
  {
   "cell_type": "code",
   "execution_count": null,
   "id": "354db127",
   "metadata": {},
   "outputs": [],
   "source": [
    "#Exercise 86:"
   ]
  },
  {
   "cell_type": "code",
   "execution_count": null,
   "id": "cc49cc43",
   "metadata": {},
   "outputs": [],
   "source": [
    "#Exercise 87:"
   ]
  },
  {
   "cell_type": "code",
   "execution_count": null,
   "id": "c0d0169b",
   "metadata": {},
   "outputs": [],
   "source": [
    "#Exercise 88:"
   ]
  },
  {
   "cell_type": "code",
   "execution_count": null,
   "id": "acbf0014",
   "metadata": {},
   "outputs": [],
   "source": [
    "#Exercise 89:"
   ]
  },
  {
   "cell_type": "code",
   "execution_count": null,
   "id": "c8485de8",
   "metadata": {},
   "outputs": [],
   "source": [
    "#Exercise 90:"
   ]
  },
  {
   "cell_type": "code",
   "execution_count": null,
   "id": "9b4440cf",
   "metadata": {},
   "outputs": [],
   "source": [
    "#Exercise 91:"
   ]
  },
  {
   "cell_type": "code",
   "execution_count": null,
   "id": "b892eba7",
   "metadata": {},
   "outputs": [],
   "source": [
    "#Exercise 92:"
   ]
  },
  {
   "cell_type": "code",
   "execution_count": null,
   "id": "15c09086",
   "metadata": {},
   "outputs": [],
   "source": [
    "#Exercise 93:"
   ]
  },
  {
   "cell_type": "code",
   "execution_count": null,
   "id": "611eaeb7",
   "metadata": {},
   "outputs": [],
   "source": [
    "#Exercise 94:"
   ]
  },
  {
   "cell_type": "code",
   "execution_count": null,
   "id": "dec82e53",
   "metadata": {},
   "outputs": [],
   "source": [
    "#Exercise 95:"
   ]
  },
  {
   "cell_type": "code",
   "execution_count": null,
   "id": "00ef19f1",
   "metadata": {},
   "outputs": [],
   "source": [
    "#Exercise 96:"
   ]
  },
  {
   "cell_type": "code",
   "execution_count": null,
   "id": "b9145346",
   "metadata": {},
   "outputs": [],
   "source": [
    "#Exercise 97:"
   ]
  },
  {
   "cell_type": "code",
   "execution_count": null,
   "id": "63690fb8",
   "metadata": {},
   "outputs": [],
   "source": [
    "#Exercise 98:"
   ]
  },
  {
   "cell_type": "code",
   "execution_count": null,
   "id": "dee22f04",
   "metadata": {},
   "outputs": [],
   "source": [
    "#Exercise 99:"
   ]
  },
  {
   "cell_type": "code",
   "execution_count": null,
   "id": "6f661443",
   "metadata": {},
   "outputs": [],
   "source": []
  },
  {
   "cell_type": "code",
   "execution_count": null,
   "id": "c3c2d95e",
   "metadata": {},
   "outputs": [],
   "source": []
  },
  {
   "cell_type": "code",
   "execution_count": null,
   "id": "c97625eb",
   "metadata": {},
   "outputs": [],
   "source": []
  },
  {
   "cell_type": "code",
   "execution_count": null,
   "id": "56bcbbc2",
   "metadata": {},
   "outputs": [],
   "source": []
  },
  {
   "cell_type": "markdown",
   "id": "a674e810",
   "metadata": {},
   "source": [
    "## Exercise 100:\n",
    "Write a Python program to find those numbers which are divisible by 7 and multiple of 5, between 1500 and 2700 (both included)"
   ]
  },
  {
   "cell_type": "code",
   "execution_count": null,
   "id": "6cec4fc7",
   "metadata": {},
   "outputs": [],
   "source": [
    "for i in range(1500, 2701):\n",
    "    if i%7==0 and i%5==0:\n",
    "        print(i)"
   ]
  },
  {
   "cell_type": "markdown",
   "id": "7a1518e1",
   "metadata": {},
   "source": [
    "## Exercise 101:\n",
    "Write a Python program to convert temperatures to and from celsius, fahrenheit"
   ]
  },
  {
   "cell_type": "code",
   "execution_count": null,
   "id": "69cf2e95",
   "metadata": {},
   "outputs": [],
   "source": [
    "\n",
    "while True:\n",
    "    temp = input(\"Input the  temperature you like to convert? (e.g., 45F, 102C etc.) : \")\n",
    "    degree = int(temp[:-1])\n",
    "    i_convention = temp[-1]\n",
    "    if i_convention.upper() == \"C\":\n",
    "        result = int(round((9 * degree) / 5 + 32))\n",
    "        o_convention = \"Fahrenheit\"\n",
    "        print(\"The temperature in\", o_convention, \"is\", result, \"degrees.\")\n",
    "        break\n",
    "    elif i_convention.upper() == \"F\":\n",
    "        result = int(round((degree - 32) * 5 / 9))\n",
    "        o_convention = \"Celsius\"\n",
    "        print(\"The temperature in\", o_convention, \"is\", result, \"degrees.\")\n",
    "        break\n",
    "    else:\n",
    "        print(\"please enter the correct format\")\n",
    "\n",
    "    "
   ]
  },
  {
   "cell_type": "code",
   "execution_count": 3,
   "id": "11479082",
   "metadata": {},
   "outputs": [
    {
     "name": "stdout",
     "output_type": "stream",
     "text": [
      "8\n"
     ]
    },
    {
     "name": "stdin",
     "output_type": "stream",
     "text": [
      "Please enter the number 6\n",
      "Please enter the number 9\n",
      "Please enter the number 8\n"
     ]
    },
    {
     "name": "stdout",
     "output_type": "stream",
     "text": [
      "well gussed!\n"
     ]
    }
   ],
   "source": [
    "#Exercise 102:Write a Python program to guess a number between 1 to 9\n",
    "import random\n",
    "target_num=random.randint(1,10)\n",
    "print(target_num)\n",
    "guess_num=0\n",
    "while target_num!=guess_num:\n",
    "    guess_num=int(input(\"Please enter the number\"))\n",
    "print(\"well gussed!\")"
   ]
  },
  {
   "cell_type": "code",
   "execution_count": null,
   "id": "fff9fe96",
   "metadata": {},
   "outputs": [],
   "source": [
    "#Exercise 103:Write a Python program that accepts a word from the user and reverse it\n",
    "\n",
    "user_input=input(\"Please enter the word\")\n",
    "for i in range(len(user_input)-1,-1,-1):\n",
    "    print(user_input[i], end=\"\")\n",
    "    "
   ]
  },
  {
   "cell_type": "code",
   "execution_count": 5,
   "id": "56f77105",
   "metadata": {},
   "outputs": [
    {
     "name": "stdin",
     "output_type": "stream",
     "text": [
      "Please enter the word sudip\n"
     ]
    },
    {
     "ename": "TypeError",
     "evalue": "'str' object does not support item assignment",
     "output_type": "error",
     "traceback": [
      "\u001b[0;31m---------------------------------------------------------------------------\u001b[0m",
      "\u001b[0;31mTypeError\u001b[0m                                 Traceback (most recent call last)",
      "\u001b[0;32m/tmp/ipykernel_13296/3277754232.py\u001b[0m in \u001b[0;36m<module>\u001b[0;34m\u001b[0m\n\u001b[1;32m     10\u001b[0m     \u001b[0;32mreturn\u001b[0m \u001b[0;34m(\u001b[0m\u001b[0muser_input\u001b[0m\u001b[0;34m)\u001b[0m\u001b[0;34m\u001b[0m\u001b[0;34m\u001b[0m\u001b[0m\n\u001b[1;32m     11\u001b[0m \u001b[0;34m\u001b[0m\u001b[0m\n\u001b[0;32m---> 12\u001b[0;31m \u001b[0mrev\u001b[0m\u001b[0;34m(\u001b[0m\u001b[0;34m)\u001b[0m\u001b[0;34m\u001b[0m\u001b[0;34m\u001b[0m\u001b[0m\n\u001b[0m",
      "\u001b[0;32m/tmp/ipykernel_13296/3277754232.py\u001b[0m in \u001b[0;36mrev\u001b[0;34m()\u001b[0m\n\u001b[1;32m      5\u001b[0m     \u001b[0mend\u001b[0m\u001b[0;34m=\u001b[0m\u001b[0mlen\u001b[0m\u001b[0;34m(\u001b[0m\u001b[0muser_input\u001b[0m\u001b[0;34m)\u001b[0m\u001b[0;34m-\u001b[0m\u001b[0;36m1\u001b[0m\u001b[0;34m\u001b[0m\u001b[0;34m\u001b[0m\u001b[0m\n\u001b[1;32m      6\u001b[0m     \u001b[0;32mwhile\u001b[0m \u001b[0mstart\u001b[0m\u001b[0;34m<\u001b[0m\u001b[0mend\u001b[0m\u001b[0;34m:\u001b[0m\u001b[0;34m\u001b[0m\u001b[0;34m\u001b[0m\u001b[0m\n\u001b[0;32m----> 7\u001b[0;31m         \u001b[0muser_input\u001b[0m\u001b[0;34m[\u001b[0m\u001b[0mstart\u001b[0m\u001b[0;34m]\u001b[0m\u001b[0;34m,\u001b[0m \u001b[0muser_input\u001b[0m\u001b[0;34m[\u001b[0m\u001b[0mend\u001b[0m\u001b[0;34m]\u001b[0m\u001b[0;34m=\u001b[0m\u001b[0muser_input\u001b[0m\u001b[0;34m[\u001b[0m\u001b[0mend\u001b[0m\u001b[0;34m]\u001b[0m\u001b[0;34m,\u001b[0m \u001b[0muser_input\u001b[0m\u001b[0;34m[\u001b[0m\u001b[0mstart\u001b[0m\u001b[0;34m]\u001b[0m\u001b[0;34m\u001b[0m\u001b[0;34m\u001b[0m\u001b[0m\n\u001b[0m\u001b[1;32m      8\u001b[0m         \u001b[0mstart\u001b[0m\u001b[0;34m=\u001b[0m\u001b[0mstart\u001b[0m\u001b[0;34m+\u001b[0m\u001b[0;36m1\u001b[0m\u001b[0;34m\u001b[0m\u001b[0;34m\u001b[0m\u001b[0m\n\u001b[1;32m      9\u001b[0m         \u001b[0mend\u001b[0m\u001b[0;34m=\u001b[0m\u001b[0mend\u001b[0m\u001b[0;34m-\u001b[0m\u001b[0;36m1\u001b[0m\u001b[0;34m\u001b[0m\u001b[0;34m\u001b[0m\u001b[0m\n",
      "\u001b[0;31mTypeError\u001b[0m: 'str' object does not support item assignment"
     ]
    }
   ],
   "source": [
    "#alternative\n",
    "def rev():\n",
    "    user_input=input(\"Please enter the word\")\n",
    "    start=0\n",
    "    end=len(user_input)-1\n",
    "    while start<end:\n",
    "        user_input[start], user_input[end]=user_input[end], user_input[start]\n",
    "        start=start+1\n",
    "        end=end-1\n",
    "    return (user_input)\n",
    "\n",
    "rev()"
   ]
  },
  {
   "cell_type": "code",
   "execution_count": null,
   "id": "70ccddc1",
   "metadata": {},
   "outputs": [],
   "source": [
    "#Exercise 104:Write a Python program that prints all the numbers from 0 to 6 except 3 and 6.\n",
    "\n",
    "for i in range(6):\n",
    "    if i%3==0:\n",
    "        continue\n",
    "    else:\n",
    "        print(i)"
   ]
  },
  {
   "cell_type": "code",
   "execution_count": null,
   "id": "88963b6e",
   "metadata": {},
   "outputs": [],
   "source": [
    "#Exercise 105:Write a Python program to construct the following pattern, using a nested for loop.\n",
    "for i in range(1,10):\n",
    "    for j in range(i):\n",
    "        print('*', end='')\n",
    "    print()\n",
    "for i in range(10,0,-1):\n",
    "    for j in range(i):\n",
    "        print('*', end =\"\")\n",
    "    print()"
   ]
  },
  {
   "cell_type": "code",
   "execution_count": null,
   "id": "4917c9bd",
   "metadata": {},
   "outputs": [],
   "source": [
    "#Exercise 106:Write a Python program to count the number of even and odd numbers from a series of numbers\n",
    "even=0\n",
    "odd=0\n",
    "for i in range(20):\n",
    "    if i%2==0:\n",
    "        even+=1\n",
    "    else:\n",
    "        odd+=1\n",
    "print(even, odd)\n",
    "        "
   ]
  },
  {
   "cell_type": "code",
   "execution_count": null,
   "id": "bed5212b",
   "metadata": {},
   "outputs": [],
   "source": [
    "#Exercise 107:Write a Python program to get the Fibonacci series between 0 to 50\n",
    "a,b=0,1\n",
    "while b<50:\n",
    "    print(a, b)\n",
    "    a, b=b, a+b\n",
    "\n"
   ]
  },
  {
   "cell_type": "code",
   "execution_count": null,
   "id": "8f840246",
   "metadata": {},
   "outputs": [],
   "source": [
    "a, b=0,1\n",
    "for i in range(10):\n",
    "    print(a,b)\n",
    "    a, b=b, a+b"
   ]
  },
  {
   "cell_type": "code",
   "execution_count": 39,
   "id": "07bb421e",
   "metadata": {},
   "outputs": [
    {
     "data": {
      "text/plain": [
       "[[0, 0, 0, 0], [0, 0, 0, 0], [0, 0, 0, 0]]"
      ]
     },
     "execution_count": 39,
     "metadata": {},
     "output_type": "execute_result"
    }
   ],
   "source": [
    "multi_list = [[0 for col in range(4)] for row in range(3)]\n",
    "multi_list "
   ]
  },
  {
   "cell_type": "code",
   "execution_count": 40,
   "id": "9b9ee006",
   "metadata": {},
   "outputs": [
    {
     "data": {
      "text/plain": [
       "[[0, 0, 0, 0], [0, 1, 2, 3], [0, 2, 4, 6]]"
      ]
     },
     "execution_count": 40,
     "metadata": {},
     "output_type": "execute_result"
    }
   ],
   "source": [
    "#Exercise 108:Write a Python program which takes two digits m (row) and n (column) as input and generates a two-dimensional array. The element value in the i-th row and j-th column of the array should be i*j\n",
    "def matrix(m,n):\n",
    "    multi_list = [[0 for col in range(n)] for row in range(m)]\n",
    "    for i in range(m):\n",
    "        for j in range(n):\n",
    "            multi_list[i][j]=i*j\n",
    "    return multi_list      \n",
    "matrix(3,4)  "
   ]
  },
  {
   "cell_type": "code",
   "execution_count": 5,
   "id": "92098b9a",
   "metadata": {},
   "outputs": [
    {
     "name": "stdin",
     "output_type": "stream",
     "text": [
      "Please enter line ll\n",
      "Please enter line ll\n",
      "Please enter line ;;\n",
      "Please enter line \n"
     ]
    },
    {
     "name": "stdout",
     "output_type": "stream",
     "text": [
      "LL\n",
      "LL\n",
      ";;\n"
     ]
    }
   ],
   "source": [
    "#Exercise 109:Write a Python program that accepts a sequence of lines (blank line to terminate) as input and prints the lines as output (all characters in lower case\n",
    "lines=[]\n",
    "while True:\n",
    "    l=input(\"Please enter line\")\n",
    "    if l:\n",
    "        lines.append(l.upper())\n",
    "    else:\n",
    "        break\n",
    "for l in lines:\n",
    "    print(l)"
   ]
  },
  {
   "cell_type": "code",
   "execution_count": 6,
   "id": "eaac1374",
   "metadata": {},
   "outputs": [
    {
     "data": {
      "text/plain": [
       "(5, 1)"
      ]
     },
     "execution_count": 6,
     "metadata": {},
     "output_type": "execute_result"
    }
   ],
   "source": [
    "#Exercise 110:Write a Python program that accepts a string and calculate the number of digits and letters\n",
    "def string_count(s):\n",
    "    lett=0\n",
    "    dig=0\n",
    "    for l in s:\n",
    "        if l.isalpha():\n",
    "            lett+=1\n",
    "        elif l.isnumeric():\n",
    "            dig+=1\n",
    "        else:\n",
    "            pass\n",
    "    return lett, dig  \n",
    "string_count(\"s!udip1!\")           "
   ]
  },
  {
   "cell_type": "code",
   "execution_count": null,
   "id": "03f9ebb3",
   "metadata": {},
   "outputs": [],
   "source": [
    "#Exercise 111:Write a Python program to check the validity of password input by users\n",
    "score=[]\n",
    "while True:\n",
    "    score.clear()\n",
    "    user_input=input('Enter the passport')\n",
    "    if not any(i.isdigit() for i in user_input):\n",
    "        score.append('Enter at least number')\n",
    "    if not any (i.isalpha() for i in user_input):\n",
    "        score.append(\"Entr at least character\")\n",
    "        \n",
    "    if 8>len(user_input)>16:\n",
    "        score.append('Length is not good')\n",
    "    if len(score)==0:\n",
    "        print(\"fine\")\n",
    "        break\n",
    "    else:\n",
    "        for i in score:\n",
    "            print(i)\n",
    "        "
   ]
  },
  {
   "cell_type": "code",
   "execution_count": null,
   "id": "d88fb3da",
   "metadata": {},
   "outputs": [],
   "source": [
    "import re\n",
    "x=True\n",
    "while x:\n",
    "    p=input('Enter the pasport')\n",
    "    if len(p)<6 and len(p)>12:\n",
    "        break\n",
    "    elif not re.search(\"[a-z]\",p):\n",
    "        break\n",
    "    elif not re.search(\"[0-9]\",p):\n",
    "        break\n",
    "    else:\n",
    "        print(\"valid passport\")\n",
    "        x=False\n",
    "        break\n",
    "if x:\n",
    "    print(\"not a valid passport\")\n",
    "        "
   ]
  },
  {
   "cell_type": "code",
   "execution_count": 6,
   "id": "381cb1a4",
   "metadata": {},
   "outputs": [
    {
     "name": "stdout",
     "output_type": "stream",
     "text": [
      "200,202,204,206,208,220,222,224,226,228,240,242,244,246,248,260,262,264,266,268,280,282,284,286,288,400,"
     ]
    }
   ],
   "source": [
    "#Exercise 112:Write a Python program to find numbers between 100 and 400 (both included) where each digit of a number is an even number. The numbers obtained should be printed in a comma-separated sequence\n",
    "items=[]\n",
    "for i in range(100, 401):\n",
    "    s=str(i)\n",
    "    if (int(s[0])%2==0) and (int(s[1])%2==0)and (int(s[2])%2==0):\n",
    "        print(s, end=\",\")"
   ]
  },
  {
   "cell_type": "code",
   "execution_count": null,
   "id": "320b4458",
   "metadata": {},
   "outputs": [],
   "source": [
    "#Exercise 113:Write a Python program to print alphabet pattern 'A'.\n",
    "result_str=\"\";    \n",
    "for row in range(0,7):    \n",
    "    for column in range(0,7):     \n",
    "        if (((column == 1 or column == 5) and row != 0) or ((row == 0 or row == 3) and (column > 1 and column < 5))):    \n",
    "            result_str=result_str+\"*\"    \n",
    "        else:      \n",
    "            result_str=result_str+\" \"    \n",
    "    result_str=result_str+\"\\n\"    \n",
    "print(result_str);\n",
    "        "
   ]
  },
  {
   "cell_type": "code",
   "execution_count": null,
   "id": "65fc7157",
   "metadata": {},
   "outputs": [],
   "source": [
    "#Exercise 114:"
   ]
  },
  {
   "cell_type": "code",
   "execution_count": null,
   "id": "4ad98ac1",
   "metadata": {},
   "outputs": [],
   "source": [
    "#Exercise 115:Write a Python program to check whether an alphabet is a vowel or consonant\n",
    "l = input(\"Input a letter of the alphabet: \")\n",
    "\n",
    "if l in ('a', 'e', 'i', 'o', 'u'):\n",
    "\tprint(\"%s is a vowel.\" % l)\n",
    "elif l == 'y':\n",
    "\tprint(\"Sometimes letter y stand for vowel, sometimes stand for consonant.\")\n",
    "else:\n",
    "\tprint(\"%s is a consonant.\" % l)"
   ]
  },
  {
   "cell_type": "code",
   "execution_count": null,
   "id": "d105f352",
   "metadata": {},
   "outputs": [],
   "source": [
    "#Exercise 116:Write a Python program to convert month name to a number of days\n",
    "print(\"List of months: January, February, March, April, May, June, July, August, September, October, November, December\")\n",
    "month_name = input(\"Input the name of Month: \")\n",
    "\n",
    "if month_name == \"February\":\n",
    "\tprint(\"No. of days: 28/29 days\")\n",
    "elif month_name in (\"April\", \"June\", \"September\", \"November\"):\n",
    "\tprint(\"No. of days: 30 days\")\n",
    "elif month_name in (\"January\", \"March\", \"May\", \"July\", \"August\", \"October\", \"December\"):\n",
    "\tprint(\"No. of days: 31 day\")\n",
    "else:\n",
    "\tprint(\"Wrong month name\")"
   ]
  },
  {
   "cell_type": "code",
   "execution_count": null,
   "id": "6814c997",
   "metadata": {},
   "outputs": [],
   "source": [
    "#Exercise 117:Write a Python program to sum of two given integers. However, if the sum is between 15 to 20 it will return 20\n",
    "def sum1(x,y):\n",
    "    sum2=x+y\n",
    "    if sum2 in range(15, 20):\n",
    "        return 20\n",
    "    else:\n",
    "        return sum2\n",
    "    \n",
    "sum1(15,1)"
   ]
  },
  {
   "cell_type": "code",
   "execution_count": null,
   "id": "3b927777",
   "metadata": {},
   "outputs": [],
   "source": [
    "#Exercise 118:Write a Python program to check a string represent an integer or not\n",
    "string='aasdd'\n",
    "if any (s.isnumeric() for s in string):\n",
    "    print('contain intiger')\n",
    "else:\n",
    "    print('not')\n"
   ]
  },
  {
   "cell_type": "code",
   "execution_count": null,
   "id": "300de5ef",
   "metadata": {},
   "outputs": [],
   "source": [
    "#Exercise 119: Write a Python program to check a triangle is equilateral, isosceles or scalene.\n",
    "print(\"Input lengths of the triangle sides: \")\n",
    "x = int(input(\"x: \"))\n",
    "y = int(input(\"y: \"))\n",
    "z = int(input(\"z: \"))\n",
    "\n",
    "if x == y == z:\n",
    "\tprint(\"Equilateral triangle\")\n",
    "elif x==y or y==z or z==x:\n",
    "\tprint(\"isosceles triangle\")\n",
    "else:\n",
    "\tprint(\"Scalene triangle\")"
   ]
  },
  {
   "cell_type": "code",
   "execution_count": null,
   "id": "2f0ce2f3",
   "metadata": {},
   "outputs": [],
   "source": [
    "#Exercise 120:Write a Python program that reads two integers representing a month and day and prints the season for that month and day\n",
    "month = input(\"Input the month (e.g. January, February etc.): \")\n",
    "day = int(input(\"Input the day: \"))\n",
    "\n",
    "if month in ('January', 'February', 'March'):\n",
    "\tseason = 'winter'\n",
    "elif month in ('April', 'May', 'June'):\n",
    "\tseason = 'spring'\n",
    "elif month in ('July', 'August', 'September'):\n",
    "\tseason = 'summer'\n",
    "else:\n",
    "\tseason = 'autumn'\n",
    "\n",
    "if (month == 'March') and (day > 19):\n",
    "\tseason = 'spring'\n",
    "elif (month == 'June') and (day > 20):\n",
    "\tseason = 'summer'\n",
    "elif (month == 'September') and (day > 21):\n",
    "\tseason = 'autumn'\n",
    "elif (month == 'December') and (day > 20):\n",
    "\tseason = 'winter'\n",
    "\n",
    "print(\"Season is\",season)"
   ]
  },
  {
   "cell_type": "code",
   "execution_count": null,
   "id": "dfd46701",
   "metadata": {},
   "outputs": [],
   "source": [
    "#Exercise 121:Write a Python program to display astrological sign for given date of birth\n",
    "day = int(input(\"Input birthday: \"))\n",
    "month = input(\"Input month of birth (e.g. march, july etc): \")\n",
    "if month == 'december':\n",
    "\tastro_sign = 'Sagittarius' if (day < 22) else 'capricorn'\n",
    "elif month == 'january':\n",
    "\tastro_sign = 'Capricorn' if (day < 20) else 'aquarius'\n",
    "elif month == 'february':\n",
    "\tastro_sign = 'Aquarius' if (day < 19) else 'pisces'\n",
    "elif month == 'march':\n",
    "\tastro_sign = 'Pisces' if (day < 21) else 'aries'\n",
    "elif month == 'april':\n",
    "\tastro_sign = 'Aries' if (day < 20) else 'taurus'\n",
    "elif month == 'may':\n",
    "\tastro_sign = 'Taurus' if (day < 21) else 'gemini'\n",
    "elif month == 'june':\n",
    "\tastro_sign = 'Gemini' if (day < 21) else 'cancer'\n",
    "elif month == 'july':\n",
    "\tastro_sign = 'Cancer' if (day < 23) else 'leo'\n",
    "elif month == 'august':\n",
    "\tastro_sign = 'Leo' if (day < 23) else 'virgo'\n",
    "elif month == 'september':\n",
    "\tastro_sign = 'Virgo' if (day < 23) else 'libra'\n",
    "elif month == 'october':\n",
    "\tastro_sign = 'Libra' if (day < 23) else 'scorpio'\n",
    "elif month == 'november':\n",
    "\tastro_sign = 'scorpio' if (day < 22) else 'sagittarius'\n",
    "print(\"Your Astrological sign is :\",astro_sign)"
   ]
  },
  {
   "cell_type": "code",
   "execution_count": null,
   "id": "21f64591",
   "metadata": {},
   "outputs": [],
   "source": [
    "#Exercise 122:Write a Python program to find the median of three values\n",
    "\n",
    "a = float(input(\"Input first number: \"))\n",
    "b = float(input(\"Input second number: \"))\n",
    "c = float(input(\"Input third number: \"))\n",
    "if a > b:\n",
    "    if a < c:\n",
    "        median = a\n",
    "    elif b > c:\n",
    "        median = b\n",
    "    else:\n",
    "        median = c\n",
    "else:\n",
    "    if a > c:\n",
    "        median = a\n",
    "    elif b < c:\n",
    "        median = b\n",
    "    else:\n",
    "        median = c\n",
    "\n",
    "print(\"The median is\", median)\n",
    "    "
   ]
  },
  {
   "cell_type": "code",
   "execution_count": null,
   "id": "589ea786",
   "metadata": {},
   "outputs": [],
   "source": [
    "#Exercise 123:Write a Python program to get next day of a given date\n",
    "year = int(input(\"Input a year: \"))\n",
    "\n",
    "if (year % 400 == 0):\n",
    "    leap_year = True\n",
    "elif (year % 100 == 0):\n",
    "    leap_year = False\n",
    "elif (year % 4 == 0):\n",
    "    leap_year = True\n",
    "else:\n",
    "    leap_year = False\n",
    "\n",
    "month = int(input(\"Input a month [1-12]: \"))\n",
    "\n",
    "if month in (1, 3, 5, 7, 8, 10, 12):\n",
    "    month_length = 31\n",
    "elif month == 2:\n",
    "    if leap_year:\n",
    "        month_length = 29\n",
    "    else:\n",
    "        month_length = 28\n",
    "else:\n",
    "    month_length = 30\n",
    "\n",
    "\n",
    "day = int(input(\"Input a day [1-31]: \"))\n",
    "\n",
    "if day < month_length:\n",
    "    day += 1\n",
    "else:\n",
    "    day = 1\n",
    "    if month == 12:\n",
    "        month = 1\n",
    "        year += 1\n",
    "    else:\n",
    "        month += 1\n",
    "print(\"The next date is [yyyy-mm-dd] %d-%d-%d.\" % (year, month, day))\n",
    "\n"
   ]
  },
  {
   "cell_type": "code",
   "execution_count": null,
   "id": "8b68b331",
   "metadata": {},
   "outputs": [],
   "source": [
    "#Exercise 124:Write a Python program to calculate the sum and average of n integer numbers (input from the user). Input 0 to finish\n",
    "print(\"Input some integers to calculate their sum and average. Input 0 to exit.\")\n",
    "\n",
    "sum1=0\n",
    "count=0\n",
    "num=1\n",
    "while num!=0:\n",
    "    num=int(input(\" \"))\n",
    "    sum1=sum1+num\n",
    "    count+=1\n",
    "print(sum1, sum1/count-1)"
   ]
  },
  {
   "cell_type": "code",
   "execution_count": null,
   "id": "6b2c8ae6",
   "metadata": {},
   "outputs": [],
   "source": [
    "#Exercise 125: Write a Python program to create the multiplication table (from 1 to 10) of a number\n",
    "def mult(n):\n",
    "    for i in range(1,11):\n",
    "        print(f'{n} X {i} ={n*i}')\n",
    "mult(6)"
   ]
  },
  {
   "cell_type": "code",
   "execution_count": 1,
   "id": "e637be91",
   "metadata": {},
   "outputs": [
    {
     "name": "stdout",
     "output_type": "stream",
     "text": [
      "1\n",
      "22\n",
      "333\n",
      "4444\n",
      "55555\n",
      "666666\n",
      "7777777\n",
      "88888888\n",
      "999999999\n"
     ]
    }
   ],
   "source": [
    "#Exercise 126:Write a Python program to construct the following pattern, using a nested loop number\n",
    "for i in range(1,10):\n",
    "    for j in range(0,i):\n",
    "        print(i, end='')\n",
    "    print('')"
   ]
  },
  {
   "cell_type": "code",
   "execution_count": null,
   "id": "e774cf80",
   "metadata": {},
   "outputs": [],
   "source": [
    "#alternative\n",
    "for i in range(10):\n",
    "    print(str(i)*i)"
   ]
  },
  {
   "cell_type": "code",
   "execution_count": null,
   "id": "bbfccff6",
   "metadata": {},
   "outputs": [],
   "source": [
    "#Exercise 127:Write a Python program to create an array of 5 integers and display the array items. Access individual element through indexes.\n",
    "a=[i for i in range(5)]\n",
    "a[0]\n",
    "a[1]\n",
    "a[2]"
   ]
  },
  {
   "cell_type": "code",
   "execution_count": null,
   "id": "c8f568c5",
   "metadata": {},
   "outputs": [],
   "source": [
    "#Exercise 128:Write a Python program to append a new item to the end of the array\n",
    "a=[]\n",
    "for i in range(10):\n",
    "    a.append(i)"
   ]
  },
  {
   "cell_type": "code",
   "execution_count": 4,
   "id": "bd7499fb",
   "metadata": {},
   "outputs": [
    {
     "data": {
      "text/plain": [
       "[4, 3, 2, 1]"
      ]
     },
     "execution_count": 4,
     "metadata": {},
     "output_type": "execute_result"
    }
   ],
   "source": [
    "#Exercise 129:Write a Python program to reverse the order of the items in the array.\n",
    "st=[1,2,3,4]\n",
    "s=0\n",
    "e=len(st)-1\n",
    "while s<e:\n",
    "    st[s], st[e]=st[e], st[s]\n",
    "    s=s+1\n",
    "    e=e-1\n",
    "    \n",
    "st  "
   ]
  },
  {
   "cell_type": "code",
   "execution_count": 2,
   "id": "5ef00d09",
   "metadata": {},
   "outputs": [
    {
     "name": "stdout",
     "output_type": "stream",
     "text": [
      "11,12,13,14,15,16,17,18,19,"
     ]
    }
   ],
   "source": [
    "#Exercise 130:Write a Python program to find the missing number in a given array of numbers between 10 and 20\n",
    "a=[1,5,10]\n",
    "for i in range(10,20):\n",
    "    if i not in a:\n",
    "        print(i, end=\",\")"
   ]
  },
  {
   "cell_type": "code",
   "execution_count": 5,
   "id": "a5addec0",
   "metadata": {},
   "outputs": [
    {
     "data": {
      "text/plain": [
       "[1, 2, 3, 3]"
      ]
     },
     "execution_count": 5,
     "metadata": {},
     "output_type": "execute_result"
    }
   ],
   "source": [
    "#Exercise 131:Write a Python program to insert a new item before the second element in an existing array\n",
    "a=[1,2,3]\n",
    "a.insert(2,3)\n",
    "a"
   ]
  },
  {
   "cell_type": "code",
   "execution_count": null,
   "id": "dc59319b",
   "metadata": {},
   "outputs": [],
   "source": []
  },
  {
   "cell_type": "code",
   "execution_count": 9,
   "id": "b9bdc64e",
   "metadata": {},
   "outputs": [
    {
     "name": "stdout",
     "output_type": "stream",
     "text": [
      "WELCOME TO THE WORLD OF PHYSICS\n"
     ]
    },
    {
     "name": "stdin",
     "output_type": "stream",
     "text": [
      "Do you want to learn advancement measurement in Physics(Y/N)?: Y\n"
     ]
    },
    {
     "name": "stdout",
     "output_type": "stream",
     "text": [
      "Types of advanced measurements are:\n",
      "Neutron\n",
      "X-ray\n"
     ]
    },
    {
     "name": "stdin",
     "output_type": "stream",
     "text": [
      "Which measurements you wanna learn about more(Neutron/X-ray: x\n",
      "Do you want to learn advancement measurement in Physics(Y/N)?: N\n"
     ]
    },
    {
     "name": "stdout",
     "output_type": "stream",
     "text": [
      "Hope you learn something important.Good Bye (E=MC2)\n"
     ]
    }
   ],
   "source": [
    "print('WELCOME TO THE WORLD OF PHYSICS')\n",
    "measurements = ['Neutron', 'X-ray']\n",
    "neutron_labs = ['OakRidge', 'Nist']\n",
    "xray_labs = ['Brookheaven', 'Berkeley', 'Argonne']\n",
    "enter1 = input('Do you want to learn advancement measurement in Physics(Y/N)?:')\n",
    "while (enter1 != 'N'):\n",
    "    print('Types of advanced measurements are:')\n",
    "    for measurement in measurements:\n",
    "        print(measurement)\n",
    "    enter2 = input('Which measurements you wanna learn about more(Neutron/X-ray:')\n",
    "    if (enter2 == 'Neutron'):\n",
    "        print('National lab in which you can do neutron measurements are:')\n",
    "        for neutron_lab in neutron_labs:\n",
    "            print(neutron_lab)\n",
    "    if (enter2 == 'X-ray'):\n",
    "        print('National lab in which you can do x-ray measurements are:')\n",
    "        for xray_lab in xray_labs:\n",
    "            print(xray_lab)\n",
    "    enter1 = input('Do you want to learn advancement measurement in Physics(Y/N)?:')\n",
    "print('Hope you learn something important.Good Bye (E=MC2)')"
   ]
  },
  {
   "cell_type": "code",
   "execution_count": null,
   "id": "43533c10",
   "metadata": {},
   "outputs": [],
   "source": []
  }
 ],
 "metadata": {
  "kernelspec": {
   "display_name": "Python 3 (ipykernel)",
   "language": "python",
   "name": "python3"
  },
  "language_info": {
   "codemirror_mode": {
    "name": "ipython",
    "version": 3
   },
   "file_extension": ".py",
   "mimetype": "text/x-python",
   "name": "python",
   "nbconvert_exporter": "python",
   "pygments_lexer": "ipython3",
   "version": "3.8.10"
  }
 },
 "nbformat": 4,
 "nbformat_minor": 5
}
