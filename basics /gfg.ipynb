{
 "cells": [
  {
   "cell_type": "markdown",
   "id": "c4e8b1c4",
   "metadata": {},
   "source": [
    "## ARRAY"
   ]
  },
  {
   "cell_type": "markdown",
   "id": "41ff04ce",
   "metadata": {},
   "source": [
    "### 1. You are given an array arr. The size of the array is given by sizeOfArray. You need to insert an element at the end."
   ]
  },
  {
   "cell_type": "code",
   "execution_count": 3,
   "id": "c2f8fcd3",
   "metadata": {},
   "outputs": [],
   "source": [
    "def insertAtEnd(arr,sizeOfArray,element):\n",
    "    arr.append(element)\n",
    "    return arr\n",
    "\n",
    "def insertAtEnd(arr,sizeOfArray,element):\n",
    "    arr[sizeOfArray-1]=element\n",
    "    return arr\n"
   ]
  },
  {
   "cell_type": "markdown",
   "id": "faafdc86",
   "metadata": {},
   "source": [
    "### 2. You are given an array arr(0-based index). The size of the array is given by sizeOfArray. You need to insert an element at given index and print the modified array."
   ]
  },
  {
   "cell_type": "code",
   "execution_count": null,
   "id": "14e6508e",
   "metadata": {},
   "outputs": [],
   "source": [
    "def insertAtIndex( arr, sizeOfArray, index, element):\n",
    "    arr.insert(index, element)\n",
    "    return arr\n",
    "   "
   ]
  },
  {
   "cell_type": "markdown",
   "id": "0ac4984f",
   "metadata": {},
   "source": [
    "### 3. You are given an array arr(0-based indexing). The size of the array is given by n. You need to get the element at index i and return it. If no element exists at i then return -1."
   ]
  },
  {
   "cell_type": "code",
   "execution_count": null,
   "id": "cecb6490",
   "metadata": {},
   "outputs": [],
   "source": [
    "def getByIndex(arr,n,idx):\n",
    "    if idx<n:\n",
    "        return arr[idx]\n",
    "    else:\n",
    "        return -1"
   ]
  },
  {
   "cell_type": "markdown",
   "id": "86112342",
   "metadata": {},
   "source": [
    "### 4. You are given an array arr(0-based indexing). The size of the array is given by n. You need to update an element at the given index. The arr[i] of the array is initially set to i+1."
   ]
  },
  {
   "cell_type": "code",
   "execution_count": null,
   "id": "8b832c81",
   "metadata": {},
   "outputs": [],
   "source": [
    "def updateArray(arr,n,idx,element):\n",
    "    arr[idx]=element\n",
    "    return arr\n",
    "\n"
   ]
  },
  {
   "cell_type": "markdown",
   "id": "b5a6ac61",
   "metadata": {},
   "source": [
    "### 5. You are given an array arr(0-based indexing). The size of the array is given by n. You need to delete an element at given index and print the modified array. The arr[i] of array is initially set to i+1."
   ]
  },
  {
   "cell_type": "code",
   "execution_count": null,
   "id": "410c6f1c",
   "metadata": {},
   "outputs": [],
   "source": [
    "def deleteFromArray(arr,n,idx):\n",
    "    if n>idx:\n",
    "        del arr[idx]\n",
    "        arr.append(0)\n",
    "        return arr\n",
    "    else:\n",
    "        return n-1\n",
    "\n",
    "def deleteFromArray(arr,n,idx):\n",
    "    for i in range(idx, n-1):\n",
    "        arr[i]=arr[i+1]\n",
    "    arr[n-1]=0"
   ]
  },
  {
   "cell_type": "markdown",
   "id": "da86805b",
   "metadata": {},
   "source": [
    "### 6. Given an unsorted array arr[] of size N containing non-negative integers. You will also be given an integer X, the task is to count the number of elements which are strictly smaller than X. The given integer may or not be present in the array given."
   ]
  },
  {
   "cell_type": "code",
   "execution_count": null,
   "id": "7c211a2e",
   "metadata": {},
   "outputs": [],
   "source": [
    "def smallerThanX(arr,n,x):\n",
    "    count=0\n",
    "    for i in arr:\n",
    "        if i<x:\n",
    "            count=count+1\n",
    "    return count"
   ]
  },
  {
   "cell_type": "markdown",
   "id": "f79dcd48",
   "metadata": {},
   "source": [
    "### 7. Given an unsorted array arr[] of size N containing non-negative integers. You will also be given an integer X, the task is to count the number of elements which are strictly greater than X. The given integer may or not be present in the array given."
   ]
  },
  {
   "cell_type": "code",
   "execution_count": null,
   "id": "16c4184a",
   "metadata": {},
   "outputs": [],
   "source": [
    "def greaterThanX(arr,n,x):\n",
    "    count=0\n",
    "    for i in arr:\n",
    "        if i>x:\n",
    "            count=count+1\n",
    "    return count"
   ]
  },
  {
   "cell_type": "markdown",
   "id": "2278abfa",
   "metadata": {},
   "source": [
    "### 8. Given an array arr[] of size N containing positive integers and an integer X, find the element in the array which is smaller than X and closest to it."
   ]
  },
  {
   "cell_type": "code",
   "execution_count": 96,
   "id": "5a2d588c",
   "metadata": {},
   "outputs": [
    {
     "data": {
      "text/plain": [
       "3"
      ]
     },
     "execution_count": 96,
     "metadata": {},
     "output_type": "execute_result"
    }
   ],
   "source": [
    "def immediateSmaller(arr,n,x):\n",
    "    for i in arr:\n",
    "        if i>x:\n",
    "            return -1\n",
    "    return max([i for i in arr if i<x]) \n",
    "arr=[1,2,3,1,4,3,4,2,2,3,4,3]\n",
    "n=12\n",
    "x=4\n",
    "immediateSmaller(arr,n,x)"
   ]
  },
  {
   "cell_type": "code",
   "execution_count": null,
   "id": "7260915f",
   "metadata": {},
   "outputs": [],
   "source": [
    "def immediateSmaller(arr,n,x):\n",
    "    a=[]\n",
    "    for i in arr:\n",
    "        if i<x:\n",
    "            a.append(i)\n",
    "    if len(a)==0:\n",
    "        return -1\n",
    "    else:\n",
    "        return max(a)\n",
    "    \n",
    "def immediateSmaller(arr,n,x):\n",
    "    min1 = -1\n",
    "    for i in arr:\n",
    "        if i<x:\n",
    "            currentMax = max(min1, i) #immediate smaller is the max of other smaller numbers\n",
    "            min1 = currentMax\n",
    "    return min1"
   ]
  },
  {
   "cell_type": "markdown",
   "id": "50390ca8",
   "metadata": {},
   "source": [
    "### 9. Given an array arr[] of size N containing positive integers and an integer X. You need to find the value in the array which is greater than X and closest to it. ( if no such value exists the answer should be -1)"
   ]
  },
  {
   "cell_type": "code",
   "execution_count": null,
   "id": "6a64f171",
   "metadata": {},
   "outputs": [],
   "source": [
    "def immediateGreater(arr,n,x):\n",
    "    a=[i for i in arr if i>x]\n",
    "    if len(a)==0:\n",
    "         return -1\n",
    "    else:\n",
    "        return min(a)"
   ]
  },
  {
   "cell_type": "markdown",
   "id": "d573cf6d",
   "metadata": {},
   "source": [
    "### 10. Given an array arr[] of size N and two elements x and y, use counter variables to find which element appears most in the array, x or y. If both elements have the same frequency, then return the smaller element."
   ]
  },
  {
   "cell_type": "code",
   "execution_count": null,
   "id": "c8e7fd8d",
   "metadata": {},
   "outputs": [],
   "source": [
    "def majorityWins(self, arr, n, x, y):\n",
    "    a=arr.count(x)\n",
    "    b=arr.count(y)\n",
    "    if a==b:\n",
    "        if x<y:\n",
    "            return x\n",
    "        else:\n",
    "            return y\n",
    "    if a>b:\n",
    "        return x\n",
    "    else:\n",
    "        return y\n",
    "\n",
    "def majorityWins(self, arr, n, x, y):\n",
    "    if arr.count(x)>arr.count(y):\n",
    "        return x\n",
    "    elif arr.count(x)==arr.count(y):\n",
    "        return min(x,y)\n",
    "    else:\n",
    "        return y\n",
    "            "
   ]
  },
  {
   "cell_type": "markdown",
   "id": "d6cf8dd9",
   "metadata": {},
   "source": [
    "### 11. Given an array arr of size n, find maximum and minimum elements in the array."
   ]
  },
  {
   "cell_type": "code",
   "execution_count": null,
   "id": "bd643f85",
   "metadata": {},
   "outputs": [],
   "source": [
    "def maximumElement(arr,n,):\n",
    "    return max(arr)\n",
    "\n",
    "def minimumElement(arr,n):\n",
    "    return min(arr)\n",
    "\n",
    "def maximumElement(arr,n,):\n",
    "    arr.sort()\n",
    "    return arr.pop(-1)\n",
    "\n",
    "def minimumElement(arr,n):\n",
    "    arr.sort()\n",
    "    return arr.pop(0)\n"
   ]
  },
  {
   "cell_type": "markdown",
   "id": "70b9e277",
   "metadata": {},
   "source": [
    "### 12. Given an array arr of size n. You need to reverse the array."
   ]
  },
  {
   "cell_type": "code",
   "execution_count": null,
   "id": "3f317c2c",
   "metadata": {},
   "outputs": [],
   "source": [
    "def reverseArray(arr,n):\n",
    "    s=0\n",
    "    e=n-1\n",
    "    while s<e:\n",
    "        arr[s], arr[e]=arr[e], arr[s]\n",
    "        s=s+1\n",
    "        e=e-1\n",
    "    return arr"
   ]
  },
  {
   "cell_type": "code",
   "execution_count": 7,
   "id": "c75bf5b9",
   "metadata": {},
   "outputs": [
    {
     "data": {
      "text/plain": [
       "[3, 3, 2, 2, 1, 1]"
      ]
     },
     "execution_count": 7,
     "metadata": {},
     "output_type": "execute_result"
    }
   ],
   "source": [
    "def reverseArray(arr):\n",
    "    l=[]\n",
    "    for i in reversed(arr):\n",
    "        l.append(i)\n",
    "        \n",
    "    return l\n",
    "\n",
    "arr=[1,1,2,2,3,3]\n",
    "reverseArray(arr)"
   ]
  },
  {
   "cell_type": "markdown",
   "id": "10a4a8b7",
   "metadata": {},
   "source": [
    "### 13. Given an unsorted array arr[] of size N. Rotate the array to the left (counter-clockwise direction) by D steps, where D is a positive integer. "
   ]
  },
  {
   "cell_type": "code",
   "execution_count": null,
   "id": "a2d045bc",
   "metadata": {},
   "outputs": [],
   "source": [
    "def rotateArr(A,D,N):\n",
    "    for i in range(0, D):\n",
    "        A.append(A.pop(0))"
   ]
  },
  {
   "cell_type": "markdown",
   "id": "f6496383",
   "metadata": {},
   "source": [
    "### 14. Given an integer array arr of size n, you need to sum the elements of arr."
   ]
  },
  {
   "cell_type": "code",
   "execution_count": null,
   "id": "0dc0da51",
   "metadata": {},
   "outputs": [],
   "source": [
    "def sumElement(arr,n):\n",
    "    sum=0\n",
    "    for i in arr:\n",
    "        sum=sum+i\n",
    "    return sum\n",
    "\n",
    "def sumElement(arr,n):\n",
    "    return sum(arr)"
   ]
  },
  {
   "cell_type": "markdown",
   "id": "cacf36a3",
   "metadata": {},
   "source": [
    "### 15. Given an array a[ ] of size N. The task is to find the median and mean of the array elements. Mean is average of the numbers and median is the element which is smaller than half of the elements and greater than remaining half.  If there are odd elements, the median is simply the middle element in the sorted array. If there are even elements, then the median is floor of average of two middle numbers in the sorted array. If mean is floating point number, then we need to print floor of it"
   ]
  },
  {
   "cell_type": "code",
   "execution_count": null,
   "id": "02be30cc",
   "metadata": {},
   "outputs": [],
   "source": [
    "def median(self,A,N):\n",
    "\n",
    "    A.sort()\n",
    "    l=len(A)-1\n",
    "    return A[l//2]\n",
    "\n",
    "def mean(self,A,N):\n",
    "    return int(sum(A)/len(A))"
   ]
  },
  {
   "cell_type": "markdown",
   "id": "cecaeedc",
   "metadata": {},
   "source": [
    "### 16.Given an array a[ ] of size N. The task is to check if array is sorted or not. A sorted array can either be increasingly sorted or decreasingly sorted. Also consider duplicate elements to be sorted."
   ]
  },
  {
   "cell_type": "code",
   "execution_count": null,
   "id": "9e934e2d",
   "metadata": {},
   "outputs": [],
   "source": [
    "def isSorted(self,arr,n):\n",
    "    i=1\n",
    "    while i<n:\n",
    "        if arr[i]<arr[i-1]:\n",
    "            return 0\n",
    "        i=i+1\n",
    "    return 1\n",
    "\n",
    "\n",
    "def isSorted(self,arr,n):\n",
    "   #code here\n",
    "    if ( (arr == sorted(arr)) or (arr == [x for x in reversed(sorted(arr))] ) ):\n",
    "        return 1\n",
    "    else:\n",
    "        return 0"
   ]
  },
  {
   "cell_type": "markdown",
   "id": "e8719e26",
   "metadata": {},
   "source": [
    "## String ## "
   ]
  },
  {
   "cell_type": "markdown",
   "id": "8b9fccc4",
   "metadata": {},
   "source": [
    "### 17. You are given a string s. You need to find the length of the string."
   ]
  },
  {
   "cell_type": "code",
   "execution_count": null,
   "id": "61cee7d8",
   "metadata": {},
   "outputs": [],
   "source": [
    "def lengthString( str):\n",
    "    return len(str)"
   ]
  },
  {
   "cell_type": "markdown",
   "id": "0ab925e8",
   "metadata": {},
   "source": [
    "### 18. You are given a string s. You need to count the total vowels in the string. The string s contains lowercase letters only."
   ]
  },
  {
   "cell_type": "code",
   "execution_count": null,
   "id": "9f781445",
   "metadata": {},
   "outputs": [],
   "source": [
    "def countVowels(s):\n",
    "    count=0\n",
    "    for i in s:\n",
    "        if i in \"aeiou\":\n",
    "            count=count+1\n",
    "    return count\n",
    "\n",
    "def countVowels(s):\n",
    "    return len([x for x in s if x in \"aeiou\"])"
   ]
  },
  {
   "cell_type": "markdown",
   "id": "e9facd48",
   "metadata": {},
   "source": [
    "### 19. You are given a string s. You need to count the total distinct vowels in the string. The string s contains lowercase letters only."
   ]
  },
  {
   "cell_type": "code",
   "execution_count": null,
   "id": "8017cf2e",
   "metadata": {},
   "outputs": [],
   "source": [
    "def countVowels(s):\n",
    "    s=set(s)\n",
    "    return len([x for x in s if x in \"aeiou\"])\n",
    "\n"
   ]
  },
  {
   "cell_type": "markdown",
   "id": "53ee4167",
   "metadata": {},
   "source": [
    "### 20. You are given a string s consisting of multiple words. You need to count the total words in the string. Words are separated by a single space."
   ]
  },
  {
   "cell_type": "code",
   "execution_count": null,
   "id": "61b7b500",
   "metadata": {},
   "outputs": [],
   "source": [
    "def countWords(s):\n",
    "    s=s.split()\n",
    "    return len(s)"
   ]
  },
  {
   "cell_type": "markdown",
   "id": "a548b6c2",
   "metadata": {},
   "source": [
    "### 21. You are given a string s. You need to convert the case of lowercase letter to uppercase letters."
   ]
  },
  {
   "cell_type": "code",
   "execution_count": null,
   "id": "44605dbb",
   "metadata": {},
   "outputs": [],
   "source": [
    "def caseConversion(s):\n",
    "    return s.upper()"
   ]
  },
  {
   "cell_type": "code",
   "execution_count": null,
   "id": "58223b46",
   "metadata": {},
   "outputs": [],
   "source": []
  },
  {
   "cell_type": "markdown",
   "id": "08f66df2",
   "metadata": {},
   "source": [
    "### 22. You are given a string s. You need to convert the case of uppercase letters to lowercase letters."
   ]
  },
  {
   "cell_type": "code",
   "execution_count": null,
   "id": "863d714d",
   "metadata": {},
   "outputs": [],
   "source": [
    "def caseConversion(s):\n",
    "    return s.lower()"
   ]
  },
  {
   "cell_type": "markdown",
   "id": "ae3193c5",
   "metadata": {},
   "source": [
    "### 23. Given a string s representing a password, you need to check if the string is valid or not. A valid string has the following properties:\n",
    "\n",
    "String must have the length greater than or equal to 10.\n",
    "String must contain at least 1 numeric character.\n",
    "String must contain at least 1 uppercase character.\n",
    "String must contain at least 1 lowercase character.\n",
    "String must contain at least 1 special character from @#$-*."
   ]
  },
  {
   "cell_type": "code",
   "execution_count": null,
   "id": "b4689cc5",
   "metadata": {
    "tags": []
   },
   "outputs": [],
   "source": [
    "def validate(s):\n",
    "    if any(i.isdigit()for i in s) and any(i.isupper() for i in s) and any(i.islower() for i in s) and any (x for x in s if x in \"@#$-*\") and len(s)>=10:\n",
    "        return 1\n",
    "    else:\n",
    "        return 0\n",
    "\n",
    "    \n",
    "    \n",
    "    \n",
    "    \n",
    "import re\n",
    "def validate(s):\n",
    "    try:\n",
    "        a = re.search(r'[0-9]',s)\n",
    "        b = re.search(r'[a-z]',s)\n",
    "        c = re.search(r'[A-Z]',s)\n",
    "        d = re.search(r'[\\@\\#\\$\\-\\*]',s)\n",
    "   \n",
    "        if len(s) >= 10 and a and b and c and d:\n",
    "            return(1)\n",
    "        else:\n",
    "            return(0)\n",
    "    except:\n",
    "        return(0)  "
   ]
  },
  {
   "cell_type": "markdown",
   "id": "826c4b46",
   "metadata": {},
   "source": [
    "### 24. You are given a string s. You need to find if the string is a panagram or not"
   ]
  },
  {
   "cell_type": "code",
   "execution_count": null,
   "id": "93f5ad94",
   "metadata": {},
   "outputs": [],
   "source": [
    "def is Panagram(s):\n",
    "    s=set(s)\n",
    "    if len(s)>=26:\n",
    "        return 1\n",
    "    else:\n",
    "        return 0\n",
    "    \n",
    "    \n",
    "def isPanagram(s):\n",
    "    se=\"abcdefghijklmnopqrstuvwxyz\"\n",
    "    if set(s.lower())==set(se):\n",
    "        return 1\n",
    "    else:\n",
    "        return 0"
   ]
  },
  {
   "cell_type": "code",
   "execution_count": 10,
   "id": "7f1759ce",
   "metadata": {},
   "outputs": [
    {
     "data": {
      "text/plain": [
       "'abcdefghijklmnopqrstuvwxyz'"
      ]
     },
     "execution_count": 10,
     "metadata": {},
     "output_type": "execute_result"
    }
   ],
   "source": [
    "import string\n",
    "string.ascii_lowercase"
   ]
  },
  {
   "cell_type": "markdown",
   "id": "655212cb",
   "metadata": {},
   "source": [
    "### 25. You are given a string s. You need to find the missing characters in the string to make a panagram ( a sentence using every letter of english alphabet at least once )."
   ]
  },
  {
   "cell_type": "code",
   "execution_count": null,
   "id": "e6e543f0",
   "metadata": {},
   "outputs": [],
   "source": [
    "def missingPanagram( s):\n",
    "    se=\"abcdefghijklmnopqrstuvwxyz\"\n",
    "    k=\"\"\n",
    "    for i in se:\n",
    "        if i not in s.lower():\n",
    "            k=k+i\n",
    "\n",
    "    else:\n",
    "        if set(s.lower())==set(se):\n",
    "            return -1\n",
    "    return k"
   ]
  },
  {
   "cell_type": "markdown",
   "id": "b5be9c15",
   "metadata": {},
   "source": [
    "## 26. You are given a string s. You need to reverse the string."
   ]
  },
  {
   "cell_type": "code",
   "execution_count": null,
   "id": "56d284c8",
   "metadata": {},
   "outputs": [],
   "source": [
    "def reverseWord(s):\n",
    "    return s[::-1]\n",
    "\n",
    "def reverseWord(s):\n",
    "    rev=''\n",
    "    for i in s:\n",
    "        rev=i+rev\n",
    "    return rev"
   ]
  },
  {
   "cell_type": "markdown",
   "id": "7de06f54",
   "metadata": {},
   "source": [
    "## 27. Given two stringsaandbconsisting of lowercase characters. The task is to check whether two given strings are an anagram of each other or not. An anagram of a string is another string that contains the same characters, only the order of characters can be different. "
   ]
  },
  {
   "cell_type": "code",
   "execution_count": 9,
   "id": "5d2e5f1b",
   "metadata": {},
   "outputs": [
    {
     "data": {
      "text/plain": [
       "False"
      ]
     },
     "execution_count": 9,
     "metadata": {},
     "output_type": "execute_result"
    }
   ],
   "source": [
    "def isAnagram(self,a,b):\n",
    "   x=list(set(a))\n",
    "   x.sort()\n",
    "   y=list(set(b))\n",
    "   y.sort()\n",
    "   if ((x==y)):\n",
    "       if((len(a)==len(b))):\n",
    "           return 'YES'\n",
    "   return 'NO'\n"
   ]
  },
  {
   "cell_type": "markdown",
   "id": "21838073",
   "metadata": {},
   "source": [
    "# Searching"
   ]
  },
  {
   "cell_type": "markdown",
   "id": "1f96cc23",
   "metadata": {},
   "source": [
    "## 28. Given an integer array and another integer element. The task is to find if the given element is present in array or not."
   ]
  },
  {
   "cell_type": "code",
   "execution_count": null,
   "id": "603be192",
   "metadata": {},
   "outputs": [],
   "source": [
    "def search(arr, N, X):\n",
    "    for a in arr:\n",
    "        if X in arr:\n",
    "            return arr.index(X)\n",
    "        else:\n",
    "            return -1"
   ]
  },
  {
   "cell_type": "markdown",
   "id": "96dd67f3",
   "metadata": {},
   "source": [
    "## 29.Given an array arr[] sorted in ascending order of size N and an integer K. Check if K is present in the array or not."
   ]
  },
  {
   "cell_type": "code",
   "execution_count": null,
   "id": "abddb0a1",
   "metadata": {},
   "outputs": [],
   "source": [
    "def searchInSorted(arr, N, K):\n",
    "    l=0\n",
    "    h=N-1\n",
    "    while l<=h:\n",
    "        m=(l+h)//2\n",
    "        if arr[m]==K:\n",
    "            return 1\n",
    "        elif arr[m]<K:\n",
    "            l=m+1\n",
    "        else:\n",
    "            h=m-1\n",
    "    return -1"
   ]
  },
  {
   "cell_type": "markdown",
   "id": "34a9b7e0",
   "metadata": {
    "tags": []
   },
   "source": [
    "## 30. Given a binary sorted non-increasing array of 1s and 0s. You need to print the count of 1s in the binary array."
   ]
  },
  {
   "cell_type": "code",
   "execution_count": null,
   "id": "ab5cb3d8",
   "metadata": {},
   "outputs": [],
   "source": [
    "def countOnes(arr, N):\n",
    "    count=0\n",
    "    for i in arr:\n",
    "        if i==1:\n",
    "            count+=1\n",
    "    return count"
   ]
  },
  {
   "cell_type": "code",
   "execution_count": null,
   "id": "5b589618",
   "metadata": {},
   "outputs": [],
   "source": [
    "def firstOcc(l,x):\n",
    "    l=0\n",
    "    h=len(l)-1\n",
    "    while l<=h:\n",
    "        m=(l+h)//2\n",
    "        if l[m]>x:\n",
    "            h=m-1\n",
    "        elif l[m]<x:\n",
    "            l=m+1\n",
    "        else:\n",
    "            if m==0 or l[m-1]!=l[m]:\n",
    "                return m\n",
    "            else:\n",
    "                h=m-1\n",
    "    return -1\n",
    "\n",
    "def lastOcc(l,x):\n",
    "    l=0\n",
    "    h=len(l)-1\n",
    "    while l<=h:\n",
    "        m=(l+h)//2\n",
    "        if l[m]>x:\n",
    "            h=m-1\n",
    "        elif l[m]<x:\n",
    "            l=m+1\n",
    "        else:\n",
    "            if m==len(l)-1 or l[m]!=l[m+1]:\n",
    "                return m\n",
    "            else:\n",
    "                l=m+1\n",
    "    return -1\n",
    "\n",
    "def countOcc(l,x):\n",
    "    first=firstOcc(l,x)\n",
    "    if first ==-1:\n",
    "        return 0\n",
    "    else:\n",
    "        return lastOcc(l,x)-first+1"
   ]
  },
  {
   "cell_type": "markdown",
   "id": "4755fbe9",
   "metadata": {},
   "source": [
    "## 31. Given an integer x, find the square root of x. If x is not a perfect square, then return floor(√x).\n"
   ]
  },
  {
   "cell_type": "code",
   "execution_count": 2,
   "id": "aa153198",
   "metadata": {},
   "outputs": [],
   "source": [
    "def floorSqrt(self, x):\n",
    "    return int(x**0.5)"
   ]
  },
  {
   "cell_type": "code",
   "execution_count": 10,
   "id": "b769ac24",
   "metadata": {},
   "outputs": [],
   "source": [
    "def isPerfetSquare(x):\n",
    "    l=1\n",
    "    r=x\n",
    "    while l<=r:\n",
    "        m=(l+r)//2\n",
    "        print(m)\n",
    "        if m*m==x:\n",
    "            return True\n",
    "        if m*m<x:\n",
    "            l=m+1\n",
    "            print(f'l{l}')\n",
    "        else:\n",
    "            r=m-1\n",
    "            print(f'h{r}')\n",
    "    return False"
   ]
  },
  {
   "cell_type": "code",
   "execution_count": 11,
   "id": "9c81fb78",
   "metadata": {},
   "outputs": [
    {
     "name": "stdout",
     "output_type": "stream",
     "text": [
      "5\n",
      "h4\n",
      "2\n",
      "l3\n",
      "3\n"
     ]
    },
    {
     "data": {
      "text/plain": [
       "True"
      ]
     },
     "execution_count": 11,
     "metadata": {},
     "output_type": "execute_result"
    }
   ],
   "source": [
    "isPerfetSquare(9)"
   ]
  },
  {
   "cell_type": "code",
   "execution_count": 15,
   "id": "8b372cca",
   "metadata": {},
   "outputs": [],
   "source": [
    "def isPerfectSquare(n) :\n",
    " \n",
    "    i = 1\n",
    "    while(i * i<= n):\n",
    "         \n",
    "        # If (i * i = n)\n",
    "        if n / i == i:\n",
    "            return True\n",
    "             \n",
    "        i = i + 1\n",
    "        print(i)\n",
    "    return False"
   ]
  },
  {
   "cell_type": "code",
   "execution_count": 17,
   "id": "4c113ec9",
   "metadata": {},
   "outputs": [
    {
     "name": "stdout",
     "output_type": "stream",
     "text": [
      "2\n",
      "3\n"
     ]
    },
    {
     "data": {
      "text/plain": [
       "True"
      ]
     },
     "execution_count": 17,
     "metadata": {},
     "output_type": "execute_result"
    }
   ],
   "source": [
    "isPerfectSquare(9)"
   ]
  },
  {
   "cell_type": "markdown",
   "id": "66f7105f",
   "metadata": {},
   "source": [
    "## 32. Given an array A of N elements. Find the majority element in the array. A majority element in an array A of size N is an element that appears more than N/2 times in the array."
   ]
  },
  {
   "cell_type": "code",
   "execution_count": 21,
   "id": "e684856b",
   "metadata": {},
   "outputs": [
    {
     "data": {
      "text/plain": [
       "-1"
      ]
     },
     "execution_count": 21,
     "metadata": {},
     "output_type": "execute_result"
    }
   ],
   "source": [
    "def majorityElement(A, N):\n",
    "    A.sort()\n",
    "    if A.count(A[N//2])>N//2:\n",
    "        print(A.count(A[N//2]))\n",
    "        return A[N//2]\n",
    "    return -1\n",
    "\n",
    "A=[5,5,5,3,2,1,3,3]\n",
    "N=len(A)\n",
    "\n",
    "majorityElement(A, N)"
   ]
  },
  {
   "cell_type": "markdown",
   "id": "4bfa703c",
   "metadata": {},
   "source": [
    "# Hashing"
   ]
  },
  {
   "cell_type": "markdown",
   "id": "a74026b1",
   "metadata": {},
   "source": [
    "## 33.You are given an array of integers. You need to print the count of non-repeated elements in the array."
   ]
  },
  {
   "cell_type": "code",
   "execution_count": null,
   "id": "a779de04",
   "metadata": {},
   "outputs": [],
   "source": [
    "def countNonRepeated(arr,n):\n",
    "    d={}\n",
    "    for i in arr:\n",
    "        d[i]=arr.count(i)\n",
    "    return len({k:v for (k,v) in d.items() if v<=1})"
   ]
  },
  {
   "cell_type": "code",
   "execution_count": 1,
   "id": "712781ae",
   "metadata": {},
   "outputs": [
    {
     "data": {
      "text/plain": [
       "2"
      ]
     },
     "execution_count": 1,
     "metadata": {},
     "output_type": "execute_result"
    }
   ],
   "source": [
    "def countNonRepeated(arr,n):\n",
    "    count = 0\n",
    "    for i in range(n):\n",
    "        #print(f'i{i}')\n",
    "        freq = 0\n",
    "        for j in range(n):\n",
    "            #print(f'j{j}')\n",
    "            if arr[i] == arr[j]:\n",
    "                freq+=1\n",
    "        if freq < 2:\n",
    "            count+=1\n",
    "    return count\n",
    "\n",
    "arr=[5,1, 2, 2, 3, 3, 4, 5]\n",
    "n=8\n",
    "countNonRepeated(arr,n)"
   ]
  },
  {
   "cell_type": "code",
   "execution_count": 3,
   "id": "09d8729a",
   "metadata": {},
   "outputs": [
    {
     "name": "stdout",
     "output_type": "stream",
     "text": [
      "5\n",
      "1\n",
      "2\n",
      "2\n",
      "3\n",
      "3\n",
      "4\n",
      "5\n"
     ]
    },
    {
     "data": {
      "text/plain": [
       "2"
      ]
     },
     "execution_count": 3,
     "metadata": {},
     "output_type": "execute_result"
    }
   ],
   "source": [
    "def countNonRepeated(arr,n):\n",
    "    res=0\n",
    "    for i in arr:\n",
    "        print(i)\n",
    "        if arr.count(i)<2:\n",
    "            #print(arr.count(i))\n",
    "            res+=1\n",
    "    return res\n",
    "\n",
    "countNonRepeated(arr,n)"
   ]
  },
  {
   "cell_type": "markdown",
   "id": "5d53f873",
   "metadata": {},
   "source": [
    "## 34. You are given an array of integers. You need to print the non-repeated elements as they appear in the array."
   ]
  },
  {
   "cell_type": "code",
   "execution_count": 43,
   "id": "5035b1e9",
   "metadata": {},
   "outputs": [],
   "source": [
    "def printNonRepeated(arr,n):\n",
    "    d={}\n",
    "    for i in arr:\n",
    "        d[i]=arr.count(i)\n",
    "    return {k for k,v in d.items() if v<=1}"
   ]
  },
  {
   "cell_type": "code",
   "execution_count": 98,
   "id": "2f5b82f8",
   "metadata": {},
   "outputs": [
    {
     "name": "stdout",
     "output_type": "stream",
     "text": [
      "2\n",
      "2\n",
      "2\n",
      "2\n",
      "2\n",
      "2\n"
     ]
    },
    {
     "data": {
      "text/plain": [
       "[5, 2, 2, 3, 3, 5]"
      ]
     },
     "execution_count": 100,
     "metadata": {},
     "output_type": "execute_result"
    }
   ],
   "source": [
    "def countNonRepeated(arr,n):\n",
    "    res=[]\n",
    "    for i in arr:\n",
    "        if arr.count(i)<2:\n",
    "            print(arr.count(i))\n",
    "            res.append(i)\n",
    "    return res\n",
    "\n",
    "countNonRepeated(arr,n)"
   ]
  },
  {
   "cell_type": "code",
   "execution_count": 101,
   "id": "a3bee9a5",
   "metadata": {},
   "outputs": [
    {
     "name": "stdout",
     "output_type": "stream",
     "text": [
      "{5: 1}\n",
      "{5: 1, 1: 1}\n",
      "{5: 1, 1: 1, 2: 1}\n",
      "{5: 1, 1: 1, 2: 2}\n",
      "{5: 1, 1: 1, 2: 2, 3: 1}\n",
      "{5: 1, 1: 1, 2: 2, 3: 2}\n",
      "{5: 1, 1: 1, 2: 2, 3: 2, 4: 1}\n",
      "{5: 2, 1: 1, 2: 2, 3: 2, 4: 1}\n"
     ]
    },
    {
     "data": {
      "text/plain": [
       "[1, 4]"
      ]
     },
     "execution_count": 101,
     "metadata": {},
     "output_type": "execute_result"
    }
   ],
   "source": [
    "def printNonRepeated(arr,n):\n",
    "    d={}\n",
    "    l=[]\n",
    "    for i in arr:\n",
    "        if i not in d:\n",
    "            d[i]=1\n",
    "        else:\n",
    "            d[i]+=1\n",
    "        print(d)\n",
    "    \n",
    "    for x in arr:\n",
    "        if d[x]==1:\n",
    "            l.append(x)\n",
    "    return l\n",
    "\n",
    "\n",
    "printNonRepeated(arr,n)"
   ]
  },
  {
   "cell_type": "code",
   "execution_count": 4,
   "id": "233381ea",
   "metadata": {},
   "outputs": [
    {
     "name": "stdout",
     "output_type": "stream",
     "text": [
      "{5: 1}\n",
      "{5: 1, 1: 1}\n",
      "{5: 1, 1: 1, 2: 1}\n",
      "{5: 1, 1: 1, 2: 2}\n",
      "{5: 1, 1: 1, 2: 2, 3: 1}\n",
      "{5: 1, 1: 1, 2: 2, 3: 2}\n",
      "{5: 1, 1: 1, 2: 2, 3: 2, 4: 1}\n",
      "{5: 2, 1: 1, 2: 2, 3: 2, 4: 1}\n"
     ]
    },
    {
     "data": {
      "text/plain": [
       "[1, 4]"
      ]
     },
     "execution_count": 4,
     "metadata": {},
     "output_type": "execute_result"
    }
   ],
   "source": [
    "def printNonRepeated(arr,n):\n",
    "    d={}\n",
    "    l=[]\n",
    "    for i in arr:\n",
    "        d[i]=d.get(i,0)+1\n",
    "        print(d)\n",
    "    \n",
    "    for x in arr:\n",
    "        if d[x]==1:\n",
    "            l.append(x)\n",
    "    return l\n",
    "\n",
    "\n",
    "printNonRepeated(arr,n)"
   ]
  },
  {
   "cell_type": "markdown",
   "id": "6ff6a65c",
   "metadata": {},
   "source": [
    "## 35. Given a string S consisting of lowercase Latin Letters. Find the first non-repeating character in S."
   ]
  },
  {
   "cell_type": "code",
   "execution_count": 84,
   "id": "5d214ed0",
   "metadata": {},
   "outputs": [
    {
     "name": "stdout",
     "output_type": "stream",
     "text": [
      "{'h': 1, 'e': 1, 'l': 2, 'o': 1}\n"
     ]
    },
    {
     "data": {
      "text/plain": [
       "'h'"
      ]
     },
     "execution_count": 84,
     "metadata": {},
     "output_type": "execute_result"
    }
   ],
   "source": [
    "def nonrepeatingCharacter(s):\n",
    "    d={}\n",
    "    for i in s:\n",
    "        d[i]=d.get(i,0)+1\n",
    "    print(d)\n",
    "    for i in s:\n",
    "        if d[i]==1:\n",
    "            return i\n",
    "    return -1\n",
    "\n",
    "s = 'hello'\n",
    "nonrepeatingCharacter(s)"
   ]
  },
  {
   "cell_type": "code",
   "execution_count": null,
   "id": "e15a018b",
   "metadata": {},
   "outputs": [],
   "source": []
  },
  {
   "cell_type": "markdown",
   "id": "aee48d62",
   "metadata": {},
   "source": [
    "## 36. You are given an array of distinct integers and a sum. Check if there's a pair with the given sum in the array."
   ]
  },
  {
   "cell_type": "code",
   "execution_count": null,
   "id": "35da7fd1",
   "metadata": {},
   "outputs": [],
   "source": [
    "def sumExists(arr, N, sum):\n",
    "    for i in arr:\n",
    "        s=sum-i\n",
    "        print(i)\n",
    "        print(s)\n",
    "        if s in arr and s!=i:\n",
    "            return 1\n",
    "        else:\n",
    "            continue\n",
    "    return 0\n",
    "sumExists(arr, N, s)"
   ]
  },
  {
   "cell_type": "code",
   "execution_count": null,
   "id": "9d1df781",
   "metadata": {},
   "outputs": [],
   "source": [
    "def sumExists(arr, N, s):\n",
    "    for i in range(N):\n",
    "        print(f'i{i}')\n",
    "        for j in range(i+1, N+1):\n",
    "            #print(f'j{j}')\n",
    "            if sum(arr[i:j])==s:\n",
    "                return 1\n",
    "    return 0\n",
    "\n",
    "arr=[1, 2, 3, 4, 5, 6, 7, 8, 9, 10]\n",
    "N=10\n",
    "s=14\n",
    "sumExists(arr, N, s)"
   ]
  },
  {
   "cell_type": "markdown",
   "id": "bee09e30",
   "metadata": {},
   "source": [
    "## 37. You are given an array of integers and an integer sum. You need to find if two numbers in the array exists that have sum equal to the given sum"
   ]
  },
  {
   "cell_type": "code",
   "execution_count": 71,
   "id": "d717d375",
   "metadata": {},
   "outputs": [
    {
     "name": "stdout",
     "output_type": "stream",
     "text": [
      "1\n",
      "13\n",
      "2\n",
      "12\n",
      "3\n",
      "11\n",
      "4\n",
      "10\n",
      "5\n",
      "9\n",
      "6\n",
      "8\n",
      "7\n",
      "7\n",
      "8\n",
      "6\n",
      "9\n",
      "5\n",
      "10\n",
      "4\n"
     ]
    },
    {
     "data": {
      "text/plain": [
       "1"
      ]
     },
     "execution_count": 71,
     "metadata": {},
     "output_type": "execute_result"
    }
   ],
   "source": [
    "def sumExists(arr, N, sum):\n",
    "   ##Your code here\n",
    "    d = set(arr)\n",
    "    c =0\n",
    "    for i in arr:\n",
    "        s = sum - i\n",
    "        print(i)\n",
    "        print(s)\n",
    "        \n",
    "        if s in d and s != i:\n",
    "            c = 1\n",
    "    if c == 1:\n",
    "        return 1\n",
    "    else:\n",
    "        return 0\n",
    "sumExists(arr, N, s)"
   ]
  },
  {
   "cell_type": "code",
   "execution_count": 1,
   "id": "f8f700a0",
   "metadata": {},
   "outputs": [
    {
     "data": {
      "text/plain": [
       "{'Late (31-120 days)': 'high_risk',\n",
       " 'Late (16-30 days)': 'high_risk',\n",
       " 'Default': 'high_risk',\n",
       " 'In Grace Period': 'high_risk'}"
      ]
     },
     "execution_count": 1,
     "metadata": {},
     "output_type": "execute_result"
    }
   ],
   "source": [
    "dict.fromkeys(['Late (31-120 days)', 'Late (16-30 days)', 'Default', 'In Grace Period'], 'high_risk') "
   ]
  },
  {
   "cell_type": "markdown",
   "id": "3640e0c9",
   "metadata": {},
   "source": [
    "## 38. Given an array of names (consisting of lowercase characters) of candidates in an election. A candidate name in array represents a vote casted to the candidate. Print the name of candidate that received Max votes. If there is tie, print lexicographically smaller name."
   ]
  },
  {
   "cell_type": "code",
   "execution_count": null,
   "id": "38c5a9ef",
   "metadata": {},
   "outputs": [],
   "source": [
    "def winner(self,arr,n):\n",
    "    d={}\n",
    "    for i in arr:\n",
    "        d[i]=d.get(i,0)+1\n",
    "    max_v=max(d.values())\n",
    "    winner=[]\n",
    "    for k,v in d.items():\n",
    "        if max_v==v:\n",
    "            winner.append(k)\n",
    "    return min(winner), max_v"
   ]
  },
  {
   "cell_type": "code",
   "execution_count": null,
   "id": "ed6e8e8f",
   "metadata": {},
   "outputs": [],
   "source": [
    "def winner(self,arr,n):\n",
    "    d={}\n",
    "    for i in arr:\n",
    "        d[i]=arr.count(i)\n",
    "    result={k:v for k,v in d.items() if v==max(d.values())}\n",
    "    sorted_key=sorted(result.keys())\n",
    "    return sorted_key[0], result[sorted_key[0]]\n",
    "    "
   ]
  },
  {
   "cell_type": "markdown",
   "id": "13433219",
   "metadata": {},
   "source": [
    "# Recursion"
   ]
  },
  {
   "cell_type": "markdown",
   "id": "1ea54e64",
   "metadata": {},
   "source": [
    "## 39. Print numbers from 1 to N without the help of loops."
   ]
  },
  {
   "cell_type": "code",
   "execution_count": 87,
   "id": "de0c2cd3",
   "metadata": {},
   "outputs": [
    {
     "name": "stdout",
     "output_type": "stream",
     "text": [
      "1 2 3 4 5 6 7 8 9 10 "
     ]
    }
   ],
   "source": [
    "def printNos(N):\n",
    "    if N<=0:\n",
    "        return \n",
    "    printNos(N-1)\n",
    "    print(N, end=\" \")\n",
    "printNos(10)   "
   ]
  },
  {
   "cell_type": "markdown",
   "id": "cebfeff2",
   "metadata": {},
   "source": [
    "## 40. You are given a number n. You need to recursively find the factorial of n and return it."
   ]
  },
  {
   "cell_type": "code",
   "execution_count": null,
   "id": "3cac7d71",
   "metadata": {},
   "outputs": [],
   "source": [
    "def factorial(n):\n",
    "    f=1\n",
    "    for i in range(1,n+1):\n",
    "        f=f*i\n",
    "    return f"
   ]
  },
  {
   "cell_type": "code",
   "execution_count": null,
   "id": "a239f95d",
   "metadata": {},
   "outputs": [],
   "source": [
    "def factorial(n):\n",
    "    if n==0:\n",
    "        return 1\n",
    "    else:\n",
    "        return n*factorial(n-1)"
   ]
  },
  {
   "cell_type": "markdown",
   "id": "cbd186ef",
   "metadata": {},
   "source": [
    "# XPCS&XSVS Pipeline for Single-(Gi)-SAXS Run\n",
    "\"This notebook corresponds to version {{ version }} of the pipeline tool: https://github.com/NSLS-II/pipelines\"\n",
    "\n",
    "This notebook begins with a raw time-series of images and ends with  𝑔2(𝑡)  for a range of  𝑞 , fit to an exponential or stretched exponential, and a two-time correlation functoin.\n",
    "\n",
    "# Overview\n",
    "1. Setup: load packages/setup path\n",
    "2. Load Metadata & Image Data\n",
    "3. Apply Mask\n",
    "4. Clean Data: shutter open/bad frames\n",
    "5. Get Q-Map\n",
    "6. Get 1D curve\n",
    "7. Define Q-ROI (qr, qz)\n",
    "8. Check beam damage\n",
    "9. One-time Correlation\n",
    "10. Fitting\n",
    "11. Two-time Correlation\n",
    "The important scientific code is imported from the chxanalys and scikit-beam project. Refer to chxanalys and scikit-beam for additional documentation and citation information.\n"
   ]
  },
  {
   "cell_type": "markdown",
   "id": "6a19ddf7",
   "metadata": {},
   "source": [
    "## 41. You are given a number n. You need to find the count of digits in n."
   ]
  },
  {
   "cell_type": "code",
   "execution_count": 88,
   "id": "8081340f",
   "metadata": {},
   "outputs": [
    {
     "data": {
      "text/plain": [
       "5"
      ]
     },
     "execution_count": 88,
     "metadata": {},
     "output_type": "execute_result"
    }
   ],
   "source": [
    "def countOfDigits( n):\n",
    "    if n<10:\n",
    "        return 1\n",
    "    return 1+countOfDigits(n//10)\n",
    "\n",
    "countOfDigits(11111)"
   ]
  },
  {
   "cell_type": "markdown",
   "id": "96a9b759",
   "metadata": {},
   "source": [
    "## 42. You are given a number n. You need to find the sum of digits of n."
   ]
  },
  {
   "cell_type": "code",
   "execution_count": null,
   "id": "29d1e682",
   "metadata": {},
   "outputs": [],
   "source": [
    "def sumOfDigits( n):\n",
    "    if n<10:\n",
    "        return n\n",
    "    return sumOfDigits(n//10)+n%10"
   ]
  },
  {
   "cell_type": "markdown",
   "id": "d523bdd7",
   "metadata": {},
   "source": [
    "## 43. You are given a number n. You need to recursively sum the numbers from 1 to n and return the sum."
   ]
  },
  {
   "cell_type": "code",
   "execution_count": null,
   "id": "a6194ed7",
   "metadata": {},
   "outputs": [],
   "source": [
    "def recursiveSum(n):\n",
    "    return int(n*(n+1)/2)"
   ]
  },
  {
   "cell_type": "code",
   "execution_count": 91,
   "id": "2ba7aeb8",
   "metadata": {},
   "outputs": [],
   "source": [
    "def recursiveSum(n):\n",
    "    if n==0:\n",
    "        return 0\n",
    "    return n + recursiveSum(n-1)"
   ]
  },
  {
   "cell_type": "markdown",
   "id": "354b6725",
   "metadata": {},
   "source": [
    "## 44. You are given a number n. You need to find nth Fibonacci number.\n",
    "F(n)=F(n-1)+F(n-2); where F(1)=1 and F(2)=1"
   ]
  },
  {
   "cell_type": "code",
   "execution_count": null,
   "id": "818efcbb",
   "metadata": {},
   "outputs": [],
   "source": [
    "def fibonacci(n):\n",
    "    if n==0:\n",
    "        return 0\n",
    "    if n==1 or n==2:\n",
    "        return 1\n",
    "    return fibonacci(n-1)+fibonacci(n-2)"
   ]
  },
  {
   "cell_type": "markdown",
   "id": "28c38d6f",
   "metadata": {},
   "source": [
    "## 45. You are given a number n. You need to recursively find the nth term of the series S that is given by:\n",
    "S(n) = n+ n*(S(n-1)) and S(0) = 1"
   ]
  },
  {
   "cell_type": "code",
   "execution_count": null,
   "id": "fda43fdc",
   "metadata": {},
   "outputs": [],
   "source": [
    "def theSequence(n):\n",
    "    if n==0:\n",
    "        return 1\n",
    "    return n+n*theSequence(n-1)"
   ]
  },
  {
   "cell_type": "markdown",
   "id": "afd08b32",
   "metadata": {},
   "source": [
    "## 46. You are given two numbers n and r. You need to find nCr.\n",
    "nCr = (n!) / ((n-r)!*(r!))\n",
    "In recursive way, we can write nCr as nCr = (n-1)C(r-1) + (n-1)Cr"
   ]
  },
  {
   "cell_type": "code",
   "execution_count": null,
   "id": "fa0c7050",
   "metadata": {},
   "outputs": [],
   "source": [
    "def nCr(n,r):\n",
    "    if n==r or r==0:\n",
    "        return 1\n",
    "    return nCr(n-1, r-1)+nCr(n-1, r)"
   ]
  },
  {
   "cell_type": "markdown",
   "id": "57e6cf14",
   "metadata": {},
   "source": [
    "## 47. You are given a number n. You need to see if the number is a palindrome or not (recursively)"
   ]
  },
  {
   "cell_type": "code",
   "execution_count": null,
   "id": "922299b6",
   "metadata": {},
   "outputs": [],
   "source": [
    "def isPalin(self,N):\n",
    "    if N<10:\n",
    "        return 1\n",
    "    s=str(N)\n",
    "    b=0\n",
    "    e=len(s)-1\n",
    "    while b<=e:\n",
    "        if s[b]!=s[e]:\n",
    "            break\n",
    "        b=b+1\n",
    "        e=e-1\n",
    "\n",
    "    else:\n",
    "        return 1\n",
    "    return 0"
   ]
  },
  {
   "cell_type": "code",
   "execution_count": null,
   "id": "9dffc4e9",
   "metadata": {},
   "outputs": [],
   "source": [
    "def isPalin(self,N):\n",
    "    if N<10:\n",
    "        return 1\n",
    "    s=str(N)\n",
    "    \n",
    "\n",
    "    if s==s[::-1]:\n",
    "        return 1\n",
    "\n",
    "    else:\n",
    "        return 0"
   ]
  },
  {
   "cell_type": "markdown",
   "id": "086d758e",
   "metadata": {},
   "source": [
    "## 48. You are given a two numbers a and b. Find their GCD using recursion."
   ]
  },
  {
   "cell_type": "code",
   "execution_count": null,
   "id": "e438ac98",
   "metadata": {},
   "outputs": [],
   "source": [
    "def GCD(a,b):\n",
    "    if a==0:\n",
    "        return b\n",
    "    if b==0:\n",
    "        return a\n",
    "    if a==b:\n",
    "        return a\n",
    "    if a>b:\n",
    "        return GCD(a-b,b)\n",
    "    return GCD(a,b-a)"
   ]
  },
  {
   "cell_type": "markdown",
   "id": "2dec0d6d",
   "metadata": {},
   "source": [
    "## 49. You are given an array arr of size n. You need to print the array elements from start to end using given recursive function."
   ]
  },
  {
   "cell_type": "code",
   "execution_count": null,
   "id": "572922ce",
   "metadata": {},
   "outputs": [],
   "source": [
    "def printArrayRecursively(arr,n):\n",
    "    if n==0:\n",
    "        return\n",
    "    printArrayRecursively(arr, n-1)\n",
    "    print(arr[n-1], end=\" \")"
   ]
  },
  {
   "cell_type": "markdown",
   "id": "d8a3cf7e",
   "metadata": {},
   "source": [
    "## 50. The tower of Hanoi is a famous puzzle where we have three rods and N disks. The objective of the puzzle is to move the entire stack to another rod. You are given the number of discs N. Initially, these discs are in the rod 1. You need to print all the steps of discs movement so that all the discs reach the 3rd rod. Also, you need to find the total moves.\n"
   ]
  },
  {
   "cell_type": "code",
   "execution_count": null,
   "id": "fc0125df",
   "metadata": {},
   "outputs": [],
   "source": []
  },
  {
   "cell_type": "markdown",
   "id": "65ec7d76",
   "metadata": {},
   "source": [
    "## 51. You are given two numbers n and p. You need to find np."
   ]
  },
  {
   "cell_type": "code",
   "execution_count": null,
   "id": "4668c776",
   "metadata": {},
   "outputs": [],
   "source": [
    "def RecursivePower(n,p):\n",
    "    '''\n",
    "    return value of n^p recursively;\n",
    "    '''\n",
    "    if p==0:\n",
    "        return 1\n",
    "    if p==1:\n",
    "        return n\n",
    "    return n* RecursivePower(n,p-1)"
   ]
  },
  {
   "cell_type": "markdown",
   "id": "03476be3",
   "metadata": {},
   "source": [
    "## 52. Given a number and its reverse. Find that number raised to the power of its own reverse."
   ]
  },
  {
   "cell_type": "code",
   "execution_count": null,
   "id": "927962db",
   "metadata": {},
   "outputs": [],
   "source": [
    "def power(N,R):\n",
    "    #Your code here\n",
    "\n",
    "    if R==0:\n",
    "        return 1\n",
    "\n",
    "    temp = power(N,R//2)\n",
    "    if R%2==0:\n",
    "        return (temp*temp)%(1000000007)\n",
    "    else:\n",
    "        return (N*temp*temp)%(1000000007)"
   ]
  },
  {
   "cell_type": "markdown",
   "id": "ef5470c7",
   "metadata": {},
   "source": [
    "# Sorting"
   ]
  },
  {
   "cell_type": "markdown",
   "id": "6ca37263",
   "metadata": {},
   "source": [
    "## 53. Given an Integer N and a list arr. Sort the array using bubble sort algorithm."
   ]
  },
  {
   "cell_type": "code",
   "execution_count": null,
   "id": "c727a8ac",
   "metadata": {},
   "outputs": [],
   "source": [
    "def bubbleSort(arr, n):\n",
    "    for i in range(n-1):\n",
    "        for j in range(n-i-1):\n",
    "            if arr[j]>arr[j+1]:\n",
    "                arr[j], arr[j+1]=arr[j+1], arr[j]\n",
    "    return arr"
   ]
  },
  {
   "cell_type": "markdown",
   "id": "83ad4368",
   "metadata": {},
   "source": [
    "## 54. Given an unsorted array of size N, use selection sort to sort arr[] in increasing order."
   ]
  },
  {
   "cell_type": "code",
   "execution_count": null,
   "id": "9bee65e8",
   "metadata": {},
   "outputs": [],
   "source": [
    "def selectionSort(arr,n):\n",
    "    for i in range(n-1):\n",
    "        mid_ind=i\n",
    "        for j in range(i+1, n):\n",
    "            if arr[j]<arr[mid_ind]:\n",
    "                mid_ind=j\n",
    "        arr[mid_ind], arr[i]=arr[i], arr[mid_ind]\n",
    "    return arr"
   ]
  },
  {
   "cell_type": "markdown",
   "id": "c83edd9b",
   "metadata": {},
   "source": [
    "## 55. The task is to complete the insert() function which is used to implement Insertion Sort."
   ]
  },
  {
   "cell_type": "code",
   "execution_count": null,
   "id": "c66439a6",
   "metadata": {},
   "outputs": [],
   "source": [
    "def insertionSort(alist, n):\n",
    "    for i in range(1, n):\n",
    "        x=alist[i]\n",
    "        j=i-1\n",
    "        while j>=0 and x<alist[j]:\n",
    "            alist[j+1]=alist[j]\n",
    "            j=j-1\n",
    "        alist[j+1]=x\n",
    "    return alist"
   ]
  },
  {
   "cell_type": "markdown",
   "id": "f21784da",
   "metadata": {},
   "source": [
    "## 56. Quick Sort is a Divide and Conquer algorithm. It picks an element as pivot and partitions the given array around the picked pivot.\n",
    "Given an array arr[], its starting position low and its ending position high.\n",
    "\n",
    "Implement the partition() and quickSort() functions to sort the array."
   ]
  },
  {
   "cell_type": "code",
   "execution_count": null,
   "id": "deb6b2d9",
   "metadata": {},
   "outputs": [],
   "source": []
  },
  {
   "cell_type": "markdown",
   "id": "5ffbfba5",
   "metadata": {},
   "source": [
    "## 57. Given an array arr[], its starting position l and its ending position r. Sort the array using merge sort algorithm"
   ]
  },
  {
   "cell_type": "code",
   "execution_count": null,
   "id": "bfb356c2",
   "metadata": {},
   "outputs": [],
   "source": [
    "def merge(arr, l, m, r): \n",
    "    left=arr[l:m+1]\n",
    "    right=arr[m+1:r+1]\n",
    "    k=l\n",
    "    while i<len(l) and j<len(r):\n",
    "        if left[i]<=right[j]:\n",
    "            a[k]=left[i]\n",
    "            k=k+1\n",
    "            i=i+1\n",
    "        else:\n",
    "            a[k]=right[j]\n",
    "            k=k+1\n",
    "            j=j+1\n",
    "    while i<len(left):\n",
    "        a[k]=left[i]\n",
    "        i=i+1\n",
    "        k=k+1\n",
    "    while i<len(right):\n",
    "        a[k]=right[j]\n",
    "        j=j+1\n",
    "        k=k+1\n",
    "\n",
    "def mergeSort(arr, l, r):\n",
    "    if r>l:\n",
    "        m=(r+l)//2\n",
    "        mergeSort(arr, l, m)\n",
    "        mergeSort(arr, m+1, r)\n",
    "        merge(arr, l, m, r)"
   ]
  },
  {
   "cell_type": "markdown",
   "id": "eea746a3",
   "metadata": {},
   "source": [
    "## 58. Given a binary array A[] of size N. The task is to arrange the array in increasing order."
   ]
  },
  {
   "cell_type": "code",
   "execution_count": 94,
   "id": "f2eee5ea",
   "metadata": {},
   "outputs": [
    {
     "name": "stdout",
     "output_type": "stream",
     "text": [
      "1\n",
      "h3\n",
      "h2\n",
      "h1\n",
      "h0\n"
     ]
    }
   ],
   "source": [
    "def binSort(arr, n): \n",
    "    l=0\n",
    "    h=n-1\n",
    "    while l<=h :\n",
    "        if(arr[l]==0):\n",
    "            l+=1;\n",
    "            print(l)\n",
    "        elif(arr[h]==1):\n",
    "            h-=1\n",
    "            print(f'h{h}')\n",
    "        else:\n",
    "            arr[l],arr[h]=arr[h],arr[l]\n",
    "arr=[1,1,1,1,0]\n",
    "n=5\n",
    "binSort(arr, n)"
   ]
  },
  {
   "cell_type": "markdown",
   "id": "6da07794",
   "metadata": {},
   "source": [
    "## 59. Given an unsorted array arr[] of n positive integers. Find the number of triangles that can be formed with three different array elements as lengths of three sides of triangles. "
   ]
  },
  {
   "cell_type": "code",
   "execution_count": null,
   "id": "6da7d0e0",
   "metadata": {},
   "outputs": [],
   "source": [
    "def findNumberOfTriangles(arr, n):\n",
    "    arr.sort()\n",
    "    i = n-1\n",
    "    count = 0\n",
    "    while i>=2:\n",
    "        left = 0\n",
    "        right = i-1\n",
    "        while left<right:\n",
    "            if arr[left]+arr[right]>arr[i]:\n",
    "                count+=right-left\n",
    "                right-=1\n",
    "            else:\n",
    "                left+=1\n",
    "        i-=1\n",
    "    return count"
   ]
  },
  {
   "cell_type": "markdown",
   "id": "48c7d5ff",
   "metadata": {},
   "source": [
    "## 60. Given a string arr consisting of lowercase english letters, arrange all its letters in lexicographical order using Counting Sort."
   ]
  },
  {
   "cell_type": "code",
   "execution_count": null,
   "id": "f2b801c1",
   "metadata": {},
   "outputs": [],
   "source": []
  },
  {
   "cell_type": "markdown",
   "id": "b8c7bdc8",
   "metadata": {},
   "source": [
    "## 61. Given an array arr[] of size N, use Radix Sort Algorithm to sort arr[] in ascending order."
   ]
  },
  {
   "cell_type": "code",
   "execution_count": null,
   "id": "a46fa470",
   "metadata": {},
   "outputs": [],
   "source": []
  },
  {
   "cell_type": "code",
   "execution_count": null,
   "id": "29dbab54",
   "metadata": {},
   "outputs": [],
   "source": [
    "## 62."
   ]
  },
  {
   "cell_type": "code",
   "execution_count": null,
   "id": "e6ef8955",
   "metadata": {},
   "outputs": [],
   "source": []
  },
  {
   "cell_type": "code",
   "execution_count": null,
   "id": "cd8453cd",
   "metadata": {},
   "outputs": [],
   "source": [
    "## 63."
   ]
  },
  {
   "cell_type": "code",
   "execution_count": null,
   "id": "68801b20",
   "metadata": {},
   "outputs": [],
   "source": []
  },
  {
   "cell_type": "code",
   "execution_count": null,
   "id": "e5f2d401",
   "metadata": {},
   "outputs": [],
   "source": [
    "## 64."
   ]
  },
  {
   "cell_type": "code",
   "execution_count": null,
   "id": "5f251e24",
   "metadata": {},
   "outputs": [],
   "source": []
  },
  {
   "cell_type": "code",
   "execution_count": 2,
   "id": "24b426aa",
   "metadata": {},
   "outputs": [
    {
     "data": {
      "text/plain": [
       "(7.3, 6.7)"
      ]
     },
     "execution_count": 2,
     "metadata": {},
     "output_type": "execute_result"
    }
   ],
   "source": [
    "import numpy as np\n",
    "def LogitRegression(arr):\n",
    "    learnrate=1\n",
    "    X=arr[0]\n",
    "    y=arr[1]\n",
    "    weights=arr[2]\n",
    "    bias=arr[3]\n",
    "    y_hat=1/(1+np.exp(np.dot(X,-weights)-bias))\n",
    "    new_weights=np.round(weights-learnrate*(y-y_hat)*X, 3)\n",
    "    new_bias=np.round(bias-learnrate*(y-y_hat), 3)\n",
    "\n",
    "\n",
    "\n",
    "  # code goes here\n",
    "    return new_weights, new_bias\n",
    "\n",
    "# keep this function call here \n",
    "Input=[2.2, 0.0, 5.1, 5.7]\n",
    "LogitRegression(Input)"
   ]
  }
 ],
 "metadata": {
  "kernelspec": {
   "display_name": "Python 3 (ipykernel)",
   "language": "python",
   "name": "python3"
  },
  "language_info": {
   "codemirror_mode": {
    "name": "ipython",
    "version": 3
   },
   "file_extension": ".py",
   "mimetype": "text/x-python",
   "name": "python",
   "nbconvert_exporter": "python",
   "pygments_lexer": "ipython3",
   "version": "3.8.12"
  }
 },
 "nbformat": 4,
 "nbformat_minor": 5
}
