{
 "cells": [
  {
   "cell_type": "code",
   "execution_count": 1,
   "id": "394b019a",
   "metadata": {},
   "outputs": [],
   "source": [
    "import pandas as pd\n",
    "import matplotlib.pyplot as plt\n",
    "import seaborn as sns\n",
    "import numpy as np"
   ]
  },
  {
   "cell_type": "code",
   "execution_count": 2,
   "id": "ce6bbeec",
   "metadata": {},
   "outputs": [],
   "source": [
    "def all5avg(time1,time2, time3, time4, time5):\n",
    "    dat=[time1, time2, time3, time4, time5]\n",
    "    df=[]\n",
    "    for i in range(len(dat)):\n",
    "        df.append(np.genfromtxt(dat[i], delimiter='\\t',skip_header=12))\n",
    "    df=np.array(df)\n",
    "    dfavg=(df[0,:,:]+df[1,:,:]+df[2,:,:]+df[3,:,:]+df[4,:,:])/5\n",
    "    name=time1[:10]\n",
    "    return (np.savetxt(name +'.dat', dfavg, delimiter='\\t'))"
   ]
  },
  {
   "cell_type": "code",
   "execution_count": 3,
   "id": "eacfc25e",
   "metadata": {},
   "outputs": [],
   "source": [
    "all5avg('SDP1_00411_00001.dat','SDP1_00412_00001.dat','SDP1_00413_00001.dat','SDP1_00414_00001.dat','SDP1_00415_00001.dat')"
   ]
  },
  {
   "cell_type": "code",
   "execution_count": 4,
   "id": "c7ed988c",
   "metadata": {},
   "outputs": [],
   "source": [
    "all5avg('SDP2_00431_00001.dat','SDP2_00432_00001.dat','SDP2_00433_00001.dat','SDP2_00434_00001.dat','SDP2_00435_00001.dat')"
   ]
  },
  {
   "cell_type": "code",
   "execution_count": 6,
   "id": "fa26f8f2",
   "metadata": {},
   "outputs": [],
   "source": [
    "all5avg('SDP3_tr_00562_00001.dat','SDP3_tr_00563_00001.dat','SDP3_tr_00564_00001.dat','SDP3_tr_00565_00001.dat','SDP3_tr_00566_00001.dat')"
   ]
  },
  {
   "cell_type": "code",
   "execution_count": null,
   "id": "746178a3",
   "metadata": {},
   "outputs": [],
   "source": [
    "all5avg('SCh1_00209_00001.dat','SCh1_00209_00002.dat','SCh1_00209_00003.dat','SCh1_00209_00004.dat','SCh1_00209_00005.dat')"
   ]
  },
  {
   "cell_type": "code",
   "execution_count": null,
   "id": "8f6a204c",
   "metadata": {},
   "outputs": [],
   "source": [
    "all5avg('SCh2_00210_00001.dat','SCh2_00210_00002.dat','SCh2_00210_00003.dat','SCh2_00210_00004.dat','SCh2_00210_00005.dat')"
   ]
  },
  {
   "cell_type": "code",
   "execution_count": null,
   "id": "1ef3697b",
   "metadata": {},
   "outputs": [],
   "source": [
    "all5avg('SCh3_00211_00001.dat','SCh3_00211_00002.dat','SCh3_00211_00003.dat','SCh3_00211_00004.dat','SCh3_00211_00005.dat')"
   ]
  },
  {
   "cell_type": "code",
   "execution_count": null,
   "id": "b020a043",
   "metadata": {},
   "outputs": [],
   "source": [
    "all5avg('SCh4_00212_00001.dat','SCh4_00212_00002.dat','SCh4_00212_00003.dat','SCh4_00212_00004.dat','SCh4_00212_00005.dat')"
   ]
  },
  {
   "cell_type": "code",
   "execution_count": null,
   "id": "729185af",
   "metadata": {},
   "outputs": [],
   "source": [
    "all5avg('SCh5_00213_00001.dat','SCh5_00213_00002.dat','SCh5_00213_00003.dat','SCh5_00213_00004.dat','SCh5_00213_00005.dat')"
   ]
  },
  {
   "cell_type": "code",
   "execution_count": null,
   "id": "d178009f",
   "metadata": {},
   "outputs": [],
   "source": []
  },
  {
   "cell_type": "code",
   "execution_count": null,
   "id": "d5df8073",
   "metadata": {},
   "outputs": [],
   "source": [
    "all5avg('SDP1_00214_00001.dat','SDP1_00214_00002.dat','SDP1_00214_00003.dat','SDP1_00214_00004.dat','SDP1_00214_00005.dat')"
   ]
  },
  {
   "cell_type": "code",
   "execution_count": null,
   "id": "88f89613",
   "metadata": {},
   "outputs": [],
   "source": [
    "all5avg('SDP2_00215_00001.dat','SDP2_00215_00002.dat','SDP2_00215_00003.dat','SDP2_00215_00004.dat','SDP2_00215_00005.dat')"
   ]
  },
  {
   "cell_type": "code",
   "execution_count": null,
   "id": "b6a9810b",
   "metadata": {},
   "outputs": [],
   "source": [
    "all5avg('SDP3_00216_00001.dat','SDP3_00216_00002.dat','SDP3_00216_00003.dat','SDP3_00216_00004.dat','SDP3_00216_00005.dat')"
   ]
  },
  {
   "cell_type": "code",
   "execution_count": null,
   "id": "7c64c132",
   "metadata": {},
   "outputs": [],
   "source": []
  },
  {
   "cell_type": "code",
   "execution_count": null,
   "id": "cf06abf1",
   "metadata": {},
   "outputs": [],
   "source": [
    "all5avg('SH2O_00217_00001.dat','SH2O_00217_00002.dat','SH2O_00217_00003.dat','SH2O_00217_00004.dat','SH2O_00217_00005.dat')"
   ]
  },
  {
   "cell_type": "code",
   "execution_count": null,
   "id": "2fb7c3df",
   "metadata": {},
   "outputs": [],
   "source": []
  },
  {
   "cell_type": "code",
   "execution_count": null,
   "id": "42eb0ae8",
   "metadata": {},
   "outputs": [],
   "source": [
    "all5avg('SP1_00218_00001.dat','SP1_00218_00002.dat','SP1_00218_00003.dat','SP1_00218_00004.dat','SP1_00218_00005.dat')"
   ]
  },
  {
   "cell_type": "code",
   "execution_count": null,
   "id": "1a0cb24f",
   "metadata": {},
   "outputs": [],
   "source": [
    "all5avg('SP2_00219_00001.dat','SP2_00219_00002.dat','SP2_00219_00003.dat','SP2_00219_00004.dat','SP2_00219_00005.dat')"
   ]
  },
  {
   "cell_type": "code",
   "execution_count": null,
   "id": "d7588aa2",
   "metadata": {},
   "outputs": [],
   "source": [
    "all5avg('SP3_00220_00001.dat','SP3_00220_00002.dat','SP3_00220_00003.dat','SP3_00220_00004.dat','SP3_00220_00005.dat',)"
   ]
  },
  {
   "cell_type": "code",
   "execution_count": null,
   "id": "995b878b",
   "metadata": {},
   "outputs": [],
   "source": []
  },
  {
   "cell_type": "code",
   "execution_count": null,
   "id": "a3677c6a",
   "metadata": {},
   "outputs": [],
   "source": []
  },
  {
   "cell_type": "code",
   "execution_count": null,
   "id": "dd2b5d0b",
   "metadata": {},
   "outputs": [],
   "source": []
  },
  {
   "cell_type": "code",
   "execution_count": null,
   "id": "d43f2de1",
   "metadata": {},
   "outputs": [],
   "source": [
    "#Alehandro sample"
   ]
  },
  {
   "cell_type": "code",
   "execution_count": 22,
   "id": "5a9fc4d0",
   "metadata": {},
   "outputs": [],
   "source": [
    "all5avg('SAF1_00066_00001.dat', 'SAF1_00066_00002.dat','SAF1_00066_00003.dat','SAF1_00066_00004.dat','SAF1_00066_00005.dat')\n",
    "all5avg('SAF1_00079_00001.dat','SAF1_00079_00002.dat','SAF1_00079_00003.dat','SAF1_00079_00004.dat','SAF1_00079_00005.dat')\n",
    "all5avg('SAF1_00092_00001.dat','SAF1_00092_00002.dat','SAF1_00092_00003.dat','SAF1_00092_00004.dat','SAF1_00092_00005.dat')\n",
    "all5avg('SAF1_00105_00001.dat','SAF1_00105_00002.dat','SAF1_00105_00003.dat','SAF1_00105_00004.dat','SAF1_00105_00005.dat')\n"
   ]
  },
  {
   "cell_type": "code",
   "execution_count": 5,
   "id": "cd91a82b",
   "metadata": {},
   "outputs": [],
   "source": [
    "all5avg('SAF2_00067_00001.dat','SAF2_00067_00002.dat','SAF2_00067_00003.dat','SAF2_00067_00004.dat','SAF2_00067_00005.dat')\n",
    "all5avg('SAF2_00080_00001.dat','SAF2_00080_00002.dat','SAF2_00080_00003.dat','SAF2_00080_00004.dat','SAF2_00080_00005.dat')\n",
    "all5avg('SAF2_00093_00001.dat','SAF2_00093_00002.dat','SAF2_00093_00003.dat','SAF2_00093_00004.dat','SAF2_00093_00005.dat')\n",
    "all5avg('SAF2_00106_00001.dat','SAF2_00106_00002.dat','SAF2_00106_00003.dat','SAF2_00106_00004.dat','SAF2_00106_00005.dat')\n"
   ]
  },
  {
   "cell_type": "code",
   "execution_count": 6,
   "id": "61b2a95f",
   "metadata": {},
   "outputs": [],
   "source": [
    "all5avg('SAF3_00068_00001.dat', 'SAF3_00068_00002.dat', 'SAF3_00068_00003.dat', 'SAF3_00068_00004.dat', 'SAF3_00068_00005.dat') \n",
    "all5avg('SAF3_00081_00001.dat','SAF3_00081_00002.dat','SAF3_00081_00003.dat','SAF3_00081_00004.dat','SAF3_00081_00005.dat')\n",
    "all5avg('SAF3_00094_00001.dat','SAF3_00094_00002.dat','SAF3_00094_00003.dat','SAF3_00094_00004.dat','SAF3_00094_00005.dat')\n",
    "all5avg('SAF3_00107_00001.dat','SAF3_00107_00002.dat','SAF3_00107_00003.dat','SAF3_00107_00004.dat','SAF3_00107_00005.dat')\n"
   ]
  },
  {
   "cell_type": "code",
   "execution_count": 7,
   "id": "cd5acb2a",
   "metadata": {},
   "outputs": [],
   "source": [
    "all5avg('SAF4_00069_00001.dat','SAF4_00069_00002.dat','SAF4_00069_00003.dat','SAF4_00069_00004.dat','SAF4_00069_00005.dat')\n",
    "all5avg('SAF4_00082_00001.dat','SAF4_00082_00002.dat','SAF4_00082_00003.dat','SAF4_00082_00004.dat','SAF4_00082_00005.dat')\n",
    "all5avg('SAF4_00095_00001.dat','SAF4_00095_00002.dat','SAF4_00095_00003.dat','SAF4_00095_00004.dat','SAF4_00095_00005.dat')\n",
    "all5avg('SAF4_00108_00001.dat','SAF4_00108_00002.dat','SAF4_00108_00003.dat','SAF4_00108_00004.dat','SAF4_00108_00005.dat')\n"
   ]
  },
  {
   "cell_type": "code",
   "execution_count": 8,
   "id": "b0430087",
   "metadata": {},
   "outputs": [],
   "source": [
    "all5avg('SAF5_00070_00001.dat', 'SAF5_00070_00002.dat', 'SAF5_00070_00003.dat', 'SAF5_00070_00004.dat', 'SAF5_00070_00005.dat') \n",
    "all5avg('SAF5_00083_00001.dat','SAF5_00083_00002.dat','SAF5_00083_00003.dat','SAF5_00083_00004.dat','SAF5_00083_00005.dat')\n",
    "all5avg('SAF5_00096_00001.dat','SAF5_00096_00002.dat','SAF5_00096_00003.dat','SAF5_00096_00004.dat','SAF5_00096_00005.dat')\n",
    "all5avg('SAF5_00109_00001.dat','SAF5_00109_00002.dat','SAF5_00109_00003.dat','SAF5_00109_00004.dat','SAF5_00109_00005.dat')\n"
   ]
  },
  {
   "cell_type": "code",
   "execution_count": 9,
   "id": "5a78e25f",
   "metadata": {},
   "outputs": [],
   "source": [
    "all5avg('SAF6_00071_00001.dat','SAF6_00071_00002.dat','SAF6_00071_00003.dat','SAF6_00071_00004.dat','SAF6_00071_00005.dat') \n",
    "all5avg('SAF6_00084_00001.dat','SAF6_00084_00002.dat','SAF6_00084_00003.dat','SAF6_00084_00004.dat','SAF6_00084_00005.dat')\n",
    "all5avg('SAF6_00097_00001.dat','SAF6_00097_00002.dat','SAF6_00097_00003.dat','SAF6_00097_00004.dat','SAF6_00097_00005.dat')\n",
    "all5avg('SAF6_00110_00001.dat','SAF6_00110_00002.dat','SAF6_00110_00003.dat','SAF6_00110_00004.dat','SAF6_00110_00005.dat')\n"
   ]
  },
  {
   "cell_type": "code",
   "execution_count": 11,
   "id": "ab8bc28f",
   "metadata": {},
   "outputs": [],
   "source": [
    "all5avg('SAF7_00072_00001.dat','SAF7_00072_00002.dat','SAF7_00072_00003.dat','SAF7_00072_00004.dat','SAF7_00072_00005.dat' )\n",
    "all5avg('SAF7_00085_00001.dat','SAF7_00085_00002.dat','SAF7_00085_00003.dat','SAF7_00085_00004.dat','SAF7_00085_00005.dat')\n",
    "all5avg('SAF7_00098_00001.dat','SAF7_00098_00002.dat','SAF7_00098_00003.dat','SAF7_00098_00004.dat','SAF7_00098_00005.dat')\n",
    "all5avg('SAF7_00111_00001.dat','SAF7_00111_00002.dat','SAF7_00111_00003.dat','SAF7_00111_00004.dat','SAF7_00111_00005.dat')\n"
   ]
  },
  {
   "cell_type": "code",
   "execution_count": 12,
   "id": "130b5781",
   "metadata": {},
   "outputs": [],
   "source": [
    "all5avg('SAF8_00073_00001.dat', 'SAF8_00073_00002.dat','SAF8_00073_00003.dat','SAF8_00073_00004.dat','SAF8_00073_00001.dat')\n",
    "all5avg('SAF8_00086_00001.dat','SAF8_00086_00002.dat','SAF8_00086_00003.dat','SAF8_00086_00004.dat','SAF8_00086_00001.dat')\n",
    "all5avg('SAF8_00099_00001.dat','SAF8_00099_00002.dat','SAF8_00099_00003.dat','SAF8_00099_00004.dat','SAF8_00099_00001.dat')\n",
    "all5avg('SAF8_00112_00001.dat','SAF8_00112_00002.dat','SAF8_00112_00003.dat','SAF8_00112_00004.dat','SAF8_00112_00001.dat')\n"
   ]
  },
  {
   "cell_type": "code",
   "execution_count": null,
   "id": "29c68835",
   "metadata": {},
   "outputs": [],
   "source": []
  },
  {
   "cell_type": "code",
   "execution_count": 13,
   "id": "ebd14616",
   "metadata": {},
   "outputs": [],
   "source": [
    "all5avg('SAF1_00354_00001.dat','SAF1_00354_00002.dat','SAF1_00354_00003.dat','SAF1_00354_00004.dat','SAF1_00354_00005.dat')\n",
    "all5avg('SAF1_00367_00001.dat','SAF1_00367_00002.dat','SAF1_00367_00003.dat','SAF1_00367_00004.dat','SAF1_00367_00005.dat')\n",
    "all5avg('SAF1_00380_00001.dat','SAF1_00380_00002.dat','SAF1_00380_00003.dat','SAF1_00380_00004.dat','SAF1_00380_00005.dat')\n",
    "all5avg('SAF1_00393_00001.dat','SAF1_00393_00002.dat','SAF1_00393_00003.dat','SAF1_00393_00004.dat','SAF1_00393_00005.dat')\n"
   ]
  },
  {
   "cell_type": "code",
   "execution_count": 14,
   "id": "d151bd40",
   "metadata": {},
   "outputs": [],
   "source": [
    "all5avg('SAF2_00355_00001.dat','SAF2_00355_00002.dat','SAF2_00355_00003.dat','SAF2_00355_00004.dat','SAF2_00355_00005.dat' ) \n",
    "all5avg('SAF2_00368_00001.dat','SAF2_00368_00002.dat','SAF2_00368_00003.dat','SAF2_00368_00004.dat','SAF2_00368_00005.dat')\n",
    "all5avg('SAF2_00381_00001.dat','SAF2_00381_00002.dat','SAF2_00381_00003.dat','SAF2_00381_00004.dat','SAF2_00381_00005.dat')\n",
    "all5avg('SAF2_00394_00001.dat','SAF2_00394_00002.dat','SAF2_00394_00003.dat','SAF2_00394_00004.dat','SAF2_00394_00005.dat')\n"
   ]
  },
  {
   "cell_type": "code",
   "execution_count": 15,
   "id": "0ab1198e",
   "metadata": {},
   "outputs": [],
   "source": [
    "all5avg('SAF3_00356_00001.dat','SAF3_00356_00002.dat','SAF3_00356_00003.dat','SAF3_00356_00004.dat','SAF3_00356_00005.dat')\n",
    "all5avg('SAF3_00369_00001.dat','SAF3_00369_00002.dat','SAF3_00369_00003.dat','SAF3_00369_00004.dat','SAF3_00369_00005.dat')\n",
    "all5avg('SAF3_00382_00001.dat','SAF3_00382_00002.dat','SAF3_00382_00003.dat','SAF3_00382_00004.dat','SAF3_00382_00005.dat')\n",
    "all5avg('SAF3_00395_00001.dat','SAF3_00395_00002.dat','SAF3_00395_00003.dat','SAF3_00395_00004.dat','SAF3_00395_00005.dat')\n"
   ]
  },
  {
   "cell_type": "code",
   "execution_count": 21,
   "id": "8acc9242",
   "metadata": {},
   "outputs": [],
   "source": [
    "all5avg('SAF4_00357_00001.dat', 'SAF4_00357_00002.dat','SAF4_00357_00003.dat','SAF4_00357_00004.dat','SAF4_00357_00005.dat')\n",
    "all5avg('SAF4_00370_00001.dat','SAF4_00370_00002.dat','SAF4_00370_00003.dat','SAF4_00370_00004.dat','SAF4_00370_00005.dat')\n",
    "all5avg('SAF4_00383_00001.dat','SAF4_00383_00002.dat','SAF4_00383_00003.dat','SAF4_00383_00004.dat','SAF4_00383_00005.dat')\n",
    "all5avg('SAF4_00396_00001.dat','SAF4_00396_00002.dat','SAF4_00396_00003.dat','SAF4_00396_00004.dat','SAF4_00396_00005.dat')\n"
   ]
  },
  {
   "cell_type": "code",
   "execution_count": 17,
   "id": "5ee692bb",
   "metadata": {},
   "outputs": [],
   "source": [
    "all5avg('SAF5_00358_00001.dat','SAF5_00358_00002.dat','SAF5_00358_00003.dat','SAF5_00358_00004.dat','SAF5_00358_00005.dat') \n",
    "all5avg('SAF5_00371_00001.dat','SAF5_00371_00002.dat','SAF5_00371_00003.dat','SAF5_00371_00004.dat','SAF5_00371_00005.dat')\n",
    "all5avg('SAF5_00384_00001.dat','SAF5_00384_00002.dat','SAF5_00384_00003.dat','SAF5_00384_00004.dat','SAF5_00384_00005.dat')\n",
    "all5avg('SAF5_00397_00001.dat','SAF5_00397_00002.dat','SAF5_00397_00003.dat','SAF5_00397_00004.dat','SAF5_00397_00005.dat')\n"
   ]
  },
  {
   "cell_type": "code",
   "execution_count": 18,
   "id": "e9b91faa",
   "metadata": {},
   "outputs": [],
   "source": [
    "all5avg('SAF6_00359_00001.dat', 'SAF6_00359_00001.dat','SAF6_00359_00001.dat','SAF6_00359_00001.dat','SAF6_00359_00001.dat')\n",
    "all5avg('SAF6_00372_00001.dat','SAF6_00372_00001.dat','SAF6_00372_00001.dat','SAF6_00372_00001.dat','SAF6_00372_00001.dat')\n",
    "all5avg('SAF6_00385_00001.dat','SAF6_00385_00001.dat','SAF6_00385_00001.dat','SAF6_00385_00001.dat','SAF6_00385_00001.dat')\n",
    "all5avg('SAF6_00398_00001.dat','SAF6_00398_00001.dat','SAF6_00398_00001.dat','SAF6_00398_00001.dat','SAF6_00398_00001.dat')\n"
   ]
  },
  {
   "cell_type": "code",
   "execution_count": 19,
   "id": "8615f414",
   "metadata": {},
   "outputs": [],
   "source": [
    "all5avg('SAF7_00360_00001.dat', 'SAF7_00360_00002.dat','SAF7_00360_00003.dat','SAF7_00360_00004.dat','SAF7_00360_00005.dat')\n",
    "all5avg('SAF7_00373_00001.dat','SAF7_00373_00002.dat','SAF7_00373_00003.dat','SAF7_00373_00004.dat','SAF7_00373_00005.dat')\n",
    "all5avg('SAF7_00386_00001.dat','SAF7_00386_00002.dat','SAF7_00386_00003.dat','SAF7_00386_00004.dat','SAF7_00386_00005.dat')\n",
    "all5avg('SAF7_00399_00001.dat','SAF7_00399_00002.dat','SAF7_00399_00003.dat','SAF7_00399_00004.dat','SAF7_00399_00005.dat')\n"
   ]
  },
  {
   "cell_type": "code",
   "execution_count": 20,
   "id": "8d353cb3",
   "metadata": {},
   "outputs": [],
   "source": [
    "all5avg('SAF8_00361_00001.dat','SAF8_00361_00002.dat','SAF8_00361_00003.dat','SAF8_00361_00004.dat','SAF8_00361_00005.dat')\n",
    "all5avg('SAF8_00374_00001.dat','SAF8_00374_00002.dat','SAF8_00374_00003.dat','SAF8_00374_00004.dat','SAF8_00374_00005.dat')\n",
    "all5avg('SAF8_00387_00001.dat','SAF8_00387_00002.dat','SAF8_00387_00003.dat','SAF8_00387_00004.dat','SAF8_00387_00005.dat')\n",
    "all5avg('SAF8_00400_00001.dat','SAF8_00400_00002.dat','SAF8_00400_00003.dat','SAF8_00400_00004.dat','SAF8_00400_00005.dat')\n"
   ]
  },
  {
   "cell_type": "code",
   "execution_count": 23,
   "id": "90daca47",
   "metadata": {},
   "outputs": [],
   "source": [
    "def all5avg1(time1,time2, time3, time4, time5):\n",
    "    dat=[time1, time2, time3, time4, time5]\n",
    "    df=[]\n",
    "    for i in range(len(dat)):\n",
    "        df.append(np.genfromtxt(dat[i], delimiter='\\t',skip_header=12))\n",
    "    df=np.array(df)\n",
    "    dfavg=(df[0,:,:]+df[1,:,:]+df[2,:,:]+df[3,:,:]+df[4,:,:])/5\n",
    "    name=time1[:12]\n",
    "    return (np.savetxt(name +'.dat', dfavg, delimiter='\\t'))"
   ]
  },
  {
   "cell_type": "code",
   "execution_count": 24,
   "id": "65c5af5d",
   "metadata": {},
   "outputs": [],
   "source": [
    "all5avg1('Swater_00075_00001.dat','Swater_00075_00002.dat','Swater_00075_00003.dat','Swater_00075_00004.dat','Swater_00075_00005.dat')\n",
    "all5avg1('Swater_00088_00001.dat','Swater_00088_00002.dat','Swater_00088_00003.dat','Swater_00088_00004.dat','Swater_00088_00005.dat')\n",
    "all5avg1('Swater_00101_00001.dat','Swater_00101_00002.dat','Swater_00101_00003.dat','Swater_00101_00004.dat','Swater_00101_00005.dat')\n",
    "all5avg1('Swater_00114_00001.dat','Swater_00114_00002.dat','Swater_00114_00003.dat','Swater_00114_00004.dat','Swater_00114_00005.dat')"
   ]
  },
  {
   "cell_type": "code",
   "execution_count": 25,
   "id": "6ebd7293",
   "metadata": {},
   "outputs": [],
   "source": [
    "all5avg1('Swater_00363_00001.dat','Swater_00363_00002.dat','Swater_00363_00003.dat','Swater_00363_00004.dat','Swater_00363_00005.dat')\n",
    "all5avg1('Swater_00376_00001.dat','Swater_00376_00002.dat','Swater_00376_00003.dat','Swater_00376_00004.dat','Swater_00376_00005.dat')\n",
    "all5avg1('Swater_00389_00001.dat','Swater_00389_00002.dat','Swater_00389_00003.dat','Swater_00389_00004.dat','Swater_00389_00005.dat')\n",
    "all5avg1('Swater_00402_00001.dat','Swater_00402_00002.dat','Swater_00402_00003.dat','Swater_00402_00004.dat','Swater_00402_00005.dat')"
   ]
  },
  {
   "cell_type": "code",
   "execution_count": null,
   "id": "64d50935",
   "metadata": {},
   "outputs": [],
   "source": []
  },
  {
   "cell_type": "code",
   "execution_count": null,
   "id": "15b73992",
   "metadata": {},
   "outputs": [],
   "source": []
  },
  {
   "cell_type": "code",
   "execution_count": null,
   "id": "df3b512f",
   "metadata": {},
   "outputs": [],
   "source": []
  },
  {
   "cell_type": "code",
   "execution_count": null,
   "id": "686d973d",
   "metadata": {},
   "outputs": [],
   "source": []
  }
 ],
 "metadata": {
  "kernelspec": {
   "display_name": "Python 3 (ipykernel)",
   "language": "python",
   "name": "python3"
  },
  "language_info": {
   "codemirror_mode": {
    "name": "ipython",
    "version": 3
   },
   "file_extension": ".py",
   "mimetype": "text/x-python",
   "name": "python",
   "nbconvert_exporter": "python",
   "pygments_lexer": "ipython3",
   "version": "3.8.10"
  }
 },
 "nbformat": 4,
 "nbformat_minor": 5
}
