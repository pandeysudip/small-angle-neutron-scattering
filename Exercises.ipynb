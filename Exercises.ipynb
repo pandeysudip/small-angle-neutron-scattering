{
 "cells": [
  {
   "cell_type": "code",
   "execution_count": null,
   "id": "cc26da0e",
   "metadata": {},
   "outputs": [],
   "source": [
    "import pandas as pd\n",
    "import matplotlib.pyplot as plt\n",
    "import numpy as np"
   ]
  },
  {
   "cell_type": "code",
   "execution_count": null,
   "id": "64848215",
   "metadata": {},
   "outputs": [],
   "source": [
    "#Exercise 1: Print First 10 natural numbers using while loop\n",
    "i=0\n",
    "while i<11:\n",
    "    print(i)\n",
    "    i=i+1\n",
    "    "
   ]
  },
  {
   "cell_type": "code",
   "execution_count": null,
   "id": "c1e52a8d",
   "metadata": {},
   "outputs": [],
   "source": [
    "#Exercise 2: Print the following pattern\n",
    "i=6\n",
    "for row in range(1,6):\n",
    "    for col in range(1, row+1 ):\n",
    "        print (col, end=\"  \")\n",
    "    print(\" \")"
   ]
  },
  {
   "cell_type": "code",
   "execution_count": null,
   "id": "29ce6a80",
   "metadata": {},
   "outputs": [],
   "source": [
    "#Exercise 3: Accept number from user and calculate the sum of all number from 1 to a given number\n",
    "n=5\n",
    "sum=0\n",
    "for i in range(n+1):\n",
    "    sum=sum+i\n",
    "    #print(sum)\n",
    "print(sum)"
   ]
  },
  {
   "cell_type": "code",
   "execution_count": null,
   "id": "b43eda9a",
   "metadata": {},
   "outputs": [],
   "source": [
    "#Exercise 4: Print multiplication table of a given number\n",
    "x=5\n",
    "for i in range(11):\n",
    "    print(i*x)"
   ]
  },
  {
   "cell_type": "code",
   "execution_count": null,
   "id": "b3e32470",
   "metadata": {},
   "outputs": [],
   "source": [
    "#Exercise 5: Given a list, iterate it, and display numbers divisible by five, \n",
    "#and if you find a number greater than 150, stop the loop iteration.\n",
    "\n",
    "list1 = [12, 15, 32, 42, 55, 75, 122, 132, 150, 180, 200]\n",
    "for i in list1:\n",
    "    if i%5==0 and i<=150:\n",
    "        print(i)\n"
   ]
  },
  {
   "cell_type": "code",
   "execution_count": null,
   "id": "cf8ee7f2",
   "metadata": {},
   "outputs": [],
   "source": [
    "#Exercise 6: Given a number count the total number of digits in a number\n",
    "x=str(56789)\n",
    "print(len(x))"
   ]
  },
  {
   "cell_type": "code",
   "execution_count": null,
   "id": "4f113f09",
   "metadata": {},
   "outputs": [],
   "source": [
    "num = 75869\n",
    "count = 0\n",
    "while num != 0:\n",
    "    num //= 10\n",
    "    count+= 1\n",
    "print(\"Total digits are: \", count)"
   ]
  },
  {
   "cell_type": "code",
   "execution_count": null,
   "id": "dba5f9a8",
   "metadata": {},
   "outputs": [],
   "source": [
    "for row in range(6,0):\n",
    "    print(row)"
   ]
  },
  {
   "cell_type": "code",
   "execution_count": null,
   "id": "70940566",
   "metadata": {},
   "outputs": [],
   "source": [
    "#Exercise 7: Print the following pattern using for loop\n",
    "n=5\n",
    "for row in (range(n+1)):\n",
    "    for column in range(n-row, 0,-1):\n",
    "        print(column, end=\" \")\n",
    "    #new line after each row\n",
    "    print()"
   ]
  },
  {
   "cell_type": "code",
   "execution_count": null,
   "id": "65018582",
   "metadata": {},
   "outputs": [],
   "source": [
    "#Exercise 8:Reverse the following list using for loop\n",
    "list1 = [10, 20, 30, 40, 50]\n",
    "for i in reversed(list1):\n",
    "    print(i)"
   ]
  },
  {
   "cell_type": "code",
   "execution_count": null,
   "id": "8bf5c4b6",
   "metadata": {},
   "outputs": [],
   "source": [
    "list1 = [10, 20, 30, 40, 50]\n",
    "start = len(list1) - 1\n",
    "stop = -1\n",
    "step = -1\n",
    "for i in range(start, stop, step) :\n",
    "    print(list1[i])"
   ]
  },
  {
   "cell_type": "code",
   "execution_count": null,
   "id": "9923109c",
   "metadata": {},
   "outputs": [],
   "source": [
    "#Exercise 9: Display numbers from -10 to -1 using for loop\n",
    "for i in range(-10,0,1):\n",
    "    print(i)\n"
   ]
  },
  {
   "cell_type": "code",
   "execution_count": null,
   "id": "21ad88e1",
   "metadata": {},
   "outputs": [],
   "source": [
    "#Exercise 10: Display a message “Done” after successful execution of for loop\n",
    "for i in range(5):\n",
    "    print(i)\n",
    "print(\"Done\")"
   ]
  },
  {
   "cell_type": "code",
   "execution_count": null,
   "id": "303516bd",
   "metadata": {},
   "outputs": [],
   "source": [
    "#Exercise 11: Write a program to display all prime numbers within a range\n",
    "start=25\n",
    "end=50\n",
    "for num in range(start, end+1):\n",
    "    for i in range(2, num):\n",
    "        if num%i ==0:\n",
    "            break\n",
    "    else:\n",
    "        print(num)\n"
   ]
  },
  {
   "cell_type": "code",
   "execution_count": null,
   "id": "e8bb1652",
   "metadata": {},
   "outputs": [],
   "source": [
    "#Exercise 12: Display Fibonacci series up to 10 terms\n",
    "a,b=1,1\n",
    "for i in range(10):\n",
    "    print(\"Fib(a)\", a, \"b\", b)\n",
    "    a,b=b,a+b"
   ]
  },
  {
   "cell_type": "code",
   "execution_count": null,
   "id": "e323f4e2",
   "metadata": {},
   "outputs": [],
   "source": [
    "terms = 10\n",
    "# first two terms\n",
    "num1, num2 = 0, 1\n",
    "count = 0\n",
    "\n",
    "print(\"Fibonacci sequence:\")\n",
    "while count < terms:\n",
    "    print(num1, end=\"  \")\n",
    "    temp = num1 + num2\n",
    "    # update values\n",
    "    num1 = num2\n",
    "    num2 = temp\n",
    "    count += 1"
   ]
  },
  {
   "cell_type": "code",
   "execution_count": null,
   "id": "54332fa2",
   "metadata": {},
   "outputs": [],
   "source": [
    "#Exercise 13: Write a loop to find the factorial of any number\n",
    "factorial=1\n",
    "for i in range(1,6):\n",
    "    factorial=factorial*i\n",
    "print(factorial)\n"
   ]
  },
  {
   "cell_type": "code",
   "execution_count": null,
   "id": "78b0aad8",
   "metadata": {},
   "outputs": [],
   "source": [
    "#Exercise 14: Reverse a given integer number\n",
    "num=12345\n",
    "while num>0:\n",
    "    digit=num%10\n",
    "    num//=10\n",
    "    print(digit, end=\"\")\n"
   ]
  },
  {
   "cell_type": "code",
   "execution_count": null,
   "id": "833c2d4f",
   "metadata": {},
   "outputs": [],
   "source": [
    "num=str(12345)\n",
    "length=len(num)\n",
    "for i in range(length,0,-1):\n",
    "    print(int(num[i-1]),end='')"
   ]
  },
  {
   "cell_type": "code",
   "execution_count": null,
   "id": "074fc10e",
   "metadata": {},
   "outputs": [],
   "source": [
    "#Exercise 15 Use a loop to display elements from a given list that are present at odd index positions\n",
    "my_list = [10, 20, 30, 40, 50, 60, 70, 80, 90, 100]\n",
    "for i, num in enumerate(my_list):\n",
    "    if i%2!=0:\n",
    "        print(num, end=\",\")\n"
   ]
  },
  {
   "cell_type": "code",
   "execution_count": null,
   "id": "3a0c8636",
   "metadata": {},
   "outputs": [],
   "source": [
    "#Exercise 16: Display the cube of the number up to a given integer\n",
    "num=6\n",
    "for i in range(1,num+1):\n",
    "    print(\"number is: \", i , \" and the cube is \" , i**3)"
   ]
  },
  {
   "cell_type": "code",
   "execution_count": null,
   "id": "4efa900b",
   "metadata": {},
   "outputs": [],
   "source": [
    "#Exercise 17: Find the sum of the series 2 +22 + 222 + 2222 + .. n terms\n",
    "number_of_terms = 5\n",
    "start = 2\n",
    "sum = 0\n",
    "for i in range(0, number_of_terms):\n",
    "    print(start, end=\" \")\n",
    "    sum += start\n",
    "    start = (start * 10) + 2\n",
    "print(\"\\nSum of above series is:\", sum)\n"
   ]
  },
  {
   "cell_type": "code",
   "execution_count": null,
   "id": "9b847da6",
   "metadata": {},
   "outputs": [],
   "source": [
    "#Exercise 18: Print the following pattern#\n",
    "for row in range(1,6):\n",
    "    for col in range(row):\n",
    "        print(\"*\", end=\" \")\n",
    "    print(\"\")\n",
    "for row in reversed(range(5)):\n",
    "    for col in range(row):\n",
    "        print(\"*\", end=\" \")\n",
    "    print(\"\")\n"
   ]
  },
  {
   "cell_type": "code",
   "execution_count": null,
   "id": "af965a31",
   "metadata": {},
   "outputs": [],
   "source": [
    "num=8\n",
    "for i in range(1, num+1):\n",
    "    print(\"* \" * i, end=\"\")\n",
    "    print()\n",
    "\n",
    "for j in range(num-1, 0, -1):\n",
    "    print(\"* \" * j, end=\"\")\n",
    "    print()"
   ]
  },
  {
   "cell_type": "code",
   "execution_count": null,
   "id": "746d7804",
   "metadata": {},
   "outputs": [],
   "source": [
    "# middle three characte\n",
    "str1=\"sudipandey\"\n"
   ]
  },
  {
   "cell_type": "code",
   "execution_count": null,
   "id": "276b667c",
   "metadata": {},
   "outputs": [],
   "source": []
  },
  {
   "cell_type": "code",
   "execution_count": null,
   "id": "61789ccc",
   "metadata": {},
   "outputs": [],
   "source": [
    "#Numpy\n",
    "#Exercise 19: Create a 4X2 integer array and Prints its attributes\n",
    "import numpy as np\n",
    "x=np.random.randn(8).reshape(4,2)\n",
    "print(x)\n",
    "print(x.shape)\n",
    "print(x.ndim)\n",
    "print(x.itemsize)\n"
   ]
  },
  {
   "cell_type": "code",
   "execution_count": null,
   "id": "0a845fc2",
   "metadata": {},
   "outputs": [],
   "source": [
    "np.empty([4,2], dtype=np.int_)\n"
   ]
  },
  {
   "cell_type": "code",
   "execution_count": null,
   "id": "90e6c820",
   "metadata": {},
   "outputs": [],
   "source": [
    "#Exercise 20: Create a 5X2 integer array from a range between 100 to 200 such that the difference \n",
    "# between each element is 10\n",
    "x= np.arange(100, 200, 10).reshape(5,2)\n",
    "\n",
    "    \n",
    "print(x)"
   ]
  },
  {
   "cell_type": "code",
   "execution_count": null,
   "id": "e94c0570",
   "metadata": {},
   "outputs": [],
   "source": [
    "#Exercise 21: Following is the provided numPy array. Return array of items by taking \n",
    "# the third column from all rows\n",
    "sampleArray = np.array([[11 ,22, 33], [44, 55, 66], [77, 88, 99]])\n",
    "print(sampleArray)\n",
    "print(\"------------\")\n",
    "print(sampleArray[:,2])"
   ]
  },
  {
   "cell_type": "code",
   "execution_count": null,
   "id": "051b71c4",
   "metadata": {},
   "outputs": [],
   "source": [
    "#Exercise 22: Return array of odd rows and even columns from below numpy array\n",
    "sampleArray = np.array([[3 ,6, 9, 12], [15 ,18, 21, 24], \n",
    "[27 ,30, 33, 36], [39 ,42, 45, 48], [51 ,54, 57, 60]])\n",
    "print(sampleArray)\n",
    "print(sampleArray[::2,1::2])"
   ]
  },
  {
   "cell_type": "code",
   "execution_count": null,
   "id": "3ee6b670",
   "metadata": {},
   "outputs": [],
   "source": [
    "#Exercise 23: Create a result array by adding the following two NumPy arrays. Next, modify the result array by calculating the square \n",
    "# of each element\n",
    "arrayOne = np.array([[5, 6, 9], [21 ,18, 27]])\n",
    "arrayTwo = np.array([[15 ,33, 24], [4 ,7, 1]])\n",
    "arraythree=arrayOne+arrayTwo\n",
    "print(arraythree)\n",
    "print(arraythree*arraythree)"
   ]
  },
  {
   "cell_type": "code",
   "execution_count": null,
   "id": "7442c390",
   "metadata": {},
   "outputs": [],
   "source": [
    "#Exercise 24: Split the array into four equal-sized sub-arrays\n",
    "x=np.arange(10,34).reshape(8,3)\n",
    "print(x)\n",
    "np.split(x, 4)"
   ]
  },
  {
   "cell_type": "code",
   "execution_count": null,
   "id": "5cba7ea1",
   "metadata": {},
   "outputs": [],
   "source": [
    "#Exercise 25: Sort following NumPy array\n",
    "sampleArray = np.array([[34,43,73],[82,22,12],[53,94,66]])\n",
    "np.sort(sampleArray, axis=0)"
   ]
  },
  {
   "cell_type": "code",
   "execution_count": null,
   "id": "676922c6",
   "metadata": {},
   "outputs": [],
   "source": [
    "#Exercise 26: Print max from axis 0 and min from axis 1 from the following 2-D array.\n",
    "sampleArray = np.array([[34,43,73],[82,22,12],[53,94,66]])\n",
    "print(sampleArray)\n",
    "np.max(sampleArray,axis=1)"
   ]
  },
  {
   "cell_type": "code",
   "execution_count": null,
   "id": "df4db2e6",
   "metadata": {},
   "outputs": [],
   "source": [
    "#Exercise 27: Delete the second column from a given array and insert \n",
    "# the following new column in its place.\n",
    "sampleArray = np.array([[34,43,73],[82,22,12],[53,94,66]]) \n",
    "newColumn = np.array([[10,10,10]])\n",
    "print(sampleArray)\n",
    "np.delete(sampleArray, 1, axis=1 )\n",
    "np.insert(sampleArray, 1, newColumn, axis=1)"
   ]
  },
  {
   "cell_type": "code",
   "execution_count": null,
   "id": "adf88d7f",
   "metadata": {},
   "outputs": [],
   "source": [
    "#Exercise 28: Create two 2-D arrays and Plot them using matplotlib\n",
    "x=np.random.randn(100).reshape(10,10)\n",
    "x"
   ]
  },
  {
   "cell_type": "code",
   "execution_count": null,
   "id": "0a5e2cba",
   "metadata": {},
   "outputs": [],
   "source": [
    "#Exercise 29: Below are the two lists convert it into the dictionary\n",
    "keys = ['Ten', 'Twenty', 'Thirty']\n",
    "values = [10, 20, 30]\n",
    "dic={}\n",
    "for k, v in zip(keys, values):\n",
    "    dic[k]=v\n",
    "print(dic)\n"
   ]
  },
  {
   "cell_type": "code",
   "execution_count": null,
   "id": "4f1bbde6",
   "metadata": {},
   "outputs": [],
   "source": [
    "{k:v for k, v in zip(keys, values)}"
   ]
  },
  {
   "cell_type": "code",
   "execution_count": null,
   "id": "7fd3ef4c",
   "metadata": {},
   "outputs": [],
   "source": [
    "dict(zip(keys,values))"
   ]
  },
  {
   "cell_type": "code",
   "execution_count": null,
   "id": "05d1b6a5",
   "metadata": {},
   "outputs": [],
   "source": [
    "#Exercise 30: Merge following two Python dictionaries into one\n",
    "dict1 = {'Ten': 10, 'Twenty': 20, 'Thirty': 30}\n",
    "dict2 = {'Thirty': 30, 'Fourty': 40, 'Fifty': 50}\n",
    "dict3={**dict1, **dict2}\n",
    "dict1.update(dict2)\n",
    "print(dict1)"
   ]
  },
  {
   "cell_type": "code",
   "execution_count": null,
   "id": "10080f86",
   "metadata": {},
   "outputs": [],
   "source": [
    "#Exercise 31: Access the value of key ‘history’ from the below dict\n",
    "sampleDict = { \n",
    "   \"class\":{ \n",
    "      \"student\":{ \n",
    "         \"name\":\"Mike\",\n",
    "         \"marks\":{ \n",
    "            \"physics\":70,\n",
    "            \"history\":80\n",
    "         }\n",
    "      }\n",
    "   }\n",
    "}\n",
    "\n",
    "print(sampleDict['class']['student']['marks']['history'])"
   ]
  },
  {
   "cell_type": "code",
   "execution_count": null,
   "id": "9faee40f",
   "metadata": {},
   "outputs": [],
   "source": [
    "#Exercise 32: Initialize dictionary with default values\n",
    "employees = ['Kelly', 'Emma', 'John']\n",
    "defaults = {\"designation\": 'Application Developer', \"salary\": 8000}\n",
    "resDict = dict.fromkeys(employees, defaults)\n",
    "print(resDict)"
   ]
  },
  {
   "cell_type": "code",
   "execution_count": null,
   "id": "76217a64",
   "metadata": {},
   "outputs": [],
   "source": [
    "# Individual data\n",
    "print(resDict[\"Kelly\"])"
   ]
  },
  {
   "cell_type": "code",
   "execution_count": null,
   "id": "c080806c",
   "metadata": {},
   "outputs": [],
   "source": [
    "employees = ['Kelly', 'Emma', 'John']\n",
    "defaults = {\"designation\": 'Application Developer', \"salary\": 8000}\n",
    "defaults[\"employees\"]=['kelly','Emma','John']\n",
    "defaults"
   ]
  },
  {
   "cell_type": "code",
   "execution_count": null,
   "id": "41a49e10",
   "metadata": {},
   "outputs": [],
   "source": [
    "#Exercise 33: Create a new dictionary by extracting the following keys from a below dictionary\n",
    "sampleDict = {\n",
    "  \"name\": \"Kelly\",\n",
    "  \"age\":25,\n",
    "  \"salary\": 8000,\n",
    "  \"city\": \"New york\"\n",
    "  \n",
    "}\n",
    "keys=[\"name\", \"salary\"]\n",
    "{k:sampleDict[k] for k in keys}"
   ]
  },
  {
   "cell_type": "code",
   "execution_count": null,
   "id": "07408847",
   "metadata": {},
   "outputs": [],
   "source": [
    "#Exercise 34: Delete set of keys from a dictionary\n",
    "sampleDict = {\n",
    "  \"name\": \"Kelly\",\n",
    "  \"age\":25,\n",
    "  \"salary\": 8000,\n",
    "  \"city\": \"New york\"\n",
    "  \n",
    "}\n",
    "keysToRemove = [\"name\", \"salary\"]\n",
    "{k:sampleDict[k] for k in sampleDict if k not in keysToRemove}"
   ]
  },
  {
   "cell_type": "code",
   "execution_count": null,
   "id": "3eb02755",
   "metadata": {},
   "outputs": [],
   "source": [
    "#Exercise 35: Check if a value 200 exists in a dictionary\n",
    "sampleDict = {'a': 100, 'b': 200, 'c': 300}\n",
    "200 in sampleDict.values()\n"
   ]
  },
  {
   "cell_type": "code",
   "execution_count": null,
   "id": "45f75f40",
   "metadata": {},
   "outputs": [],
   "source": [
    "for k, v in sampleDict.items():\n",
    "    if sampleDict[k]==200:\n",
    "        print('True')\n"
   ]
  },
  {
   "cell_type": "code",
   "execution_count": null,
   "id": "71a4db38",
   "metadata": {},
   "outputs": [],
   "source": [
    "#Exercise 36: Rename key city to location in the following dictionary\n",
    "sampleDict = {\n",
    "  \"name\": \"Kelly\",\n",
    "  \"age\":25,\n",
    "  \"salary\": 8000,\n",
    "  \"city\": \"New york\"\n",
    "}\n",
    "sampleDict[\"city\"]=\"Kathmandu\"\n",
    "sampleDict"
   ]
  },
  {
   "cell_type": "code",
   "execution_count": null,
   "id": "4115af29",
   "metadata": {},
   "outputs": [],
   "source": [
    "sampleDict['location'] = sampleDict.pop('city')\n",
    "print(sampleDict)"
   ]
  },
  {
   "cell_type": "code",
   "execution_count": null,
   "id": "bb800255",
   "metadata": {},
   "outputs": [],
   "source": [
    "#Exercise 37: Get the key of a minimum value from the following dictionary\n",
    "sampleDict = {\n",
    "  'Physics': 82,\n",
    "  'Math': 65,\n",
    "  'history': 75\n",
    "}\n",
    "\n",
    "min(sampleDict)"
   ]
  },
  {
   "cell_type": "code",
   "execution_count": null,
   "id": "ec4b45f3",
   "metadata": {},
   "outputs": [],
   "source": [
    "#Exercise 38: Change Brad’s salary to 8500 from a given Python dictionary\n",
    "sampleDict = {\n",
    "     'emp1': {'name': 'Jhon', 'salary': 7500},\n",
    "     'emp2': {'name': 'Emma', 'salary': 8000},\n",
    "     'emp3': {'name': 'Brad', 'salary': 6500}\n",
    "}\n",
    "sampleDict['emp2']['salary']=7500\n",
    "sampleDict"
   ]
  },
  {
   "cell_type": "code",
   "execution_count": null,
   "id": "13b84eb6",
   "metadata": {},
   "outputs": [],
   "source": [
    "#Exercise 39: Reverse the following tuple\n",
    "aTuple = (10, 20, 30, 40, 50)\n",
    "aTuple[::-1]"
   ]
  },
  {
   "cell_type": "code",
   "execution_count": null,
   "id": "c7aaf71f",
   "metadata": {},
   "outputs": [],
   "source": [
    "#Exercise 40: Access value 20 from the following tuple\n",
    "aTuple = (\"Orange\", [10, 20, 30], (5, 15, 25))\n",
    "aTuple[1][1]"
   ]
  },
  {
   "cell_type": "code",
   "execution_count": null,
   "id": "87ea8606",
   "metadata": {},
   "outputs": [],
   "source": [
    "#Exercise 41: Create a tuple with single item 50\n",
    "a=50,"
   ]
  },
  {
   "cell_type": "code",
   "execution_count": null,
   "id": "ea1c097f",
   "metadata": {},
   "outputs": [],
   "source": [
    "#Exercise 42: Unpack the following tuple into 4 variables\n",
    "\n",
    "aTuple = (10, 20, 30, 40)\n",
    "for i in aTuple:\n",
    "    print(f\"(a) # should print {i}\")"
   ]
  },
  {
   "cell_type": "code",
   "execution_count": null,
   "id": "b816473a",
   "metadata": {},
   "outputs": [],
   "source": [
    "a, b, c, d= aTuple\n",
    "a"
   ]
  },
  {
   "cell_type": "code",
   "execution_count": null,
   "id": "eb55b1d2",
   "metadata": {},
   "outputs": [],
   "source": [
    "#Exercise 43: Swap the following two tuples\n",
    "tuple1 = (11, 22)\n",
    "tuple2 = (99, 88)\n",
    "\n",
    "tuple1, tuple2= tuple2, tuple1\n",
    "tuple1"
   ]
  },
  {
   "cell_type": "code",
   "execution_count": null,
   "id": "2c4ec56a",
   "metadata": {},
   "outputs": [],
   "source": [
    "#Exercise 44: Copy element 44 and 55 from the following tuple into a new tuple\n",
    "tuple1 = (11, 22, 33, 44, 55, 66)\n",
    "tuple2=tuple1[3:5]\n",
    "tuple2"
   ]
  },
  {
   "cell_type": "code",
   "execution_count": null,
   "id": "dc820c7c",
   "metadata": {},
   "outputs": [],
   "source": [
    "#Exercise 45: Modify the first item (22) of a list inside a following tuple to 222\n",
    "tuple1 = (11, [22, 33], 44, 55)\n",
    "tuple1[1][0]=222\n",
    "tuple1"
   ]
  },
  {
   "cell_type": "code",
   "execution_count": null,
   "id": "267fea78",
   "metadata": {},
   "outputs": [],
   "source": [
    "#Exercise 46: Sort a tuple of tuples by 2nd item\n",
    "tuple1 = (('a', 23),('b', 37),('c', 11), ('d',29))\n",
    "tuple1 = tuple(sorted(list(tuple1), key=lambda x: x[1]))"
   ]
  },
  {
   "cell_type": "code",
   "execution_count": null,
   "id": "42e6630e",
   "metadata": {},
   "outputs": [],
   "source": [
    "#Exercise 47: Counts the number of occurrences of item 50 from a tuple\n",
    "tuple1 = (50, 10, 60, 70, 50)\n",
    "from collections import Counter\n",
    "Counter(tuple1)"
   ]
  },
  {
   "cell_type": "code",
   "execution_count": null,
   "id": "441cd2fe",
   "metadata": {},
   "outputs": [],
   "source": [
    "tuple1.count(50)"
   ]
  },
  {
   "cell_type": "code",
   "execution_count": null,
   "id": "68100b9e",
   "metadata": {},
   "outputs": [],
   "source": [
    "#Exercise 48: Check if all items in the following tuple are the same\n",
    "tuple1 = (45, 45, 45, 45)\n",
    "tuple2=set(tuple1)\n",
    "tuple2"
   ]
  },
  {
   "cell_type": "code",
   "execution_count": null,
   "id": "f562159e",
   "metadata": {},
   "outputs": [],
   "source": [
    "if tuple1.count(45) == len(tuple1):\n",
    "    print(True)"
   ]
  },
  {
   "cell_type": "code",
   "execution_count": 7,
   "id": "028c4816",
   "metadata": {},
   "outputs": [
    {
     "data": {
      "text/plain": [
       "{'Black', 'Orange', 'Yellow'}"
      ]
     },
     "execution_count": 7,
     "metadata": {},
     "output_type": "execute_result"
    }
   ],
   "source": [
    "#Exercise 49: Add a list of elements to a given set\n",
    "sampleSet = {\"Yellow\", \"Orange\", \"Black\"}\n",
    "sampleList = [\"Blue\", \"Green\", \"Red\"]\n",
    "sampleSet.update(sampleSet)\n",
    "sampleSet"
   ]
  },
  {
   "cell_type": "code",
   "execution_count": 10,
   "id": "1429f60d",
   "metadata": {},
   "outputs": [
    {
     "data": {
      "text/plain": [
       "{30, 40, 50}"
      ]
     },
     "execution_count": 10,
     "metadata": {},
     "output_type": "execute_result"
    }
   ],
   "source": [
    "#Exercise 50: Return a new set of identical items from a given two set\n",
    "set1 = {10, 20, 30, 40, 50}\n",
    "set2 = {30, 40, 50, 60, 70}\n",
    "a=set1.intersection(set2)\n",
    "a"
   ]
  },
  {
   "cell_type": "code",
   "execution_count": 12,
   "id": "69d824ea",
   "metadata": {},
   "outputs": [
    {
     "data": {
      "text/plain": [
       "{10, 20, 30, 40, 50, 60, 70}"
      ]
     },
     "execution_count": 12,
     "metadata": {},
     "output_type": "execute_result"
    }
   ],
   "source": [
    "#Exercise 51: Returns a new set with all items from both sets by removing duplicates\n",
    "set1 = {10, 20, 30, 40, 50}\n",
    "set2 = {30, 40, 50, 60, 70}\n",
    "set1.update(set2)\n",
    "set1"
   ]
  },
  {
   "cell_type": "code",
   "execution_count": 14,
   "id": "75edaebd",
   "metadata": {},
   "outputs": [
    {
     "data": {
      "text/plain": [
       "{40, 50}"
      ]
     },
     "execution_count": 14,
     "metadata": {},
     "output_type": "execute_result"
    }
   ],
   "source": [
    "#Exercise 52: Remove items 10, 20, 30 from the following set at once\n",
    "set1 = {10, 20, 30, 40, 50}\n",
    "set1.difference_update({10, 20, 30})\n",
    "set1"
   ]
  },
  {
   "cell_type": "code",
   "execution_count": 15,
   "id": "b139b94e",
   "metadata": {},
   "outputs": [
    {
     "data": {
      "text/plain": [
       "array([[0, 0, 0, 0, 0],\n",
       "       [1, 1, 1, 1, 1],\n",
       "       [2, 2, 2, 2, 2],\n",
       "       [3, 3, 3, 3, 3],\n",
       "       [4, 4, 4, 4, 4]])"
      ]
     },
     "execution_count": 15,
     "metadata": {},
     "output_type": "execute_result"
    }
   ],
   "source": [
    "import numpy as np\n",
    "x,y=np.mgrid[0:5, 0:5]\n",
    "x"
   ]
  },
  {
   "cell_type": "code",
   "execution_count": 16,
   "id": "6bded558",
   "metadata": {},
   "outputs": [
    {
     "data": {
      "text/plain": [
       "array([[0, 1, 2, 3, 4],\n",
       "       [0, 1, 2, 3, 4],\n",
       "       [0, 1, 2, 3, 4],\n",
       "       [0, 1, 2, 3, 4],\n",
       "       [0, 1, 2, 3, 4]])"
      ]
     },
     "execution_count": 16,
     "metadata": {},
     "output_type": "execute_result"
    }
   ],
   "source": [
    "y"
   ]
  },
  {
   "cell_type": "code",
   "execution_count": null,
   "id": "66151589",
   "metadata": {},
   "outputs": [],
   "source": []
  }
 ],
 "metadata": {
  "interpreter": {
   "hash": "817077e1a2d020cbb8b998b22ffbd878007d2286ff42cfcca3891d7d3f8316c3"
  },
  "kernelspec": {
   "display_name": "Python 3 (ipykernel)",
   "language": "python",
   "name": "python3"
  },
  "language_info": {
   "codemirror_mode": {
    "name": "ipython",
    "version": 3
   },
   "file_extension": ".py",
   "mimetype": "text/x-python",
   "name": "python",
   "nbconvert_exporter": "python",
   "pygments_lexer": "ipython3",
   "version": "3.8.12"
  }
 },
 "nbformat": 4,
 "nbformat_minor": 5
}
