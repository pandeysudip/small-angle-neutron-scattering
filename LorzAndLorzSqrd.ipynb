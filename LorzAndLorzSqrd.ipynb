{
 "cells": [
  {
   "cell_type": "code",
   "execution_count": 5,
   "metadata": {},
   "outputs": [],
   "source": [
    "from math import *\n",
    "import os\n",
    "import sys\n",
    "import numpy\n",
    "\n",
    "#name \n",
    "name = \"LorzAndLorzSqrd\"\n",
    "\n",
    "#title\n",
    "title = \"LorzAndLorzSqrd\"\n",
    "\n",
    "#description\n",
    "description = \"LorzAndLorzSqrd\"\n",
    "\n",
    "#parameters \n",
    "#               [\"name\",\"units\", default, [min, max], \"type\",\"description\"],\n",
    "parameters = [ \n",
    "                ['Scale1', '', 1.0, [-numpy.inf, numpy.inf], '', ''],\n",
    "                ['Length1', 'Ang', 1.0, [-numpy.inf, numpy.inf], '', ''],\n",
    "                ['Scale2', '', 1.0, [-numpy.inf, numpy.inf], '', ''],\n",
    "                ['Length2', 'Ang.', 1.0, [-numpy.inf, numpy.inf], '', '']\n",
    "             ]\n",
    "\n",
    "form_volume = \"\"\"\n",
    "    return 1.0;\n",
    "\"\"\"\n",
    "\n",
    "def ER(*arg): \n",
    "    return 1.0 \n",
    "\n",
    "#Like pure python models, inline C models can define an Iq function:\n",
    "Iq = \"\"\"\n",
    "\n",
    "\n",
    "//*************************************************************************\n",
    "//Define form factor scattering amplitudes:\n",
    "//*************************************************************************\n",
    "\n",
    "double Denom1 = pow(q,2) + 1/pow(Length1,2);\n",
    "double Denom2 = pow(q,2) + 1/pow(Length2,2);\n",
    "double Denom2B = pow(Denom2, 2);\n",
    "\n",
    "double Term1 = Scale1/Denom1;\n",
    "double Term2 = Scale2/Denom2B;\n",
    "\n",
    "double Intensity = Term1 + Term2;\n",
    "\n",
    "return Intensity;\n",
    "\n",
    "\"\"\"\n",
    "\n",
    "Iqxy = \"\"\"\n",
    "    return Iq(sqrt(qx*qx+qy*qy), Scale1, Length1, Scale2, Length2);\n",
    "\"\"\"\n"
   ]
  },
  {
   "cell_type": "code",
   "execution_count": null,
   "metadata": {},
   "outputs": [],
   "source": []
  }
 ],
 "metadata": {
  "kernelspec": {
   "display_name": "Python 3 (ipykernel)",
   "language": "python",
   "name": "python3"
  },
  "language_info": {
   "codemirror_mode": {
    "name": "ipython",
    "version": 3
   },
   "file_extension": ".py",
   "mimetype": "text/x-python",
   "name": "python",
   "nbconvert_exporter": "python",
   "pygments_lexer": "ipython3",
   "version": "3.8.10"
  }
 },
 "nbformat": 4,
 "nbformat_minor": 4
}
